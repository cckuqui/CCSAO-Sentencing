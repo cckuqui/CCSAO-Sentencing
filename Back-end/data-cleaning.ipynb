{
 "cells": [
  {
   "cell_type": "code",
   "execution_count": 1,
   "metadata": {},
   "outputs": [],
   "source": [
    "import pandas as pd\n",
    "from sodapy import Socrata\n",
    "import numpy as np"
   ]
  },
  {
   "cell_type": "markdown",
   "metadata": {},
   "source": [
    "# Get information from Cook County Sentencing Data Database"
   ]
  },
  {
   "cell_type": "code",
   "execution_count": 2,
   "metadata": {},
   "outputs": [
    {
     "output_type": "stream",
     "name": "stderr",
     "text": "WARNING:root:Requests made without an app_token will be subject to strict throttling limits.\n"
    }
   ],
   "source": [
    "# Call API\n",
    "client = Socrata(\"datacatalog.cookcountyil.gov\", None)"
   ]
  },
  {
   "cell_type": "code",
   "execution_count": 3,
   "metadata": {},
   "outputs": [],
   "source": [
    "# Retrive Data\n",
    "results = client.get(\"tg8v-tm6u\", limit=300000)"
   ]
  },
  {
   "cell_type": "code",
   "execution_count": 4,
   "metadata": {},
   "outputs": [
    {
     "output_type": "execute_result",
     "data": {
      "text/plain": "['case_id',\n 'case_participant_id',\n 'received_date',\n 'offense_category',\n 'primary_charge',\n 'charge_id',\n 'charge_version_id',\n 'disposition_charged_offense_title',\n 'charge_count',\n 'disposition_date',\n 'disposition_charged_chapter',\n 'disposition_charged_act',\n 'disposition_charged_section',\n 'disposition_charged_class',\n 'disposition_charged_aoic',\n 'charge_disposition',\n 'sentence_judge',\n 'court_name',\n 'court_facility',\n 'sentence_phase',\n 'sentence_date',\n 'sentence_type',\n 'current_sentence',\n 'commitment_type',\n 'length_of_case_in_days',\n 'age_at_incident',\n 'race',\n 'gender',\n 'incident_begin_date',\n 'law_enforcement_agency',\n 'arrest_date',\n 'felony_review_date',\n 'felony_review_result',\n 'arraignment_date',\n 'updated_offense_category',\n 'commitment_term',\n 'commitment_unit',\n 'incident_end_date',\n 'charge_disposition_reason',\n 'incident_city',\n 'unit']"
     },
     "metadata": {},
     "execution_count": 4
    }
   ],
   "source": [
    "# Generate DataFrame\n",
    "original_data = pd.DataFrame.from_records(results)\n",
    "\n",
    "# Explore data\n",
    "list(original_data.columns.values)"
   ]
  },
  {
   "cell_type": "markdown",
   "metadata": {},
   "source": [
    "# Cleaning Process"
   ]
  },
  {
   "cell_type": "markdown",
   "metadata": {},
   "source": [
    "## Select only chosen columns"
   ]
  },
  {
   "cell_type": "code",
   "execution_count": 5,
   "metadata": {},
   "outputs": [
    {
     "output_type": "execute_result",
     "data": {
      "text/plain": "       case_id case_participant_id     charge_id charge_version_id  \\\n0  87302669130        221103049156  106130426295       71631463339   \n1  87302669130        221103049156  106130637571       60521205325   \n2  87302669130        221103049156  106143736689       81281765233   \n3  87302669130        221103049156  106143842327       81277737609   \n4  87302669130        221103049156  106144159241       60394680398   \n\n       court_facility            court_name age_at_incident gender   race  \\\n0  Markham Courthouse  District 6 - Markham              27   Male  Black   \n1  Markham Courthouse  District 6 - Markham              27   Male  Black   \n2  Markham Courthouse  District 6 - Markham              27   Male  Black   \n3  Markham Courthouse  District 6 - Markham              27   Male  Black   \n4  Markham Courthouse  District 6 - Markham              27   Male  Black   \n\n  charge_disposition length_of_case_in_days  current_sentence  primary_charge  \\\n0    Nolle On Remand                    619              True           False   \n1    Nolle On Remand                    619              True           False   \n2    Nolle On Remand                    619              True           False   \n3    Nolle On Remand                    619              True           False   \n4     Plea Of Guilty                  10982              True           False   \n\n            sentence_date   offense_category commitment_term commitment_unit  \\\n0    6/2/1986 12:00:00 AM  PROMIS Conversion             NaN             NaN   \n1    6/2/1986 12:00:00 AM  PROMIS Conversion             030         Year(s)   \n2    6/2/1986 12:00:00 AM  PROMIS Conversion             NaN             NaN   \n3    6/2/1986 12:00:00 AM  PROMIS Conversion             NaN             NaN   \n4  10/16/2014 12:00:00 AM  PROMIS Conversion              30         Year(s)   \n\n  sentence_type  \n0    Conversion  \n1    Conversion  \n2    Conversion  \n3    Conversion  \n4        Prison  ",
      "text/html": "<div>\n<style scoped>\n    .dataframe tbody tr th:only-of-type {\n        vertical-align: middle;\n    }\n\n    .dataframe tbody tr th {\n        vertical-align: top;\n    }\n\n    .dataframe thead th {\n        text-align: right;\n    }\n</style>\n<table border=\"1\" class=\"dataframe\">\n  <thead>\n    <tr style=\"text-align: right;\">\n      <th></th>\n      <th>case_id</th>\n      <th>case_participant_id</th>\n      <th>charge_id</th>\n      <th>charge_version_id</th>\n      <th>court_facility</th>\n      <th>court_name</th>\n      <th>age_at_incident</th>\n      <th>gender</th>\n      <th>race</th>\n      <th>charge_disposition</th>\n      <th>length_of_case_in_days</th>\n      <th>current_sentence</th>\n      <th>primary_charge</th>\n      <th>sentence_date</th>\n      <th>offense_category</th>\n      <th>commitment_term</th>\n      <th>commitment_unit</th>\n      <th>sentence_type</th>\n    </tr>\n  </thead>\n  <tbody>\n    <tr>\n      <td>0</td>\n      <td>87302669130</td>\n      <td>221103049156</td>\n      <td>106130426295</td>\n      <td>71631463339</td>\n      <td>Markham Courthouse</td>\n      <td>District 6 - Markham</td>\n      <td>27</td>\n      <td>Male</td>\n      <td>Black</td>\n      <td>Nolle On Remand</td>\n      <td>619</td>\n      <td>True</td>\n      <td>False</td>\n      <td>6/2/1986 12:00:00 AM</td>\n      <td>PROMIS Conversion</td>\n      <td>NaN</td>\n      <td>NaN</td>\n      <td>Conversion</td>\n    </tr>\n    <tr>\n      <td>1</td>\n      <td>87302669130</td>\n      <td>221103049156</td>\n      <td>106130637571</td>\n      <td>60521205325</td>\n      <td>Markham Courthouse</td>\n      <td>District 6 - Markham</td>\n      <td>27</td>\n      <td>Male</td>\n      <td>Black</td>\n      <td>Nolle On Remand</td>\n      <td>619</td>\n      <td>True</td>\n      <td>False</td>\n      <td>6/2/1986 12:00:00 AM</td>\n      <td>PROMIS Conversion</td>\n      <td>030</td>\n      <td>Year(s)</td>\n      <td>Conversion</td>\n    </tr>\n    <tr>\n      <td>2</td>\n      <td>87302669130</td>\n      <td>221103049156</td>\n      <td>106143736689</td>\n      <td>81281765233</td>\n      <td>Markham Courthouse</td>\n      <td>District 6 - Markham</td>\n      <td>27</td>\n      <td>Male</td>\n      <td>Black</td>\n      <td>Nolle On Remand</td>\n      <td>619</td>\n      <td>True</td>\n      <td>False</td>\n      <td>6/2/1986 12:00:00 AM</td>\n      <td>PROMIS Conversion</td>\n      <td>NaN</td>\n      <td>NaN</td>\n      <td>Conversion</td>\n    </tr>\n    <tr>\n      <td>3</td>\n      <td>87302669130</td>\n      <td>221103049156</td>\n      <td>106143842327</td>\n      <td>81277737609</td>\n      <td>Markham Courthouse</td>\n      <td>District 6 - Markham</td>\n      <td>27</td>\n      <td>Male</td>\n      <td>Black</td>\n      <td>Nolle On Remand</td>\n      <td>619</td>\n      <td>True</td>\n      <td>False</td>\n      <td>6/2/1986 12:00:00 AM</td>\n      <td>PROMIS Conversion</td>\n      <td>NaN</td>\n      <td>NaN</td>\n      <td>Conversion</td>\n    </tr>\n    <tr>\n      <td>4</td>\n      <td>87302669130</td>\n      <td>221103049156</td>\n      <td>106144159241</td>\n      <td>60394680398</td>\n      <td>Markham Courthouse</td>\n      <td>District 6 - Markham</td>\n      <td>27</td>\n      <td>Male</td>\n      <td>Black</td>\n      <td>Plea Of Guilty</td>\n      <td>10982</td>\n      <td>True</td>\n      <td>False</td>\n      <td>10/16/2014 12:00:00 AM</td>\n      <td>PROMIS Conversion</td>\n      <td>30</td>\n      <td>Year(s)</td>\n      <td>Prison</td>\n    </tr>\n  </tbody>\n</table>\n</div>"
     },
     "metadata": {},
     "execution_count": 5
    }
   ],
   "source": [
    "data = original_data[['case_id','case_participant_id','charge_id','charge_version_id','court_facility','court_name','age_at_incident','gender','race','charge_disposition','length_of_case_in_days','current_sentence','primary_charge','sentence_date','offense_category','commitment_term','commitment_unit','sentence_type']]\n",
    "data.head()"
   ]
  },
  {
   "cell_type": "code",
   "execution_count": 6,
   "metadata": {},
   "outputs": [
    {
     "output_type": "execute_result",
     "data": {
      "text/plain": "case_id                   241511\ncase_participant_id       241511\ncharge_id                 241511\ncharge_version_id         241511\ncourt_facility            239630\ncourt_name                240126\nage_at_incident           232073\ngender                    240700\nrace                      240247\ncharge_disposition        241511\nlength_of_case_in_days    222605\ncurrent_sentence          241511\nprimary_charge            241511\nsentence_date             241511\noffense_category          241511\ncommitment_term           239852\ncommitment_unit           239852\nsentence_type             241511\ndtype: int64"
     },
     "metadata": {},
     "execution_count": 6
    }
   ],
   "source": [
    "# Explore values in columns\n",
    "data.count()"
   ]
  },
  {
   "cell_type": "code",
   "execution_count": 7,
   "metadata": {},
   "outputs": [],
   "source": [
    "data.replace(regex='PROMIS*',value=np.NaN, inplace=True)"
   ]
  },
  {
   "cell_type": "markdown",
   "metadata": {},
   "source": [
    "## Drop NaN Values"
   ]
  },
  {
   "cell_type": "code",
   "execution_count": 8,
   "metadata": {},
   "outputs": [
    {
     "output_type": "execute_result",
     "data": {
      "text/plain": "case_id                   208561\ncase_participant_id       208561\ncharge_id                 208561\ncharge_version_id         208561\ncourt_facility            208561\ncourt_name                208561\nage_at_incident           208561\ngender                    208561\nrace                      208561\ncharge_disposition        208561\nlength_of_case_in_days    208561\ncurrent_sentence          208561\nprimary_charge            208561\nsentence_date             208561\noffense_category          208561\ncommitment_term           208561\ncommitment_unit           208561\nsentence_type             208561\ndtype: int64"
     },
     "metadata": {},
     "execution_count": 8
    }
   ],
   "source": [
    "data = data.dropna()\n",
    "data.count()"
   ]
  },
  {
   "cell_type": "markdown",
   "metadata": {},
   "source": [
    "## Filter data after 2000 & before 2019"
   ]
  },
  {
   "cell_type": "code",
   "execution_count": 9,
   "metadata": {},
   "outputs": [
    {
     "output_type": "execute_result",
     "data": {
      "text/plain": "case_id                   object\ncase_participant_id       object\ncharge_id                 object\ncharge_version_id         object\ncourt_facility            object\ncourt_name                object\nage_at_incident           object\ngender                    object\nrace                      object\ncharge_disposition        object\nlength_of_case_in_days    object\ncurrent_sentence            bool\nprimary_charge              bool\nsentence_date             object\noffense_category          object\ncommitment_term           object\ncommitment_unit           object\nsentence_type             object\ndtype: object"
     },
     "metadata": {},
     "execution_count": 9
    }
   ],
   "source": [
    "# Explore type of values in each column\n",
    "data.dtypes"
   ]
  },
  {
   "cell_type": "code",
   "execution_count": 10,
   "metadata": {},
   "outputs": [
    {
     "output_type": "execute_result",
     "data": {
      "text/plain": "           case_id case_participant_id     charge_id charge_version_id  \\\n663   114024398027        230101052744  807648613316      449520166967   \n1360  123803937179        255504441936  190690725339      122497821309   \n2123  127790349873        265428457350  541647467636      271650860226   \n2177  128491120254        266244611418  759810529209      458530536964   \n2261  129030951431        266511120401  702938173654      382945270335   \n\n          court_facility            court_name age_at_incident gender  \\\n663          26TH Street  District 1 - Chicago              21   Male   \n1360         26TH Street  District 1 - Chicago              27   Male   \n2123  Markham Courthouse  District 6 - Markham              18   Male   \n2177         26TH Street  District 1 - Chicago              21   Male   \n2261         26TH Street  District 1 - Chicago              35   Male   \n\n          race charge_disposition length_of_case_in_days  current_sentence  \\\n663      White     Plea Of Guilty                    187              True   \n1360  HISPANIC     Plea Of Guilty                   2624              True   \n2123     Black     Plea Of Guilty                    795              True   \n2177     Black     Finding Guilty                   1201              True   \n2261     Black     Plea Of Guilty                    271              True   \n\n      primary_charge          sentence_date              offense_category  \\\n663            False  5/11/2015 12:00:00 AM             Reckless Homicide   \n1360           False  11/5/2014 12:00:00 AM  UUW - Unlawful Use of Weapon   \n2123           False  12/9/2013 12:00:00 AM                    Sex Crimes   \n2177            True   2/1/2016 12:00:00 AM                      Homicide   \n2261            True  2/28/2011 12:00:00 AM    Escape - Failure to Return   \n\n     commitment_term commitment_unit sentence_type              date_year  \n663                8         Year(s)        Prison  5/11/2015 12:00:00 AM  \n1360               2         Year(s)     Probation  11/5/2014 12:00:00 AM  \n2123               4         Year(s)        Prison  12/9/2013 12:00:00 AM  \n2177               9         Year(s)        Prison   2/1/2016 12:00:00 AM  \n2261               2         Year(s)        Prison  2/28/2011 12:00:00 AM  ",
      "text/html": "<div>\n<style scoped>\n    .dataframe tbody tr th:only-of-type {\n        vertical-align: middle;\n    }\n\n    .dataframe tbody tr th {\n        vertical-align: top;\n    }\n\n    .dataframe thead th {\n        text-align: right;\n    }\n</style>\n<table border=\"1\" class=\"dataframe\">\n  <thead>\n    <tr style=\"text-align: right;\">\n      <th></th>\n      <th>case_id</th>\n      <th>case_participant_id</th>\n      <th>charge_id</th>\n      <th>charge_version_id</th>\n      <th>court_facility</th>\n      <th>court_name</th>\n      <th>age_at_incident</th>\n      <th>gender</th>\n      <th>race</th>\n      <th>charge_disposition</th>\n      <th>length_of_case_in_days</th>\n      <th>current_sentence</th>\n      <th>primary_charge</th>\n      <th>sentence_date</th>\n      <th>offense_category</th>\n      <th>commitment_term</th>\n      <th>commitment_unit</th>\n      <th>sentence_type</th>\n      <th>date_year</th>\n    </tr>\n  </thead>\n  <tbody>\n    <tr>\n      <td>663</td>\n      <td>114024398027</td>\n      <td>230101052744</td>\n      <td>807648613316</td>\n      <td>449520166967</td>\n      <td>26TH Street</td>\n      <td>District 1 - Chicago</td>\n      <td>21</td>\n      <td>Male</td>\n      <td>White</td>\n      <td>Plea Of Guilty</td>\n      <td>187</td>\n      <td>True</td>\n      <td>False</td>\n      <td>5/11/2015 12:00:00 AM</td>\n      <td>Reckless Homicide</td>\n      <td>8</td>\n      <td>Year(s)</td>\n      <td>Prison</td>\n      <td>5/11/2015 12:00:00 AM</td>\n    </tr>\n    <tr>\n      <td>1360</td>\n      <td>123803937179</td>\n      <td>255504441936</td>\n      <td>190690725339</td>\n      <td>122497821309</td>\n      <td>26TH Street</td>\n      <td>District 1 - Chicago</td>\n      <td>27</td>\n      <td>Male</td>\n      <td>HISPANIC</td>\n      <td>Plea Of Guilty</td>\n      <td>2624</td>\n      <td>True</td>\n      <td>False</td>\n      <td>11/5/2014 12:00:00 AM</td>\n      <td>UUW - Unlawful Use of Weapon</td>\n      <td>2</td>\n      <td>Year(s)</td>\n      <td>Probation</td>\n      <td>11/5/2014 12:00:00 AM</td>\n    </tr>\n    <tr>\n      <td>2123</td>\n      <td>127790349873</td>\n      <td>265428457350</td>\n      <td>541647467636</td>\n      <td>271650860226</td>\n      <td>Markham Courthouse</td>\n      <td>District 6 - Markham</td>\n      <td>18</td>\n      <td>Male</td>\n      <td>Black</td>\n      <td>Plea Of Guilty</td>\n      <td>795</td>\n      <td>True</td>\n      <td>False</td>\n      <td>12/9/2013 12:00:00 AM</td>\n      <td>Sex Crimes</td>\n      <td>4</td>\n      <td>Year(s)</td>\n      <td>Prison</td>\n      <td>12/9/2013 12:00:00 AM</td>\n    </tr>\n    <tr>\n      <td>2177</td>\n      <td>128491120254</td>\n      <td>266244611418</td>\n      <td>759810529209</td>\n      <td>458530536964</td>\n      <td>26TH Street</td>\n      <td>District 1 - Chicago</td>\n      <td>21</td>\n      <td>Male</td>\n      <td>Black</td>\n      <td>Finding Guilty</td>\n      <td>1201</td>\n      <td>True</td>\n      <td>True</td>\n      <td>2/1/2016 12:00:00 AM</td>\n      <td>Homicide</td>\n      <td>9</td>\n      <td>Year(s)</td>\n      <td>Prison</td>\n      <td>2/1/2016 12:00:00 AM</td>\n    </tr>\n    <tr>\n      <td>2261</td>\n      <td>129030951431</td>\n      <td>266511120401</td>\n      <td>702938173654</td>\n      <td>382945270335</td>\n      <td>26TH Street</td>\n      <td>District 1 - Chicago</td>\n      <td>35</td>\n      <td>Male</td>\n      <td>Black</td>\n      <td>Plea Of Guilty</td>\n      <td>271</td>\n      <td>True</td>\n      <td>True</td>\n      <td>2/28/2011 12:00:00 AM</td>\n      <td>Escape - Failure to Return</td>\n      <td>2</td>\n      <td>Year(s)</td>\n      <td>Prison</td>\n      <td>2/28/2011 12:00:00 AM</td>\n    </tr>\n  </tbody>\n</table>\n</div>"
     },
     "metadata": {},
     "execution_count": 10
    }
   ],
   "source": [
    "# Create a copy of the Sentence Date to filter it\n",
    "hdate = data['sentence_date']\n",
    "data['date_year'] = hdate\n",
    "\n",
    "data.head()"
   ]
  },
  {
   "cell_type": "code",
   "execution_count": 11,
   "metadata": {},
   "outputs": [],
   "source": [
    "# Select only the year\n",
    "data['date_year'] = data['date_year'].replace(regex=['[0-9]*\\/[0-9]*\\/','\\s[0-9]*\\:[0-9]*\\:[0-9]*\\s[A-Z]*'], value='')"
   ]
  },
  {
   "cell_type": "code",
   "execution_count": 12,
   "metadata": {},
   "outputs": [],
   "source": [
    "# Change value type\n",
    "data['date_year'] = data['date_year'].astype(int)"
   ]
  },
  {
   "cell_type": "code",
   "execution_count": 13,
   "metadata": {},
   "outputs": [
    {
     "output_type": "execute_result",
     "data": {
      "text/plain": "case_id                   object\ncase_participant_id       object\ncharge_id                 object\ncharge_version_id         object\ncourt_facility            object\ncourt_name                object\nage_at_incident           object\ngender                    object\nrace                      object\ncharge_disposition        object\nlength_of_case_in_days    object\ncurrent_sentence            bool\nprimary_charge              bool\nsentence_date             object\noffense_category          object\ncommitment_term           object\ncommitment_unit           object\nsentence_type             object\ndate_year                  int32\ndtype: object"
     },
     "metadata": {},
     "execution_count": 13
    }
   ],
   "source": [
    "data.dtypes"
   ]
  },
  {
   "cell_type": "code",
   "execution_count": 14,
   "metadata": {},
   "outputs": [],
   "source": [
    "# Filter year\n",
    "data = data[(data.date_year > 1999) & (data.date_year < 2020)]"
   ]
  },
  {
   "cell_type": "code",
   "execution_count": 15,
   "metadata": {},
   "outputs": [
    {
     "output_type": "execute_result",
     "data": {
      "text/plain": "           date_year\ncount  205294.000000\nmean     2014.767533\nstd         2.434685\nmin      2000.000000\n25%      2013.000000\n50%      2015.000000\n75%      2017.000000\nmax      2019.000000",
      "text/html": "<div>\n<style scoped>\n    .dataframe tbody tr th:only-of-type {\n        vertical-align: middle;\n    }\n\n    .dataframe tbody tr th {\n        vertical-align: top;\n    }\n\n    .dataframe thead th {\n        text-align: right;\n    }\n</style>\n<table border=\"1\" class=\"dataframe\">\n  <thead>\n    <tr style=\"text-align: right;\">\n      <th></th>\n      <th>date_year</th>\n    </tr>\n  </thead>\n  <tbody>\n    <tr>\n      <td>count</td>\n      <td>205294.000000</td>\n    </tr>\n    <tr>\n      <td>mean</td>\n      <td>2014.767533</td>\n    </tr>\n    <tr>\n      <td>std</td>\n      <td>2.434685</td>\n    </tr>\n    <tr>\n      <td>min</td>\n      <td>2000.000000</td>\n    </tr>\n    <tr>\n      <td>25%</td>\n      <td>2013.000000</td>\n    </tr>\n    <tr>\n      <td>50%</td>\n      <td>2015.000000</td>\n    </tr>\n    <tr>\n      <td>75%</td>\n      <td>2017.000000</td>\n    </tr>\n    <tr>\n      <td>max</td>\n      <td>2019.000000</td>\n    </tr>\n  </tbody>\n</table>\n</div>"
     },
     "metadata": {},
     "execution_count": 15
    }
   ],
   "source": [
    "# Confirm values\n",
    "data.describe()"
   ]
  },
  {
   "cell_type": "markdown",
   "metadata": {},
   "source": [
    "## Analize Offense Category and consolidate into related categories"
   ]
  },
  {
   "cell_type": "code",
   "execution_count": 16,
   "metadata": {},
   "outputs": [
    {
     "output_type": "execute_result",
     "data": {
      "text/plain": "Narcotics                       58271\nUUW - Unlawful Use of Weapon    23511\nAggravated DUI                  12778\nRetail Theft                    12360\nBurglary                        10750\n                                ...  \nTampering                           9\nFailure To Pay Child Support        6\nPossession of Explosives            3\nBenefit Recipient Fraud             2\nCompelling Gang Membership          2\nName: offense_category, Length: 87, dtype: int64"
     },
     "metadata": {},
     "execution_count": 16
    }
   ],
   "source": [
    "# Review all the information\n",
    "data.offense_category.value_counts()"
   ]
  },
  {
   "cell_type": "code",
   "execution_count": 17,
   "metadata": {},
   "outputs": [
    {
     "output_type": "execute_result",
     "data": {
      "text/plain": "Narcotics                       58271\nUUW - Unlawful Use of Weapon    23511\nAggravated DUI                  12778\nRetail Theft                    12360\nBurglary                        10750\n                                ...  \nTampering                           9\nFailure To Pay Child Support        6\nPossession of Explosives            3\nCompelling Gang Membership          2\nBenefit Recipient Fraud             2\nName: offense_category, Length: 85, dtype: int64"
     },
     "metadata": {},
     "execution_count": 17
    }
   ],
   "source": [
    "# Consolidate Homicide category\n",
    "data.offense_category = data.offense_category.replace(to_replace=['Attempt Homicide','Reckless Homicide'],value='Homicide')\n",
    "\n",
    "data.offense_category.value_counts()"
   ]
  },
  {
   "cell_type": "code",
   "execution_count": 18,
   "metadata": {},
   "outputs": [
    {
     "output_type": "execute_result",
     "data": {
      "text/plain": "Narcotics                       58271\nUUW - Unlawful Use of Weapon    23511\nAggravated DUI                  12778\nRetail Theft                    12360\nBurglary                        10750\n                                ...  \nTampering                           9\nFailure To Pay Child Support        6\nPossession of Explosives            3\nCompelling Gang Membership          2\nBenefit Recipient Fraud             2\nName: offense_category, Length: 82, dtype: int64"
     },
     "metadata": {},
     "execution_count": 18
    }
   ],
   "source": [
    "# Consolidate Offense Against Police Officers category\n",
    "data.offense_category = data.offense_category.replace(to_replace=['Aggravated Assault Police Officer','Aggravated Assault Police Officer Firearm','Police Shooting','Impersonating Police Officer'],value='Offense Against Police Officers')\n",
    "\n",
    "data.offense_category.value_counts()"
   ]
  },
  {
   "cell_type": "code",
   "execution_count": 19,
   "metadata": {},
   "outputs": [
    {
     "output_type": "execute_result",
     "data": {
      "text/plain": "Narcotics                       58271\nUUW - Unlawful Use of Weapon    23511\nBattery                         13511\nAggravated DUI                  12778\nRetail Theft                    12360\n                                ...  \nTampering                           9\nFailure To Pay Child Support        6\nPossession of Explosives            3\nBenefit Recipient Fraud             2\nCompelling Gang Membership          2\nName: offense_category, Length: 77, dtype: int64"
     },
     "metadata": {},
     "execution_count": 19
    }
   ],
   "source": [
    "# Consolidate Battery category\n",
    "data.offense_category = data.offense_category.replace(to_replace=['Aggravated Battery','Aggravated Battery Police Officer','Aggravated Battery Police Officer Firearm','Aggravated Battery With A Firearm','Domestic Battery'],value='Battery')\n",
    "\n",
    "data.offense_category.value_counts()"
   ]
  },
  {
   "cell_type": "code",
   "execution_count": 20,
   "metadata": {},
   "outputs": [
    {
     "output_type": "execute_result",
     "data": {
      "text/plain": "Narcotics                       58271\nRobbery/Burglery/Theft          47777\nUUW - Unlawful Use of Weapon    23511\nBattery                         13511\nAggravated DUI                  12778\n                                ...  \nTampering                           9\nFailure To Pay Child Support        6\nPossession of Explosives            3\nBenefit Recipient Fraud             2\nCompelling Gang Membership          2\nName: offense_category, Length: 65, dtype: int64"
     },
     "metadata": {},
     "execution_count": 20
    }
   ],
   "source": [
    "# Consolidate Robbery, Burglery and Theft category\n",
    "data.offense_category = data.offense_category.replace(to_replace=['Aggravated Identity Theft','Aggravated Robbery','Aggravated Robbery BB Gun','Armed Robbery','Attempt Armed Robbery','Burglary','Identity Theft','Residential Burglary','Retail Theft','Robbery','Theft','Theft by Deception','Possession Of Burglary Tools'],value='Robbery/Burglery/Theft')\n",
    "\n",
    "data.offense_category.value_counts()"
   ]
  },
  {
   "cell_type": "code",
   "execution_count": 21,
   "metadata": {},
   "outputs": [
    {
     "output_type": "execute_result",
     "data": {
      "text/plain": "Narcotics                       58271\nRobbery/Burglery/Theft          47777\nUUW - Unlawful Use of Weapon    23511\nBattery                         13511\nAggravated DUI                  12778\n                                ...  \nTampering                           9\nFailure To Pay Child Support        6\nPossession of Explosives            3\nBenefit Recipient Fraud             2\nCompelling Gang Membership          2\nName: offense_category, Length: 63, dtype: int64"
     },
     "metadata": {},
     "execution_count": 21
    }
   ],
   "source": [
    "# Consolidate Arson category\n",
    "data.offense_category = data.offense_category.replace(to_replace=['Arson and Attempt Arson','Attempt Arson'],value='Arson')\n",
    "\n",
    "data.offense_category.value_counts()"
   ]
  },
  {
   "cell_type": "code",
   "execution_count": 22,
   "metadata": {},
   "outputs": [
    {
     "output_type": "execute_result",
     "data": {
      "text/plain": "Narcotics                                        58271\nRobbery/Burglery/Theft                           47777\nFirearms and Explosives                          26030\nBattery                                          13511\nAggravated DUI                                   12778\nDriving With Suspended Or Revoked License         8155\nSex Crimes                                        4320\nOther Offense                                     3850\nPossession of Stolen Motor Vehicle                3756\nHomicide                                          3709\nDUI                                               3330\nForgery                                           2511\nEscape - Failure to Return                        2358\nFailure to Register as a Sex Offender             2177\nAggravated Fleeing and Eluding                    2131\nCriminal Damage to Property                       1642\nCredit Card Cases                                 1248\nHome Invasion                                     1210\nOffense Against Police Officers                    875\nVehicular Hijacking                                714\nProstitution                                       642\nFraudulent ID                                      452\nViolation Order Of Protection                      447\nArson                                              396\nFraud                                              339\nKidnapping                                         290\nStalking                                           289\nDeceptive Practice                                 195\nIntimidation                                       183\nUnlawful Restraint                                 172\nMajor Accidents                                    172\nObstructing Justice                                168\nPossession of Contraband in Penal Institution      134\nChild Pornography                                  120\nViolation of Sex Offender Registration              95\nCriminal Trespass To Residence                      94\nBribery                                             88\nChild Abduction                                     87\nVehicular Invasion                                  84\nHate Crimes                                         69\nHuman Trafficking                                   62\nAttempt Vehicular Hijacking                         56\nViolate Bail Bond                                   56\nOfficial Misconduct                                 54\nDog Fighting                                        40\nCommunicating With Witness                          34\nPerjury                                             28\nPossession of Shank in Penal Institution            25\nAttempt Sex Crimes                                  22\nPandering                                           17\nGambling                                            12\nTampering                                            9\nFailure To Pay Child Support                         6\nCompelling Gang Membership                           2\nBenefit Recipient Fraud                              2\nName: offense_category, dtype: int64"
     },
     "metadata": {},
     "execution_count": 22
    }
   ],
   "source": [
    "# Consolidate Firearms and Explosives category\n",
    "data.offense_category = data.offense_category.replace(to_replace=['Aggravated Discharge Firearm','Armed Violence','Disarming Police Officer','Gun Running','Possession of Explosives','UUW - Unlawful Use of Weapon','Gun - Non UUW','Bomb Threat','Reckless Discharge of Firearm'],value='Firearms and Explosives')\n",
    "\n",
    "data.offense_category.value_counts()"
   ]
  },
  {
   "cell_type": "code",
   "execution_count": 23,
   "metadata": {},
   "outputs": [
    {
     "output_type": "execute_result",
     "data": {
      "text/plain": "Narcotics                                        58271\nRobbery/Burglery/Theft                           47777\nMotor Vehicle Offenses                           29045\nFirearms and Explosives                          26030\nBattery                                          13511\nSex Crimes                                        4320\nOther Offense                                     3850\nHomicide                                          3709\nForgery                                           2511\nEscape - Failure to Return                        2358\nFailure to Register as a Sex Offender             2177\nAggravated Fleeing and Eluding                    2131\nCriminal Damage to Property                       1642\nCredit Card Cases                                 1248\nHome Invasion                                     1210\nOffense Against Police Officers                    875\nProstitution                                       642\nFraudulent ID                                      452\nViolation Order Of Protection                      447\nArson                                              396\nFraud                                              339\nKidnapping                                         290\nStalking                                           289\nDeceptive Practice                                 195\nIntimidation                                       183\nUnlawful Restraint                                 172\nObstructing Justice                                168\nPossession of Contraband in Penal Institution      134\nChild Pornography                                  120\nViolation of Sex Offender Registration              95\nCriminal Trespass To Residence                      94\nBribery                                             88\nChild Abduction                                     87\nHate Crimes                                         69\nHuman Trafficking                                   62\nViolate Bail Bond                                   56\nOfficial Misconduct                                 54\nDog Fighting                                        40\nCommunicating With Witness                          34\nPerjury                                             28\nPossession of Shank in Penal Institution            25\nAttempt Sex Crimes                                  22\nPandering                                           17\nGambling                                            12\nTampering                                            9\nFailure To Pay Child Support                         6\nBenefit Recipient Fraud                              2\nCompelling Gang Membership                           2\nName: offense_category, dtype: int64"
     },
     "metadata": {},
     "execution_count": 23
    }
   ],
   "source": [
    "# Consolidate Motor Vehicles Offenses category\n",
    "data.offense_category = data.offense_category.replace(to_replace=['Aggravated DUI','Attempt Vehicular Hijacking','DUI','Driving With Suspended Or Revoked License','Major Accidents','Possession of Stolen Motor Vehicle','Vehicular Hijacking','Vehicular Invasion'],value='Motor Vehicle Offenses')\n",
    "\n",
    "data.offense_category.value_counts()"
   ]
  },
  {
   "cell_type": "code",
   "execution_count": 24,
   "metadata": {},
   "outputs": [
    {
     "output_type": "execute_result",
     "data": {
      "text/plain": "Narcotics                                        58271\nRobbery/Burglery/Theft                           47777\nMotor Vehicle Offenses                           29045\nFirearms and Explosives                          26030\nBattery                                          13511\nSex Crimes                                        4320\nOther Offense                                     3850\nHomicide                                          3709\nJudicial Process Violations                       3100\nForgery                                           2511\nFailure to Register as a Sex Offender             2177\nAggravated Fleeing and Eluding                    2131\nCriminal Damage to Property                       1642\nCredit Card Cases                                 1248\nHome Invasion                                     1210\nOffense Against Police Officers                    875\nProstitution                                       642\nFraudulent ID                                      452\nArson                                              396\nFraud                                              339\nKidnapping                                         290\nStalking                                           289\nDeceptive Practice                                 195\nIntimidation                                       183\nUnlawful Restraint                                 172\nPossession of Contraband in Penal Institution      134\nChild Pornography                                  120\nViolation of Sex Offender Registration              95\nCriminal Trespass To Residence                      94\nBribery                                             88\nChild Abduction                                     87\nHate Crimes                                         69\nHuman Trafficking                                   62\nOfficial Misconduct                                 54\nDog Fighting                                        40\nPossession of Shank in Penal Institution            25\nAttempt Sex Crimes                                  22\nPandering                                           17\nGambling                                            12\nFailure To Pay Child Support                         6\nCompelling Gang Membership                           2\nBenefit Recipient Fraud                              2\nName: offense_category, dtype: int64"
     },
     "metadata": {},
     "execution_count": 24
    }
   ],
   "source": [
    "# Consolidate Judicial Process Violations category\n",
    "data.offense_category = data.offense_category.replace(to_replace=['Communicating With Witness','Escape - Failure to Return','Obstructing Justice','Perjury','Tampering','Violate Bail Bond','Violation Order Of Protection'],value='Judicial Process Violations')\n",
    "\n",
    "data.offense_category.value_counts()"
   ]
  },
  {
   "cell_type": "code",
   "execution_count": 25,
   "metadata": {},
   "outputs": [
    {
     "output_type": "execute_result",
     "data": {
      "text/plain": "Narcotics                                        58271\nRobbery/Burglery/Theft                           47777\nMotor Vehicle Offenses                           29045\nFirearms and Explosives                          26030\nBattery                                          13511\nSex Offenses                                      7393\nOther Offense                                     3850\nHomicide                                          3709\nJudicial Process Violations                       3100\nForgery                                           2511\nAggravated Fleeing and Eluding                    2131\nCriminal Damage to Property                       1642\nCredit Card Cases                                 1248\nHome Invasion                                     1210\nOffense Against Police Officers                    875\nFraudulent ID                                      452\nArson                                              396\nFraud                                              339\nKidnapping                                         290\nStalking                                           289\nDeceptive Practice                                 195\nIntimidation                                       183\nUnlawful Restraint                                 172\nPossession of Contraband in Penal Institution      134\nCriminal Trespass To Residence                      94\nBribery                                             88\nChild Abduction                                     87\nHate Crimes                                         69\nHuman Trafficking                                   62\nOfficial Misconduct                                 54\nDog Fighting                                        40\nPossession of Shank in Penal Institution            25\nGambling                                            12\nFailure To Pay Child Support                         6\nBenefit Recipient Fraud                              2\nCompelling Gang Membership                           2\nName: offense_category, dtype: int64"
     },
     "metadata": {},
     "execution_count": 25
    }
   ],
   "source": [
    "# Consolidate Sex Offenses category\n",
    "data.offense_category = data.offense_category.replace(to_replace=['Attempt Sex Crimes','Child Pornography','Failure to Register as a Sex Offender','Pandering','Prostitution','Sex Crimes','Violation of Sex Offender Registration'],value='Sex Offenses')\n",
    "\n",
    "data.offense_category.value_counts()"
   ]
  },
  {
   "cell_type": "code",
   "execution_count": 26,
   "metadata": {},
   "outputs": [
    {
     "output_type": "execute_result",
     "data": {
      "text/plain": "Narcotics                                        58271\nRobbery/Burglery/Theft                           47777\nMotor Vehicle Offenses                           29045\nFirearms and Explosives                          26030\nBattery                                          13511\nSex Offenses                                      7393\nOther Offense                                     3850\nHomicide                                          3709\nJudicial Process Violations                       3100\nForgery                                           2511\nAggravated Fleeing and Eluding                    2131\nCriminal Damage to Property                       1642\nCredit Card Cases                                 1248\nHome Invasion                                     1210\nOffense Against Police Officers                    875\nHuman Trafficking/Detention/Kidnapping             611\nFraudulent ID                                      452\nArson                                              396\nFraud                                              339\nStalking                                           289\nDeceptive Practice                                 195\nIntimidation                                       183\nPossession of Contraband in Penal Institution      134\nCriminal Trespass To Residence                      94\nBribery                                             88\nHate Crimes                                         69\nOfficial Misconduct                                 54\nDog Fighting                                        40\nPossession of Shank in Penal Institution            25\nGambling                                            12\nFailure To Pay Child Support                         6\nBenefit Recipient Fraud                              2\nCompelling Gang Membership                           2\nName: offense_category, dtype: int64"
     },
     "metadata": {},
     "execution_count": 26
    }
   ],
   "source": [
    "# Consolidate Human Trafficking, Detention and Kidnapping category\n",
    "data.offense_category = data.offense_category.replace(to_replace=['Child Abduction','Human Trafficking','Kidnapping','Unlawful Restraint'],value='Human Trafficking/Detention/Kidnapping')\n",
    "\n",
    "data.offense_category.value_counts()"
   ]
  },
  {
   "cell_type": "code",
   "execution_count": 27,
   "metadata": {},
   "outputs": [
    {
     "output_type": "execute_result",
     "data": {
      "text/plain": "Narcotics                                        58271\nRobbery/Burglery/Theft                           47777\nMotor Vehicle Offenses                           29045\nFirearms and Explosives                          26030\nBattery                                          13511\nSex Offenses                                      7393\nOther Offense                                     3850\nHomicide                                          3709\nJudicial Process Violations                       3100\nForgery                                           2511\nAggravated Fleeing and Eluding                    2131\nCriminal Damage to Property                       1642\nTrespassing                                       1304\nCredit Card Cases                                 1248\nOffense Against Police Officers                    875\nHuman Trafficking/Detention/Kidnapping             611\nFraudulent ID                                      452\nArson                                              396\nFraud                                              339\nStalking                                           289\nDeceptive Practice                                 195\nIntimidation                                       183\nPossession of Contraband in Penal Institution      134\nBribery                                             88\nHate Crimes                                         69\nOfficial Misconduct                                 54\nDog Fighting                                        40\nPossession of Shank in Penal Institution            25\nGambling                                            12\nFailure To Pay Child Support                         6\nCompelling Gang Membership                           2\nBenefit Recipient Fraud                              2\nName: offense_category, dtype: int64"
     },
     "metadata": {},
     "execution_count": 27
    }
   ],
   "source": [
    "# Consolidate Trespassing category\n",
    "data.offense_category = data.offense_category.replace(to_replace=['Home Invasion','Criminal Trespass To Residence'],value='Trespassing')\n",
    "\n",
    "data.offense_category.value_counts()"
   ]
  },
  {
   "cell_type": "code",
   "execution_count": 28,
   "metadata": {},
   "outputs": [
    {
     "output_type": "execute_result",
     "data": {
      "text/plain": "Narcotics                                        58271\nRobbery/Burglery/Theft                           47777\nMotor Vehicle Offenses                           29045\nFirearms and Explosives                          26030\nBattery                                          13511\nSex Offenses                                      7393\nFraud/Deception                                   4747\nOther Offense                                     3850\nHomicide                                          3709\nJudicial Process Violations                       3100\nAggravated Fleeing and Eluding                    2131\nCriminal Damage to Property                       1642\nTrespassing                                       1304\nOffense Against Police Officers                    875\nHuman Trafficking/Detention/Kidnapping             611\nArson                                              396\nStalking                                           289\nIntimidation                                       183\nPossession of Contraband in Penal Institution      134\nBribery                                             88\nHate Crimes                                         69\nOfficial Misconduct                                 54\nDog Fighting                                        40\nPossession of Shank in Penal Institution            25\nGambling                                            12\nFailure To Pay Child Support                         6\nCompelling Gang Membership                           2\nName: offense_category, dtype: int64"
     },
     "metadata": {},
     "execution_count": 28
    }
   ],
   "source": [
    "# Consolidate Fraud and Deception category\n",
    "data.offense_category = data.offense_category.replace(to_replace=['Benefit Recipient Fraud','Credit Card Cases','Deceptive Practice','Forgery','Fraud','Fraudulent ID'],value='Fraud/Deception')\n",
    "\n",
    "data.offense_category.value_counts()"
   ]
  },
  {
   "cell_type": "code",
   "execution_count": 29,
   "metadata": {},
   "outputs": [
    {
     "output_type": "execute_result",
     "data": {
      "text/plain": "Narcotics                                        58271\nRobbery/Burglery/Theft                           47777\nMotor Vehicle Offenses                           29045\nFirearms and Explosives                          26030\nBattery                                          13511\nSex Offenses                                      7393\nFraud/Deception                                   4747\nOther Offense                                     3850\nHomicide                                          3709\nJudicial Process Violations                       3100\nAggravated Fleeing and Eluding                    2131\nCriminal Damage to Property                       1642\nTrespassing                                       1304\nOffense Against Police Officers                    875\nHuman Trafficking/Detention/Kidnapping             611\nArson                                              396\nCorruption                                         325\nStalking                                           289\nPossession of Contraband in Penal Institution      134\nHate Crimes                                         69\nDog Fighting                                        40\nPossession of Shank in Penal Institution            25\nGambling                                            12\nFailure To Pay Child Support                         6\nCompelling Gang Membership                           2\nName: offense_category, dtype: int64"
     },
     "metadata": {},
     "execution_count": 29
    }
   ],
   "source": [
    "# Consolidate Corruption category\n",
    "data.offense_category = data.offense_category.replace(to_replace=['Intimidation','Official Misconduct','Bribery'],value='Corruption')\n",
    "\n",
    "data.offense_category.value_counts()"
   ]
  },
  {
   "cell_type": "code",
   "execution_count": 30,
   "metadata": {},
   "outputs": [
    {
     "output_type": "execute_result",
     "data": {
      "text/plain": "Narcotics                                 58271\nRobbery/Burglery/Theft                    47777\nMotor Vehicle Offenses                    29045\nFirearms and Explosives                   26030\nBattery                                   13511\nSex Offenses                               7393\nFraud/Deception                            4747\nOther Offense                              3850\nHomicide                                   3709\nJudicial Process Violations                3100\nAggravated Fleeing and Eluding             2131\nCriminal Damage to Property                1642\nTrespassing                                1304\nOffense Against Police Officers             875\nHuman Trafficking/Detention/Kidnapping      611\nArson                                       396\nCorruption                                  325\nStalking                                    289\nInside Penal Institutions                   159\nHate Crimes                                  69\nDog Fighting                                 40\nGambling                                     12\nFailure To Pay Child Support                  6\nCompelling Gang Membership                    2\nName: offense_category, dtype: int64"
     },
     "metadata": {},
     "execution_count": 30
    }
   ],
   "source": [
    "# Consolidate Inside Penal Institutions category\n",
    "data.offense_category = data.offense_category.replace(to_replace=['Possession of Contraband in Penal Institution','Possession of Shank in Penal Institution'],value='Inside Penal Institutions')\n",
    "\n",
    "data.offense_category.value_counts()"
   ]
  },
  {
   "cell_type": "code",
   "execution_count": 31,
   "metadata": {},
   "outputs": [
    {
     "output_type": "execute_result",
     "data": {
      "text/plain": "Narcotics                                 58271\nRobbery/Burglery/Theft                    47777\nMotor Vehicle Offenses                    29045\nFirearms and Explosives                   26030\nBattery                                   13511\nSex Offenses                               7393\nFraud/Deception                            4747\nOther Offense                              3910\nHomicide                                   3709\nJudicial Process Violations                3100\nAggravated Fleeing and Eluding             2131\nCriminal Damage to Property                1642\nTrespassing                                1304\nOffense Against Police Officers             875\nHuman Trafficking/Detention/Kidnapping      611\nArson                                       396\nCorruption                                  325\nStalking                                    289\nInside Penal Institutions                   159\nHate Crimes                                  69\nName: offense_category, dtype: int64"
     },
     "metadata": {},
     "execution_count": 31
    }
   ],
   "source": [
    "# Consolidate Other Offense category\n",
    "data.offense_category = data.offense_category.replace(to_replace=['Dog Fighting','Gambling','Failure To Pay Child Support','Compelling Gang Membership'],value='Other Offense')\n",
    "\n",
    "data.offense_category.value_counts()"
   ]
  },
  {
   "cell_type": "markdown",
   "metadata": {},
   "source": [
    "## Cleaning Race columns"
   ]
  },
  {
   "cell_type": "code",
   "execution_count": 32,
   "metadata": {},
   "outputs": [
    {
     "output_type": "execute_result",
     "data": {
      "text/plain": "Black                               138741\nWhite [Hispanic or Latino]           32709\nWhite                                27899\nHISPANIC                              3252\nAsian                                 1195\nWhite/Black [Hispanic or Latino]      1068\nUnknown                                293\nAmerican Indian                        105\nBiracial                                29\nASIAN                                    3\nName: race, dtype: int64"
     },
     "metadata": {},
     "execution_count": 32
    }
   ],
   "source": [
    "# Review data\n",
    "data.race.value_counts()"
   ]
  },
  {
   "cell_type": "code",
   "execution_count": 33,
   "metadata": {},
   "outputs": [
    {
     "output_type": "execute_result",
     "data": {
      "text/plain": "Black                               138741\nWhite [Hispanic or Latino]           32709\nWhite                                27899\nHISPANIC                              3252\nAsian                                 1198\nWhite/Black [Hispanic or Latino]      1068\nUnknown                                293\nAmerican Indian                        105\nBiracial                                29\nName: race, dtype: int64"
     },
     "metadata": {},
     "execution_count": 33
    }
   ],
   "source": [
    "# Consolidate Asian race\n",
    "data.race = data.race.replace(to_replace='ASIAN',value='Asian')\n",
    "\n",
    "data.race.value_counts()"
   ]
  },
  {
   "cell_type": "code",
   "execution_count": 34,
   "metadata": {},
   "outputs": [
    {
     "output_type": "execute_result",
     "data": {
      "text/plain": "Black              138741\nHispanic/Latino     37029\nWhite               27899\nAsian                1198\nUnknown               293\nAmerican Indian       105\nBiracial               29\nName: race, dtype: int64"
     },
     "metadata": {},
     "execution_count": 34
    }
   ],
   "source": [
    "# Consolidate Hispanic/Latino race\n",
    "data.race = data.race.replace(to_replace=['White [Hispanic or Latino]','HISPANIC','White/Black [Hispanic or Latino]'],value='Hispanic/Latino')\n",
    "\n",
    "data.race.value_counts()"
   ]
  },
  {
   "cell_type": "markdown",
   "metadata": {},
   "source": [
    "## Cleaning Sentence Type"
   ]
  },
  {
   "cell_type": "code",
   "execution_count": 35,
   "metadata": {},
   "outputs": [
    {
     "output_type": "execute_result",
     "data": {
      "text/plain": "Prison                                   110845\nProbation                                 79661\nJail                                       6382\nCook County Boot Camp                      2326\nConditional Discharge                      2159\n2nd Chance Probation                       1763\nSupervision                                1597\nProbation Terminated Unsatisfactorily       228\nInpatient Mental Health Services            151\nConditional Release                          56\nDeath                                        56\nProbation Terminated Instanter               53\nProbation Terminated Satisfactorily          17\nName: sentence_type, dtype: int64"
     },
     "metadata": {},
     "execution_count": 35
    }
   ],
   "source": [
    "# Review data\n",
    "data.sentence_type.value_counts()"
   ]
  },
  {
   "cell_type": "code",
   "execution_count": 36,
   "metadata": {},
   "outputs": [
    {
     "output_type": "execute_result",
     "data": {
      "text/plain": "Prison                              110845\nProbation/Supervision                83319\nJail                                  6382\nCook County Boot Camp                 2326\nConditional Discharge                 2159\nInpatient Mental Health Services       151\nConditional Release                     56\nDeath                                   56\nName: sentence_type, dtype: int64"
     },
     "metadata": {},
     "execution_count": 36
    }
   ],
   "source": [
    "# Consolidate Probation & Supervision sentence\n",
    "data.sentence_type = data.sentence_type.replace(to_replace=['Probation','2nd Chance Probation','Supervision','Probation Terminated Unsatisfactorily','Probation Terminated Instanter','Probation Terminated Satisfactorily'],value='Probation/Supervision')\n",
    "\n",
    "data.sentence_type.value_counts()"
   ]
  },
  {
   "cell_type": "code",
   "execution_count": 37,
   "metadata": {},
   "outputs": [
    {
     "output_type": "execute_result",
     "data": {
      "text/plain": "Prison                              110845\nProbation/Supervision                83319\nJail                                  6382\nCook County Boot Camp                 2326\nConditional Discharge                 2215\nInpatient Mental Health Services       151\nDeath                                   56\nName: sentence_type, dtype: int64"
     },
     "metadata": {},
     "execution_count": 37
    }
   ],
   "source": [
    "# Consolidate Conditional sentence type\n",
    "data.sentence_type = data.sentence_type.replace(to_replace='Conditional Release',value='Conditional Discharge')\n",
    "\n",
    "data.sentence_type.value_counts()"
   ]
  },
  {
   "cell_type": "code",
   "execution_count": 38,
   "metadata": {},
   "outputs": [
    {
     "output_type": "execute_result",
     "data": {
      "text/plain": "Incarceration                       117227\nProbation/Supervision                83319\nCook County Boot Camp                 2326\nConditional Discharge                 2215\nInpatient Mental Health Services       151\nDeath                                   56\nName: sentence_type, dtype: int64"
     },
     "metadata": {},
     "execution_count": 38
    }
   ],
   "source": [
    "# Consolidate Incarceration sentence\n",
    "data.sentence_type = data.sentence_type.replace(to_replace=['Jail','Prison'],value='Incarceration')\n",
    "\n",
    "data.sentence_type.value_counts()"
   ]
  },
  {
   "cell_type": "markdown",
   "metadata": {},
   "source": [
    "## Cleaning Commitment Unit"
   ]
  },
  {
   "cell_type": "code",
   "execution_count": 39,
   "metadata": {},
   "outputs": [
    {
     "output_type": "execute_result",
     "data": {
      "text/plain": "Year(s)         149895\nMonths           47479\nDays              5408\nTerm              2125\nNatural Life       300\nDollars             55\nWeeks               15\nHours               14\nPounds               2\nKilos                1\nName: commitment_unit, dtype: int64"
     },
     "metadata": {},
     "execution_count": 39
    }
   ],
   "source": [
    "# Data Exploration\n",
    "data.commitment_unit.value_counts()"
   ]
  },
  {
   "cell_type": "code",
   "execution_count": 40,
   "metadata": {},
   "outputs": [
    {
     "output_type": "execute_result",
     "data": {
      "text/plain": "Year(s)         149895\nMonths           47479\nDays              5408\nTerm              2125\nNatural Life       300\nDollars             55\nWeeks               15\nHours               14\nWeight               3\nName: commitment_unit, dtype: int64"
     },
     "metadata": {},
     "execution_count": 40
    }
   ],
   "source": [
    "# Unify Weight units\n",
    "data.commitment_unit = data.commitment_unit.replace(to_replace=['Pounds','Kilos'],value='Weight')\n",
    "\n",
    "data.commitment_unit.value_counts()"
   ]
  },
  {
   "cell_type": "code",
   "execution_count": 41,
   "metadata": {},
   "outputs": [
    {
     "output_type": "execute_result",
     "data": {
      "text/plain": "['0',\n '00',\n '001',\n '002',\n '006',\n '007',\n '012',\n '015',\n '018',\n '02',\n '024',\n '027',\n '030',\n '036',\n '042',\n '1',\n '1,154.00',\n '1.5',\n '10',\n '10.5',\n '100',\n '101',\n '1013',\n '102',\n '103',\n '104',\n '105',\n '106',\n '107',\n '108',\n '109',\n '11',\n '11.5',\n '110',\n '111',\n '112',\n '113',\n '114',\n '115',\n '116',\n '117',\n '118',\n '119',\n '12',\n '12.5',\n '12.75',\n '120',\n '121',\n '122',\n '123',\n '125',\n '126',\n '127',\n '1277.13',\n '128',\n '129',\n '13',\n '13.5',\n '130',\n '131',\n '132',\n '133',\n '134',\n '135',\n '136',\n '137',\n '138',\n '139',\n '14',\n '14.5',\n '140',\n '141',\n '142',\n '143',\n '144',\n '145',\n '146',\n '147',\n '148',\n '149',\n '15',\n '150',\n '151',\n '152',\n '153',\n '154',\n '155',\n '156',\n '157',\n '158',\n '159',\n '16',\n '16.5',\n '160',\n '161',\n '162',\n '163',\n '164',\n '165',\n '166',\n '167',\n '168',\n '169',\n '17',\n '17.5',\n '170',\n '171',\n '172',\n '174',\n '175',\n '176',\n '177',\n '178',\n '179',\n '18',\n '18 months',\n '180',\n '181',\n '182',\n '183',\n '184',\n '185',\n '186',\n '187',\n '188',\n '189',\n '19',\n '19.5',\n '190',\n '191',\n '192',\n '193',\n '194',\n '195',\n '196',\n '197',\n '198',\n '199',\n '2',\n '2.5',\n '2.6',\n '20',\n '20.5',\n '200',\n '202',\n '203',\n '204',\n '205',\n '206',\n '207',\n '208',\n '21',\n '210',\n '211',\n '212',\n '213',\n '214',\n '215',\n '216',\n '217',\n '218',\n '219',\n '22',\n '22.5',\n '220',\n '221',\n '222',\n '223',\n '224',\n '225',\n '226',\n '227',\n '228',\n '229',\n '23',\n '23.5',\n '230',\n '231',\n '232',\n '233',\n '234',\n '235',\n '236',\n '237',\n '238',\n '239',\n '24',\n '24 wrap',\n '240',\n '241',\n '242',\n '243',\n '244',\n '246',\n '247',\n '248',\n '25',\n '250',\n '251',\n '252',\n '253',\n '254',\n '256',\n '257',\n '258',\n '26',\n '26.5',\n '260',\n '261',\n '262',\n '263',\n '264',\n '265',\n '266',\n '267',\n '268',\n '269',\n '27',\n '270',\n '272',\n '273',\n '274',\n '275',\n '276',\n '279',\n '28',\n '280',\n '281',\n '282',\n '284',\n '285',\n '286',\n '288',\n '289',\n '29',\n '290',\n '291',\n '292',\n '294',\n '297',\n '298',\n '299',\n '2`',\n '3',\n '3.5',\n '3.6',\n '30',\n '30 months',\n '300',\n '301',\n '303',\n '305',\n '306',\n '307',\n '308',\n '309',\n '31',\n '31.5',\n '310',\n '311',\n '312',\n '313',\n '316',\n '317',\n '319',\n '32',\n '320',\n '321',\n '324',\n '325',\n '327',\n '328',\n '33',\n '330',\n '331',\n '332',\n '333',\n '334',\n '336',\n '338',\n '339',\n '34',\n '340',\n '341',\n '343',\n '344',\n '345',\n '347',\n '349',\n '35',\n '350',\n '351',\n '352',\n '353',\n '354',\n '355',\n '356',\n '357',\n '358',\n '359',\n '36',\n '360',\n '362',\n '364',\n '365',\n '368',\n '369',\n '37',\n '38',\n '380',\n '386',\n '387',\n '39',\n '390',\n '397',\n '4',\n '4.5',\n '4.75',\n '40',\n '405',\n '41',\n '42',\n '43',\n '44',\n '444',\n '447',\n '45',\n '46',\n '47',\n '47.5',\n '471',\n '478',\n '48',\n '49',\n '5',\n '5.2',\n '5.25',\n '5.5',\n '5.6',\n '50',\n '51',\n '52',\n '528',\n '53',\n '54',\n '55',\n '555',\n '56',\n '57',\n '574',\n '58',\n '59',\n '591',\n '6',\n '6.4',\n '6.5',\n '6.50',\n '60',\n '607',\n '61',\n '62',\n '628',\n '63',\n '630',\n '634',\n '64',\n '65',\n '66',\n '67',\n '68',\n '69',\n '7',\n '7.3',\n '7.5',\n '7.6',\n '70',\n '71',\n '72',\n '73',\n '74',\n '75',\n '76',\n '77',\n '78',\n '79',\n '8',\n '8.5',\n '8.6',\n '8.75',\n '80',\n '81',\n '82',\n '83',\n '84',\n '85',\n '86',\n '87',\n '88',\n '89',\n '9',\n '9.3',\n '9.5',\n '9.6',\n '90',\n '91',\n '92',\n '93',\n '94',\n '95',\n '96',\n '97',\n '98',\n '99',\n '999',\n 'two']"
     },
     "metadata": {},
     "execution_count": 41
    }
   ],
   "source": [
    "sorted(list(data.commitment_term.unique()))"
   ]
  },
  {
   "cell_type": "code",
   "execution_count": 42,
   "metadata": {},
   "outputs": [
    {
     "output_type": "execute_result",
     "data": {
      "text/plain": "663        8.0\n1360       2.0\n2123       4.0\n2177       9.0\n2261       2.0\n          ... \n241252    24.0\n241257     2.0\n241280    18.0\n241298     2.0\n241310    90.0\nName: commitment_term, Length: 205294, dtype: float64"
     },
     "metadata": {},
     "execution_count": 42
    }
   ],
   "source": [
    "# Clean all non-numeric characters and transform value type to float\n",
    "data.commitment_term = data.commitment_term.replace(to_replace='two',value=2)\n",
    "data.commitment_term = data.commitment_term.replace(regex=['[a-z]*','\\,','\\`'], value='')\n",
    "data.commitment_term = data.commitment_term.astype('float')\n",
    "\n",
    "data.commitment_term"
   ]
  },
  {
   "cell_type": "code",
   "execution_count": 43,
   "metadata": {},
   "outputs": [
    {
     "output_type": "execute_result",
     "data": {
      "text/plain": "Year(s)         149895\nMonths           47479\nDays              5408\nTerm              2125\nNatural Life       300\nDollars             55\nWeeks               15\nHours               14\nWeight               3\nName: commitment_unit, dtype: int64"
     },
     "metadata": {},
     "execution_count": 43
    }
   ],
   "source": [
    "data.commitment_unit.value_counts()"
   ]
  },
  {
   "cell_type": "code",
   "execution_count": 44,
   "metadata": {},
   "outputs": [],
   "source": [
    "# Change all years over 130 to 130 to mark natural life\n",
    "data.loc[(data.commitment_unit == 'Year(s)') & (data.commitment_term > 129),['commitment_term']] = 130"
   ]
  },
  {
   "cell_type": "code",
   "execution_count": 45,
   "metadata": {},
   "outputs": [],
   "source": [
    "# Changes in Bootcamp Terms to Months\n",
    "data.loc[(data.sentence_type == 'Cook County Boot Camp') & (data.commitment_unit == 'Term') & (data.commitment_term == 1),['commitment_term']] = 12\n",
    "\n",
    "data.loc[(data.sentence_type == 'Cook County Boot Camp') & (data.commitment_unit == 'Term') & (data.commitment_term == 12),['commitment_unit']] = 'Months'\n",
    "\n",
    "data.loc[(data.sentence_type == 'Cook County Boot Camp') & (data.commitment_unit == 'Term') & (data.commitment_term == 18),['commitment_unit']] = 'Months'"
   ]
  },
  {
   "cell_type": "code",
   "execution_count": 46,
   "metadata": {},
   "outputs": [],
   "source": [
    "# Change Death info to 130 years\n",
    "data.loc[(data.sentence_type == 'Death'),['commitment_unit']] = 'Year(s)'\n",
    "data.loc[(data.sentence_type == 'Death'),['commitment_term']] = 130"
   ]
  },
  {
   "cell_type": "code",
   "execution_count": 47,
   "metadata": {},
   "outputs": [],
   "source": [
    "def month_convert(row):\n",
    "    if row ['commitment_unit'] == 'Months':\n",
    "        return round(float(row['commitment_term']),2)\n",
    "    if row[\"commitment_unit\"] == \"Year(s)\":\n",
    "        return round(int(row[\"commitment_term\"]) * 12.0, 2)\n",
    "    if row[\"commitment_unit\"] == \"Weeks\":\n",
    "       return round(float(row['commitment_term']) / 4, 2)\n",
    "    if row[\"commitment_unit\"] == \"Days\":\n",
    "        return round(float( row['commitment_term']) / 30, 2)\n",
    "    if row['commitment_unit'] == \"Natural Life\":\n",
    "        return 1560.\n",
    "    else:\n",
    "        return 0.\n",
    "\n",
    "data['month'] = data.apply(lambda row:month_convert(row), axis = 1)"
   ]
  },
  {
   "cell_type": "code",
   "execution_count": 48,
   "metadata": {},
   "outputs": [],
   "source": [
    "def year_convert(row):\n",
    "    if row ['commitment_unit'] == 'Year(s)':\n",
    "        return round(float(row['commitment_term']),2)\n",
    "    if row[\"commitment_unit\"] == \"Months\":\n",
    "        return round(int(row[\"commitment_term\"]) / 12.0, 2)\n",
    "    if row[\"commitment_unit\"] == \"Weeks\":\n",
    "       return round(float(row['commitment_term']) / 52, 2)\n",
    "    if row[\"commitment_unit\"] == \"Days\":\n",
    "        return round(float( row['commitment_term'])/365, 2)\n",
    "    if row['commitment_unit'] == \"Natural Life\":\n",
    "        return 130.\n",
    "    else:\n",
    "        return 0.\n",
    "\n",
    "data['year'] = data.apply(lambda row:year_convert(row), axis = 1)"
   ]
  },
  {
   "cell_type": "code",
   "execution_count": 49,
   "metadata": {},
   "outputs": [
    {
     "output_type": "execute_result",
     "data": {
      "text/plain": "       commitment_unit  commitment_term  year   month\n663            Year(s)              8.0  8.00   96.00\n1360           Year(s)              2.0  2.00   24.00\n2123           Year(s)              4.0  4.00   48.00\n2177           Year(s)              9.0  9.00  108.00\n2261           Year(s)              2.0  2.00   24.00\n...                ...              ...   ...     ...\n241252          Months             24.0  2.00   24.00\n241257            Days              2.0  0.01    0.07\n241280          Months             18.0  1.50   18.00\n241298            Days              2.0  0.01    0.07\n241310            Days             90.0  0.25    3.00\n\n[205294 rows x 4 columns]",
      "text/html": "<div>\n<style scoped>\n    .dataframe tbody tr th:only-of-type {\n        vertical-align: middle;\n    }\n\n    .dataframe tbody tr th {\n        vertical-align: top;\n    }\n\n    .dataframe thead th {\n        text-align: right;\n    }\n</style>\n<table border=\"1\" class=\"dataframe\">\n  <thead>\n    <tr style=\"text-align: right;\">\n      <th></th>\n      <th>commitment_unit</th>\n      <th>commitment_term</th>\n      <th>year</th>\n      <th>month</th>\n    </tr>\n  </thead>\n  <tbody>\n    <tr>\n      <td>663</td>\n      <td>Year(s)</td>\n      <td>8.0</td>\n      <td>8.00</td>\n      <td>96.00</td>\n    </tr>\n    <tr>\n      <td>1360</td>\n      <td>Year(s)</td>\n      <td>2.0</td>\n      <td>2.00</td>\n      <td>24.00</td>\n    </tr>\n    <tr>\n      <td>2123</td>\n      <td>Year(s)</td>\n      <td>4.0</td>\n      <td>4.00</td>\n      <td>48.00</td>\n    </tr>\n    <tr>\n      <td>2177</td>\n      <td>Year(s)</td>\n      <td>9.0</td>\n      <td>9.00</td>\n      <td>108.00</td>\n    </tr>\n    <tr>\n      <td>2261</td>\n      <td>Year(s)</td>\n      <td>2.0</td>\n      <td>2.00</td>\n      <td>24.00</td>\n    </tr>\n    <tr>\n      <td>...</td>\n      <td>...</td>\n      <td>...</td>\n      <td>...</td>\n      <td>...</td>\n    </tr>\n    <tr>\n      <td>241252</td>\n      <td>Months</td>\n      <td>24.0</td>\n      <td>2.00</td>\n      <td>24.00</td>\n    </tr>\n    <tr>\n      <td>241257</td>\n      <td>Days</td>\n      <td>2.0</td>\n      <td>0.01</td>\n      <td>0.07</td>\n    </tr>\n    <tr>\n      <td>241280</td>\n      <td>Months</td>\n      <td>18.0</td>\n      <td>1.50</td>\n      <td>18.00</td>\n    </tr>\n    <tr>\n      <td>241298</td>\n      <td>Days</td>\n      <td>2.0</td>\n      <td>0.01</td>\n      <td>0.07</td>\n    </tr>\n    <tr>\n      <td>241310</td>\n      <td>Days</td>\n      <td>90.0</td>\n      <td>0.25</td>\n      <td>3.00</td>\n    </tr>\n  </tbody>\n</table>\n<p>205294 rows × 4 columns</p>\n</div>"
     },
     "metadata": {},
     "execution_count": 49
    }
   ],
   "source": [
    "data[['commitment_unit', 'commitment_term','year','month']]"
   ]
  },
  {
   "cell_type": "code",
   "execution_count": 50,
   "metadata": {},
   "outputs": [
    {
     "output_type": "execute_result",
     "data": {
      "text/plain": "0       12135\n7        2072\n35       1174\n28       1076\n42       1067\n        ...  \n-178        1\n1800        1\n2031        1\n3011        1\n2162        1\nName: length_of_case_in_days, Length: 2356, dtype: int64"
     },
     "metadata": {},
     "execution_count": 50
    }
   ],
   "source": [
    "data.length_of_case_in_days.value_counts()"
   ]
  },
  {
   "cell_type": "markdown",
   "metadata": {},
   "source": [
    "# --------------------------------------"
   ]
  },
  {
   "cell_type": "markdown",
   "metadata": {},
   "source": [
    "data.to_json('../Front-end/data.json')"
   ]
  },
  {
   "cell_type": "markdown",
   "metadata": {},
   "source": [
    "# --------------------------------------"
   ]
  },
  {
   "cell_type": "code",
   "execution_count": 51,
   "metadata": {},
   "outputs": [
    {
     "output_type": "execute_result",
     "data": {
      "text/plain": "             case_id case_participant_id     charge_id charge_version_id  \\\n0       114024398027        230101052744  807648613316      449520166967   \n1       123803937179        255504441936  190690725339      122497821309   \n2       127790349873        265428457350  541647467636      271650860226   \n3       128491120254        266244611418  759810529209      458530536964   \n4       129030951431        266511120401  702938173654      382945270335   \n...              ...                 ...           ...               ...   \n205284  256376492742       1114936528342  922971556855      505146600989   \n205285  256381543493       1114965982098  922961626878      505922206274   \n205286  256409108612       1115174177395  923107618660      505224851968   \n205287  256441638876       1115411588918  923226884015      506085957954   \n205288  256462098701       1115557788810  923354177862      505662769759   \n\n                    court_facility                    court_name  \\\n0                      26TH Street          District 1 - Chicago   \n1                      26TH Street          District 1 - Chicago   \n2               Markham Courthouse          District 6 - Markham   \n3                      26TH Street          District 1 - Chicago   \n4                      26TH Street          District 1 - Chicago   \n...                            ...                           ...   \n205284  Rolling Meadows Courthouse  District 3 - Rolling Meadows   \n205285          Markham Courthouse          District 6 - Markham   \n205286          Maywood Courthouse          District 4 - Maywood   \n205287                 26TH Street          District 1 - Chicago   \n205288           Skokie Courthouse           District 2 - Skokie   \n\n       age_at_incident  gender             race charge_disposition  ...  \\\n0                   21    Male            White     Plea Of Guilty  ...   \n1                   27    Male  Hispanic/Latino     Plea Of Guilty  ...   \n2                   18    Male            Black     Plea Of Guilty  ...   \n3                   21    Male            Black     Finding Guilty  ...   \n4                   35    Male            Black     Plea Of Guilty  ...   \n...                ...     ...              ...                ...  ...   \n205284              21    Male            White     Plea Of Guilty  ...   \n205285              61    Male            Black     Plea Of Guilty  ...   \n205286              38    Male            White     Plea Of Guilty  ...   \n205287              26    Male            Black     Plea Of Guilty  ...   \n205288              19  Female            Black     Plea Of Guilty  ...   \n\n       current_sentence  primary_charge           sentence_date  \\\n0                  True           False   5/11/2015 12:00:00 AM   \n1                  True           False   11/5/2014 12:00:00 AM   \n2                  True           False   12/9/2013 12:00:00 AM   \n3                  True            True    2/1/2016 12:00:00 AM   \n4                  True            True   2/28/2011 12:00:00 AM   \n...                 ...             ...                     ...   \n205284             True            True   12/5/2019 12:00:00 AM   \n205285             True            True  12/20/2019 12:00:00 AM   \n205286             True            True  12/27/2019 12:00:00 AM   \n205287             True            True  12/24/2019 12:00:00 AM   \n205288             True            True  12/11/2019 12:00:00 AM   \n\n                   offense_category commitment_term  commitment_unit  \\\n0                          Homicide             8.0          Year(s)   \n1           Firearms and Explosives             2.0          Year(s)   \n2                      Sex Offenses             4.0          Year(s)   \n3                          Homicide             9.0          Year(s)   \n4       Judicial Process Violations             2.0          Year(s)   \n...                             ...             ...              ...   \n205284                    Narcotics            24.0           Months   \n205285                    Narcotics             2.0             Days   \n205286      Firearms and Explosives            18.0           Months   \n205287                    Narcotics             2.0             Days   \n205288       Robbery/Burglery/Theft            90.0             Days   \n\n                sentence_type date_year   month  year  \n0               Incarceration      2015   96.00  8.00  \n1       Probation/Supervision      2014   24.00  2.00  \n2               Incarceration      2013   48.00  4.00  \n3               Incarceration      2016  108.00  9.00  \n4               Incarceration      2011   24.00  2.00  \n...                       ...       ...     ...   ...  \n205284  Probation/Supervision      2019   24.00  2.00  \n205285          Incarceration      2019    0.07  0.01  \n205286  Probation/Supervision      2019   18.00  1.50  \n205287          Incarceration      2019    0.07  0.01  \n205288          Incarceration      2019    3.00  0.25  \n\n[205289 rows x 21 columns]",
      "text/html": "<div>\n<style scoped>\n    .dataframe tbody tr th:only-of-type {\n        vertical-align: middle;\n    }\n\n    .dataframe tbody tr th {\n        vertical-align: top;\n    }\n\n    .dataframe thead th {\n        text-align: right;\n    }\n</style>\n<table border=\"1\" class=\"dataframe\">\n  <thead>\n    <tr style=\"text-align: right;\">\n      <th></th>\n      <th>case_id</th>\n      <th>case_participant_id</th>\n      <th>charge_id</th>\n      <th>charge_version_id</th>\n      <th>court_facility</th>\n      <th>court_name</th>\n      <th>age_at_incident</th>\n      <th>gender</th>\n      <th>race</th>\n      <th>charge_disposition</th>\n      <th>...</th>\n      <th>current_sentence</th>\n      <th>primary_charge</th>\n      <th>sentence_date</th>\n      <th>offense_category</th>\n      <th>commitment_term</th>\n      <th>commitment_unit</th>\n      <th>sentence_type</th>\n      <th>date_year</th>\n      <th>month</th>\n      <th>year</th>\n    </tr>\n  </thead>\n  <tbody>\n    <tr>\n      <td>0</td>\n      <td>114024398027</td>\n      <td>230101052744</td>\n      <td>807648613316</td>\n      <td>449520166967</td>\n      <td>26TH Street</td>\n      <td>District 1 - Chicago</td>\n      <td>21</td>\n      <td>Male</td>\n      <td>White</td>\n      <td>Plea Of Guilty</td>\n      <td>...</td>\n      <td>True</td>\n      <td>False</td>\n      <td>5/11/2015 12:00:00 AM</td>\n      <td>Homicide</td>\n      <td>8.0</td>\n      <td>Year(s)</td>\n      <td>Incarceration</td>\n      <td>2015</td>\n      <td>96.00</td>\n      <td>8.00</td>\n    </tr>\n    <tr>\n      <td>1</td>\n      <td>123803937179</td>\n      <td>255504441936</td>\n      <td>190690725339</td>\n      <td>122497821309</td>\n      <td>26TH Street</td>\n      <td>District 1 - Chicago</td>\n      <td>27</td>\n      <td>Male</td>\n      <td>Hispanic/Latino</td>\n      <td>Plea Of Guilty</td>\n      <td>...</td>\n      <td>True</td>\n      <td>False</td>\n      <td>11/5/2014 12:00:00 AM</td>\n      <td>Firearms and Explosives</td>\n      <td>2.0</td>\n      <td>Year(s)</td>\n      <td>Probation/Supervision</td>\n      <td>2014</td>\n      <td>24.00</td>\n      <td>2.00</td>\n    </tr>\n    <tr>\n      <td>2</td>\n      <td>127790349873</td>\n      <td>265428457350</td>\n      <td>541647467636</td>\n      <td>271650860226</td>\n      <td>Markham Courthouse</td>\n      <td>District 6 - Markham</td>\n      <td>18</td>\n      <td>Male</td>\n      <td>Black</td>\n      <td>Plea Of Guilty</td>\n      <td>...</td>\n      <td>True</td>\n      <td>False</td>\n      <td>12/9/2013 12:00:00 AM</td>\n      <td>Sex Offenses</td>\n      <td>4.0</td>\n      <td>Year(s)</td>\n      <td>Incarceration</td>\n      <td>2013</td>\n      <td>48.00</td>\n      <td>4.00</td>\n    </tr>\n    <tr>\n      <td>3</td>\n      <td>128491120254</td>\n      <td>266244611418</td>\n      <td>759810529209</td>\n      <td>458530536964</td>\n      <td>26TH Street</td>\n      <td>District 1 - Chicago</td>\n      <td>21</td>\n      <td>Male</td>\n      <td>Black</td>\n      <td>Finding Guilty</td>\n      <td>...</td>\n      <td>True</td>\n      <td>True</td>\n      <td>2/1/2016 12:00:00 AM</td>\n      <td>Homicide</td>\n      <td>9.0</td>\n      <td>Year(s)</td>\n      <td>Incarceration</td>\n      <td>2016</td>\n      <td>108.00</td>\n      <td>9.00</td>\n    </tr>\n    <tr>\n      <td>4</td>\n      <td>129030951431</td>\n      <td>266511120401</td>\n      <td>702938173654</td>\n      <td>382945270335</td>\n      <td>26TH Street</td>\n      <td>District 1 - Chicago</td>\n      <td>35</td>\n      <td>Male</td>\n      <td>Black</td>\n      <td>Plea Of Guilty</td>\n      <td>...</td>\n      <td>True</td>\n      <td>True</td>\n      <td>2/28/2011 12:00:00 AM</td>\n      <td>Judicial Process Violations</td>\n      <td>2.0</td>\n      <td>Year(s)</td>\n      <td>Incarceration</td>\n      <td>2011</td>\n      <td>24.00</td>\n      <td>2.00</td>\n    </tr>\n    <tr>\n      <td>...</td>\n      <td>...</td>\n      <td>...</td>\n      <td>...</td>\n      <td>...</td>\n      <td>...</td>\n      <td>...</td>\n      <td>...</td>\n      <td>...</td>\n      <td>...</td>\n      <td>...</td>\n      <td>...</td>\n      <td>...</td>\n      <td>...</td>\n      <td>...</td>\n      <td>...</td>\n      <td>...</td>\n      <td>...</td>\n      <td>...</td>\n      <td>...</td>\n      <td>...</td>\n      <td>...</td>\n    </tr>\n    <tr>\n      <td>205284</td>\n      <td>256376492742</td>\n      <td>1114936528342</td>\n      <td>922971556855</td>\n      <td>505146600989</td>\n      <td>Rolling Meadows Courthouse</td>\n      <td>District 3 - Rolling Meadows</td>\n      <td>21</td>\n      <td>Male</td>\n      <td>White</td>\n      <td>Plea Of Guilty</td>\n      <td>...</td>\n      <td>True</td>\n      <td>True</td>\n      <td>12/5/2019 12:00:00 AM</td>\n      <td>Narcotics</td>\n      <td>24.0</td>\n      <td>Months</td>\n      <td>Probation/Supervision</td>\n      <td>2019</td>\n      <td>24.00</td>\n      <td>2.00</td>\n    </tr>\n    <tr>\n      <td>205285</td>\n      <td>256381543493</td>\n      <td>1114965982098</td>\n      <td>922961626878</td>\n      <td>505922206274</td>\n      <td>Markham Courthouse</td>\n      <td>District 6 - Markham</td>\n      <td>61</td>\n      <td>Male</td>\n      <td>Black</td>\n      <td>Plea Of Guilty</td>\n      <td>...</td>\n      <td>True</td>\n      <td>True</td>\n      <td>12/20/2019 12:00:00 AM</td>\n      <td>Narcotics</td>\n      <td>2.0</td>\n      <td>Days</td>\n      <td>Incarceration</td>\n      <td>2019</td>\n      <td>0.07</td>\n      <td>0.01</td>\n    </tr>\n    <tr>\n      <td>205286</td>\n      <td>256409108612</td>\n      <td>1115174177395</td>\n      <td>923107618660</td>\n      <td>505224851968</td>\n      <td>Maywood Courthouse</td>\n      <td>District 4 - Maywood</td>\n      <td>38</td>\n      <td>Male</td>\n      <td>White</td>\n      <td>Plea Of Guilty</td>\n      <td>...</td>\n      <td>True</td>\n      <td>True</td>\n      <td>12/27/2019 12:00:00 AM</td>\n      <td>Firearms and Explosives</td>\n      <td>18.0</td>\n      <td>Months</td>\n      <td>Probation/Supervision</td>\n      <td>2019</td>\n      <td>18.00</td>\n      <td>1.50</td>\n    </tr>\n    <tr>\n      <td>205287</td>\n      <td>256441638876</td>\n      <td>1115411588918</td>\n      <td>923226884015</td>\n      <td>506085957954</td>\n      <td>26TH Street</td>\n      <td>District 1 - Chicago</td>\n      <td>26</td>\n      <td>Male</td>\n      <td>Black</td>\n      <td>Plea Of Guilty</td>\n      <td>...</td>\n      <td>True</td>\n      <td>True</td>\n      <td>12/24/2019 12:00:00 AM</td>\n      <td>Narcotics</td>\n      <td>2.0</td>\n      <td>Days</td>\n      <td>Incarceration</td>\n      <td>2019</td>\n      <td>0.07</td>\n      <td>0.01</td>\n    </tr>\n    <tr>\n      <td>205288</td>\n      <td>256462098701</td>\n      <td>1115557788810</td>\n      <td>923354177862</td>\n      <td>505662769759</td>\n      <td>Skokie Courthouse</td>\n      <td>District 2 - Skokie</td>\n      <td>19</td>\n      <td>Female</td>\n      <td>Black</td>\n      <td>Plea Of Guilty</td>\n      <td>...</td>\n      <td>True</td>\n      <td>True</td>\n      <td>12/11/2019 12:00:00 AM</td>\n      <td>Robbery/Burglery/Theft</td>\n      <td>90.0</td>\n      <td>Days</td>\n      <td>Incarceration</td>\n      <td>2019</td>\n      <td>3.00</td>\n      <td>0.25</td>\n    </tr>\n  </tbody>\n</table>\n<p>205289 rows × 21 columns</p>\n</div>"
     },
     "metadata": {},
     "execution_count": 51
    }
   ],
   "source": [
    "data.drop_duplicates(inplace=True)\n",
    "data.reset_index(drop=True,inplace=True)\n",
    "data"
   ]
  },
  {
   "cell_type": "code",
   "execution_count": 52,
   "metadata": {},
   "outputs": [
    {
     "output_type": "execute_result",
     "data": {
      "text/plain": "Incarceration                       117226\nProbation/Supervision                83315\nCook County Boot Camp                 2326\nConditional Discharge                 2215\nInpatient Mental Health Services       151\nDeath                                   56\nName: sentence_type, dtype: int64"
     },
     "metadata": {},
     "execution_count": 52
    }
   ],
   "source": [
    "data.sentence_type.value_counts()"
   ]
  },
  {
   "cell_type": "markdown",
   "metadata": {},
   "source": [
    "## Analize Incarceration data to define unit"
   ]
  },
  {
   "cell_type": "code",
   "execution_count": 53,
   "metadata": {},
   "outputs": [
    {
     "output_type": "execute_result",
     "data": {
      "text/plain": "Year(s)         99686\nMonths          12458\nDays             4708\nNatural Life      281\nDollars            45\nTerm               39\nHours               5\nWeeks               4\nName: commitment_unit, dtype: int64"
     },
     "metadata": {},
     "execution_count": 53
    }
   ],
   "source": [
    "data.loc[data.sentence_type == 'Incarceration'].commitment_unit.value_counts()\n",
    "# Incarceration will be read by Year columns unless we are analyzing penalties in dollars"
   ]
  },
  {
   "cell_type": "markdown",
   "metadata": {},
   "source": [
    "## Analize Probation/Supervision to define unit"
   ]
  },
  {
   "cell_type": "code",
   "execution_count": 54,
   "metadata": {},
   "outputs": [
    {
     "output_type": "execute_result",
     "data": {
      "text/plain": "Year(s)         48834\nMonths          33728\nDays              623\nTerm               86\nNatural Life       12\nWeeks              11\nDollars             9\nHours               9\nWeight              3\nName: commitment_unit, dtype: int64"
     },
     "metadata": {},
     "execution_count": 54
    }
   ],
   "source": [
    "data.loc[data.sentence_type == 'Probation/Supervision'].commitment_unit.value_counts()"
   ]
  },
  {
   "cell_type": "code",
   "execution_count": 55,
   "metadata": {},
   "outputs": [
    {
     "output_type": "execute_result",
     "data": {
      "text/plain": "[0.0,\n 0.01,\n 0.02,\n 0.03,\n 0.04,\n 0.05,\n 0.06,\n 0.07,\n 0.08,\n 0.09,\n 0.1,\n 0.11,\n 0.12,\n 0.13,\n 0.14,\n 0.15,\n 0.16,\n 0.17,\n 0.18,\n 0.19,\n 0.2,\n 0.21,\n 0.22,\n 0.23,\n 0.24,\n 0.25,\n 0.26,\n 0.27,\n 0.28,\n 0.29,\n 0.3,\n 0.31,\n 0.32,\n 0.33,\n 0.34,\n 0.35,\n 0.36,\n 0.38,\n 0.39,\n 0.4,\n 0.41,\n 0.42,\n 0.44,\n 0.45,\n 0.46,\n 0.47,\n 0.48,\n 0.49,\n 0.5,\n 0.51,\n 0.52,\n 0.53,\n 0.56,\n 0.58,\n 0.6,\n 0.61,\n 0.62,\n 0.66,\n 0.67,\n 0.72,\n 0.75,\n 0.78,\n 0.82,\n 0.83,\n 0.84,\n 0.92,\n 0.96,\n 0.98,\n 1.0,\n 1.01,\n 1.04,\n 1.08,\n 1.17,\n 1.22,\n 1.25,\n 1.33,\n 1.42,\n 1.5,\n 1.57,\n 1.58,\n 1.67,\n 1.75,\n 1.83,\n 1.92,\n 2.0,\n 2.08,\n 2.25,\n 2.33,\n 2.42,\n 2.5,\n 2.67,\n 2.75,\n 2.83,\n 3.0,\n 3.25,\n 3.5,\n 4.0,\n 4.5,\n 5.0,\n 5.5,\n 6.0,\n 7.0,\n 8.0,\n 10.0,\n 11.0,\n 12.0,\n 14.0,\n 15.0,\n 18.0,\n 20.0,\n 21.0,\n 21.17,\n 22.0,\n 24.0,\n 25.0,\n 30.0,\n 48.0,\n 130.0]"
     },
     "metadata": {},
     "execution_count": 55
    }
   ],
   "source": [
    "sorted(data.loc[data.sentence_type == 'Probation/Supervision'].year.unique())"
   ]
  },
  {
   "cell_type": "code",
   "execution_count": 56,
   "metadata": {},
   "outputs": [
    {
     "output_type": "execute_result",
     "data": {
      "text/plain": "2.00    58933\n1.50     8266\n2.50     6309\n1.00     5427\n3.00     1514\n        ...  \n0.53        1\n0.66        1\n3.25        1\n0.24        1\n0.82        1\nName: year, Length: 118, dtype: int64"
     },
     "metadata": {},
     "execution_count": 56
    }
   ],
   "source": [
    "data.loc[data.sentence_type == 'Probation/Supervision'].year.value_counts()"
   ]
  },
  {
   "cell_type": "code",
   "execution_count": 57,
   "metadata": {},
   "outputs": [
    {
     "output_type": "execute_result",
     "data": {
      "text/plain": "[0.0,\n 0.03,\n 0.07,\n 0.1,\n 0.13,\n 0.17,\n 0.2,\n 0.23,\n 0.27,\n 0.33,\n 0.4,\n 0.47,\n 0.5,\n 0.53,\n 0.57,\n 0.6,\n 0.63,\n 0.67,\n 0.7,\n 0.73,\n 0.77,\n 0.8,\n 0.83,\n 0.87,\n 0.9,\n 0.93,\n 0.97,\n 1.0,\n 1.03,\n 1.07,\n 1.1,\n 1.17,\n 1.27,\n 1.3,\n 1.33,\n 1.37,\n 1.4,\n 1.43,\n 1.47,\n 1.5,\n 1.53,\n 1.57,\n 1.6,\n 1.63,\n 1.67,\n 1.7,\n 1.77,\n 1.8,\n 1.87,\n 1.97,\n 2.0,\n 2.03,\n 2.07,\n 2.1,\n 2.13,\n 2.17,\n 2.37,\n 2.4,\n 2.43,\n 2.47,\n 2.5,\n 2.53,\n 2.57,\n 2.67,\n 2.7,\n 2.8,\n 2.83,\n 2.9,\n 3.0,\n 3.07,\n 3.1,\n 3.2,\n 3.27,\n 3.3,\n 3.37,\n 3.43,\n 3.47,\n 3.53,\n 3.6,\n 3.67,\n 3.7,\n 3.73,\n 3.77,\n 3.8,\n 3.83,\n 3.9,\n 3.93,\n 3.97,\n 4.0,\n 4.17,\n 4.27,\n 4.37,\n 4.4,\n 4.43,\n 4.5,\n 4.67,\n 4.7,\n 4.73,\n 4.77,\n 4.9,\n 5.03,\n 5.13,\n 5.33,\n 5.43,\n 5.5,\n 5.7,\n 5.73,\n 5.83,\n 5.9,\n 5.93,\n 6.0,\n 6.23,\n 6.37,\n 6.47,\n 6.87,\n 7.0,\n 7.07,\n 7.33,\n 7.4,\n 7.5,\n 7.6,\n 8.0,\n 8.77,\n 9.0,\n 9.1,\n 9.5,\n 10.0,\n 10.17,\n 11.0,\n 11.73,\n 11.87,\n 12.0,\n 12.13,\n 12.17,\n 12.27,\n 13.0,\n 13.5,\n 14.0,\n 14.8,\n 15.0,\n 16.0,\n 17.0,\n 18.0,\n 19.0,\n 19.13,\n 20.0,\n 20.5,\n 21.0,\n 22.0,\n 23.0,\n 24.0,\n 25.0,\n 27.0,\n 28.0,\n 29.0,\n 30.0,\n 32.0,\n 33.0,\n 34.0,\n 36.0,\n 39.0,\n 42.0,\n 48.0,\n 54.0,\n 60.0,\n 66.0,\n 72.0,\n 84.0,\n 96.0,\n 120.0,\n 132.0,\n 144.0,\n 168.0,\n 180.0,\n 216.0,\n 240.0,\n 252.0,\n 254.0,\n 264.0,\n 288.0,\n 300.0,\n 360.0,\n 576.0,\n 1560.0]"
     },
     "metadata": {},
     "execution_count": 57
    }
   ],
   "source": [
    "sorted(data.loc[data.sentence_type == 'Probation/Supervision'].month.unique())"
   ]
  },
  {
   "cell_type": "code",
   "execution_count": 58,
   "metadata": {},
   "outputs": [
    {
     "output_type": "execute_result",
     "data": {
      "text/plain": "24.00    58937\n18.00     8266\n30.00     6305\n12.00     5424\n36.00     1516\n         ...  \n3.70         1\n0.57         1\n3.77         1\n2.13         1\n19.13        1\nName: month, Length: 184, dtype: int64"
     },
     "metadata": {},
     "execution_count": 58
    }
   ],
   "source": [
    "data.loc[data.sentence_type == 'Probation/Supervision'].month.value_counts()\n",
    "# We will analize this info in months"
   ]
  },
  {
   "cell_type": "markdown",
   "metadata": {},
   "source": [
    "## Analize Cook County Boot Camp to define unit"
   ]
  },
  {
   "cell_type": "code",
   "execution_count": 59,
   "metadata": {},
   "outputs": [
    {
     "output_type": "execute_result",
     "data": {
      "text/plain": "Months     2019\nYear(s)     179\nTerm         77\nDays         51\nName: commitment_unit, dtype: int64"
     },
     "metadata": {},
     "execution_count": 59
    }
   ],
   "source": [
    "data.loc[data.sentence_type == 'Cook County Boot Camp'].commitment_unit.value_counts()\n",
    "# This sentence will be analize in months"
   ]
  },
  {
   "cell_type": "markdown",
   "metadata": {},
   "source": [
    "## Analize Conditional Discharge to define unit"
   ]
  },
  {
   "cell_type": "code",
   "execution_count": 60,
   "metadata": {},
   "outputs": [
    {
     "output_type": "execute_result",
     "data": {
      "text/plain": "Months     1133\nYear(s)    1054\nDays         25\nTerm          2\nDollars       1\nName: commitment_unit, dtype: int64"
     },
     "metadata": {},
     "execution_count": 60
    }
   ],
   "source": [
    "data.loc[data.sentence_type == 'Conditional Discharge'].commitment_unit.value_counts()"
   ]
  },
  {
   "cell_type": "code",
   "execution_count": 61,
   "metadata": {},
   "outputs": [
    {
     "output_type": "execute_result",
     "data": {
      "text/plain": "1.00     957\n2.00     603\n1.50     554\n0.50      37\n2.50      17\n0.01       9\n0.00       6\n1.25       5\n1.67       3\n0.33       3\n0.08       3\n0.03       2\n3.00       2\n0.25       2\n12.00      2\n0.75       1\n1.17       1\n0.49       1\n8.00       1\n1.33       1\n0.02       1\n0.36       1\n0.53       1\n0.16       1\n0.43       1\nName: year, dtype: int64"
     },
     "metadata": {},
     "execution_count": 61
    }
   ],
   "source": [
    "data.loc[data.sentence_type == 'Conditional Discharge'].year.value_counts()"
   ]
  },
  {
   "cell_type": "code",
   "execution_count": 62,
   "metadata": {},
   "outputs": [
    {
     "output_type": "execute_result",
     "data": {
      "text/plain": "12.00     956\n24.00     603\n18.00     554\n6.00       38\n30.00      17\n0.00        5\n15.00       5\n0.07        4\n4.00        3\n1.00        3\n0.17        3\n20.00       3\n0.13        2\n144.00      2\n3.00        2\n36.00       2\n96.00       1\n2.00        1\n0.23        1\n14.00       1\n16.00       1\n6.47        1\n0.33        1\n4.43        1\n5.27        1\n0.40        1\n0.03        1\n12.13       1\n9.00        1\nName: month, dtype: int64"
     },
     "metadata": {},
     "execution_count": 62
    }
   ],
   "source": [
    "data.loc[data.sentence_type == 'Conditional Discharge'].month.value_counts()\n",
    "# This information will be view in months"
   ]
  },
  {
   "cell_type": "markdown",
   "metadata": {},
   "source": [
    "## Analize Inpatien Mental Health Services to define unit"
   ]
  },
  {
   "cell_type": "code",
   "execution_count": 63,
   "metadata": {},
   "outputs": [
    {
     "output_type": "execute_result",
     "data": {
      "text/plain": "Year(s)    98\nTerm       35\nMonths     18\nName: commitment_unit, dtype: int64"
     },
     "metadata": {},
     "execution_count": 63
    }
   ],
   "source": [
    "data.loc[data.sentence_type == 'Inpatient Mental Health Services'].commitment_unit.value_counts()\n",
    "# This information will be view in years"
   ]
  },
  {
   "cell_type": "markdown",
   "metadata": {},
   "source": [
    "## Analize Death to confirm unit"
   ]
  },
  {
   "cell_type": "code",
   "execution_count": 64,
   "metadata": {},
   "outputs": [
    {
     "output_type": "execute_result",
     "data": {
      "text/plain": "Year(s)    56\nName: commitment_unit, dtype: int64"
     },
     "metadata": {},
     "execution_count": 64
    }
   ],
   "source": [
    "data.loc[data.sentence_type == 'Death'].commitment_unit.value_counts()"
   ]
  },
  {
   "cell_type": "markdown",
   "metadata": {},
   "source": [
    "## Filter only current sentence"
   ]
  },
  {
   "cell_type": "code",
   "execution_count": 65,
   "metadata": {},
   "outputs": [
    {
     "output_type": "execute_result",
     "data": {
      "text/plain": "             case_id case_participant_id     charge_id charge_version_id  \\\n0       114024398027        230101052744  807648613316      449520166967   \n1       123803937179        255504441936  190690725339      122497821309   \n2       127790349873        265428457350  541647467636      271650860226   \n3       128491120254        266244611418  759810529209      458530536964   \n4       129030951431        266511120401  702938173654      382945270335   \n...              ...                 ...           ...               ...   \n205284  256376492742       1114936528342  922971556855      505146600989   \n205285  256381543493       1114965982098  922961626878      505922206274   \n205286  256409108612       1115174177395  923107618660      505224851968   \n205287  256441638876       1115411588918  923226884015      506085957954   \n205288  256462098701       1115557788810  923354177862      505662769759   \n\n                    court_facility                    court_name  \\\n0                      26TH Street          District 1 - Chicago   \n1                      26TH Street          District 1 - Chicago   \n2               Markham Courthouse          District 6 - Markham   \n3                      26TH Street          District 1 - Chicago   \n4                      26TH Street          District 1 - Chicago   \n...                            ...                           ...   \n205284  Rolling Meadows Courthouse  District 3 - Rolling Meadows   \n205285          Markham Courthouse          District 6 - Markham   \n205286          Maywood Courthouse          District 4 - Maywood   \n205287                 26TH Street          District 1 - Chicago   \n205288           Skokie Courthouse           District 2 - Skokie   \n\n       age_at_incident  gender             race charge_disposition  ...  \\\n0                   21    Male            White     Plea Of Guilty  ...   \n1                   27    Male  Hispanic/Latino     Plea Of Guilty  ...   \n2                   18    Male            Black     Plea Of Guilty  ...   \n3                   21    Male            Black     Finding Guilty  ...   \n4                   35    Male            Black     Plea Of Guilty  ...   \n...                ...     ...              ...                ...  ...   \n205284              21    Male            White     Plea Of Guilty  ...   \n205285              61    Male            Black     Plea Of Guilty  ...   \n205286              38    Male            White     Plea Of Guilty  ...   \n205287              26    Male            Black     Plea Of Guilty  ...   \n205288              19  Female            Black     Plea Of Guilty  ...   \n\n       current_sentence  primary_charge           sentence_date  \\\n0                  True           False   5/11/2015 12:00:00 AM   \n1                  True           False   11/5/2014 12:00:00 AM   \n2                  True           False   12/9/2013 12:00:00 AM   \n3                  True            True    2/1/2016 12:00:00 AM   \n4                  True            True   2/28/2011 12:00:00 AM   \n...                 ...             ...                     ...   \n205284             True            True   12/5/2019 12:00:00 AM   \n205285             True            True  12/20/2019 12:00:00 AM   \n205286             True            True  12/27/2019 12:00:00 AM   \n205287             True            True  12/24/2019 12:00:00 AM   \n205288             True            True  12/11/2019 12:00:00 AM   \n\n                   offense_category commitment_term  commitment_unit  \\\n0                          Homicide             8.0          Year(s)   \n1           Firearms and Explosives             2.0          Year(s)   \n2                      Sex Offenses             4.0          Year(s)   \n3                          Homicide             9.0          Year(s)   \n4       Judicial Process Violations             2.0          Year(s)   \n...                             ...             ...              ...   \n205284                    Narcotics            24.0           Months   \n205285                    Narcotics             2.0             Days   \n205286      Firearms and Explosives            18.0           Months   \n205287                    Narcotics             2.0             Days   \n205288       Robbery/Burglery/Theft            90.0             Days   \n\n                sentence_type date_year   month  year  \n0               Incarceration      2015   96.00  8.00  \n1       Probation/Supervision      2014   24.00  2.00  \n2               Incarceration      2013   48.00  4.00  \n3               Incarceration      2016  108.00  9.00  \n4               Incarceration      2011   24.00  2.00  \n...                       ...       ...     ...   ...  \n205284  Probation/Supervision      2019   24.00  2.00  \n205285          Incarceration      2019    0.07  0.01  \n205286  Probation/Supervision      2019   18.00  1.50  \n205287          Incarceration      2019    0.07  0.01  \n205288          Incarceration      2019    3.00  0.25  \n\n[197265 rows x 21 columns]",
      "text/html": "<div>\n<style scoped>\n    .dataframe tbody tr th:only-of-type {\n        vertical-align: middle;\n    }\n\n    .dataframe tbody tr th {\n        vertical-align: top;\n    }\n\n    .dataframe thead th {\n        text-align: right;\n    }\n</style>\n<table border=\"1\" class=\"dataframe\">\n  <thead>\n    <tr style=\"text-align: right;\">\n      <th></th>\n      <th>case_id</th>\n      <th>case_participant_id</th>\n      <th>charge_id</th>\n      <th>charge_version_id</th>\n      <th>court_facility</th>\n      <th>court_name</th>\n      <th>age_at_incident</th>\n      <th>gender</th>\n      <th>race</th>\n      <th>charge_disposition</th>\n      <th>...</th>\n      <th>current_sentence</th>\n      <th>primary_charge</th>\n      <th>sentence_date</th>\n      <th>offense_category</th>\n      <th>commitment_term</th>\n      <th>commitment_unit</th>\n      <th>sentence_type</th>\n      <th>date_year</th>\n      <th>month</th>\n      <th>year</th>\n    </tr>\n  </thead>\n  <tbody>\n    <tr>\n      <td>0</td>\n      <td>114024398027</td>\n      <td>230101052744</td>\n      <td>807648613316</td>\n      <td>449520166967</td>\n      <td>26TH Street</td>\n      <td>District 1 - Chicago</td>\n      <td>21</td>\n      <td>Male</td>\n      <td>White</td>\n      <td>Plea Of Guilty</td>\n      <td>...</td>\n      <td>True</td>\n      <td>False</td>\n      <td>5/11/2015 12:00:00 AM</td>\n      <td>Homicide</td>\n      <td>8.0</td>\n      <td>Year(s)</td>\n      <td>Incarceration</td>\n      <td>2015</td>\n      <td>96.00</td>\n      <td>8.00</td>\n    </tr>\n    <tr>\n      <td>1</td>\n      <td>123803937179</td>\n      <td>255504441936</td>\n      <td>190690725339</td>\n      <td>122497821309</td>\n      <td>26TH Street</td>\n      <td>District 1 - Chicago</td>\n      <td>27</td>\n      <td>Male</td>\n      <td>Hispanic/Latino</td>\n      <td>Plea Of Guilty</td>\n      <td>...</td>\n      <td>True</td>\n      <td>False</td>\n      <td>11/5/2014 12:00:00 AM</td>\n      <td>Firearms and Explosives</td>\n      <td>2.0</td>\n      <td>Year(s)</td>\n      <td>Probation/Supervision</td>\n      <td>2014</td>\n      <td>24.00</td>\n      <td>2.00</td>\n    </tr>\n    <tr>\n      <td>2</td>\n      <td>127790349873</td>\n      <td>265428457350</td>\n      <td>541647467636</td>\n      <td>271650860226</td>\n      <td>Markham Courthouse</td>\n      <td>District 6 - Markham</td>\n      <td>18</td>\n      <td>Male</td>\n      <td>Black</td>\n      <td>Plea Of Guilty</td>\n      <td>...</td>\n      <td>True</td>\n      <td>False</td>\n      <td>12/9/2013 12:00:00 AM</td>\n      <td>Sex Offenses</td>\n      <td>4.0</td>\n      <td>Year(s)</td>\n      <td>Incarceration</td>\n      <td>2013</td>\n      <td>48.00</td>\n      <td>4.00</td>\n    </tr>\n    <tr>\n      <td>3</td>\n      <td>128491120254</td>\n      <td>266244611418</td>\n      <td>759810529209</td>\n      <td>458530536964</td>\n      <td>26TH Street</td>\n      <td>District 1 - Chicago</td>\n      <td>21</td>\n      <td>Male</td>\n      <td>Black</td>\n      <td>Finding Guilty</td>\n      <td>...</td>\n      <td>True</td>\n      <td>True</td>\n      <td>2/1/2016 12:00:00 AM</td>\n      <td>Homicide</td>\n      <td>9.0</td>\n      <td>Year(s)</td>\n      <td>Incarceration</td>\n      <td>2016</td>\n      <td>108.00</td>\n      <td>9.00</td>\n    </tr>\n    <tr>\n      <td>4</td>\n      <td>129030951431</td>\n      <td>266511120401</td>\n      <td>702938173654</td>\n      <td>382945270335</td>\n      <td>26TH Street</td>\n      <td>District 1 - Chicago</td>\n      <td>35</td>\n      <td>Male</td>\n      <td>Black</td>\n      <td>Plea Of Guilty</td>\n      <td>...</td>\n      <td>True</td>\n      <td>True</td>\n      <td>2/28/2011 12:00:00 AM</td>\n      <td>Judicial Process Violations</td>\n      <td>2.0</td>\n      <td>Year(s)</td>\n      <td>Incarceration</td>\n      <td>2011</td>\n      <td>24.00</td>\n      <td>2.00</td>\n    </tr>\n    <tr>\n      <td>...</td>\n      <td>...</td>\n      <td>...</td>\n      <td>...</td>\n      <td>...</td>\n      <td>...</td>\n      <td>...</td>\n      <td>...</td>\n      <td>...</td>\n      <td>...</td>\n      <td>...</td>\n      <td>...</td>\n      <td>...</td>\n      <td>...</td>\n      <td>...</td>\n      <td>...</td>\n      <td>...</td>\n      <td>...</td>\n      <td>...</td>\n      <td>...</td>\n      <td>...</td>\n      <td>...</td>\n    </tr>\n    <tr>\n      <td>205284</td>\n      <td>256376492742</td>\n      <td>1114936528342</td>\n      <td>922971556855</td>\n      <td>505146600989</td>\n      <td>Rolling Meadows Courthouse</td>\n      <td>District 3 - Rolling Meadows</td>\n      <td>21</td>\n      <td>Male</td>\n      <td>White</td>\n      <td>Plea Of Guilty</td>\n      <td>...</td>\n      <td>True</td>\n      <td>True</td>\n      <td>12/5/2019 12:00:00 AM</td>\n      <td>Narcotics</td>\n      <td>24.0</td>\n      <td>Months</td>\n      <td>Probation/Supervision</td>\n      <td>2019</td>\n      <td>24.00</td>\n      <td>2.00</td>\n    </tr>\n    <tr>\n      <td>205285</td>\n      <td>256381543493</td>\n      <td>1114965982098</td>\n      <td>922961626878</td>\n      <td>505922206274</td>\n      <td>Markham Courthouse</td>\n      <td>District 6 - Markham</td>\n      <td>61</td>\n      <td>Male</td>\n      <td>Black</td>\n      <td>Plea Of Guilty</td>\n      <td>...</td>\n      <td>True</td>\n      <td>True</td>\n      <td>12/20/2019 12:00:00 AM</td>\n      <td>Narcotics</td>\n      <td>2.0</td>\n      <td>Days</td>\n      <td>Incarceration</td>\n      <td>2019</td>\n      <td>0.07</td>\n      <td>0.01</td>\n    </tr>\n    <tr>\n      <td>205286</td>\n      <td>256409108612</td>\n      <td>1115174177395</td>\n      <td>923107618660</td>\n      <td>505224851968</td>\n      <td>Maywood Courthouse</td>\n      <td>District 4 - Maywood</td>\n      <td>38</td>\n      <td>Male</td>\n      <td>White</td>\n      <td>Plea Of Guilty</td>\n      <td>...</td>\n      <td>True</td>\n      <td>True</td>\n      <td>12/27/2019 12:00:00 AM</td>\n      <td>Firearms and Explosives</td>\n      <td>18.0</td>\n      <td>Months</td>\n      <td>Probation/Supervision</td>\n      <td>2019</td>\n      <td>18.00</td>\n      <td>1.50</td>\n    </tr>\n    <tr>\n      <td>205287</td>\n      <td>256441638876</td>\n      <td>1115411588918</td>\n      <td>923226884015</td>\n      <td>506085957954</td>\n      <td>26TH Street</td>\n      <td>District 1 - Chicago</td>\n      <td>26</td>\n      <td>Male</td>\n      <td>Black</td>\n      <td>Plea Of Guilty</td>\n      <td>...</td>\n      <td>True</td>\n      <td>True</td>\n      <td>12/24/2019 12:00:00 AM</td>\n      <td>Narcotics</td>\n      <td>2.0</td>\n      <td>Days</td>\n      <td>Incarceration</td>\n      <td>2019</td>\n      <td>0.07</td>\n      <td>0.01</td>\n    </tr>\n    <tr>\n      <td>205288</td>\n      <td>256462098701</td>\n      <td>1115557788810</td>\n      <td>923354177862</td>\n      <td>505662769759</td>\n      <td>Skokie Courthouse</td>\n      <td>District 2 - Skokie</td>\n      <td>19</td>\n      <td>Female</td>\n      <td>Black</td>\n      <td>Plea Of Guilty</td>\n      <td>...</td>\n      <td>True</td>\n      <td>True</td>\n      <td>12/11/2019 12:00:00 AM</td>\n      <td>Robbery/Burglery/Theft</td>\n      <td>90.0</td>\n      <td>Days</td>\n      <td>Incarceration</td>\n      <td>2019</td>\n      <td>3.00</td>\n      <td>0.25</td>\n    </tr>\n  </tbody>\n</table>\n<p>197265 rows × 21 columns</p>\n</div>"
     },
     "metadata": {},
     "execution_count": 65
    }
   ],
   "source": [
    "data = data.loc[data.current_sentence == True]\n",
    "data"
   ]
  },
  {
   "cell_type": "markdown",
   "metadata": {},
   "source": [
    "# Analize new dataframe to create the database diagram"
   ]
  },
  {
   "cell_type": "code",
   "execution_count": 66,
   "metadata": {},
   "outputs": [
    {
     "output_type": "execute_result",
     "data": {
      "text/plain": "Index(['case_id', 'case_participant_id', 'charge_id', 'charge_version_id',\n       'court_facility', 'court_name', 'age_at_incident', 'gender', 'race',\n       'charge_disposition', 'length_of_case_in_days', 'current_sentence',\n       'primary_charge', 'sentence_date', 'offense_category',\n       'commitment_term', 'commitment_unit', 'sentence_type', 'date_year',\n       'month', 'year'],\n      dtype='object')"
     },
     "metadata": {},
     "execution_count": 66
    }
   ],
   "source": [
    "data.columns"
   ]
  },
  {
   "cell_type": "code",
   "execution_count": 67,
   "metadata": {},
   "outputs": [
    {
     "output_type": "execute_result",
     "data": {
      "text/plain": "176314"
     },
     "metadata": {},
     "execution_count": 67
    }
   ],
   "source": [
    "len(data[['case_participant_id','age_at_incident', 'gender', 'race']].drop_duplicates())"
   ]
  },
  {
   "cell_type": "code",
   "execution_count": 68,
   "metadata": {},
   "outputs": [
    {
     "output_type": "execute_result",
     "data": {
      "text/plain": "176314"
     },
     "metadata": {},
     "execution_count": 68
    }
   ],
   "source": [
    "len(data.case_participant_id.drop_duplicates())"
   ]
  },
  {
   "cell_type": "code",
   "execution_count": 69,
   "metadata": {},
   "outputs": [
    {
     "output_type": "execute_result",
     "data": {
      "text/plain": "191892"
     },
     "metadata": {},
     "execution_count": 69
    }
   ],
   "source": [
    "len(data.charge_version_id.drop_duplicates())"
   ]
  },
  {
   "cell_type": "code",
   "execution_count": 70,
   "metadata": {},
   "outputs": [
    {
     "output_type": "execute_result",
     "data": {
      "text/plain": "191892"
     },
     "metadata": {},
     "execution_count": 70
    }
   ],
   "source": [
    "len(data[['charge_version_id','offense_category']].drop_duplicates())"
   ]
  },
  {
   "cell_type": "code",
   "execution_count": 71,
   "metadata": {},
   "outputs": [
    {
     "output_type": "execute_result",
     "data": {
      "text/plain": "197265"
     },
     "metadata": {},
     "execution_count": 71
    }
   ],
   "source": [
    "len(data[['case_participant_id','charge_id']].drop_duplicates())"
   ]
  },
  {
   "cell_type": "code",
   "execution_count": 77,
   "metadata": {},
   "outputs": [
    {
     "output_type": "execute_result",
     "data": {
      "text/plain": "             case_id case_participant_id             offense_category  \\\n0       114024398027        230101052744                     Homicide   \n1       123803937179        255504441936      Firearms and Explosives   \n2       127790349873        265428457350                 Sex Offenses   \n3       128491120254        266244611418                     Homicide   \n4       129030951431        266511120401  Judicial Process Violations   \n...              ...                 ...                          ...   \n205284  256376492742       1114936528342                    Narcotics   \n205285  256381543493       1114965982098                    Narcotics   \n205286  256409108612       1115174177395      Firearms and Explosives   \n205287  256441638876       1115411588918                    Narcotics   \n205288  256462098701       1115557788810       Robbery/Burglery/Theft   \n\n       charge_disposition     charge_id charge_version_id  \n0          Plea Of Guilty  807648613316      449520166967  \n1          Plea Of Guilty  190690725339      122497821309  \n2          Plea Of Guilty  541647467636      271650860226  \n3          Finding Guilty  759810529209      458530536964  \n4          Plea Of Guilty  702938173654      382945270335  \n...                   ...           ...               ...  \n205284     Plea Of Guilty  922971556855      505146600989  \n205285     Plea Of Guilty  922961626878      505922206274  \n205286     Plea Of Guilty  923107618660      505224851968  \n205287     Plea Of Guilty  923226884015      506085957954  \n205288     Plea Of Guilty  923354177862      505662769759  \n\n[197265 rows x 6 columns]",
      "text/html": "<div>\n<style scoped>\n    .dataframe tbody tr th:only-of-type {\n        vertical-align: middle;\n    }\n\n    .dataframe tbody tr th {\n        vertical-align: top;\n    }\n\n    .dataframe thead th {\n        text-align: right;\n    }\n</style>\n<table border=\"1\" class=\"dataframe\">\n  <thead>\n    <tr style=\"text-align: right;\">\n      <th></th>\n      <th>case_id</th>\n      <th>case_participant_id</th>\n      <th>offense_category</th>\n      <th>charge_disposition</th>\n      <th>charge_id</th>\n      <th>charge_version_id</th>\n    </tr>\n  </thead>\n  <tbody>\n    <tr>\n      <td>0</td>\n      <td>114024398027</td>\n      <td>230101052744</td>\n      <td>Homicide</td>\n      <td>Plea Of Guilty</td>\n      <td>807648613316</td>\n      <td>449520166967</td>\n    </tr>\n    <tr>\n      <td>1</td>\n      <td>123803937179</td>\n      <td>255504441936</td>\n      <td>Firearms and Explosives</td>\n      <td>Plea Of Guilty</td>\n      <td>190690725339</td>\n      <td>122497821309</td>\n    </tr>\n    <tr>\n      <td>2</td>\n      <td>127790349873</td>\n      <td>265428457350</td>\n      <td>Sex Offenses</td>\n      <td>Plea Of Guilty</td>\n      <td>541647467636</td>\n      <td>271650860226</td>\n    </tr>\n    <tr>\n      <td>3</td>\n      <td>128491120254</td>\n      <td>266244611418</td>\n      <td>Homicide</td>\n      <td>Finding Guilty</td>\n      <td>759810529209</td>\n      <td>458530536964</td>\n    </tr>\n    <tr>\n      <td>4</td>\n      <td>129030951431</td>\n      <td>266511120401</td>\n      <td>Judicial Process Violations</td>\n      <td>Plea Of Guilty</td>\n      <td>702938173654</td>\n      <td>382945270335</td>\n    </tr>\n    <tr>\n      <td>...</td>\n      <td>...</td>\n      <td>...</td>\n      <td>...</td>\n      <td>...</td>\n      <td>...</td>\n      <td>...</td>\n    </tr>\n    <tr>\n      <td>205284</td>\n      <td>256376492742</td>\n      <td>1114936528342</td>\n      <td>Narcotics</td>\n      <td>Plea Of Guilty</td>\n      <td>922971556855</td>\n      <td>505146600989</td>\n    </tr>\n    <tr>\n      <td>205285</td>\n      <td>256381543493</td>\n      <td>1114965982098</td>\n      <td>Narcotics</td>\n      <td>Plea Of Guilty</td>\n      <td>922961626878</td>\n      <td>505922206274</td>\n    </tr>\n    <tr>\n      <td>205286</td>\n      <td>256409108612</td>\n      <td>1115174177395</td>\n      <td>Firearms and Explosives</td>\n      <td>Plea Of Guilty</td>\n      <td>923107618660</td>\n      <td>505224851968</td>\n    </tr>\n    <tr>\n      <td>205287</td>\n      <td>256441638876</td>\n      <td>1115411588918</td>\n      <td>Narcotics</td>\n      <td>Plea Of Guilty</td>\n      <td>923226884015</td>\n      <td>506085957954</td>\n    </tr>\n    <tr>\n      <td>205288</td>\n      <td>256462098701</td>\n      <td>1115557788810</td>\n      <td>Robbery/Burglery/Theft</td>\n      <td>Plea Of Guilty</td>\n      <td>923354177862</td>\n      <td>505662769759</td>\n    </tr>\n  </tbody>\n</table>\n<p>197265 rows × 6 columns</p>\n</div>"
     },
     "metadata": {},
     "execution_count": 77
    }
   ],
   "source": [
    "data[['case_id','case_participant_id','offense_category','charge_disposition','charge_id','charge_version_id']].drop_duplicates()"
   ]
  },
  {
   "cell_type": "code",
   "execution_count": 78,
   "metadata": {},
   "outputs": [
    {
     "output_type": "execute_result",
     "data": {
      "text/plain": "             case_id case_participant_id             offense_category  \\\n0       114024398027        230101052744                     Homicide   \n1       123803937179        255504441936      Firearms and Explosives   \n2       127790349873        265428457350                 Sex Offenses   \n3       128491120254        266244611418                     Homicide   \n4       129030951431        266511120401  Judicial Process Violations   \n...              ...                 ...                          ...   \n205284  256376492742       1114936528342                    Narcotics   \n205285  256381543493       1114965982098                    Narcotics   \n205286  256409108612       1115174177395      Firearms and Explosives   \n205287  256441638876       1115411588918                    Narcotics   \n205288  256462098701       1115557788810       Robbery/Burglery/Theft   \n\n       charge_disposition  \n0          Plea Of Guilty  \n1          Plea Of Guilty  \n2          Plea Of Guilty  \n3          Finding Guilty  \n4          Plea Of Guilty  \n...                   ...  \n205284     Plea Of Guilty  \n205285     Plea Of Guilty  \n205286     Plea Of Guilty  \n205287     Plea Of Guilty  \n205288     Plea Of Guilty  \n\n[176502 rows x 4 columns]",
      "text/html": "<div>\n<style scoped>\n    .dataframe tbody tr th:only-of-type {\n        vertical-align: middle;\n    }\n\n    .dataframe tbody tr th {\n        vertical-align: top;\n    }\n\n    .dataframe thead th {\n        text-align: right;\n    }\n</style>\n<table border=\"1\" class=\"dataframe\">\n  <thead>\n    <tr style=\"text-align: right;\">\n      <th></th>\n      <th>case_id</th>\n      <th>case_participant_id</th>\n      <th>offense_category</th>\n      <th>charge_disposition</th>\n    </tr>\n  </thead>\n  <tbody>\n    <tr>\n      <td>0</td>\n      <td>114024398027</td>\n      <td>230101052744</td>\n      <td>Homicide</td>\n      <td>Plea Of Guilty</td>\n    </tr>\n    <tr>\n      <td>1</td>\n      <td>123803937179</td>\n      <td>255504441936</td>\n      <td>Firearms and Explosives</td>\n      <td>Plea Of Guilty</td>\n    </tr>\n    <tr>\n      <td>2</td>\n      <td>127790349873</td>\n      <td>265428457350</td>\n      <td>Sex Offenses</td>\n      <td>Plea Of Guilty</td>\n    </tr>\n    <tr>\n      <td>3</td>\n      <td>128491120254</td>\n      <td>266244611418</td>\n      <td>Homicide</td>\n      <td>Finding Guilty</td>\n    </tr>\n    <tr>\n      <td>4</td>\n      <td>129030951431</td>\n      <td>266511120401</td>\n      <td>Judicial Process Violations</td>\n      <td>Plea Of Guilty</td>\n    </tr>\n    <tr>\n      <td>...</td>\n      <td>...</td>\n      <td>...</td>\n      <td>...</td>\n      <td>...</td>\n    </tr>\n    <tr>\n      <td>205284</td>\n      <td>256376492742</td>\n      <td>1114936528342</td>\n      <td>Narcotics</td>\n      <td>Plea Of Guilty</td>\n    </tr>\n    <tr>\n      <td>205285</td>\n      <td>256381543493</td>\n      <td>1114965982098</td>\n      <td>Narcotics</td>\n      <td>Plea Of Guilty</td>\n    </tr>\n    <tr>\n      <td>205286</td>\n      <td>256409108612</td>\n      <td>1115174177395</td>\n      <td>Firearms and Explosives</td>\n      <td>Plea Of Guilty</td>\n    </tr>\n    <tr>\n      <td>205287</td>\n      <td>256441638876</td>\n      <td>1115411588918</td>\n      <td>Narcotics</td>\n      <td>Plea Of Guilty</td>\n    </tr>\n    <tr>\n      <td>205288</td>\n      <td>256462098701</td>\n      <td>1115557788810</td>\n      <td>Robbery/Burglery/Theft</td>\n      <td>Plea Of Guilty</td>\n    </tr>\n  </tbody>\n</table>\n<p>176502 rows × 4 columns</p>\n</div>"
     },
     "metadata": {},
     "execution_count": 78
    }
   ],
   "source": [
    "data[['case_id','case_participant_id','offense_category','charge_disposition']].drop_duplicates()"
   ]
  },
  {
   "cell_type": "markdown",
   "metadata": {},
   "source": [
    "![DBD-from-quickDBD.png](DBD-from-quickDBD.png)"
   ]
  },
  {
   "cell_type": "markdown",
   "metadata": {},
   "source": [
    "# Create tables"
   ]
  },
  {
   "cell_type": "code",
   "execution_count": 80,
   "metadata": {},
   "outputs": [
    {
     "output_type": "execute_result",
     "data": {
      "text/plain": "       case_participant_id age_at_incident  gender             race\n0             230101052744              21    Male            White\n1             255504441936              27    Male  Hispanic/Latino\n2             265428457350              18    Male            Black\n3             266244611418              21    Male            Black\n4             266511120401              35    Male            Black\n...                    ...             ...     ...              ...\n205284       1114936528342              21    Male            White\n205285       1114965982098              61    Male            Black\n205286       1115174177395              38    Male            White\n205287       1115411588918              26    Male            Black\n205288       1115557788810              19  Female            Black\n\n[176314 rows x 4 columns]",
      "text/html": "<div>\n<style scoped>\n    .dataframe tbody tr th:only-of-type {\n        vertical-align: middle;\n    }\n\n    .dataframe tbody tr th {\n        vertical-align: top;\n    }\n\n    .dataframe thead th {\n        text-align: right;\n    }\n</style>\n<table border=\"1\" class=\"dataframe\">\n  <thead>\n    <tr style=\"text-align: right;\">\n      <th></th>\n      <th>case_participant_id</th>\n      <th>age_at_incident</th>\n      <th>gender</th>\n      <th>race</th>\n    </tr>\n  </thead>\n  <tbody>\n    <tr>\n      <td>0</td>\n      <td>230101052744</td>\n      <td>21</td>\n      <td>Male</td>\n      <td>White</td>\n    </tr>\n    <tr>\n      <td>1</td>\n      <td>255504441936</td>\n      <td>27</td>\n      <td>Male</td>\n      <td>Hispanic/Latino</td>\n    </tr>\n    <tr>\n      <td>2</td>\n      <td>265428457350</td>\n      <td>18</td>\n      <td>Male</td>\n      <td>Black</td>\n    </tr>\n    <tr>\n      <td>3</td>\n      <td>266244611418</td>\n      <td>21</td>\n      <td>Male</td>\n      <td>Black</td>\n    </tr>\n    <tr>\n      <td>4</td>\n      <td>266511120401</td>\n      <td>35</td>\n      <td>Male</td>\n      <td>Black</td>\n    </tr>\n    <tr>\n      <td>...</td>\n      <td>...</td>\n      <td>...</td>\n      <td>...</td>\n      <td>...</td>\n    </tr>\n    <tr>\n      <td>205284</td>\n      <td>1114936528342</td>\n      <td>21</td>\n      <td>Male</td>\n      <td>White</td>\n    </tr>\n    <tr>\n      <td>205285</td>\n      <td>1114965982098</td>\n      <td>61</td>\n      <td>Male</td>\n      <td>Black</td>\n    </tr>\n    <tr>\n      <td>205286</td>\n      <td>1115174177395</td>\n      <td>38</td>\n      <td>Male</td>\n      <td>White</td>\n    </tr>\n    <tr>\n      <td>205287</td>\n      <td>1115411588918</td>\n      <td>26</td>\n      <td>Male</td>\n      <td>Black</td>\n    </tr>\n    <tr>\n      <td>205288</td>\n      <td>1115557788810</td>\n      <td>19</td>\n      <td>Female</td>\n      <td>Black</td>\n    </tr>\n  </tbody>\n</table>\n<p>176314 rows × 4 columns</p>\n</div>"
     },
     "metadata": {},
     "execution_count": 80
    }
   ],
   "source": [
    "participants = data[['case_participant_id','age_at_incident','gender','race']].drop_duplicates()\n",
    "participants"
   ]
  },
  {
   "cell_type": "code",
   "execution_count": 84,
   "metadata": {},
   "outputs": [
    {
     "output_type": "execute_result",
     "data": {
      "text/plain": "                    court_facility                    court_name\n0                      26TH Street          District 1 - Chicago\n1               Markham Courthouse          District 6 - Markham\n2                Skokie Courthouse           District 2 - Skokie\n3            Bridgeview Courthouse       District 5 - Bridgeview\n4               Maywood Courthouse          District 4 - Maywood\n5       Rolling Meadows Courthouse  District 3 - Rolling Meadows\n6       Harrison & Kedzie (Area 4)          District 1 - Chicago\n7                    DV Courthouse          District 1 - Chicago\n8        51st & Wentworth (Area 1)          District 1 - Chicago\n9       Belmont & Western (Area 3)          District 1 - Chicago\n10    727 E. 111th Street (Area 2)          District 1 - Chicago\n11        Grand & Central (Area 5)          District 1 - Chicago\n12  DNU_3605 W. Fillmore St (RJCC)          District 1 - Chicago",
      "text/html": "<div>\n<style scoped>\n    .dataframe tbody tr th:only-of-type {\n        vertical-align: middle;\n    }\n\n    .dataframe tbody tr th {\n        vertical-align: top;\n    }\n\n    .dataframe thead th {\n        text-align: right;\n    }\n</style>\n<table border=\"1\" class=\"dataframe\">\n  <thead>\n    <tr style=\"text-align: right;\">\n      <th></th>\n      <th>court_facility</th>\n      <th>court_name</th>\n    </tr>\n  </thead>\n  <tbody>\n    <tr>\n      <td>0</td>\n      <td>26TH Street</td>\n      <td>District 1 - Chicago</td>\n    </tr>\n    <tr>\n      <td>1</td>\n      <td>Markham Courthouse</td>\n      <td>District 6 - Markham</td>\n    </tr>\n    <tr>\n      <td>2</td>\n      <td>Skokie Courthouse</td>\n      <td>District 2 - Skokie</td>\n    </tr>\n    <tr>\n      <td>3</td>\n      <td>Bridgeview Courthouse</td>\n      <td>District 5 - Bridgeview</td>\n    </tr>\n    <tr>\n      <td>4</td>\n      <td>Maywood Courthouse</td>\n      <td>District 4 - Maywood</td>\n    </tr>\n    <tr>\n      <td>5</td>\n      <td>Rolling Meadows Courthouse</td>\n      <td>District 3 - Rolling Meadows</td>\n    </tr>\n    <tr>\n      <td>6</td>\n      <td>Harrison &amp; Kedzie (Area 4)</td>\n      <td>District 1 - Chicago</td>\n    </tr>\n    <tr>\n      <td>7</td>\n      <td>DV Courthouse</td>\n      <td>District 1 - Chicago</td>\n    </tr>\n    <tr>\n      <td>8</td>\n      <td>51st &amp; Wentworth (Area 1)</td>\n      <td>District 1 - Chicago</td>\n    </tr>\n    <tr>\n      <td>9</td>\n      <td>Belmont &amp; Western (Area 3)</td>\n      <td>District 1 - Chicago</td>\n    </tr>\n    <tr>\n      <td>10</td>\n      <td>727 E. 111th Street (Area 2)</td>\n      <td>District 1 - Chicago</td>\n    </tr>\n    <tr>\n      <td>11</td>\n      <td>Grand &amp; Central (Area 5)</td>\n      <td>District 1 - Chicago</td>\n    </tr>\n    <tr>\n      <td>12</td>\n      <td>DNU_3605 W. Fillmore St (RJCC)</td>\n      <td>District 1 - Chicago</td>\n    </tr>\n  </tbody>\n</table>\n</div>"
     },
     "metadata": {},
     "execution_count": 84
    }
   ],
   "source": [
    "courts = data[['court_facility', 'court_name']].drop_duplicates().reset_index(drop=True)\n",
    "courts"
   ]
  },
  {
   "cell_type": "code",
   "execution_count": 89,
   "metadata": {},
   "outputs": [
    {
     "output_type": "execute_result",
     "data": {
      "text/plain": "   court_id                  court_facility                    court_name\n0      1-26                     26TH Street          District 1 - Chicago\n1         6              Markham Courthouse          District 6 - Markham\n2         2               Skokie Courthouse           District 2 - Skokie\n3         5           Bridgeview Courthouse       District 5 - Bridgeview\n4         4              Maywood Courthouse          District 4 - Maywood\n5         3      Rolling Meadows Courthouse  District 3 - Rolling Meadows\n6       1-4      Harrison & Kedzie (Area 4)          District 1 - Chicago\n7      1-DV                   DV Courthouse          District 1 - Chicago\n8       1-1       51st & Wentworth (Area 1)          District 1 - Chicago\n9       1-3      Belmont & Western (Area 3)          District 1 - Chicago\n10      1-2    727 E. 111th Street (Area 2)          District 1 - Chicago\n11      1-5        Grand & Central (Area 5)          District 1 - Chicago\n12   1-RJCC  DNU_3605 W. Fillmore St (RJCC)          District 1 - Chicago",
      "text/html": "<div>\n<style scoped>\n    .dataframe tbody tr th:only-of-type {\n        vertical-align: middle;\n    }\n\n    .dataframe tbody tr th {\n        vertical-align: top;\n    }\n\n    .dataframe thead th {\n        text-align: right;\n    }\n</style>\n<table border=\"1\" class=\"dataframe\">\n  <thead>\n    <tr style=\"text-align: right;\">\n      <th></th>\n      <th>court_id</th>\n      <th>court_facility</th>\n      <th>court_name</th>\n    </tr>\n  </thead>\n  <tbody>\n    <tr>\n      <td>0</td>\n      <td>1-26</td>\n      <td>26TH Street</td>\n      <td>District 1 - Chicago</td>\n    </tr>\n    <tr>\n      <td>1</td>\n      <td>6</td>\n      <td>Markham Courthouse</td>\n      <td>District 6 - Markham</td>\n    </tr>\n    <tr>\n      <td>2</td>\n      <td>2</td>\n      <td>Skokie Courthouse</td>\n      <td>District 2 - Skokie</td>\n    </tr>\n    <tr>\n      <td>3</td>\n      <td>5</td>\n      <td>Bridgeview Courthouse</td>\n      <td>District 5 - Bridgeview</td>\n    </tr>\n    <tr>\n      <td>4</td>\n      <td>4</td>\n      <td>Maywood Courthouse</td>\n      <td>District 4 - Maywood</td>\n    </tr>\n    <tr>\n      <td>5</td>\n      <td>3</td>\n      <td>Rolling Meadows Courthouse</td>\n      <td>District 3 - Rolling Meadows</td>\n    </tr>\n    <tr>\n      <td>6</td>\n      <td>1-4</td>\n      <td>Harrison &amp; Kedzie (Area 4)</td>\n      <td>District 1 - Chicago</td>\n    </tr>\n    <tr>\n      <td>7</td>\n      <td>1-DV</td>\n      <td>DV Courthouse</td>\n      <td>District 1 - Chicago</td>\n    </tr>\n    <tr>\n      <td>8</td>\n      <td>1-1</td>\n      <td>51st &amp; Wentworth (Area 1)</td>\n      <td>District 1 - Chicago</td>\n    </tr>\n    <tr>\n      <td>9</td>\n      <td>1-3</td>\n      <td>Belmont &amp; Western (Area 3)</td>\n      <td>District 1 - Chicago</td>\n    </tr>\n    <tr>\n      <td>10</td>\n      <td>1-2</td>\n      <td>727 E. 111th Street (Area 2)</td>\n      <td>District 1 - Chicago</td>\n    </tr>\n    <tr>\n      <td>11</td>\n      <td>1-5</td>\n      <td>Grand &amp; Central (Area 5)</td>\n      <td>District 1 - Chicago</td>\n    </tr>\n    <tr>\n      <td>12</td>\n      <td>1-RJCC</td>\n      <td>DNU_3605 W. Fillmore St (RJCC)</td>\n      <td>District 1 - Chicago</td>\n    </tr>\n  </tbody>\n</table>\n</div>"
     },
     "metadata": {},
     "execution_count": 89
    }
   ],
   "source": [
    "courts['court_id']=['1-26','6','2','5','4','3','1-4','1-DV','1-1','1-3','1-2','1-5','1-RJCC']\n",
    "courts = courts[['court_id', 'court_facility', 'court_name']]\n",
    "courts"
   ]
  },
  {
   "cell_type": "code",
   "execution_count": 96,
   "metadata": {},
   "outputs": [
    {
     "output_type": "execute_result",
     "data": {
      "text/plain": "             case_id              court_facility  \\\n0       114024398027                 26TH Street   \n1       123803937179                 26TH Street   \n2       127790349873          Markham Courthouse   \n3       128491120254                 26TH Street   \n4       129030951431                 26TH Street   \n...              ...                         ...   \n205284  256376492742  Rolling Meadows Courthouse   \n205285  256381543493          Markham Courthouse   \n205286  256409108612          Maywood Courthouse   \n205287  256441638876                 26TH Street   \n205288  256462098701           Skokie Courthouse   \n\n                          court_name case_participant_id  \\\n0               District 1 - Chicago        230101052744   \n1               District 1 - Chicago        255504441936   \n2               District 6 - Markham        265428457350   \n3               District 1 - Chicago        266244611418   \n4               District 1 - Chicago        266511120401   \n...                              ...                 ...   \n205284  District 3 - Rolling Meadows       1114936528342   \n205285          District 6 - Markham       1114965982098   \n205286          District 4 - Maywood       1115174177395   \n205287          District 1 - Chicago       1115411588918   \n205288           District 2 - Skokie       1115557788810   \n\n       length_of_case_in_days  \n0                         187  \n1                        2624  \n2                         795  \n3                        1201  \n4                         271  \n...                       ...  \n205284                      1  \n205285                      0  \n205286                      1  \n205287                      0  \n205288                      0  \n\n[176453 rows x 5 columns]",
      "text/html": "<div>\n<style scoped>\n    .dataframe tbody tr th:only-of-type {\n        vertical-align: middle;\n    }\n\n    .dataframe tbody tr th {\n        vertical-align: top;\n    }\n\n    .dataframe thead th {\n        text-align: right;\n    }\n</style>\n<table border=\"1\" class=\"dataframe\">\n  <thead>\n    <tr style=\"text-align: right;\">\n      <th></th>\n      <th>case_id</th>\n      <th>court_facility</th>\n      <th>court_name</th>\n      <th>case_participant_id</th>\n      <th>length_of_case_in_days</th>\n    </tr>\n  </thead>\n  <tbody>\n    <tr>\n      <td>0</td>\n      <td>114024398027</td>\n      <td>26TH Street</td>\n      <td>District 1 - Chicago</td>\n      <td>230101052744</td>\n      <td>187</td>\n    </tr>\n    <tr>\n      <td>1</td>\n      <td>123803937179</td>\n      <td>26TH Street</td>\n      <td>District 1 - Chicago</td>\n      <td>255504441936</td>\n      <td>2624</td>\n    </tr>\n    <tr>\n      <td>2</td>\n      <td>127790349873</td>\n      <td>Markham Courthouse</td>\n      <td>District 6 - Markham</td>\n      <td>265428457350</td>\n      <td>795</td>\n    </tr>\n    <tr>\n      <td>3</td>\n      <td>128491120254</td>\n      <td>26TH Street</td>\n      <td>District 1 - Chicago</td>\n      <td>266244611418</td>\n      <td>1201</td>\n    </tr>\n    <tr>\n      <td>4</td>\n      <td>129030951431</td>\n      <td>26TH Street</td>\n      <td>District 1 - Chicago</td>\n      <td>266511120401</td>\n      <td>271</td>\n    </tr>\n    <tr>\n      <td>...</td>\n      <td>...</td>\n      <td>...</td>\n      <td>...</td>\n      <td>...</td>\n      <td>...</td>\n    </tr>\n    <tr>\n      <td>205284</td>\n      <td>256376492742</td>\n      <td>Rolling Meadows Courthouse</td>\n      <td>District 3 - Rolling Meadows</td>\n      <td>1114936528342</td>\n      <td>1</td>\n    </tr>\n    <tr>\n      <td>205285</td>\n      <td>256381543493</td>\n      <td>Markham Courthouse</td>\n      <td>District 6 - Markham</td>\n      <td>1114965982098</td>\n      <td>0</td>\n    </tr>\n    <tr>\n      <td>205286</td>\n      <td>256409108612</td>\n      <td>Maywood Courthouse</td>\n      <td>District 4 - Maywood</td>\n      <td>1115174177395</td>\n      <td>1</td>\n    </tr>\n    <tr>\n      <td>205287</td>\n      <td>256441638876</td>\n      <td>26TH Street</td>\n      <td>District 1 - Chicago</td>\n      <td>1115411588918</td>\n      <td>0</td>\n    </tr>\n    <tr>\n      <td>205288</td>\n      <td>256462098701</td>\n      <td>Skokie Courthouse</td>\n      <td>District 2 - Skokie</td>\n      <td>1115557788810</td>\n      <td>0</td>\n    </tr>\n  </tbody>\n</table>\n<p>176453 rows × 5 columns</p>\n</div>"
     },
     "metadata": {},
     "execution_count": 96
    }
   ],
   "source": [
    "cases = data[['case_id','court_facility', 'court_name','case_participant_id','length_of_case_in_days']].drop_duplicates()\n",
    "cases"
   ]
  },
  {
   "cell_type": "code",
   "execution_count": 97,
   "metadata": {},
   "outputs": [
    {
     "output_type": "execute_result",
     "data": {
      "text/plain": "             case_id court_id case_participant_id length_of_case_in_days\n0       114024398027     1-26        230101052744                    187\n1       123803937179     1-26        255504441936                   2624\n2       128491120254     1-26        266244611418                   1201\n3       129030951431     1-26        266511120401                    271\n4       133675331526     1-26        273039402824                    560\n...              ...      ...                 ...                    ...\n176448  240412094261      1-5       1006167846720                    259\n176449  240412351079      1-5       1006169153136                    259\n176450  243881618175      1-5       1029795221953                     19\n176451  243881618175      1-5       1029795459483                     19\n176452  248979538640   1-RJCC       1065232840612                    142\n\n[176453 rows x 4 columns]",
      "text/html": "<div>\n<style scoped>\n    .dataframe tbody tr th:only-of-type {\n        vertical-align: middle;\n    }\n\n    .dataframe tbody tr th {\n        vertical-align: top;\n    }\n\n    .dataframe thead th {\n        text-align: right;\n    }\n</style>\n<table border=\"1\" class=\"dataframe\">\n  <thead>\n    <tr style=\"text-align: right;\">\n      <th></th>\n      <th>case_id</th>\n      <th>court_id</th>\n      <th>case_participant_id</th>\n      <th>length_of_case_in_days</th>\n    </tr>\n  </thead>\n  <tbody>\n    <tr>\n      <td>0</td>\n      <td>114024398027</td>\n      <td>1-26</td>\n      <td>230101052744</td>\n      <td>187</td>\n    </tr>\n    <tr>\n      <td>1</td>\n      <td>123803937179</td>\n      <td>1-26</td>\n      <td>255504441936</td>\n      <td>2624</td>\n    </tr>\n    <tr>\n      <td>2</td>\n      <td>128491120254</td>\n      <td>1-26</td>\n      <td>266244611418</td>\n      <td>1201</td>\n    </tr>\n    <tr>\n      <td>3</td>\n      <td>129030951431</td>\n      <td>1-26</td>\n      <td>266511120401</td>\n      <td>271</td>\n    </tr>\n    <tr>\n      <td>4</td>\n      <td>133675331526</td>\n      <td>1-26</td>\n      <td>273039402824</td>\n      <td>560</td>\n    </tr>\n    <tr>\n      <td>...</td>\n      <td>...</td>\n      <td>...</td>\n      <td>...</td>\n      <td>...</td>\n    </tr>\n    <tr>\n      <td>176448</td>\n      <td>240412094261</td>\n      <td>1-5</td>\n      <td>1006167846720</td>\n      <td>259</td>\n    </tr>\n    <tr>\n      <td>176449</td>\n      <td>240412351079</td>\n      <td>1-5</td>\n      <td>1006169153136</td>\n      <td>259</td>\n    </tr>\n    <tr>\n      <td>176450</td>\n      <td>243881618175</td>\n      <td>1-5</td>\n      <td>1029795221953</td>\n      <td>19</td>\n    </tr>\n    <tr>\n      <td>176451</td>\n      <td>243881618175</td>\n      <td>1-5</td>\n      <td>1029795459483</td>\n      <td>19</td>\n    </tr>\n    <tr>\n      <td>176452</td>\n      <td>248979538640</td>\n      <td>1-RJCC</td>\n      <td>1065232840612</td>\n      <td>142</td>\n    </tr>\n  </tbody>\n</table>\n<p>176453 rows × 4 columns</p>\n</div>"
     },
     "metadata": {},
     "execution_count": 97
    }
   ],
   "source": [
    "cases = cases.merge(courts,on='court_facility')\n",
    "cases = cases[['case_id','court_id','case_participant_id','length_of_case_in_days']]\n",
    "cases"
   ]
  },
  {
   "cell_type": "code",
   "execution_count": null,
   "metadata": {},
   "outputs": [],
   "source": [
    "offense = data[['case_participant_id','case_id','offense_category','charge_disposition','primary_charge']]"
   ]
  },
  {
   "cell_type": "code",
   "execution_count": null,
   "metadata": {},
   "outputs": [],
   "source": [
    "offenses\n",
    "-\n",
    "offense_id integer pk\n",
    "case_participant_id integer fk >- participants.case_participant_id\n",
    "case_id integer fk >- cases.case_id\n",
    "offense_category varchar\n",
    "charge_disposition varchar\n",
    "primary_charge boolean\n",
    "charge_id list\n",
    "charge_version_id list"
   ]
  },
  {
   "cell_type": "code",
   "execution_count": 72,
   "metadata": {},
   "outputs": [
    {
     "output_type": "execute_result",
     "data": {
      "text/plain": "('case_participant_id',\n 'charge_id',\n 'charge_version_id',\n 'court_facility',\n 'court_name',\n 'age_at_incident',\n 'gender',\n 'race',\n 'charge_disposition',\n 'length_of_case_in_days',\n 'current_sentence',\n 'primary_charge',\n 'sentence_date',\n 'offense_category',\n 'commitment_term',\n 'commitment_unit',\n 'sentence_type',\n 'date_year',\n 'month',\n 'year')"
     },
     "metadata": {},
     "execution_count": 72
    }
   ],
   "source": [
    "'case_participant_id', 'charge_id', 'charge_version_id','court_facility', 'court_name', 'age_at_incident', 'gender', 'race','charge_disposition', 'length_of_case_in_days', 'current_sentence','primary_charge', 'sentence_date', 'offense_category','commitment_term','commitment_unit', 'sentence_type', 'date_year','month', 'year'"
   ]
  }
 ],
 "metadata": {
  "language_info": {
   "codemirror_mode": {
    "name": "ipython",
    "version": 3
   },
   "file_extension": ".py",
   "mimetype": "text/x-python",
   "name": "python",
   "nbconvert_exporter": "python",
   "pygments_lexer": "ipython3",
   "version": "3.7.4-final"
  },
  "orig_nbformat": 2,
  "kernelspec": {
   "name": "python37464bitbaseconda1f272b08825b44268b0b382f97a12fd9",
   "display_name": "Python 3.7.4 64-bit ('base': conda)"
  }
 },
 "nbformat": 4,
 "nbformat_minor": 2
}