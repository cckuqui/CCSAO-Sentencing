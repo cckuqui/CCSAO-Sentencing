{
 "cells": [
  {
   "cell_type": "code",
   "execution_count": 1,
   "metadata": {},
   "outputs": [],
   "source": [
    "import pandas as pd\n",
    "from sodapy import Socrata\n",
    "import numpy as np"
   ]
  },
  {
   "cell_type": "markdown",
   "metadata": {},
   "source": [
    "# Get information from Cook County Sentencing Data Database"
   ]
  },
  {
   "cell_type": "code",
   "execution_count": 2,
   "metadata": {},
   "outputs": [
    {
     "output_type": "stream",
     "name": "stderr",
     "text": "WARNING:root:Requests made without an app_token will be subject to strict throttling limits.\n"
    }
   ],
   "source": [
    "# Call API\n",
    "client = Socrata(\"datacatalog.cookcountyil.gov\", None)"
   ]
  },
  {
   "cell_type": "code",
   "execution_count": 3,
   "metadata": {},
   "outputs": [],
   "source": [
    "# Retrive Data\n",
    "results = client.get(\"tg8v-tm6u\", limit=300000)"
   ]
  },
  {
   "cell_type": "code",
   "execution_count": 4,
   "metadata": {},
   "outputs": [
    {
     "output_type": "execute_result",
     "data": {
      "text/plain": "['case_id',\n 'case_participant_id',\n 'offense_category',\n 'primary_charge',\n 'charge_id',\n 'charge_version_id',\n 'disposition_charged_offense_title',\n 'disposition_charged_chapter',\n 'disposition_charged_act',\n 'disposition_charged_section',\n 'disposition_charged_class',\n 'disposition_charged_aoic',\n 'disposition_date',\n 'charge_disposition',\n 'sentence_phase',\n 'sentence_date',\n 'sentence_judge',\n 'sentence_type',\n 'current_sentence',\n 'commitment_type',\n 'court_name',\n 'court_facility',\n 'length_of_case_in_days',\n 'age_at_incident',\n 'gender',\n 'race',\n 'incident_begin_date',\n 'arrest_date',\n 'law_enforcement_agency',\n 'received_date',\n 'arraignment_date',\n 'updated_offense_category',\n 'charge_count',\n 'commitment_term',\n 'commitment_unit',\n 'incident_end_date',\n 'charge_disposition_reason',\n 'incident_city',\n 'unit']"
     },
     "metadata": {},
     "execution_count": 4
    }
   ],
   "source": [
    "# Generate DataFrame\n",
    "original_data = pd.DataFrame.from_records(results)\n",
    "\n",
    "# Explore data\n",
    "list(original_data.columns.values)"
   ]
  },
  {
   "cell_type": "markdown",
   "metadata": {},
   "source": [
    "# Cleaning Process"
   ]
  },
  {
   "cell_type": "markdown",
   "metadata": {},
   "source": [
    "## Select only chosen columns"
   ]
  },
  {
   "cell_type": "code",
   "execution_count": 87,
   "metadata": {},
   "outputs": [
    {
     "output_type": "execute_result",
     "data": {
      "text/plain": "       case_id case_participant_id     charge_id charge_version_id  \\\n0  44670309710        218297158761  297139645442       83571817251   \n1  44670309710        218297158761  297176911341       94830742153   \n2  44670309710        218297158761  297177207102       94826043158   \n3  44670309710        218297158761  297178094385       70461958445   \n4  44670309710        218297158761  297178094385       70461958445   \n\n       court_facility            court_name age_at_incident gender   race  \\\n0  Markham Courthouse  District 6 - Markham              27   Male  Black   \n1  Markham Courthouse  District 6 - Markham              27   Male  Black   \n2  Markham Courthouse  District 6 - Markham              27   Male  Black   \n3  Markham Courthouse  District 6 - Markham              27   Male  Black   \n4  Markham Courthouse  District 6 - Markham              27   Male  Black   \n\n  charge_disposition length_of_case_in_days  current_sentence  primary_charge  \\\n0    Nolle On Remand                    619              True           False   \n1    Nolle On Remand                    619              True           False   \n2    Nolle On Remand                    619              True           False   \n3     Plea Of Guilty                  10982              True           False   \n4     Plea Of Guilty                    619             False           False   \n\n            sentence_date   offense_category commitment_term commitment_unit  \\\n0    6/2/1986 12:00:00 AM  PROMIS Conversion             NaN             NaN   \n1    6/2/1986 12:00:00 AM  PROMIS Conversion             NaN             NaN   \n2    6/2/1986 12:00:00 AM  PROMIS Conversion             NaN             NaN   \n3  10/16/2014 12:00:00 AM  PROMIS Conversion              30         Year(s)   \n4    6/2/1986 12:00:00 AM  PROMIS Conversion             030         Year(s)   \n\n  sentence_type  \n0    Conversion  \n1    Conversion  \n2    Conversion  \n3        Prison  \n4    Conversion  ",
      "text/html": "<div>\n<style scoped>\n    .dataframe tbody tr th:only-of-type {\n        vertical-align: middle;\n    }\n\n    .dataframe tbody tr th {\n        vertical-align: top;\n    }\n\n    .dataframe thead th {\n        text-align: right;\n    }\n</style>\n<table border=\"1\" class=\"dataframe\">\n  <thead>\n    <tr style=\"text-align: right;\">\n      <th></th>\n      <th>case_id</th>\n      <th>case_participant_id</th>\n      <th>charge_id</th>\n      <th>charge_version_id</th>\n      <th>court_facility</th>\n      <th>court_name</th>\n      <th>age_at_incident</th>\n      <th>gender</th>\n      <th>race</th>\n      <th>charge_disposition</th>\n      <th>length_of_case_in_days</th>\n      <th>current_sentence</th>\n      <th>primary_charge</th>\n      <th>sentence_date</th>\n      <th>offense_category</th>\n      <th>commitment_term</th>\n      <th>commitment_unit</th>\n      <th>sentence_type</th>\n    </tr>\n  </thead>\n  <tbody>\n    <tr>\n      <td>0</td>\n      <td>44670309710</td>\n      <td>218297158761</td>\n      <td>297139645442</td>\n      <td>83571817251</td>\n      <td>Markham Courthouse</td>\n      <td>District 6 - Markham</td>\n      <td>27</td>\n      <td>Male</td>\n      <td>Black</td>\n      <td>Nolle On Remand</td>\n      <td>619</td>\n      <td>True</td>\n      <td>False</td>\n      <td>6/2/1986 12:00:00 AM</td>\n      <td>PROMIS Conversion</td>\n      <td>NaN</td>\n      <td>NaN</td>\n      <td>Conversion</td>\n    </tr>\n    <tr>\n      <td>1</td>\n      <td>44670309710</td>\n      <td>218297158761</td>\n      <td>297176911341</td>\n      <td>94830742153</td>\n      <td>Markham Courthouse</td>\n      <td>District 6 - Markham</td>\n      <td>27</td>\n      <td>Male</td>\n      <td>Black</td>\n      <td>Nolle On Remand</td>\n      <td>619</td>\n      <td>True</td>\n      <td>False</td>\n      <td>6/2/1986 12:00:00 AM</td>\n      <td>PROMIS Conversion</td>\n      <td>NaN</td>\n      <td>NaN</td>\n      <td>Conversion</td>\n    </tr>\n    <tr>\n      <td>2</td>\n      <td>44670309710</td>\n      <td>218297158761</td>\n      <td>297177207102</td>\n      <td>94826043158</td>\n      <td>Markham Courthouse</td>\n      <td>District 6 - Markham</td>\n      <td>27</td>\n      <td>Male</td>\n      <td>Black</td>\n      <td>Nolle On Remand</td>\n      <td>619</td>\n      <td>True</td>\n      <td>False</td>\n      <td>6/2/1986 12:00:00 AM</td>\n      <td>PROMIS Conversion</td>\n      <td>NaN</td>\n      <td>NaN</td>\n      <td>Conversion</td>\n    </tr>\n    <tr>\n      <td>3</td>\n      <td>44670309710</td>\n      <td>218297158761</td>\n      <td>297178094385</td>\n      <td>70461958445</td>\n      <td>Markham Courthouse</td>\n      <td>District 6 - Markham</td>\n      <td>27</td>\n      <td>Male</td>\n      <td>Black</td>\n      <td>Plea Of Guilty</td>\n      <td>10982</td>\n      <td>True</td>\n      <td>False</td>\n      <td>10/16/2014 12:00:00 AM</td>\n      <td>PROMIS Conversion</td>\n      <td>30</td>\n      <td>Year(s)</td>\n      <td>Prison</td>\n    </tr>\n    <tr>\n      <td>4</td>\n      <td>44670309710</td>\n      <td>218297158761</td>\n      <td>297178094385</td>\n      <td>70461958445</td>\n      <td>Markham Courthouse</td>\n      <td>District 6 - Markham</td>\n      <td>27</td>\n      <td>Male</td>\n      <td>Black</td>\n      <td>Plea Of Guilty</td>\n      <td>619</td>\n      <td>False</td>\n      <td>False</td>\n      <td>6/2/1986 12:00:00 AM</td>\n      <td>PROMIS Conversion</td>\n      <td>030</td>\n      <td>Year(s)</td>\n      <td>Conversion</td>\n    </tr>\n  </tbody>\n</table>\n</div>"
     },
     "metadata": {},
     "execution_count": 87
    }
   ],
   "source": [
    "data = original_data[['case_id','case_participant_id','charge_id','charge_version_id','court_facility','court_name','age_at_incident','gender','race','charge_disposition','length_of_case_in_days','current_sentence','primary_charge','sentence_date','offense_category','commitment_term','commitment_unit','sentence_type']]\n",
    "data.head()"
   ]
  },
  {
   "cell_type": "code",
   "execution_count": 88,
   "metadata": {},
   "outputs": [
    {
     "output_type": "execute_result",
     "data": {
      "text/plain": "case_id                   236124\ncase_participant_id       236124\ncharge_id                 236124\ncharge_version_id         236124\ncourt_facility            234258\ncourt_name                234741\nage_at_incident           233071\ngender                    235334\nrace                      234890\ncharge_disposition        236124\nlength_of_case_in_days    217350\ncurrent_sentence          236124\nprimary_charge            236124\nsentence_date             236124\noffense_category          236124\ncommitment_term           234516\ncommitment_unit           234516\nsentence_type             236124\ndtype: int64"
     },
     "metadata": {},
     "execution_count": 88
    }
   ],
   "source": [
    "# Explore values in columns\n",
    "data.count()"
   ]
  },
  {
   "cell_type": "markdown",
   "metadata": {},
   "source": [
    "## Drop NaN Values"
   ]
  },
  {
   "cell_type": "code",
   "execution_count": 89,
   "metadata": {},
   "outputs": [
    {
     "output_type": "execute_result",
     "data": {
      "text/plain": "case_id                   211576\ncase_participant_id       211576\ncharge_id                 211576\ncharge_version_id         211576\ncourt_facility            211576\ncourt_name                211576\nage_at_incident           211576\ngender                    211576\nrace                      211576\ncharge_disposition        211576\nlength_of_case_in_days    211576\ncurrent_sentence          211576\nprimary_charge            211576\nsentence_date             211576\noffense_category          211576\ncommitment_term           211576\ncommitment_unit           211576\nsentence_type             211576\ndtype: int64"
     },
     "metadata": {},
     "execution_count": 89
    }
   ],
   "source": [
    "data = data.dropna()\n",
    "data.count()"
   ]
  },
  {
   "cell_type": "markdown",
   "metadata": {},
   "source": [
    "## Filter data after 2000 & before 2019"
   ]
  },
  {
   "cell_type": "code",
   "execution_count": 90,
   "metadata": {},
   "outputs": [
    {
     "output_type": "execute_result",
     "data": {
      "text/plain": "case_id                   object\ncase_participant_id       object\ncharge_id                 object\ncharge_version_id         object\ncourt_facility            object\ncourt_name                object\nage_at_incident           object\ngender                    object\nrace                      object\ncharge_disposition        object\nlength_of_case_in_days    object\ncurrent_sentence            bool\nprimary_charge              bool\nsentence_date             object\noffense_category          object\ncommitment_term           object\ncommitment_unit           object\nsentence_type             object\ndtype: object"
     },
     "metadata": {},
     "execution_count": 90
    }
   ],
   "source": [
    "# Explore type of values in each column\n",
    "data.dtypes"
   ]
  },
  {
   "cell_type": "code",
   "execution_count": 91,
   "metadata": {},
   "outputs": [
    {
     "output_type": "execute_result",
     "data": {
      "text/plain": "       case_id case_participant_id     charge_id charge_version_id  \\\n3  44670309710        218297158761  297178094385       70461958445   \n4  44670309710        218297158761  297178094385       70461958445   \n5  44670309710        218297158761  297140236964       70609573999   \n6  44670309710        218297158761  297178390146       80671262249   \n7  44670309710        218297158761  297178390146       80671262249   \n\n       court_facility            court_name age_at_incident gender   race  \\\n3  Markham Courthouse  District 6 - Markham              27   Male  Black   \n4  Markham Courthouse  District 6 - Markham              27   Male  Black   \n5  Markham Courthouse  District 6 - Markham              27   Male  Black   \n6  Markham Courthouse  District 6 - Markham              27   Male  Black   \n7  Markham Courthouse  District 6 - Markham              27   Male  Black   \n\n  charge_disposition length_of_case_in_days  current_sentence  primary_charge  \\\n3     Plea Of Guilty                  10982              True           False   \n4     Plea Of Guilty                    619             False           False   \n5    Nolle On Remand                    619              True           False   \n6     Plea Of Guilty                  10982              True           False   \n7     Plea Of Guilty                    619             False           False   \n\n            sentence_date   offense_category commitment_term commitment_unit  \\\n3  10/16/2014 12:00:00 AM  PROMIS Conversion              30         Year(s)   \n4    6/2/1986 12:00:00 AM  PROMIS Conversion             030         Year(s)   \n5    6/2/1986 12:00:00 AM  PROMIS Conversion             030         Year(s)   \n6  10/16/2014 12:00:00 AM  PROMIS Conversion              30         Year(s)   \n7    6/2/1986 12:00:00 AM  PROMIS Conversion             030         Year(s)   \n\n  sentence_type                    year  \n3        Prison  10/16/2014 12:00:00 AM  \n4    Conversion    6/2/1986 12:00:00 AM  \n5    Conversion    6/2/1986 12:00:00 AM  \n6        Prison  10/16/2014 12:00:00 AM  \n7    Conversion    6/2/1986 12:00:00 AM  ",
      "text/html": "<div>\n<style scoped>\n    .dataframe tbody tr th:only-of-type {\n        vertical-align: middle;\n    }\n\n    .dataframe tbody tr th {\n        vertical-align: top;\n    }\n\n    .dataframe thead th {\n        text-align: right;\n    }\n</style>\n<table border=\"1\" class=\"dataframe\">\n  <thead>\n    <tr style=\"text-align: right;\">\n      <th></th>\n      <th>case_id</th>\n      <th>case_participant_id</th>\n      <th>charge_id</th>\n      <th>charge_version_id</th>\n      <th>court_facility</th>\n      <th>court_name</th>\n      <th>age_at_incident</th>\n      <th>gender</th>\n      <th>race</th>\n      <th>charge_disposition</th>\n      <th>length_of_case_in_days</th>\n      <th>current_sentence</th>\n      <th>primary_charge</th>\n      <th>sentence_date</th>\n      <th>offense_category</th>\n      <th>commitment_term</th>\n      <th>commitment_unit</th>\n      <th>sentence_type</th>\n      <th>year</th>\n    </tr>\n  </thead>\n  <tbody>\n    <tr>\n      <td>3</td>\n      <td>44670309710</td>\n      <td>218297158761</td>\n      <td>297178094385</td>\n      <td>70461958445</td>\n      <td>Markham Courthouse</td>\n      <td>District 6 - Markham</td>\n      <td>27</td>\n      <td>Male</td>\n      <td>Black</td>\n      <td>Plea Of Guilty</td>\n      <td>10982</td>\n      <td>True</td>\n      <td>False</td>\n      <td>10/16/2014 12:00:00 AM</td>\n      <td>PROMIS Conversion</td>\n      <td>30</td>\n      <td>Year(s)</td>\n      <td>Prison</td>\n      <td>10/16/2014 12:00:00 AM</td>\n    </tr>\n    <tr>\n      <td>4</td>\n      <td>44670309710</td>\n      <td>218297158761</td>\n      <td>297178094385</td>\n      <td>70461958445</td>\n      <td>Markham Courthouse</td>\n      <td>District 6 - Markham</td>\n      <td>27</td>\n      <td>Male</td>\n      <td>Black</td>\n      <td>Plea Of Guilty</td>\n      <td>619</td>\n      <td>False</td>\n      <td>False</td>\n      <td>6/2/1986 12:00:00 AM</td>\n      <td>PROMIS Conversion</td>\n      <td>030</td>\n      <td>Year(s)</td>\n      <td>Conversion</td>\n      <td>6/2/1986 12:00:00 AM</td>\n    </tr>\n    <tr>\n      <td>5</td>\n      <td>44670309710</td>\n      <td>218297158761</td>\n      <td>297140236964</td>\n      <td>70609573999</td>\n      <td>Markham Courthouse</td>\n      <td>District 6 - Markham</td>\n      <td>27</td>\n      <td>Male</td>\n      <td>Black</td>\n      <td>Nolle On Remand</td>\n      <td>619</td>\n      <td>True</td>\n      <td>False</td>\n      <td>6/2/1986 12:00:00 AM</td>\n      <td>PROMIS Conversion</td>\n      <td>030</td>\n      <td>Year(s)</td>\n      <td>Conversion</td>\n      <td>6/2/1986 12:00:00 AM</td>\n    </tr>\n    <tr>\n      <td>6</td>\n      <td>44670309710</td>\n      <td>218297158761</td>\n      <td>297178390146</td>\n      <td>80671262249</td>\n      <td>Markham Courthouse</td>\n      <td>District 6 - Markham</td>\n      <td>27</td>\n      <td>Male</td>\n      <td>Black</td>\n      <td>Plea Of Guilty</td>\n      <td>10982</td>\n      <td>True</td>\n      <td>False</td>\n      <td>10/16/2014 12:00:00 AM</td>\n      <td>PROMIS Conversion</td>\n      <td>30</td>\n      <td>Year(s)</td>\n      <td>Prison</td>\n      <td>10/16/2014 12:00:00 AM</td>\n    </tr>\n    <tr>\n      <td>7</td>\n      <td>44670309710</td>\n      <td>218297158761</td>\n      <td>297178390146</td>\n      <td>80671262249</td>\n      <td>Markham Courthouse</td>\n      <td>District 6 - Markham</td>\n      <td>27</td>\n      <td>Male</td>\n      <td>Black</td>\n      <td>Plea Of Guilty</td>\n      <td>619</td>\n      <td>False</td>\n      <td>False</td>\n      <td>6/2/1986 12:00:00 AM</td>\n      <td>PROMIS Conversion</td>\n      <td>030</td>\n      <td>Year(s)</td>\n      <td>Conversion</td>\n      <td>6/2/1986 12:00:00 AM</td>\n    </tr>\n  </tbody>\n</table>\n</div>"
     },
     "metadata": {},
     "execution_count": 91
    }
   ],
   "source": [
    "# Create a copy of the Sentence Date to filter it\n",
    "hdate = data['sentence_date']\n",
    "data['year'] = hdate\n",
    "\n",
    "data.head()"
   ]
  },
  {
   "cell_type": "code",
   "execution_count": 92,
   "metadata": {},
   "outputs": [],
   "source": [
    "# Select only the year\n",
    "data['year'] = data['year'].replace(regex='[0-9]*\\/[0-9]*\\/', value='')\n",
    "data['year'] = data['year'].replace(regex='\\s[0-9]*\\:[0-9]*\\:[0-9]*\\s[A-Z]*', value='')"
   ]
  },
  {
   "cell_type": "code",
   "execution_count": 93,
   "metadata": {},
   "outputs": [],
   "source": [
    "# Change value type\n",
    "data['year'] = data['year'].astype(int)"
   ]
  },
  {
   "cell_type": "code",
   "execution_count": 94,
   "metadata": {},
   "outputs": [
    {
     "output_type": "execute_result",
     "data": {
      "text/plain": "case_id                   object\ncase_participant_id       object\ncharge_id                 object\ncharge_version_id         object\ncourt_facility            object\ncourt_name                object\nage_at_incident           object\ngender                    object\nrace                      object\ncharge_disposition        object\nlength_of_case_in_days    object\ncurrent_sentence            bool\nprimary_charge              bool\nsentence_date             object\noffense_category          object\ncommitment_term           object\ncommitment_unit           object\nsentence_type             object\nyear                       int32\ndtype: object"
     },
     "metadata": {},
     "execution_count": 94
    }
   ],
   "source": [
    "data.dtypes"
   ]
  },
  {
   "cell_type": "code",
   "execution_count": 95,
   "metadata": {},
   "outputs": [],
   "source": [
    "# Filter year\n",
    "data = data[(data.year > 1999) & (data.year < 2020)]"
   ]
  },
  {
   "cell_type": "code",
   "execution_count": 96,
   "metadata": {},
   "outputs": [
    {
     "output_type": "execute_result",
     "data": {
      "text/plain": "                year\ncount  211516.000000\nmean     2014.734895\nstd         2.432940\nmin      2000.000000\n25%      2013.000000\n50%      2015.000000\n75%      2017.000000\nmax      2019.000000",
      "text/html": "<div>\n<style scoped>\n    .dataframe tbody tr th:only-of-type {\n        vertical-align: middle;\n    }\n\n    .dataframe tbody tr th {\n        vertical-align: top;\n    }\n\n    .dataframe thead th {\n        text-align: right;\n    }\n</style>\n<table border=\"1\" class=\"dataframe\">\n  <thead>\n    <tr style=\"text-align: right;\">\n      <th></th>\n      <th>year</th>\n    </tr>\n  </thead>\n  <tbody>\n    <tr>\n      <td>count</td>\n      <td>211516.000000</td>\n    </tr>\n    <tr>\n      <td>mean</td>\n      <td>2014.734895</td>\n    </tr>\n    <tr>\n      <td>std</td>\n      <td>2.432940</td>\n    </tr>\n    <tr>\n      <td>min</td>\n      <td>2000.000000</td>\n    </tr>\n    <tr>\n      <td>25%</td>\n      <td>2013.000000</td>\n    </tr>\n    <tr>\n      <td>50%</td>\n      <td>2015.000000</td>\n    </tr>\n    <tr>\n      <td>75%</td>\n      <td>2017.000000</td>\n    </tr>\n    <tr>\n      <td>max</td>\n      <td>2019.000000</td>\n    </tr>\n  </tbody>\n</table>\n</div>"
     },
     "metadata": {},
     "execution_count": 96
    }
   ],
   "source": [
    "# Confirm values\n",
    "data.describe()"
   ]
  },
  {
   "cell_type": "markdown",
   "metadata": {},
   "source": [
    "## Analize Offense Category and consolidate into related categories"
   ]
  },
  {
   "cell_type": "code",
   "execution_count": 97,
   "metadata": {},
   "outputs": [
    {
     "output_type": "execute_result",
     "data": {
      "text/plain": "['Aggravated Assault Police Officer',\n 'Aggravated Assault Police Officer Firearm',\n 'Aggravated Battery',\n 'Aggravated Battery Police Officer',\n 'Aggravated Battery Police Officer Firearm',\n 'Aggravated Battery With A Firearm',\n 'Aggravated DUI',\n 'Aggravated Discharge Firearm',\n 'Aggravated Fleeing and Eluding',\n 'Aggravated Identity Theft',\n 'Aggravated Robbery',\n 'Aggravated Robbery BB Gun',\n 'Armed Robbery',\n 'Armed Violence',\n 'Arson',\n 'Arson and Attempt Arson',\n 'Attempt Armed Robbery',\n 'Attempt Arson',\n 'Attempt Homicide',\n 'Attempt Sex Crimes',\n 'Attempt Vehicular Hijacking',\n 'Battery',\n 'Benefit Recipient Fraud',\n 'Bomb Threat',\n 'Bribery',\n 'Burglary',\n 'Child Abduction',\n 'Child Pornography',\n 'Communicating With Witness',\n 'Compelling Gang Membership',\n 'Credit Card Cases',\n 'Criminal Damage to Property',\n 'Criminal Trespass To Residence',\n 'DUI',\n 'Deceptive Practice',\n 'Disarming Police Officer',\n 'Dog Fighting',\n 'Domestic Battery',\n 'Driving With Suspended Or Revoked License',\n 'Escape - Failure to Return',\n 'Failure To Pay Child Support',\n 'Failure to Register as a Sex Offender',\n 'Forgery',\n 'Fraud',\n 'Fraudulent ID',\n 'Gambling',\n 'Gun - Non UUW',\n 'Gun Running',\n 'Hate Crimes',\n 'Home Invasion',\n 'Homicide',\n 'Human Trafficking',\n 'Identity Theft',\n 'Impersonating Police Officer',\n 'Intimidation',\n 'Kidnapping',\n 'Major Accidents',\n 'Narcotics',\n 'Obstructing Justice',\n 'Official Misconduct',\n 'Other Offense',\n 'PROMIS Conversion',\n 'Pandering',\n 'Perjury',\n 'Police Shooting',\n 'Possession Of Burglary Tools',\n 'Possession of Contraband in Penal Institution',\n 'Possession of Explosives',\n 'Possession of Shank in Penal Institution',\n 'Possession of Stolen Motor Vehicle',\n 'Prostitution',\n 'Reckless Discharge of Firearm',\n 'Reckless Homicide',\n 'Residential Burglary',\n 'Retail Theft',\n 'Robbery',\n 'Sex Crimes',\n 'Stalking',\n 'Tampering',\n 'Theft',\n 'Theft by Deception',\n 'UUW - Unlawful Use of Weapon',\n 'Unlawful Restraint',\n 'Vehicular Hijacking',\n 'Vehicular Invasion',\n 'Violate Bail Bond',\n 'Violation Order Of Protection',\n 'Violation of Sex Offender Registration']"
     },
     "metadata": {},
     "execution_count": 97
    }
   ],
   "source": [
    "# Review all the information\n",
    "sorted(data.offense_category.unique())"
   ]
  },
  {
   "cell_type": "code",
   "execution_count": 98,
   "metadata": {},
   "outputs": [
    {
     "output_type": "execute_result",
     "data": {
      "text/plain": "88"
     },
     "metadata": {},
     "execution_count": 98
    }
   ],
   "source": [
    "# Count of categories\n",
    "len(data.offense_category.unique())"
   ]
  },
  {
   "cell_type": "code",
   "execution_count": 99,
   "metadata": {},
   "outputs": [
    {
     "output_type": "execute_result",
     "data": {
      "text/plain": "86"
     },
     "metadata": {},
     "execution_count": 99
    }
   ],
   "source": [
    "# Consolidate Homicide category\n",
    "data.offense_category = data.offense_category.replace(to_replace=['Attempt Homicide','Reckless Homicide'],value='Homicide')\n",
    "\n",
    "len(data.offense_category.unique())"
   ]
  },
  {
   "cell_type": "code",
   "execution_count": 100,
   "metadata": {},
   "outputs": [
    {
     "output_type": "execute_result",
     "data": {
      "text/plain": "83"
     },
     "metadata": {},
     "execution_count": 100
    }
   ],
   "source": [
    "# Consolidate Offense Against Police Officers category\n",
    "data.offense_category = data.offense_category.replace(to_replace=['Aggravated Assault Police Officer','Aggravated Assault Police Officer Firearm','Police Shooting','Impersonating Police Officer'],value='Offense Against Police Officers')\n",
    "\n",
    "len(data.offense_category.unique())"
   ]
  },
  {
   "cell_type": "code",
   "execution_count": 101,
   "metadata": {},
   "outputs": [
    {
     "output_type": "execute_result",
     "data": {
      "text/plain": "78"
     },
     "metadata": {},
     "execution_count": 101
    }
   ],
   "source": [
    "# Consolidate Battery category\n",
    "data.offense_category = data.offense_category.replace(to_replace=['Aggravated Battery','Aggravated Battery Police Officer','Aggravated Battery Police Officer Firearm','Aggravated Battery With A Firearm','Domestic Battery'],value='Battery')\n",
    "\n",
    "len(data.offense_category.unique())"
   ]
  },
  {
   "cell_type": "code",
   "execution_count": 102,
   "metadata": {},
   "outputs": [
    {
     "output_type": "execute_result",
     "data": {
      "text/plain": "66"
     },
     "metadata": {},
     "execution_count": 102
    }
   ],
   "source": [
    "# Consolidate Robbery, Burglery and Theft category\n",
    "data.offense_category = data.offense_category.replace(to_replace=['Aggravated Identity Theft','Aggravated Robbery','Aggravated Robbery BB Gun','Armed Robbery','Attempt Armed Robbery','Burglary','Identity Theft','Residential Burglary','Retail Theft','Robbery','Theft','Theft by Deception','Possession Of Burglary Tools'],value='Robbery/Burglery/Theft')\n",
    "\n",
    "len(data.offense_category.unique())"
   ]
  },
  {
   "cell_type": "code",
   "execution_count": 103,
   "metadata": {},
   "outputs": [
    {
     "output_type": "execute_result",
     "data": {
      "text/plain": "64"
     },
     "metadata": {},
     "execution_count": 103
    }
   ],
   "source": [
    "# Consolidate Arson category\n",
    "data.offense_category = data.offense_category.replace(to_replace=['Arson and Attempt Arson','Attempt Arson'],value='Arson')\n",
    "\n",
    "len(data.offense_category.unique())"
   ]
  },
  {
   "cell_type": "code",
   "execution_count": 104,
   "metadata": {},
   "outputs": [
    {
     "output_type": "execute_result",
     "data": {
      "text/plain": "56"
     },
     "metadata": {},
     "execution_count": 104
    }
   ],
   "source": [
    "# Consolidate Firearms and Explosives category\n",
    "data.offense_category = data.offense_category.replace(to_replace=['Aggravated Discharge Firearm','Armed Violence','Disarming Police Officer','Gun Running','Possession of Explosives','UUW - Unlawful Use of Weapon','Gun - Non UUW','Bomb Threat','Reckless Discharge of Firearm'],value='Firearms and Explosives')\n",
    "\n",
    "len(data.offense_category.unique())"
   ]
  },
  {
   "cell_type": "code",
   "execution_count": 105,
   "metadata": {},
   "outputs": [
    {
     "output_type": "execute_result",
     "data": {
      "text/plain": "49"
     },
     "metadata": {},
     "execution_count": 105
    }
   ],
   "source": [
    "# Consolidate Motor Vehicles Offenses category\n",
    "data.offense_category = data.offense_category.replace(to_replace=['Aggravated DUI','Attempt Vehicular Hijacking','DUI','Driving With Suspended Or Revoked License','Major Accidents','Possession of Stolen Motor Vehicle','Vehicular Hijacking','Vehicular Invasion'],value='Motor Vehicle Offenses')\n",
    "\n",
    "len(data.offense_category.unique())"
   ]
  },
  {
   "cell_type": "code",
   "execution_count": 106,
   "metadata": {},
   "outputs": [
    {
     "output_type": "execute_result",
     "data": {
      "text/plain": "43"
     },
     "metadata": {},
     "execution_count": 106
    }
   ],
   "source": [
    "# Consolidate Judicial Process Violations category\n",
    "data.offense_category = data.offense_category.replace(to_replace=['Communicating With Witness','Escape - Failure to Return','Obstructing Justice','Perjury','Tampering','Violate Bail Bond','Violation Order Of Protection'],value='Judicial Process Violations')\n",
    "\n",
    "len(data.offense_category.unique())"
   ]
  },
  {
   "cell_type": "code",
   "execution_count": 107,
   "metadata": {},
   "outputs": [
    {
     "output_type": "execute_result",
     "data": {
      "text/plain": "37"
     },
     "metadata": {},
     "execution_count": 107
    }
   ],
   "source": [
    "# Consolidate Sex Offenses category\n",
    "data.offense_category = data.offense_category.replace(to_replace=['Attempt Sex Crimes','Child Pornography','Failure to Register as a Sex Offender','Pandering','Prostitution','Sex Crimes','Violation of Sex Offender Registration'],value='Sex Offenses')\n",
    "\n",
    "len(data.offense_category.unique())"
   ]
  },
  {
   "cell_type": "code",
   "execution_count": 108,
   "metadata": {},
   "outputs": [
    {
     "output_type": "execute_result",
     "data": {
      "text/plain": "34"
     },
     "metadata": {},
     "execution_count": 108
    }
   ],
   "source": [
    "# Consolidate Human Trafficking, Detention and Kidnapping category\n",
    "data.offense_category = data.offense_category.replace(to_replace=['Child Abduction','Human Trafficking','Kidnapping','Unlawful Restraint'],value='Human Trafficking/Detention/Kidnapping')\n",
    "\n",
    "len(data.offense_category.unique())"
   ]
  },
  {
   "cell_type": "code",
   "execution_count": 109,
   "metadata": {},
   "outputs": [
    {
     "output_type": "execute_result",
     "data": {
      "text/plain": "33"
     },
     "metadata": {},
     "execution_count": 109
    }
   ],
   "source": [
    "# Consolidate Trespassing category\n",
    "data.offense_category = data.offense_category.replace(to_replace=['Home Invasion','Criminal Trespass To Residence'],value='Trespassing')\n",
    "\n",
    "len(data.offense_category.unique())"
   ]
  },
  {
   "cell_type": "code",
   "execution_count": 110,
   "metadata": {},
   "outputs": [
    {
     "output_type": "execute_result",
     "data": {
      "text/plain": "28"
     },
     "metadata": {},
     "execution_count": 110
    }
   ],
   "source": [
    "# Consolidate Fraud and Deception category\n",
    "data.offense_category = data.offense_category.replace(to_replace=['Benefit Recipient Fraud','Credit Card Cases','Deceptive Practice','Forgery','Fraud','Fraudulent ID'],value='Fraud/Deception')\n",
    "\n",
    "len(data.offense_category.unique())"
   ]
  },
  {
   "cell_type": "code",
   "execution_count": 111,
   "metadata": {},
   "outputs": [
    {
     "output_type": "execute_result",
     "data": {
      "text/plain": "26"
     },
     "metadata": {},
     "execution_count": 111
    }
   ],
   "source": [
    "# Consolidate Corruption category\n",
    "data.offense_category = data.offense_category.replace(to_replace=['Intimidation','Official Misconduct','Bribery'],value='Corruption')\n",
    "\n",
    "len(data.offense_category.unique())"
   ]
  },
  {
   "cell_type": "code",
   "execution_count": 112,
   "metadata": {},
   "outputs": [
    {
     "output_type": "execute_result",
     "data": {
      "text/plain": "25"
     },
     "metadata": {},
     "execution_count": 112
    }
   ],
   "source": [
    "# Consolidate Inside Penal Institutions category\n",
    "data.offense_category = data.offense_category.replace(to_replace=['Possession of Contraband in Penal Institution','Possession of Shank in Penal Institution'],value='Inside Penal Institutions')\n",
    "\n",
    "len(data.offense_category.unique())"
   ]
  },
  {
   "cell_type": "code",
   "execution_count": 113,
   "metadata": {},
   "outputs": [
    {
     "output_type": "execute_result",
     "data": {
      "text/plain": "21"
     },
     "metadata": {},
     "execution_count": 113
    }
   ],
   "source": [
    "# Consolidate Other Offense category\n",
    "data.offense_category = data.offense_category.replace(to_replace=['Dog Fighting','Gambling','Failure To Pay Child Support','Compelling Gang Membership'],value='Other Offense')\n",
    "\n",
    "len(data.offense_category.unique())"
   ]
  },
  {
   "cell_type": "code",
   "execution_count": 114,
   "metadata": {},
   "outputs": [
    {
     "output_type": "execute_result",
     "data": {
      "text/plain": "Narcotics                                 60250\nRobbery/Burglery/Theft                    48208\nMotor Vehicle Offenses                    29928\nFirearms and Explosives                   25996\nBattery                                   13544\nSex Offenses                               7510\nFraud/Deception                            4860\nOther Offense                              3927\nHomicide                                   3698\nJudicial Process Violations                3434\nPROMIS Conversion                          2232\nAggravated Fleeing and Eluding             2148\nCriminal Damage to Property                1657\nTrespassing                                1321\nOffense Against Police Officers             882\nHuman Trafficking/Detention/Kidnapping      635\nArson                                       397\nCorruption                                  345\nStalking                                    311\nInside Penal Institutions                   164\nHate Crimes                                  69\nName: offense_category, dtype: int64"
     },
     "metadata": {},
     "execution_count": 114
    }
   ],
   "source": [
    "data.offense_category.value_counts()"
   ]
  },
  {
   "cell_type": "markdown",
   "metadata": {},
   "source": []
  }
 ],
 "metadata": {
  "language_info": {
   "codemirror_mode": {
    "name": "ipython",
    "version": 3
   },
   "file_extension": ".py",
   "mimetype": "text/x-python",
   "name": "python",
   "nbconvert_exporter": "python",
   "pygments_lexer": "ipython3",
   "version": "3.7.4-final"
  },
  "orig_nbformat": 2,
  "kernelspec": {
   "name": "python37464bitbaseconda1f272b08825b44268b0b382f97a12fd9",
   "display_name": "Python 3.7.4 64-bit ('base': conda)"
  }
 },
 "nbformat": 4,
 "nbformat_minor": 2
}