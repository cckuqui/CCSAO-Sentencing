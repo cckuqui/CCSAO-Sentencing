{
 "cells": [
  {
   "cell_type": "code",
   "execution_count": 2,
   "metadata": {},
   "outputs": [],
   "source": [
    "import pandas as pd\n",
    "from sodapy import Socrata\n",
    "import numpy as np\n",
    "import datetime"
   ]
  },
  {
   "cell_type": "markdown",
   "metadata": {},
   "source": [
    "# Get information from Cook County Sentencing Data Database"
   ]
  },
  {
   "cell_type": "code",
   "execution_count": 4,
   "metadata": {},
   "outputs": [
    {
     "output_type": "stream",
     "name": "stderr",
     "text": "WARNING:root:Requests made without an app_token will be subject to strict throttling limits.\n"
    }
   ],
   "source": [
    "client = Socrata(\"datacatalog.cookcountyil.gov\", None)"
   ]
  },
  {
   "cell_type": "code",
   "execution_count": 6,
   "metadata": {},
   "outputs": [],
   "source": [
    "results = client.get(\"tg8v-tm6u\", limit=300000)"
   ]
  },
  {
   "cell_type": "code",
   "execution_count": 44,
   "metadata": {},
   "outputs": [
    {
     "output_type": "execute_result",
     "data": {
      "text/plain": "['case_id',\n 'case_participant_id',\n 'offense_category',\n 'primary_charge',\n 'charge_id',\n 'charge_version_id',\n 'disposition_charged_offense_title',\n 'disposition_charged_chapter',\n 'disposition_charged_act',\n 'disposition_charged_section',\n 'disposition_charged_class',\n 'disposition_charged_aoic',\n 'disposition_date',\n 'charge_disposition',\n 'sentence_phase',\n 'sentence_date',\n 'sentence_judge',\n 'sentence_type',\n 'current_sentence',\n 'commitment_type',\n 'court_name',\n 'court_facility',\n 'length_of_case_in_days',\n 'age_at_incident',\n 'gender',\n 'race',\n 'incident_begin_date',\n 'arrest_date',\n 'law_enforcement_agency',\n 'received_date',\n 'arraignment_date',\n 'updated_offense_category',\n 'charge_count',\n 'commitment_term',\n 'commitment_unit',\n 'incident_end_date',\n 'charge_disposition_reason',\n 'incident_city',\n 'unit']"
     },
     "metadata": {},
     "execution_count": 44
    }
   ],
   "source": [
    "data = pd.DataFrame.from_records(results)\n",
    "list(data.columns.values)"
   ]
  },
  {
   "cell_type": "markdown",
   "metadata": {},
   "source": [
    "# Cleaning Process"
   ]
  },
  {
   "cell_type": "markdown",
   "metadata": {},
   "source": [
    "## Select only chosen columns"
   ]
  },
  {
   "cell_type": "code",
   "execution_count": 45,
   "metadata": {},
   "outputs": [
    {
     "output_type": "execute_result",
     "data": {
      "text/plain": "       case_id case_participant_id     charge_id charge_version_id  \\\n0  44670309710        218297158761  297139645442       83571817251   \n1  44670309710        218297158761  297176911341       94830742153   \n2  44670309710        218297158761  297177207102       94826043158   \n3  44670309710        218297158761  297178094385       70461958445   \n4  44670309710        218297158761  297178094385       70461958445   \n\n       court_facility            court_name age_at_incident gender   race  \\\n0  Markham Courthouse  District 6 - Markham              27   Male  Black   \n1  Markham Courthouse  District 6 - Markham              27   Male  Black   \n2  Markham Courthouse  District 6 - Markham              27   Male  Black   \n3  Markham Courthouse  District 6 - Markham              27   Male  Black   \n4  Markham Courthouse  District 6 - Markham              27   Male  Black   \n\n  charge_disposition length_of_case_in_days  current_sentence  primary_charge  \\\n0    Nolle On Remand                    619              True           False   \n1    Nolle On Remand                    619              True           False   \n2    Nolle On Remand                    619              True           False   \n3     Plea Of Guilty                  10982              True           False   \n4     Plea Of Guilty                    619             False           False   \n\n            sentence_date   offense_category commitment_term commitment_unit  \\\n0    6/2/1986 12:00:00 AM  PROMIS Conversion             NaN             NaN   \n1    6/2/1986 12:00:00 AM  PROMIS Conversion             NaN             NaN   \n2    6/2/1986 12:00:00 AM  PROMIS Conversion             NaN             NaN   \n3  10/16/2014 12:00:00 AM  PROMIS Conversion              30         Year(s)   \n4    6/2/1986 12:00:00 AM  PROMIS Conversion             030         Year(s)   \n\n  sentence_type  \n0    Conversion  \n1    Conversion  \n2    Conversion  \n3        Prison  \n4    Conversion  ",
      "text/html": "<div>\n<style scoped>\n    .dataframe tbody tr th:only-of-type {\n        vertical-align: middle;\n    }\n\n    .dataframe tbody tr th {\n        vertical-align: top;\n    }\n\n    .dataframe thead th {\n        text-align: right;\n    }\n</style>\n<table border=\"1\" class=\"dataframe\">\n  <thead>\n    <tr style=\"text-align: right;\">\n      <th></th>\n      <th>case_id</th>\n      <th>case_participant_id</th>\n      <th>charge_id</th>\n      <th>charge_version_id</th>\n      <th>court_facility</th>\n      <th>court_name</th>\n      <th>age_at_incident</th>\n      <th>gender</th>\n      <th>race</th>\n      <th>charge_disposition</th>\n      <th>length_of_case_in_days</th>\n      <th>current_sentence</th>\n      <th>primary_charge</th>\n      <th>sentence_date</th>\n      <th>offense_category</th>\n      <th>commitment_term</th>\n      <th>commitment_unit</th>\n      <th>sentence_type</th>\n    </tr>\n  </thead>\n  <tbody>\n    <tr>\n      <td>0</td>\n      <td>44670309710</td>\n      <td>218297158761</td>\n      <td>297139645442</td>\n      <td>83571817251</td>\n      <td>Markham Courthouse</td>\n      <td>District 6 - Markham</td>\n      <td>27</td>\n      <td>Male</td>\n      <td>Black</td>\n      <td>Nolle On Remand</td>\n      <td>619</td>\n      <td>True</td>\n      <td>False</td>\n      <td>6/2/1986 12:00:00 AM</td>\n      <td>PROMIS Conversion</td>\n      <td>NaN</td>\n      <td>NaN</td>\n      <td>Conversion</td>\n    </tr>\n    <tr>\n      <td>1</td>\n      <td>44670309710</td>\n      <td>218297158761</td>\n      <td>297176911341</td>\n      <td>94830742153</td>\n      <td>Markham Courthouse</td>\n      <td>District 6 - Markham</td>\n      <td>27</td>\n      <td>Male</td>\n      <td>Black</td>\n      <td>Nolle On Remand</td>\n      <td>619</td>\n      <td>True</td>\n      <td>False</td>\n      <td>6/2/1986 12:00:00 AM</td>\n      <td>PROMIS Conversion</td>\n      <td>NaN</td>\n      <td>NaN</td>\n      <td>Conversion</td>\n    </tr>\n    <tr>\n      <td>2</td>\n      <td>44670309710</td>\n      <td>218297158761</td>\n      <td>297177207102</td>\n      <td>94826043158</td>\n      <td>Markham Courthouse</td>\n      <td>District 6 - Markham</td>\n      <td>27</td>\n      <td>Male</td>\n      <td>Black</td>\n      <td>Nolle On Remand</td>\n      <td>619</td>\n      <td>True</td>\n      <td>False</td>\n      <td>6/2/1986 12:00:00 AM</td>\n      <td>PROMIS Conversion</td>\n      <td>NaN</td>\n      <td>NaN</td>\n      <td>Conversion</td>\n    </tr>\n    <tr>\n      <td>3</td>\n      <td>44670309710</td>\n      <td>218297158761</td>\n      <td>297178094385</td>\n      <td>70461958445</td>\n      <td>Markham Courthouse</td>\n      <td>District 6 - Markham</td>\n      <td>27</td>\n      <td>Male</td>\n      <td>Black</td>\n      <td>Plea Of Guilty</td>\n      <td>10982</td>\n      <td>True</td>\n      <td>False</td>\n      <td>10/16/2014 12:00:00 AM</td>\n      <td>PROMIS Conversion</td>\n      <td>30</td>\n      <td>Year(s)</td>\n      <td>Prison</td>\n    </tr>\n    <tr>\n      <td>4</td>\n      <td>44670309710</td>\n      <td>218297158761</td>\n      <td>297178094385</td>\n      <td>70461958445</td>\n      <td>Markham Courthouse</td>\n      <td>District 6 - Markham</td>\n      <td>27</td>\n      <td>Male</td>\n      <td>Black</td>\n      <td>Plea Of Guilty</td>\n      <td>619</td>\n      <td>False</td>\n      <td>False</td>\n      <td>6/2/1986 12:00:00 AM</td>\n      <td>PROMIS Conversion</td>\n      <td>030</td>\n      <td>Year(s)</td>\n      <td>Conversion</td>\n    </tr>\n  </tbody>\n</table>\n</div>"
     },
     "metadata": {},
     "execution_count": 45
    }
   ],
   "source": [
    "data = data[['case_id','case_participant_id','charge_id','charge_version_id','court_facility','court_name','age_at_incident','gender','race','charge_disposition','length_of_case_in_days','current_sentence','primary_charge','sentence_date','offense_category','commitment_term','commitment_unit','sentence_type']]\n",
    "data.head()"
   ]
  },
  {
   "cell_type": "code",
   "execution_count": 46,
   "metadata": {},
   "outputs": [
    {
     "output_type": "execute_result",
     "data": {
      "text/plain": "case_id                   236124\ncase_participant_id       236124\ncharge_id                 236124\ncharge_version_id         236124\ncourt_facility            234258\ncourt_name                234741\nage_at_incident           233071\ngender                    235334\nrace                      234890\ncharge_disposition        236124\nlength_of_case_in_days    217350\ncurrent_sentence          236124\nprimary_charge            236124\nsentence_date             236124\noffense_category          236124\ncommitment_term           234516\ncommitment_unit           234516\nsentence_type             236124\ndtype: int64"
     },
     "metadata": {},
     "execution_count": 46
    }
   ],
   "source": [
    "data.count()"
   ]
  },
  {
   "cell_type": "markdown",
   "metadata": {},
   "source": [
    "## Drop NaN Values"
   ]
  },
  {
   "cell_type": "code",
   "execution_count": 47,
   "metadata": {},
   "outputs": [
    {
     "output_type": "execute_result",
     "data": {
      "text/plain": "case_id                   211576\ncase_participant_id       211576\ncharge_id                 211576\ncharge_version_id         211576\ncourt_facility            211576\ncourt_name                211576\nage_at_incident           211576\ngender                    211576\nrace                      211576\ncharge_disposition        211576\nlength_of_case_in_days    211576\ncurrent_sentence          211576\nprimary_charge            211576\nsentence_date             211576\noffense_category          211576\ncommitment_term           211576\ncommitment_unit           211576\nsentence_type             211576\ndtype: int64"
     },
     "metadata": {},
     "execution_count": 47
    }
   ],
   "source": [
    "data = data.dropna()\n",
    "data.count()"
   ]
  },
  {
   "cell_type": "markdown",
   "metadata": {},
   "source": [
    "## Filter data after 2000"
   ]
  },
  {
   "cell_type": "code",
   "execution_count": 48,
   "metadata": {},
   "outputs": [
    {
     "output_type": "execute_result",
     "data": {
      "text/plain": "case_id                   object\ncase_participant_id       object\ncharge_id                 object\ncharge_version_id         object\ncourt_facility            object\ncourt_name                object\nage_at_incident           object\ngender                    object\nrace                      object\ncharge_disposition        object\nlength_of_case_in_days    object\ncurrent_sentence            bool\nprimary_charge              bool\nsentence_date             object\noffense_category          object\ncommitment_term           object\ncommitment_unit           object\nsentence_type             object\ndtype: object"
     },
     "metadata": {},
     "execution_count": 48
    }
   ],
   "source": [
    "data.dtypes"
   ]
  },
  {
   "cell_type": "code",
   "execution_count": 49,
   "metadata": {},
   "outputs": [
    {
     "output_type": "execute_result",
     "data": {
      "text/plain": "             case_id case_participant_id      charge_id charge_version_id  \\\n3        44670309710        218297158761   297178094385       70461958445   \n4        44670309710        218297158761   297178094385       70461958445   \n5        44670309710        218297158761   297140236964       70609573999   \n6        44670309710        218297158761   297178390146       80671262249   \n7        44670309710        218297158761   297178390146       80671262249   \n...              ...                 ...            ...               ...   \n236119  131050473145       1099057140562  2580450259959      588492395407   \n236120  131061467485       1099200781568  2580777963261      588568720502   \n236121  131099137335       1099668289072  2582334258185      588935174939   \n236122  131109474643       1099813219916  2582081086681      588876168995   \n236123  131109649851       1099816034107  2582092325603      588878719878   \n\n            court_facility            court_name age_at_incident gender  \\\n3       Markham Courthouse  District 6 - Markham              27   Male   \n4       Markham Courthouse  District 6 - Markham              27   Male   \n5       Markham Courthouse  District 6 - Markham              27   Male   \n6       Markham Courthouse  District 6 - Markham              27   Male   \n7       Markham Courthouse  District 6 - Markham              27   Male   \n...                    ...                   ...             ...    ...   \n236119         26TH Street  District 1 - Chicago              41   Male   \n236120  Markham Courthouse  District 6 - Markham              29   Male   \n236121         26TH Street  District 1 - Chicago              28   Male   \n236122         26TH Street  District 1 - Chicago              32   Male   \n236123         26TH Street  District 1 - Chicago              48   Male   \n\n         race charge_disposition length_of_case_in_days  current_sentence  \\\n3       Black     Plea Of Guilty                  10982              True   \n4       Black     Plea Of Guilty                    619             False   \n5       Black    Nolle On Remand                    619              True   \n6       Black     Plea Of Guilty                  10982              True   \n7       Black     Plea Of Guilty                    619             False   \n...       ...                ...                    ...               ...   \n236119  Black     Plea Of Guilty                      0              True   \n236120  Black     Plea Of Guilty                      0              True   \n236121  Black     Plea Of Guilty                      7              True   \n236122  Black     Plea Of Guilty                      0              True   \n236123  White     Plea Of Guilty                      0              True   \n\n        primary_charge           sentence_date  \\\n3                False  10/16/2014 12:00:00 AM   \n4                False    6/2/1986 12:00:00 AM   \n5                False    6/2/1986 12:00:00 AM   \n6                False  10/16/2014 12:00:00 AM   \n7                False    6/2/1986 12:00:00 AM   \n...                ...                     ...   \n236119            True   11/6/2019 12:00:00 AM   \n236120            True  11/22/2019 12:00:00 AM   \n236121            True  11/26/2019 12:00:00 AM   \n236122            True  11/26/2019 12:00:00 AM   \n236123            True   11/5/2019 12:00:00 AM   \n\n                             offense_category commitment_term commitment_unit  \\\n3                           PROMIS Conversion              30         Year(s)   \n4                           PROMIS Conversion             030         Year(s)   \n5                           PROMIS Conversion             030         Year(s)   \n6                           PROMIS Conversion              30         Year(s)   \n7                           PROMIS Conversion             030         Year(s)   \n...                                       ...             ...             ...   \n236119                          Other Offense               2         Year(s)   \n236120                              Narcotics               2            Days   \n236121                     Aggravated Battery               2         Year(s)   \n236122                         Aggravated DUI               1         Year(s)   \n236123  Failure to Register as a Sex Offender               3         Year(s)   \n\n                           sentence_type                    year  \n3                                 Prison  10/16/2014 12:00:00 AM  \n4                             Conversion    6/2/1986 12:00:00 AM  \n5                             Conversion    6/2/1986 12:00:00 AM  \n6                                 Prison  10/16/2014 12:00:00 AM  \n7                             Conversion    6/2/1986 12:00:00 AM  \n...                                  ...                     ...  \n236119                            Prison   11/6/2019 12:00:00 AM  \n236120                            Prison  11/22/2019 12:00:00 AM  \n236121  Inpatient Mental Health Services  11/26/2019 12:00:00 AM  \n236122                            Prison  11/26/2019 12:00:00 AM  \n236123                            Prison   11/5/2019 12:00:00 AM  \n\n[211576 rows x 19 columns]",
      "text/html": "<div>\n<style scoped>\n    .dataframe tbody tr th:only-of-type {\n        vertical-align: middle;\n    }\n\n    .dataframe tbody tr th {\n        vertical-align: top;\n    }\n\n    .dataframe thead th {\n        text-align: right;\n    }\n</style>\n<table border=\"1\" class=\"dataframe\">\n  <thead>\n    <tr style=\"text-align: right;\">\n      <th></th>\n      <th>case_id</th>\n      <th>case_participant_id</th>\n      <th>charge_id</th>\n      <th>charge_version_id</th>\n      <th>court_facility</th>\n      <th>court_name</th>\n      <th>age_at_incident</th>\n      <th>gender</th>\n      <th>race</th>\n      <th>charge_disposition</th>\n      <th>length_of_case_in_days</th>\n      <th>current_sentence</th>\n      <th>primary_charge</th>\n      <th>sentence_date</th>\n      <th>offense_category</th>\n      <th>commitment_term</th>\n      <th>commitment_unit</th>\n      <th>sentence_type</th>\n      <th>year</th>\n    </tr>\n  </thead>\n  <tbody>\n    <tr>\n      <td>3</td>\n      <td>44670309710</td>\n      <td>218297158761</td>\n      <td>297178094385</td>\n      <td>70461958445</td>\n      <td>Markham Courthouse</td>\n      <td>District 6 - Markham</td>\n      <td>27</td>\n      <td>Male</td>\n      <td>Black</td>\n      <td>Plea Of Guilty</td>\n      <td>10982</td>\n      <td>True</td>\n      <td>False</td>\n      <td>10/16/2014 12:00:00 AM</td>\n      <td>PROMIS Conversion</td>\n      <td>30</td>\n      <td>Year(s)</td>\n      <td>Prison</td>\n      <td>10/16/2014 12:00:00 AM</td>\n    </tr>\n    <tr>\n      <td>4</td>\n      <td>44670309710</td>\n      <td>218297158761</td>\n      <td>297178094385</td>\n      <td>70461958445</td>\n      <td>Markham Courthouse</td>\n      <td>District 6 - Markham</td>\n      <td>27</td>\n      <td>Male</td>\n      <td>Black</td>\n      <td>Plea Of Guilty</td>\n      <td>619</td>\n      <td>False</td>\n      <td>False</td>\n      <td>6/2/1986 12:00:00 AM</td>\n      <td>PROMIS Conversion</td>\n      <td>030</td>\n      <td>Year(s)</td>\n      <td>Conversion</td>\n      <td>6/2/1986 12:00:00 AM</td>\n    </tr>\n    <tr>\n      <td>5</td>\n      <td>44670309710</td>\n      <td>218297158761</td>\n      <td>297140236964</td>\n      <td>70609573999</td>\n      <td>Markham Courthouse</td>\n      <td>District 6 - Markham</td>\n      <td>27</td>\n      <td>Male</td>\n      <td>Black</td>\n      <td>Nolle On Remand</td>\n      <td>619</td>\n      <td>True</td>\n      <td>False</td>\n      <td>6/2/1986 12:00:00 AM</td>\n      <td>PROMIS Conversion</td>\n      <td>030</td>\n      <td>Year(s)</td>\n      <td>Conversion</td>\n      <td>6/2/1986 12:00:00 AM</td>\n    </tr>\n    <tr>\n      <td>6</td>\n      <td>44670309710</td>\n      <td>218297158761</td>\n      <td>297178390146</td>\n      <td>80671262249</td>\n      <td>Markham Courthouse</td>\n      <td>District 6 - Markham</td>\n      <td>27</td>\n      <td>Male</td>\n      <td>Black</td>\n      <td>Plea Of Guilty</td>\n      <td>10982</td>\n      <td>True</td>\n      <td>False</td>\n      <td>10/16/2014 12:00:00 AM</td>\n      <td>PROMIS Conversion</td>\n      <td>30</td>\n      <td>Year(s)</td>\n      <td>Prison</td>\n      <td>10/16/2014 12:00:00 AM</td>\n    </tr>\n    <tr>\n      <td>7</td>\n      <td>44670309710</td>\n      <td>218297158761</td>\n      <td>297178390146</td>\n      <td>80671262249</td>\n      <td>Markham Courthouse</td>\n      <td>District 6 - Markham</td>\n      <td>27</td>\n      <td>Male</td>\n      <td>Black</td>\n      <td>Plea Of Guilty</td>\n      <td>619</td>\n      <td>False</td>\n      <td>False</td>\n      <td>6/2/1986 12:00:00 AM</td>\n      <td>PROMIS Conversion</td>\n      <td>030</td>\n      <td>Year(s)</td>\n      <td>Conversion</td>\n      <td>6/2/1986 12:00:00 AM</td>\n    </tr>\n    <tr>\n      <td>...</td>\n      <td>...</td>\n      <td>...</td>\n      <td>...</td>\n      <td>...</td>\n      <td>...</td>\n      <td>...</td>\n      <td>...</td>\n      <td>...</td>\n      <td>...</td>\n      <td>...</td>\n      <td>...</td>\n      <td>...</td>\n      <td>...</td>\n      <td>...</td>\n      <td>...</td>\n      <td>...</td>\n      <td>...</td>\n      <td>...</td>\n      <td>...</td>\n    </tr>\n    <tr>\n      <td>236119</td>\n      <td>131050473145</td>\n      <td>1099057140562</td>\n      <td>2580450259959</td>\n      <td>588492395407</td>\n      <td>26TH Street</td>\n      <td>District 1 - Chicago</td>\n      <td>41</td>\n      <td>Male</td>\n      <td>Black</td>\n      <td>Plea Of Guilty</td>\n      <td>0</td>\n      <td>True</td>\n      <td>True</td>\n      <td>11/6/2019 12:00:00 AM</td>\n      <td>Other Offense</td>\n      <td>2</td>\n      <td>Year(s)</td>\n      <td>Prison</td>\n      <td>11/6/2019 12:00:00 AM</td>\n    </tr>\n    <tr>\n      <td>236120</td>\n      <td>131061467485</td>\n      <td>1099200781568</td>\n      <td>2580777963261</td>\n      <td>588568720502</td>\n      <td>Markham Courthouse</td>\n      <td>District 6 - Markham</td>\n      <td>29</td>\n      <td>Male</td>\n      <td>Black</td>\n      <td>Plea Of Guilty</td>\n      <td>0</td>\n      <td>True</td>\n      <td>True</td>\n      <td>11/22/2019 12:00:00 AM</td>\n      <td>Narcotics</td>\n      <td>2</td>\n      <td>Days</td>\n      <td>Prison</td>\n      <td>11/22/2019 12:00:00 AM</td>\n    </tr>\n    <tr>\n      <td>236121</td>\n      <td>131099137335</td>\n      <td>1099668289072</td>\n      <td>2582334258185</td>\n      <td>588935174939</td>\n      <td>26TH Street</td>\n      <td>District 1 - Chicago</td>\n      <td>28</td>\n      <td>Male</td>\n      <td>Black</td>\n      <td>Plea Of Guilty</td>\n      <td>7</td>\n      <td>True</td>\n      <td>True</td>\n      <td>11/26/2019 12:00:00 AM</td>\n      <td>Aggravated Battery</td>\n      <td>2</td>\n      <td>Year(s)</td>\n      <td>Inpatient Mental Health Services</td>\n      <td>11/26/2019 12:00:00 AM</td>\n    </tr>\n    <tr>\n      <td>236122</td>\n      <td>131109474643</td>\n      <td>1099813219916</td>\n      <td>2582081086681</td>\n      <td>588876168995</td>\n      <td>26TH Street</td>\n      <td>District 1 - Chicago</td>\n      <td>32</td>\n      <td>Male</td>\n      <td>Black</td>\n      <td>Plea Of Guilty</td>\n      <td>0</td>\n      <td>True</td>\n      <td>True</td>\n      <td>11/26/2019 12:00:00 AM</td>\n      <td>Aggravated DUI</td>\n      <td>1</td>\n      <td>Year(s)</td>\n      <td>Prison</td>\n      <td>11/26/2019 12:00:00 AM</td>\n    </tr>\n    <tr>\n      <td>236123</td>\n      <td>131109649851</td>\n      <td>1099816034107</td>\n      <td>2582092325603</td>\n      <td>588878719878</td>\n      <td>26TH Street</td>\n      <td>District 1 - Chicago</td>\n      <td>48</td>\n      <td>Male</td>\n      <td>White</td>\n      <td>Plea Of Guilty</td>\n      <td>0</td>\n      <td>True</td>\n      <td>True</td>\n      <td>11/5/2019 12:00:00 AM</td>\n      <td>Failure to Register as a Sex Offender</td>\n      <td>3</td>\n      <td>Year(s)</td>\n      <td>Prison</td>\n      <td>11/5/2019 12:00:00 AM</td>\n    </tr>\n  </tbody>\n</table>\n<p>211576 rows × 19 columns</p>\n</div>"
     },
     "metadata": {},
     "execution_count": 49
    }
   ],
   "source": [
    "hdate = data['sentence_date']\n",
    "data['year'] = hdate\n",
    "data"
   ]
  },
  {
   "cell_type": "code",
   "execution_count": 64,
   "metadata": {},
   "outputs": [
    {
     "output_type": "execute_result",
     "data": {
      "text/plain": "3         2014\n4         1986\n5         1986\n6         2014\n7         1986\n          ... \n236119    2019\n236120    2019\n236121    2019\n236122    2019\n236123    2019\nName: year, Length: 211576, dtype: object"
     },
     "metadata": {},
     "execution_count": 64
    }
   ],
   "source": [
    "data['year'] = data['year'].replace(regex='[0-9]*\\/[0-9]*\\/', value='')\n",
    "data['year'] = data['year'].replace(regex='\\s[0-9]*\\:[0-9]*\\:[0-9]*\\s[A-Z]*', value='')\n",
    "data['year']"
   ]
  },
  {
   "cell_type": "code",
   "execution_count": 68,
   "metadata": {},
   "outputs": [],
   "source": [
    "data['year'] = data['year'].astype(float)"
   ]
  },
  {
   "cell_type": "code",
   "execution_count": 69,
   "metadata": {},
   "outputs": [
    {
     "output_type": "execute_result",
     "data": {
      "text/plain": "case_id                    object\ncase_participant_id        object\ncharge_id                  object\ncharge_version_id          object\ncourt_facility             object\ncourt_name                 object\nage_at_incident            object\ngender                     object\nrace                       object\ncharge_disposition         object\nlength_of_case_in_days     object\ncurrent_sentence             bool\nprimary_charge               bool\nsentence_date              object\noffense_category           object\ncommitment_term            object\ncommitment_unit            object\nsentence_type              object\nyear                      float64\ndtype: object"
     },
     "metadata": {},
     "execution_count": 69
    }
   ],
   "source": [
    "data.dtypes"
   ]
  },
  {
   "cell_type": "code",
   "execution_count": 76,
   "metadata": {},
   "outputs": [
    {
     "output_type": "execute_result",
     "data": {
      "text/plain": "                year\ncount  211569.000000\nmean     2014.815469\nstd         8.117670\nmin      2000.000000\n25%      2013.000000\n50%      2015.000000\n75%      2017.000000\nmax      2917.000000",
      "text/html": "<div>\n<style scoped>\n    .dataframe tbody tr th:only-of-type {\n        vertical-align: middle;\n    }\n\n    .dataframe tbody tr th {\n        vertical-align: top;\n    }\n\n    .dataframe thead th {\n        text-align: right;\n    }\n</style>\n<table border=\"1\" class=\"dataframe\">\n  <thead>\n    <tr style=\"text-align: right;\">\n      <th></th>\n      <th>year</th>\n    </tr>\n  </thead>\n  <tbody>\n    <tr>\n      <td>count</td>\n      <td>211569.000000</td>\n    </tr>\n    <tr>\n      <td>mean</td>\n      <td>2014.815469</td>\n    </tr>\n    <tr>\n      <td>std</td>\n      <td>8.117670</td>\n    </tr>\n    <tr>\n      <td>min</td>\n      <td>2000.000000</td>\n    </tr>\n    <tr>\n      <td>25%</td>\n      <td>2013.000000</td>\n    </tr>\n    <tr>\n      <td>50%</td>\n      <td>2015.000000</td>\n    </tr>\n    <tr>\n      <td>75%</td>\n      <td>2017.000000</td>\n    </tr>\n    <tr>\n      <td>max</td>\n      <td>2917.000000</td>\n    </tr>\n  </tbody>\n</table>\n</div>"
     },
     "metadata": {},
     "execution_count": 76
    }
   ],
   "source": [
    "y2000 = data['year'] > 1999 | data['year'] < 2020\n",
    "data_2000 = data[y2000]\n",
    "data_2000.describe()"
   ]
  },
  {
   "cell_type": "code",
   "execution_count": 51,
   "metadata": {},
   "outputs": [
    {
     "output_type": "error",
     "ename": "OutOfBoundsDatetime",
     "evalue": "Out of bounds nanosecond timestamp: 2912-10-31 00:00:00",
     "traceback": [
      "\u001b[1;31m---------------------------------------------------------------------------\u001b[0m",
      "\u001b[1;31mTypeError\u001b[0m                                 Traceback (most recent call last)",
      "\u001b[1;32m~\\Anaconda3\\lib\\site-packages\\pandas\\core\\arrays\\datetimes.py\u001b[0m in \u001b[0;36mobjects_to_datetime64ns\u001b[1;34m(data, dayfirst, yearfirst, utc, errors, require_iso8601, allow_object)\u001b[0m\n\u001b[0;32m   1978\u001b[0m         \u001b[1;32mtry\u001b[0m\u001b[1;33m:\u001b[0m\u001b[1;33m\u001b[0m\u001b[1;33m\u001b[0m\u001b[0m\n\u001b[1;32m-> 1979\u001b[1;33m             \u001b[0mvalues\u001b[0m\u001b[1;33m,\u001b[0m \u001b[0mtz_parsed\u001b[0m \u001b[1;33m=\u001b[0m \u001b[0mconversion\u001b[0m\u001b[1;33m.\u001b[0m\u001b[0mdatetime_to_datetime64\u001b[0m\u001b[1;33m(\u001b[0m\u001b[0mdata\u001b[0m\u001b[1;33m)\u001b[0m\u001b[1;33m\u001b[0m\u001b[1;33m\u001b[0m\u001b[0m\n\u001b[0m\u001b[0;32m   1980\u001b[0m             \u001b[1;31m# If tzaware, these values represent unix timestamps, so we\u001b[0m\u001b[1;33m\u001b[0m\u001b[1;33m\u001b[0m\u001b[1;33m\u001b[0m\u001b[0m\n",
      "\u001b[1;32mpandas\\_libs\\tslibs\\conversion.pyx\u001b[0m in \u001b[0;36mpandas._libs.tslibs.conversion.datetime_to_datetime64\u001b[1;34m()\u001b[0m\n",
      "\u001b[1;31mTypeError\u001b[0m: Unrecognized value type: <class 'str'>",
      "\nDuring handling of the above exception, another exception occurred:\n",
      "\u001b[1;31mOutOfBoundsDatetime\u001b[0m                       Traceback (most recent call last)",
      "\u001b[1;32m<ipython-input-51-4974584c67ab>\u001b[0m in \u001b[0;36m<module>\u001b[1;34m\u001b[0m\n\u001b[1;32m----> 1\u001b[1;33m \u001b[0mdata\u001b[0m\u001b[1;33m[\u001b[0m\u001b[1;34m'sentence_date'\u001b[0m\u001b[1;33m]\u001b[0m \u001b[1;33m=\u001b[0m \u001b[0mpd\u001b[0m\u001b[1;33m.\u001b[0m\u001b[0mto_datetime\u001b[0m\u001b[1;33m(\u001b[0m\u001b[0mdata\u001b[0m\u001b[1;33m[\u001b[0m\u001b[1;34m'sentence_date'\u001b[0m\u001b[1;33m]\u001b[0m\u001b[1;33m)\u001b[0m\u001b[1;33m\u001b[0m\u001b[1;33m\u001b[0m\u001b[0m\n\u001b[0m",
      "\u001b[1;32m~\\Anaconda3\\lib\\site-packages\\pandas\\util\\_decorators.py\u001b[0m in \u001b[0;36mwrapper\u001b[1;34m(*args, **kwargs)\u001b[0m\n\u001b[0;32m    206\u001b[0m                 \u001b[1;32melse\u001b[0m\u001b[1;33m:\u001b[0m\u001b[1;33m\u001b[0m\u001b[1;33m\u001b[0m\u001b[0m\n\u001b[0;32m    207\u001b[0m                     \u001b[0mkwargs\u001b[0m\u001b[1;33m[\u001b[0m\u001b[0mnew_arg_name\u001b[0m\u001b[1;33m]\u001b[0m \u001b[1;33m=\u001b[0m \u001b[0mnew_arg_value\u001b[0m\u001b[1;33m\u001b[0m\u001b[1;33m\u001b[0m\u001b[0m\n\u001b[1;32m--> 208\u001b[1;33m             \u001b[1;32mreturn\u001b[0m \u001b[0mfunc\u001b[0m\u001b[1;33m(\u001b[0m\u001b[1;33m*\u001b[0m\u001b[0margs\u001b[0m\u001b[1;33m,\u001b[0m \u001b[1;33m**\u001b[0m\u001b[0mkwargs\u001b[0m\u001b[1;33m)\u001b[0m\u001b[1;33m\u001b[0m\u001b[1;33m\u001b[0m\u001b[0m\n\u001b[0m\u001b[0;32m    209\u001b[0m \u001b[1;33m\u001b[0m\u001b[0m\n\u001b[0;32m    210\u001b[0m         \u001b[1;32mreturn\u001b[0m \u001b[0mwrapper\u001b[0m\u001b[1;33m\u001b[0m\u001b[1;33m\u001b[0m\u001b[0m\n",
      "\u001b[1;32m~\\Anaconda3\\lib\\site-packages\\pandas\\core\\tools\\datetimes.py\u001b[0m in \u001b[0;36mto_datetime\u001b[1;34m(arg, errors, dayfirst, yearfirst, utc, box, format, exact, unit, infer_datetime_format, origin, cache)\u001b[0m\n\u001b[0;32m    772\u001b[0m                 \u001b[0mresult\u001b[0m \u001b[1;33m=\u001b[0m \u001b[0mresult\u001b[0m\u001b[1;33m.\u001b[0m\u001b[0mtz_localize\u001b[0m\u001b[1;33m(\u001b[0m\u001b[0mtz\u001b[0m\u001b[1;33m)\u001b[0m\u001b[1;33m\u001b[0m\u001b[1;33m\u001b[0m\u001b[0m\n\u001b[0;32m    773\u001b[0m     \u001b[1;32melif\u001b[0m \u001b[0misinstance\u001b[0m\u001b[1;33m(\u001b[0m\u001b[0marg\u001b[0m\u001b[1;33m,\u001b[0m \u001b[0mABCSeries\u001b[0m\u001b[1;33m)\u001b[0m\u001b[1;33m:\u001b[0m\u001b[1;33m\u001b[0m\u001b[1;33m\u001b[0m\u001b[0m\n\u001b[1;32m--> 774\u001b[1;33m         \u001b[0mcache_array\u001b[0m \u001b[1;33m=\u001b[0m \u001b[0m_maybe_cache\u001b[0m\u001b[1;33m(\u001b[0m\u001b[0marg\u001b[0m\u001b[1;33m,\u001b[0m \u001b[0mformat\u001b[0m\u001b[1;33m,\u001b[0m \u001b[0mcache\u001b[0m\u001b[1;33m,\u001b[0m \u001b[0mconvert_listlike\u001b[0m\u001b[1;33m)\u001b[0m\u001b[1;33m\u001b[0m\u001b[1;33m\u001b[0m\u001b[0m\n\u001b[0m\u001b[0;32m    775\u001b[0m         \u001b[1;32mif\u001b[0m \u001b[1;32mnot\u001b[0m \u001b[0mcache_array\u001b[0m\u001b[1;33m.\u001b[0m\u001b[0mempty\u001b[0m\u001b[1;33m:\u001b[0m\u001b[1;33m\u001b[0m\u001b[1;33m\u001b[0m\u001b[0m\n\u001b[0;32m    776\u001b[0m             \u001b[0mresult\u001b[0m \u001b[1;33m=\u001b[0m \u001b[0marg\u001b[0m\u001b[1;33m.\u001b[0m\u001b[0mmap\u001b[0m\u001b[1;33m(\u001b[0m\u001b[0mcache_array\u001b[0m\u001b[1;33m)\u001b[0m\u001b[1;33m\u001b[0m\u001b[1;33m\u001b[0m\u001b[0m\n",
      "\u001b[1;32m~\\Anaconda3\\lib\\site-packages\\pandas\\core\\tools\\datetimes.py\u001b[0m in \u001b[0;36m_maybe_cache\u001b[1;34m(arg, format, cache, convert_listlike)\u001b[0m\n\u001b[0;32m    154\u001b[0m         \u001b[0munique_dates\u001b[0m \u001b[1;33m=\u001b[0m \u001b[0munique\u001b[0m\u001b[1;33m(\u001b[0m\u001b[0marg\u001b[0m\u001b[1;33m)\u001b[0m\u001b[1;33m\u001b[0m\u001b[1;33m\u001b[0m\u001b[0m\n\u001b[0;32m    155\u001b[0m         \u001b[1;32mif\u001b[0m \u001b[0mlen\u001b[0m\u001b[1;33m(\u001b[0m\u001b[0munique_dates\u001b[0m\u001b[1;33m)\u001b[0m \u001b[1;33m<\u001b[0m \u001b[0mlen\u001b[0m\u001b[1;33m(\u001b[0m\u001b[0marg\u001b[0m\u001b[1;33m)\u001b[0m\u001b[1;33m:\u001b[0m\u001b[1;33m\u001b[0m\u001b[1;33m\u001b[0m\u001b[0m\n\u001b[1;32m--> 156\u001b[1;33m             \u001b[0mcache_dates\u001b[0m \u001b[1;33m=\u001b[0m \u001b[0mconvert_listlike\u001b[0m\u001b[1;33m(\u001b[0m\u001b[0munique_dates\u001b[0m\u001b[1;33m,\u001b[0m \u001b[1;32mTrue\u001b[0m\u001b[1;33m,\u001b[0m \u001b[0mformat\u001b[0m\u001b[1;33m)\u001b[0m\u001b[1;33m\u001b[0m\u001b[1;33m\u001b[0m\u001b[0m\n\u001b[0m\u001b[0;32m    157\u001b[0m             \u001b[0mcache_array\u001b[0m \u001b[1;33m=\u001b[0m \u001b[0mSeries\u001b[0m\u001b[1;33m(\u001b[0m\u001b[0mcache_dates\u001b[0m\u001b[1;33m,\u001b[0m \u001b[0mindex\u001b[0m\u001b[1;33m=\u001b[0m\u001b[0munique_dates\u001b[0m\u001b[1;33m)\u001b[0m\u001b[1;33m\u001b[0m\u001b[1;33m\u001b[0m\u001b[0m\n\u001b[0;32m    158\u001b[0m     \u001b[1;32mreturn\u001b[0m \u001b[0mcache_array\u001b[0m\u001b[1;33m\u001b[0m\u001b[1;33m\u001b[0m\u001b[0m\n",
      "\u001b[1;32m~\\Anaconda3\\lib\\site-packages\\pandas\\core\\tools\\datetimes.py\u001b[0m in \u001b[0;36m_convert_listlike_datetimes\u001b[1;34m(arg, box, format, name, tz, unit, errors, infer_datetime_format, dayfirst, yearfirst, exact)\u001b[0m\n\u001b[0;32m    461\u001b[0m             \u001b[0merrors\u001b[0m\u001b[1;33m=\u001b[0m\u001b[0merrors\u001b[0m\u001b[1;33m,\u001b[0m\u001b[1;33m\u001b[0m\u001b[1;33m\u001b[0m\u001b[0m\n\u001b[0;32m    462\u001b[0m             \u001b[0mrequire_iso8601\u001b[0m\u001b[1;33m=\u001b[0m\u001b[0mrequire_iso8601\u001b[0m\u001b[1;33m,\u001b[0m\u001b[1;33m\u001b[0m\u001b[1;33m\u001b[0m\u001b[0m\n\u001b[1;32m--> 463\u001b[1;33m             \u001b[0mallow_object\u001b[0m\u001b[1;33m=\u001b[0m\u001b[1;32mTrue\u001b[0m\u001b[1;33m,\u001b[0m\u001b[1;33m\u001b[0m\u001b[1;33m\u001b[0m\u001b[0m\n\u001b[0m\u001b[0;32m    464\u001b[0m         )\n\u001b[0;32m    465\u001b[0m \u001b[1;33m\u001b[0m\u001b[0m\n",
      "\u001b[1;32m~\\Anaconda3\\lib\\site-packages\\pandas\\core\\arrays\\datetimes.py\u001b[0m in \u001b[0;36mobjects_to_datetime64ns\u001b[1;34m(data, dayfirst, yearfirst, utc, errors, require_iso8601, allow_object)\u001b[0m\n\u001b[0;32m   1982\u001b[0m             \u001b[1;32mreturn\u001b[0m \u001b[0mvalues\u001b[0m\u001b[1;33m.\u001b[0m\u001b[0mview\u001b[0m\u001b[1;33m(\u001b[0m\u001b[1;34m\"i8\"\u001b[0m\u001b[1;33m)\u001b[0m\u001b[1;33m,\u001b[0m \u001b[0mtz_parsed\u001b[0m\u001b[1;33m\u001b[0m\u001b[1;33m\u001b[0m\u001b[0m\n\u001b[0;32m   1983\u001b[0m         \u001b[1;32mexcept\u001b[0m \u001b[1;33m(\u001b[0m\u001b[0mValueError\u001b[0m\u001b[1;33m,\u001b[0m \u001b[0mTypeError\u001b[0m\u001b[1;33m)\u001b[0m\u001b[1;33m:\u001b[0m\u001b[1;33m\u001b[0m\u001b[1;33m\u001b[0m\u001b[0m\n\u001b[1;32m-> 1984\u001b[1;33m             \u001b[1;32mraise\u001b[0m \u001b[0me\u001b[0m\u001b[1;33m\u001b[0m\u001b[1;33m\u001b[0m\u001b[0m\n\u001b[0m\u001b[0;32m   1985\u001b[0m \u001b[1;33m\u001b[0m\u001b[0m\n\u001b[0;32m   1986\u001b[0m     \u001b[1;32mif\u001b[0m \u001b[0mtz_parsed\u001b[0m \u001b[1;32mis\u001b[0m \u001b[1;32mnot\u001b[0m \u001b[1;32mNone\u001b[0m\u001b[1;33m:\u001b[0m\u001b[1;33m\u001b[0m\u001b[1;33m\u001b[0m\u001b[0m\n",
      "\u001b[1;32m~\\Anaconda3\\lib\\site-packages\\pandas\\core\\arrays\\datetimes.py\u001b[0m in \u001b[0;36mobjects_to_datetime64ns\u001b[1;34m(data, dayfirst, yearfirst, utc, errors, require_iso8601, allow_object)\u001b[0m\n\u001b[0;32m   1973\u001b[0m             \u001b[0mdayfirst\u001b[0m\u001b[1;33m=\u001b[0m\u001b[0mdayfirst\u001b[0m\u001b[1;33m,\u001b[0m\u001b[1;33m\u001b[0m\u001b[1;33m\u001b[0m\u001b[0m\n\u001b[0;32m   1974\u001b[0m             \u001b[0myearfirst\u001b[0m\u001b[1;33m=\u001b[0m\u001b[0myearfirst\u001b[0m\u001b[1;33m,\u001b[0m\u001b[1;33m\u001b[0m\u001b[1;33m\u001b[0m\u001b[0m\n\u001b[1;32m-> 1975\u001b[1;33m             \u001b[0mrequire_iso8601\u001b[0m\u001b[1;33m=\u001b[0m\u001b[0mrequire_iso8601\u001b[0m\u001b[1;33m,\u001b[0m\u001b[1;33m\u001b[0m\u001b[1;33m\u001b[0m\u001b[0m\n\u001b[0m\u001b[0;32m   1976\u001b[0m         )\n\u001b[0;32m   1977\u001b[0m     \u001b[1;32mexcept\u001b[0m \u001b[0mValueError\u001b[0m \u001b[1;32mas\u001b[0m \u001b[0me\u001b[0m\u001b[1;33m:\u001b[0m\u001b[1;33m\u001b[0m\u001b[1;33m\u001b[0m\u001b[0m\n",
      "\u001b[1;32mpandas\\_libs\\tslib.pyx\u001b[0m in \u001b[0;36mpandas._libs.tslib.array_to_datetime\u001b[1;34m()\u001b[0m\n",
      "\u001b[1;32mpandas\\_libs\\tslib.pyx\u001b[0m in \u001b[0;36mpandas._libs.tslib.array_to_datetime\u001b[1;34m()\u001b[0m\n",
      "\u001b[1;32mpandas\\_libs\\tslib.pyx\u001b[0m in \u001b[0;36mpandas._libs.tslib.array_to_datetime\u001b[1;34m()\u001b[0m\n",
      "\u001b[1;32mpandas\\_libs\\tslib.pyx\u001b[0m in \u001b[0;36mpandas._libs.tslib.array_to_datetime\u001b[1;34m()\u001b[0m\n",
      "\u001b[1;32mpandas\\_libs\\tslibs\\conversion.pyx\u001b[0m in \u001b[0;36mpandas._libs.tslibs.conversion.convert_datetime_to_tsobject\u001b[1;34m()\u001b[0m\n",
      "\u001b[1;32mpandas\\_libs\\tslibs\\np_datetime.pyx\u001b[0m in \u001b[0;36mpandas._libs.tslibs.np_datetime.check_dts_bounds\u001b[1;34m()\u001b[0m\n",
      "\u001b[1;31mOutOfBoundsDatetime\u001b[0m: Out of bounds nanosecond timestamp: 2912-10-31 00:00:00"
     ]
    }
   ],
   "source": [
    "data['sentence_date'] = pd.to_datetime(data['sentence_date'])"
   ]
  },
  {
   "cell_type": "code",
   "execution_count": 52,
   "metadata": {},
   "outputs": [],
   "source": [
    "filter_year = 2000"
   ]
  }
 ],
 "metadata": {
  "language_info": {
   "codemirror_mode": {
    "name": "ipython",
    "version": 3
   },
   "file_extension": ".py",
   "mimetype": "text/x-python",
   "name": "python",
   "nbconvert_exporter": "python",
   "pygments_lexer": "ipython3",
   "version": "3.7.4-final"
  },
  "orig_nbformat": 2,
  "kernelspec": {
   "name": "python37464bitbaseconda1f272b08825b44268b0b382f97a12fd9",
   "display_name": "Python 3.7.4 64-bit ('base': conda)"
  }
 },
 "nbformat": 4,
 "nbformat_minor": 2
}