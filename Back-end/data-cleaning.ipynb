{
 "cells": [
  {
   "cell_type": "code",
   "execution_count": 1,
   "metadata": {},
   "outputs": [],
   "source": [
    "import pandas as pd\n",
    "from sodapy import Socrata\n",
    "import numpy as np"
   ]
  },
  {
   "cell_type": "markdown",
   "metadata": {},
   "source": [
    "# Get information from Cook County Sentencing Data Database"
   ]
  },
  {
   "cell_type": "code",
   "execution_count": 2,
   "metadata": {},
   "outputs": [
    {
     "output_type": "stream",
     "name": "stderr",
     "text": "WARNING:root:Requests made without an app_token will be subject to strict throttling limits.\n"
    }
   ],
   "source": [
    "# Call API\n",
    "client = Socrata(\"datacatalog.cookcountyil.gov\", None)"
   ]
  },
  {
   "cell_type": "code",
   "execution_count": 3,
   "metadata": {},
   "outputs": [],
   "source": [
    "# Retrive Data\n",
    "results = client.get(\"tg8v-tm6u\", limit=300000)"
   ]
  },
  {
   "cell_type": "code",
   "execution_count": 4,
   "metadata": {},
   "outputs": [
    {
     "output_type": "execute_result",
     "data": {
      "text/plain": "['case_id',\n 'case_participant_id',\n 'received_date',\n 'offense_category',\n 'primary_charge',\n 'charge_id',\n 'charge_version_id',\n 'disposition_charged_offense_title',\n 'charge_count',\n 'disposition_date',\n 'disposition_charged_chapter',\n 'disposition_charged_act',\n 'disposition_charged_section',\n 'disposition_charged_class',\n 'disposition_charged_aoic',\n 'charge_disposition',\n 'sentence_judge',\n 'court_name',\n 'court_facility',\n 'sentence_phase',\n 'sentence_date',\n 'sentence_type',\n 'current_sentence',\n 'commitment_type',\n 'length_of_case_in_days',\n 'age_at_incident',\n 'race',\n 'gender',\n 'incident_begin_date',\n 'law_enforcement_agency',\n 'arrest_date',\n 'felony_review_date',\n 'felony_review_result',\n 'arraignment_date',\n 'updated_offense_category',\n 'commitment_term',\n 'commitment_unit',\n 'incident_end_date',\n 'charge_disposition_reason',\n 'incident_city',\n 'unit']"
     },
     "metadata": {},
     "execution_count": 4
    }
   ],
   "source": [
    "# Generate DataFrame\n",
    "original_data = pd.DataFrame.from_records(results)\n",
    "\n",
    "# Explore data\n",
    "list(original_data.columns.values)"
   ]
  },
  {
   "cell_type": "markdown",
   "metadata": {},
   "source": [
    "# Cleaning Process"
   ]
  },
  {
   "cell_type": "markdown",
   "metadata": {},
   "source": [
    "## Select only chosen columns"
   ]
  },
  {
   "cell_type": "code",
   "execution_count": 5,
   "metadata": {},
   "outputs": [
    {
     "output_type": "execute_result",
     "data": {
      "text/plain": "       case_id case_participant_id     charge_id charge_version_id  \\\n0  87302669130        221103049156  106130426295       71631463339   \n1  87302669130        221103049156  106130637571       60521205325   \n2  87302669130        221103049156  106143736689       81281765233   \n3  87302669130        221103049156  106143842327       81277737609   \n4  87302669130        221103049156  106144159241       60394680398   \n\n       court_facility            court_name age_at_incident gender   race  \\\n0  Markham Courthouse  District 6 - Markham              27   Male  Black   \n1  Markham Courthouse  District 6 - Markham              27   Male  Black   \n2  Markham Courthouse  District 6 - Markham              27   Male  Black   \n3  Markham Courthouse  District 6 - Markham              27   Male  Black   \n4  Markham Courthouse  District 6 - Markham              27   Male  Black   \n\n  charge_disposition length_of_case_in_days  current_sentence  primary_charge  \\\n0    Nolle On Remand                    619              True           False   \n1    Nolle On Remand                    619              True           False   \n2    Nolle On Remand                    619              True           False   \n3    Nolle On Remand                    619              True           False   \n4     Plea Of Guilty                  10982              True           False   \n\n            sentence_date   offense_category commitment_term commitment_unit  \\\n0    6/2/1986 12:00:00 AM  PROMIS Conversion             NaN             NaN   \n1    6/2/1986 12:00:00 AM  PROMIS Conversion             030         Year(s)   \n2    6/2/1986 12:00:00 AM  PROMIS Conversion             NaN             NaN   \n3    6/2/1986 12:00:00 AM  PROMIS Conversion             NaN             NaN   \n4  10/16/2014 12:00:00 AM  PROMIS Conversion              30         Year(s)   \n\n  sentence_type  \n0    Conversion  \n1    Conversion  \n2    Conversion  \n3    Conversion  \n4        Prison  ",
      "text/html": "<div>\n<style scoped>\n    .dataframe tbody tr th:only-of-type {\n        vertical-align: middle;\n    }\n\n    .dataframe tbody tr th {\n        vertical-align: top;\n    }\n\n    .dataframe thead th {\n        text-align: right;\n    }\n</style>\n<table border=\"1\" class=\"dataframe\">\n  <thead>\n    <tr style=\"text-align: right;\">\n      <th></th>\n      <th>case_id</th>\n      <th>case_participant_id</th>\n      <th>charge_id</th>\n      <th>charge_version_id</th>\n      <th>court_facility</th>\n      <th>court_name</th>\n      <th>age_at_incident</th>\n      <th>gender</th>\n      <th>race</th>\n      <th>charge_disposition</th>\n      <th>length_of_case_in_days</th>\n      <th>current_sentence</th>\n      <th>primary_charge</th>\n      <th>sentence_date</th>\n      <th>offense_category</th>\n      <th>commitment_term</th>\n      <th>commitment_unit</th>\n      <th>sentence_type</th>\n    </tr>\n  </thead>\n  <tbody>\n    <tr>\n      <td>0</td>\n      <td>87302669130</td>\n      <td>221103049156</td>\n      <td>106130426295</td>\n      <td>71631463339</td>\n      <td>Markham Courthouse</td>\n      <td>District 6 - Markham</td>\n      <td>27</td>\n      <td>Male</td>\n      <td>Black</td>\n      <td>Nolle On Remand</td>\n      <td>619</td>\n      <td>True</td>\n      <td>False</td>\n      <td>6/2/1986 12:00:00 AM</td>\n      <td>PROMIS Conversion</td>\n      <td>NaN</td>\n      <td>NaN</td>\n      <td>Conversion</td>\n    </tr>\n    <tr>\n      <td>1</td>\n      <td>87302669130</td>\n      <td>221103049156</td>\n      <td>106130637571</td>\n      <td>60521205325</td>\n      <td>Markham Courthouse</td>\n      <td>District 6 - Markham</td>\n      <td>27</td>\n      <td>Male</td>\n      <td>Black</td>\n      <td>Nolle On Remand</td>\n      <td>619</td>\n      <td>True</td>\n      <td>False</td>\n      <td>6/2/1986 12:00:00 AM</td>\n      <td>PROMIS Conversion</td>\n      <td>030</td>\n      <td>Year(s)</td>\n      <td>Conversion</td>\n    </tr>\n    <tr>\n      <td>2</td>\n      <td>87302669130</td>\n      <td>221103049156</td>\n      <td>106143736689</td>\n      <td>81281765233</td>\n      <td>Markham Courthouse</td>\n      <td>District 6 - Markham</td>\n      <td>27</td>\n      <td>Male</td>\n      <td>Black</td>\n      <td>Nolle On Remand</td>\n      <td>619</td>\n      <td>True</td>\n      <td>False</td>\n      <td>6/2/1986 12:00:00 AM</td>\n      <td>PROMIS Conversion</td>\n      <td>NaN</td>\n      <td>NaN</td>\n      <td>Conversion</td>\n    </tr>\n    <tr>\n      <td>3</td>\n      <td>87302669130</td>\n      <td>221103049156</td>\n      <td>106143842327</td>\n      <td>81277737609</td>\n      <td>Markham Courthouse</td>\n      <td>District 6 - Markham</td>\n      <td>27</td>\n      <td>Male</td>\n      <td>Black</td>\n      <td>Nolle On Remand</td>\n      <td>619</td>\n      <td>True</td>\n      <td>False</td>\n      <td>6/2/1986 12:00:00 AM</td>\n      <td>PROMIS Conversion</td>\n      <td>NaN</td>\n      <td>NaN</td>\n      <td>Conversion</td>\n    </tr>\n    <tr>\n      <td>4</td>\n      <td>87302669130</td>\n      <td>221103049156</td>\n      <td>106144159241</td>\n      <td>60394680398</td>\n      <td>Markham Courthouse</td>\n      <td>District 6 - Markham</td>\n      <td>27</td>\n      <td>Male</td>\n      <td>Black</td>\n      <td>Plea Of Guilty</td>\n      <td>10982</td>\n      <td>True</td>\n      <td>False</td>\n      <td>10/16/2014 12:00:00 AM</td>\n      <td>PROMIS Conversion</td>\n      <td>30</td>\n      <td>Year(s)</td>\n      <td>Prison</td>\n    </tr>\n  </tbody>\n</table>\n</div>"
     },
     "metadata": {},
     "execution_count": 5
    }
   ],
   "source": [
    "data = original_data[['case_id','case_participant_id','charge_id','charge_version_id','court_facility','court_name','age_at_incident','gender','race','charge_disposition','length_of_case_in_days','current_sentence','primary_charge','sentence_date','offense_category','commitment_term','commitment_unit','sentence_type']]\n",
    "data.head()"
   ]
  },
  {
   "cell_type": "code",
   "execution_count": 6,
   "metadata": {},
   "outputs": [
    {
     "output_type": "execute_result",
     "data": {
      "text/plain": "case_id                   241511\ncase_participant_id       241511\ncharge_id                 241511\ncharge_version_id         241511\ncourt_facility            239630\ncourt_name                240126\nage_at_incident           232073\ngender                    240700\nrace                      240247\ncharge_disposition        241511\nlength_of_case_in_days    222605\ncurrent_sentence          241511\nprimary_charge            241511\nsentence_date             241511\noffense_category          241511\ncommitment_term           239852\ncommitment_unit           239852\nsentence_type             241511\ndtype: int64"
     },
     "metadata": {},
     "execution_count": 6
    }
   ],
   "source": [
    "# Explore values in columns\n",
    "data.count()"
   ]
  },
  {
   "cell_type": "markdown",
   "metadata": {},
   "source": [
    "## Drop NaN Values"
   ]
  },
  {
   "cell_type": "code",
   "execution_count": 7,
   "metadata": {},
   "outputs": [
    {
     "output_type": "execute_result",
     "data": {
      "text/plain": "case_id                   210782\ncase_participant_id       210782\ncharge_id                 210782\ncharge_version_id         210782\ncourt_facility            210782\ncourt_name                210782\nage_at_incident           210782\ngender                    210782\nrace                      210782\ncharge_disposition        210782\nlength_of_case_in_days    210782\ncurrent_sentence          210782\nprimary_charge            210782\nsentence_date             210782\noffense_category          210782\ncommitment_term           210782\ncommitment_unit           210782\nsentence_type             210782\ndtype: int64"
     },
     "metadata": {},
     "execution_count": 7
    }
   ],
   "source": [
    "data = data.dropna()\n",
    "data.count()"
   ]
  },
  {
   "cell_type": "markdown",
   "metadata": {},
   "source": [
    "## Filter data after 2000 & before 2019"
   ]
  },
  {
   "cell_type": "code",
   "execution_count": 8,
   "metadata": {},
   "outputs": [
    {
     "output_type": "execute_result",
     "data": {
      "text/plain": "case_id                   object\ncase_participant_id       object\ncharge_id                 object\ncharge_version_id         object\ncourt_facility            object\ncourt_name                object\nage_at_incident           object\ngender                    object\nrace                      object\ncharge_disposition        object\nlength_of_case_in_days    object\ncurrent_sentence            bool\nprimary_charge              bool\nsentence_date             object\noffense_category          object\ncommitment_term           object\ncommitment_unit           object\nsentence_type             object\ndtype: object"
     },
     "metadata": {},
     "execution_count": 8
    }
   ],
   "source": [
    "# Explore type of values in each column\n",
    "data.dtypes"
   ]
  },
  {
   "cell_type": "code",
   "execution_count": 9,
   "metadata": {},
   "outputs": [
    {
     "output_type": "execute_result",
     "data": {
      "text/plain": "       case_id case_participant_id     charge_id charge_version_id  \\\n1  87302669130        221103049156  106130637571       60521205325   \n4  87302669130        221103049156  106144159241       60394680398   \n5  87302669130        221103049156  106144159241       60394680398   \n6  87302669130        221103049156  106144264879       69145326192   \n7  87302669130        221103049156  106144264879       69145326192   \n\n       court_facility            court_name age_at_incident gender   race  \\\n1  Markham Courthouse  District 6 - Markham              27   Male  Black   \n4  Markham Courthouse  District 6 - Markham              27   Male  Black   \n5  Markham Courthouse  District 6 - Markham              27   Male  Black   \n6  Markham Courthouse  District 6 - Markham              27   Male  Black   \n7  Markham Courthouse  District 6 - Markham              27   Male  Black   \n\n  charge_disposition length_of_case_in_days  current_sentence  primary_charge  \\\n1    Nolle On Remand                    619              True           False   \n4     Plea Of Guilty                  10982              True           False   \n5     Plea Of Guilty                    619             False           False   \n6     Plea Of Guilty                  10982              True           False   \n7     Plea Of Guilty                    619             False           False   \n\n            sentence_date   offense_category commitment_term commitment_unit  \\\n1    6/2/1986 12:00:00 AM  PROMIS Conversion             030         Year(s)   \n4  10/16/2014 12:00:00 AM  PROMIS Conversion              30         Year(s)   \n5    6/2/1986 12:00:00 AM  PROMIS Conversion             030         Year(s)   \n6  10/16/2014 12:00:00 AM  PROMIS Conversion              30         Year(s)   \n7    6/2/1986 12:00:00 AM  PROMIS Conversion             030         Year(s)   \n\n  sentence_type                    year  \n1    Conversion    6/2/1986 12:00:00 AM  \n4        Prison  10/16/2014 12:00:00 AM  \n5    Conversion    6/2/1986 12:00:00 AM  \n6        Prison  10/16/2014 12:00:00 AM  \n7    Conversion    6/2/1986 12:00:00 AM  ",
      "text/html": "<div>\n<style scoped>\n    .dataframe tbody tr th:only-of-type {\n        vertical-align: middle;\n    }\n\n    .dataframe tbody tr th {\n        vertical-align: top;\n    }\n\n    .dataframe thead th {\n        text-align: right;\n    }\n</style>\n<table border=\"1\" class=\"dataframe\">\n  <thead>\n    <tr style=\"text-align: right;\">\n      <th></th>\n      <th>case_id</th>\n      <th>case_participant_id</th>\n      <th>charge_id</th>\n      <th>charge_version_id</th>\n      <th>court_facility</th>\n      <th>court_name</th>\n      <th>age_at_incident</th>\n      <th>gender</th>\n      <th>race</th>\n      <th>charge_disposition</th>\n      <th>length_of_case_in_days</th>\n      <th>current_sentence</th>\n      <th>primary_charge</th>\n      <th>sentence_date</th>\n      <th>offense_category</th>\n      <th>commitment_term</th>\n      <th>commitment_unit</th>\n      <th>sentence_type</th>\n      <th>year</th>\n    </tr>\n  </thead>\n  <tbody>\n    <tr>\n      <td>1</td>\n      <td>87302669130</td>\n      <td>221103049156</td>\n      <td>106130637571</td>\n      <td>60521205325</td>\n      <td>Markham Courthouse</td>\n      <td>District 6 - Markham</td>\n      <td>27</td>\n      <td>Male</td>\n      <td>Black</td>\n      <td>Nolle On Remand</td>\n      <td>619</td>\n      <td>True</td>\n      <td>False</td>\n      <td>6/2/1986 12:00:00 AM</td>\n      <td>PROMIS Conversion</td>\n      <td>030</td>\n      <td>Year(s)</td>\n      <td>Conversion</td>\n      <td>6/2/1986 12:00:00 AM</td>\n    </tr>\n    <tr>\n      <td>4</td>\n      <td>87302669130</td>\n      <td>221103049156</td>\n      <td>106144159241</td>\n      <td>60394680398</td>\n      <td>Markham Courthouse</td>\n      <td>District 6 - Markham</td>\n      <td>27</td>\n      <td>Male</td>\n      <td>Black</td>\n      <td>Plea Of Guilty</td>\n      <td>10982</td>\n      <td>True</td>\n      <td>False</td>\n      <td>10/16/2014 12:00:00 AM</td>\n      <td>PROMIS Conversion</td>\n      <td>30</td>\n      <td>Year(s)</td>\n      <td>Prison</td>\n      <td>10/16/2014 12:00:00 AM</td>\n    </tr>\n    <tr>\n      <td>5</td>\n      <td>87302669130</td>\n      <td>221103049156</td>\n      <td>106144159241</td>\n      <td>60394680398</td>\n      <td>Markham Courthouse</td>\n      <td>District 6 - Markham</td>\n      <td>27</td>\n      <td>Male</td>\n      <td>Black</td>\n      <td>Plea Of Guilty</td>\n      <td>619</td>\n      <td>False</td>\n      <td>False</td>\n      <td>6/2/1986 12:00:00 AM</td>\n      <td>PROMIS Conversion</td>\n      <td>030</td>\n      <td>Year(s)</td>\n      <td>Conversion</td>\n      <td>6/2/1986 12:00:00 AM</td>\n    </tr>\n    <tr>\n      <td>6</td>\n      <td>87302669130</td>\n      <td>221103049156</td>\n      <td>106144264879</td>\n      <td>69145326192</td>\n      <td>Markham Courthouse</td>\n      <td>District 6 - Markham</td>\n      <td>27</td>\n      <td>Male</td>\n      <td>Black</td>\n      <td>Plea Of Guilty</td>\n      <td>10982</td>\n      <td>True</td>\n      <td>False</td>\n      <td>10/16/2014 12:00:00 AM</td>\n      <td>PROMIS Conversion</td>\n      <td>30</td>\n      <td>Year(s)</td>\n      <td>Prison</td>\n      <td>10/16/2014 12:00:00 AM</td>\n    </tr>\n    <tr>\n      <td>7</td>\n      <td>87302669130</td>\n      <td>221103049156</td>\n      <td>106144264879</td>\n      <td>69145326192</td>\n      <td>Markham Courthouse</td>\n      <td>District 6 - Markham</td>\n      <td>27</td>\n      <td>Male</td>\n      <td>Black</td>\n      <td>Plea Of Guilty</td>\n      <td>619</td>\n      <td>False</td>\n      <td>False</td>\n      <td>6/2/1986 12:00:00 AM</td>\n      <td>PROMIS Conversion</td>\n      <td>030</td>\n      <td>Year(s)</td>\n      <td>Conversion</td>\n      <td>6/2/1986 12:00:00 AM</td>\n    </tr>\n  </tbody>\n</table>\n</div>"
     },
     "metadata": {},
     "execution_count": 9
    }
   ],
   "source": [
    "# Create a copy of the Sentence Date to filter it\n",
    "hdate = data['sentence_date']\n",
    "data['year'] = hdate\n",
    "\n",
    "data.head()"
   ]
  },
  {
   "cell_type": "code",
   "execution_count": 10,
   "metadata": {},
   "outputs": [],
   "source": [
    "# Select only the year\n",
    "data['year'] = data['year'].replace(regex=['[0-9]*\\/[0-9]*\\/','\\s[0-9]*\\:[0-9]*\\:[0-9]*\\s[A-Z]*'], value='')"
   ]
  },
  {
   "cell_type": "code",
   "execution_count": 11,
   "metadata": {},
   "outputs": [],
   "source": [
    "# Change value type\n",
    "data['year'] = data['year'].astype(int)"
   ]
  },
  {
   "cell_type": "code",
   "execution_count": 12,
   "metadata": {},
   "outputs": [
    {
     "output_type": "execute_result",
     "data": {
      "text/plain": "case_id                   object\ncase_participant_id       object\ncharge_id                 object\ncharge_version_id         object\ncourt_facility            object\ncourt_name                object\nage_at_incident           object\ngender                    object\nrace                      object\ncharge_disposition        object\nlength_of_case_in_days    object\ncurrent_sentence            bool\nprimary_charge              bool\nsentence_date             object\noffense_category          object\ncommitment_term           object\ncommitment_unit           object\nsentence_type             object\nyear                       int32\ndtype: object"
     },
     "metadata": {},
     "execution_count": 12
    }
   ],
   "source": [
    "data.dtypes"
   ]
  },
  {
   "cell_type": "code",
   "execution_count": 13,
   "metadata": {},
   "outputs": [],
   "source": [
    "# Filter year\n",
    "data = data[(data.year > 1999) & (data.year < 2020)]"
   ]
  },
  {
   "cell_type": "code",
   "execution_count": 14,
   "metadata": {},
   "outputs": [
    {
     "output_type": "execute_result",
     "data": {
      "text/plain": "                year\ncount  207508.000000\nmean     2014.735846\nstd         2.445846\nmin      2000.000000\n25%      2013.000000\n50%      2015.000000\n75%      2017.000000\nmax      2019.000000",
      "text/html": "<div>\n<style scoped>\n    .dataframe tbody tr th:only-of-type {\n        vertical-align: middle;\n    }\n\n    .dataframe tbody tr th {\n        vertical-align: top;\n    }\n\n    .dataframe thead th {\n        text-align: right;\n    }\n</style>\n<table border=\"1\" class=\"dataframe\">\n  <thead>\n    <tr style=\"text-align: right;\">\n      <th></th>\n      <th>year</th>\n    </tr>\n  </thead>\n  <tbody>\n    <tr>\n      <td>count</td>\n      <td>207508.000000</td>\n    </tr>\n    <tr>\n      <td>mean</td>\n      <td>2014.735846</td>\n    </tr>\n    <tr>\n      <td>std</td>\n      <td>2.445846</td>\n    </tr>\n    <tr>\n      <td>min</td>\n      <td>2000.000000</td>\n    </tr>\n    <tr>\n      <td>25%</td>\n      <td>2013.000000</td>\n    </tr>\n    <tr>\n      <td>50%</td>\n      <td>2015.000000</td>\n    </tr>\n    <tr>\n      <td>75%</td>\n      <td>2017.000000</td>\n    </tr>\n    <tr>\n      <td>max</td>\n      <td>2019.000000</td>\n    </tr>\n  </tbody>\n</table>\n</div>"
     },
     "metadata": {},
     "execution_count": 14
    }
   ],
   "source": [
    "# Confirm values\n",
    "data.describe()"
   ]
  },
  {
   "cell_type": "markdown",
   "metadata": {},
   "source": [
    "## Analize Offense Category and consolidate into related categories"
   ]
  },
  {
   "cell_type": "code",
   "execution_count": 15,
   "metadata": {},
   "outputs": [
    {
     "output_type": "execute_result",
     "data": {
      "text/plain": "Narcotics                       58271\nUUW - Unlawful Use of Weapon    23511\nAggravated DUI                  12778\nRetail Theft                    12360\nBurglary                        10750\n                                ...  \nTampering                           9\nFailure To Pay Child Support        6\nPossession of Explosives            3\nCompelling Gang Membership          2\nBenefit Recipient Fraud             2\nName: offense_category, Length: 88, dtype: int64"
     },
     "metadata": {},
     "execution_count": 15
    }
   ],
   "source": [
    "# Review all the information\n",
    "data.offense_category.value_counts()"
   ]
  },
  {
   "cell_type": "code",
   "execution_count": 16,
   "metadata": {},
   "outputs": [
    {
     "output_type": "execute_result",
     "data": {
      "text/plain": "Narcotics                       58271\nUUW - Unlawful Use of Weapon    23511\nAggravated DUI                  12778\nRetail Theft                    12360\nBurglary                        10750\n                                ...  \nTampering                           9\nFailure To Pay Child Support        6\nPossession of Explosives            3\nBenefit Recipient Fraud             2\nCompelling Gang Membership          2\nName: offense_category, Length: 86, dtype: int64"
     },
     "metadata": {},
     "execution_count": 16
    }
   ],
   "source": [
    "# Consolidate Homicide category\n",
    "data.offense_category = data.offense_category.replace(to_replace=['Attempt Homicide','Reckless Homicide'],value='Homicide')\n",
    "\n",
    "data.offense_category.value_counts()"
   ]
  },
  {
   "cell_type": "code",
   "execution_count": 17,
   "metadata": {},
   "outputs": [
    {
     "output_type": "execute_result",
     "data": {
      "text/plain": "Narcotics                       58271\nUUW - Unlawful Use of Weapon    23511\nAggravated DUI                  12778\nRetail Theft                    12360\nBurglary                        10750\n                                ...  \nTampering                           9\nFailure To Pay Child Support        6\nPossession of Explosives            3\nCompelling Gang Membership          2\nBenefit Recipient Fraud             2\nName: offense_category, Length: 83, dtype: int64"
     },
     "metadata": {},
     "execution_count": 17
    }
   ],
   "source": [
    "# Consolidate Offense Against Police Officers category\n",
    "data.offense_category = data.offense_category.replace(to_replace=['Aggravated Assault Police Officer','Aggravated Assault Police Officer Firearm','Police Shooting','Impersonating Police Officer'],value='Offense Against Police Officers')\n",
    "\n",
    "data.offense_category.value_counts()"
   ]
  },
  {
   "cell_type": "code",
   "execution_count": 18,
   "metadata": {},
   "outputs": [
    {
     "output_type": "execute_result",
     "data": {
      "text/plain": "Narcotics                       58271\nUUW - Unlawful Use of Weapon    23511\nBattery                         13511\nAggravated DUI                  12778\nRetail Theft                    12360\n                                ...  \nTampering                           9\nFailure To Pay Child Support        6\nPossession of Explosives            3\nCompelling Gang Membership          2\nBenefit Recipient Fraud             2\nName: offense_category, Length: 78, dtype: int64"
     },
     "metadata": {},
     "execution_count": 18
    }
   ],
   "source": [
    "# Consolidate Battery category\n",
    "data.offense_category = data.offense_category.replace(to_replace=['Aggravated Battery','Aggravated Battery Police Officer','Aggravated Battery Police Officer Firearm','Aggravated Battery With A Firearm','Domestic Battery'],value='Battery')\n",
    "\n",
    "data.offense_category.value_counts()"
   ]
  },
  {
   "cell_type": "code",
   "execution_count": 19,
   "metadata": {},
   "outputs": [
    {
     "output_type": "execute_result",
     "data": {
      "text/plain": "Narcotics                       58271\nRobbery/Burglery/Theft          47777\nUUW - Unlawful Use of Weapon    23511\nBattery                         13511\nAggravated DUI                  12778\n                                ...  \nTampering                           9\nFailure To Pay Child Support        6\nPossession of Explosives            3\nCompelling Gang Membership          2\nBenefit Recipient Fraud             2\nName: offense_category, Length: 66, dtype: int64"
     },
     "metadata": {},
     "execution_count": 19
    }
   ],
   "source": [
    "# Consolidate Robbery, Burglery and Theft category\n",
    "data.offense_category = data.offense_category.replace(to_replace=['Aggravated Identity Theft','Aggravated Robbery','Aggravated Robbery BB Gun','Armed Robbery','Attempt Armed Robbery','Burglary','Identity Theft','Residential Burglary','Retail Theft','Robbery','Theft','Theft by Deception','Possession Of Burglary Tools'],value='Robbery/Burglery/Theft')\n",
    "\n",
    "data.offense_category.value_counts()"
   ]
  },
  {
   "cell_type": "code",
   "execution_count": 20,
   "metadata": {},
   "outputs": [
    {
     "output_type": "execute_result",
     "data": {
      "text/plain": "Narcotics                       58271\nRobbery/Burglery/Theft          47777\nUUW - Unlawful Use of Weapon    23511\nBattery                         13511\nAggravated DUI                  12778\n                                ...  \nTampering                           9\nFailure To Pay Child Support        6\nPossession of Explosives            3\nCompelling Gang Membership          2\nBenefit Recipient Fraud             2\nName: offense_category, Length: 64, dtype: int64"
     },
     "metadata": {},
     "execution_count": 20
    }
   ],
   "source": [
    "# Consolidate Arson category\n",
    "data.offense_category = data.offense_category.replace(to_replace=['Arson and Attempt Arson','Attempt Arson'],value='Arson')\n",
    "\n",
    "data.offense_category.value_counts()"
   ]
  },
  {
   "cell_type": "code",
   "execution_count": 21,
   "metadata": {},
   "outputs": [
    {
     "output_type": "execute_result",
     "data": {
      "text/plain": "Narcotics                                        58271\nRobbery/Burglery/Theft                           47777\nFirearms and Explosives                          26030\nBattery                                          13511\nAggravated DUI                                   12778\nDriving With Suspended Or Revoked License         8155\nSex Crimes                                        4320\nOther Offense                                     3850\nPossession of Stolen Motor Vehicle                3756\nHomicide                                          3709\nDUI                                               3330\nForgery                                           2511\nEscape - Failure to Return                        2358\nPROMIS Conversion                                 2214\nFailure to Register as a Sex Offender             2177\nAggravated Fleeing and Eluding                    2131\nCriminal Damage to Property                       1642\nCredit Card Cases                                 1248\nHome Invasion                                     1210\nOffense Against Police Officers                    875\nVehicular Hijacking                                714\nProstitution                                       642\nFraudulent ID                                      452\nViolation Order Of Protection                      447\nArson                                              396\nFraud                                              339\nKidnapping                                         290\nStalking                                           289\nDeceptive Practice                                 195\nIntimidation                                       183\nMajor Accidents                                    172\nUnlawful Restraint                                 172\nObstructing Justice                                168\nPossession of Contraband in Penal Institution      134\nChild Pornography                                  120\nViolation of Sex Offender Registration              95\nCriminal Trespass To Residence                      94\nBribery                                             88\nChild Abduction                                     87\nVehicular Invasion                                  84\nHate Crimes                                         69\nHuman Trafficking                                   62\nAttempt Vehicular Hijacking                         56\nViolate Bail Bond                                   56\nOfficial Misconduct                                 54\nDog Fighting                                        40\nCommunicating With Witness                          34\nPerjury                                             28\nPossession of Shank in Penal Institution            25\nAttempt Sex Crimes                                  22\nPandering                                           17\nGambling                                            12\nTampering                                            9\nFailure To Pay Child Support                         6\nCompelling Gang Membership                           2\nBenefit Recipient Fraud                              2\nName: offense_category, dtype: int64"
     },
     "metadata": {},
     "execution_count": 21
    }
   ],
   "source": [
    "# Consolidate Firearms and Explosives category\n",
    "data.offense_category = data.offense_category.replace(to_replace=['Aggravated Discharge Firearm','Armed Violence','Disarming Police Officer','Gun Running','Possession of Explosives','UUW - Unlawful Use of Weapon','Gun - Non UUW','Bomb Threat','Reckless Discharge of Firearm'],value='Firearms and Explosives')\n",
    "\n",
    "data.offense_category.value_counts()"
   ]
  },
  {
   "cell_type": "code",
   "execution_count": 22,
   "metadata": {},
   "outputs": [
    {
     "output_type": "execute_result",
     "data": {
      "text/plain": "Narcotics                                        58271\nRobbery/Burglery/Theft                           47777\nMotor Vehicle Offenses                           29045\nFirearms and Explosives                          26030\nBattery                                          13511\nSex Crimes                                        4320\nOther Offense                                     3850\nHomicide                                          3709\nForgery                                           2511\nEscape - Failure to Return                        2358\nPROMIS Conversion                                 2214\nFailure to Register as a Sex Offender             2177\nAggravated Fleeing and Eluding                    2131\nCriminal Damage to Property                       1642\nCredit Card Cases                                 1248\nHome Invasion                                     1210\nOffense Against Police Officers                    875\nProstitution                                       642\nFraudulent ID                                      452\nViolation Order Of Protection                      447\nArson                                              396\nFraud                                              339\nKidnapping                                         290\nStalking                                           289\nDeceptive Practice                                 195\nIntimidation                                       183\nUnlawful Restraint                                 172\nObstructing Justice                                168\nPossession of Contraband in Penal Institution      134\nChild Pornography                                  120\nViolation of Sex Offender Registration              95\nCriminal Trespass To Residence                      94\nBribery                                             88\nChild Abduction                                     87\nHate Crimes                                         69\nHuman Trafficking                                   62\nViolate Bail Bond                                   56\nOfficial Misconduct                                 54\nDog Fighting                                        40\nCommunicating With Witness                          34\nPerjury                                             28\nPossession of Shank in Penal Institution            25\nAttempt Sex Crimes                                  22\nPandering                                           17\nGambling                                            12\nTampering                                            9\nFailure To Pay Child Support                         6\nCompelling Gang Membership                           2\nBenefit Recipient Fraud                              2\nName: offense_category, dtype: int64"
     },
     "metadata": {},
     "execution_count": 22
    }
   ],
   "source": [
    "# Consolidate Motor Vehicles Offenses category\n",
    "data.offense_category = data.offense_category.replace(to_replace=['Aggravated DUI','Attempt Vehicular Hijacking','DUI','Driving With Suspended Or Revoked License','Major Accidents','Possession of Stolen Motor Vehicle','Vehicular Hijacking','Vehicular Invasion'],value='Motor Vehicle Offenses')\n",
    "\n",
    "data.offense_category.value_counts()"
   ]
  },
  {
   "cell_type": "code",
   "execution_count": 23,
   "metadata": {},
   "outputs": [
    {
     "output_type": "execute_result",
     "data": {
      "text/plain": "Narcotics                                        58271\nRobbery/Burglery/Theft                           47777\nMotor Vehicle Offenses                           29045\nFirearms and Explosives                          26030\nBattery                                          13511\nSex Crimes                                        4320\nOther Offense                                     3850\nHomicide                                          3709\nJudicial Process Violations                       3100\nForgery                                           2511\nPROMIS Conversion                                 2214\nFailure to Register as a Sex Offender             2177\nAggravated Fleeing and Eluding                    2131\nCriminal Damage to Property                       1642\nCredit Card Cases                                 1248\nHome Invasion                                     1210\nOffense Against Police Officers                    875\nProstitution                                       642\nFraudulent ID                                      452\nArson                                              396\nFraud                                              339\nKidnapping                                         290\nStalking                                           289\nDeceptive Practice                                 195\nIntimidation                                       183\nUnlawful Restraint                                 172\nPossession of Contraband in Penal Institution      134\nChild Pornography                                  120\nViolation of Sex Offender Registration              95\nCriminal Trespass To Residence                      94\nBribery                                             88\nChild Abduction                                     87\nHate Crimes                                         69\nHuman Trafficking                                   62\nOfficial Misconduct                                 54\nDog Fighting                                        40\nPossession of Shank in Penal Institution            25\nAttempt Sex Crimes                                  22\nPandering                                           17\nGambling                                            12\nFailure To Pay Child Support                         6\nCompelling Gang Membership                           2\nBenefit Recipient Fraud                              2\nName: offense_category, dtype: int64"
     },
     "metadata": {},
     "execution_count": 23
    }
   ],
   "source": [
    "# Consolidate Judicial Process Violations category\n",
    "data.offense_category = data.offense_category.replace(to_replace=['Communicating With Witness','Escape - Failure to Return','Obstructing Justice','Perjury','Tampering','Violate Bail Bond','Violation Order Of Protection'],value='Judicial Process Violations')\n",
    "\n",
    "data.offense_category.value_counts()"
   ]
  },
  {
   "cell_type": "code",
   "execution_count": 24,
   "metadata": {},
   "outputs": [
    {
     "output_type": "execute_result",
     "data": {
      "text/plain": "Narcotics                                        58271\nRobbery/Burglery/Theft                           47777\nMotor Vehicle Offenses                           29045\nFirearms and Explosives                          26030\nBattery                                          13511\nSex Offenses                                      7393\nOther Offense                                     3850\nHomicide                                          3709\nJudicial Process Violations                       3100\nForgery                                           2511\nPROMIS Conversion                                 2214\nAggravated Fleeing and Eluding                    2131\nCriminal Damage to Property                       1642\nCredit Card Cases                                 1248\nHome Invasion                                     1210\nOffense Against Police Officers                    875\nFraudulent ID                                      452\nArson                                              396\nFraud                                              339\nKidnapping                                         290\nStalking                                           289\nDeceptive Practice                                 195\nIntimidation                                       183\nUnlawful Restraint                                 172\nPossession of Contraband in Penal Institution      134\nCriminal Trespass To Residence                      94\nBribery                                             88\nChild Abduction                                     87\nHate Crimes                                         69\nHuman Trafficking                                   62\nOfficial Misconduct                                 54\nDog Fighting                                        40\nPossession of Shank in Penal Institution            25\nGambling                                            12\nFailure To Pay Child Support                         6\nCompelling Gang Membership                           2\nBenefit Recipient Fraud                              2\nName: offense_category, dtype: int64"
     },
     "metadata": {},
     "execution_count": 24
    }
   ],
   "source": [
    "# Consolidate Sex Offenses category\n",
    "data.offense_category = data.offense_category.replace(to_replace=['Attempt Sex Crimes','Child Pornography','Failure to Register as a Sex Offender','Pandering','Prostitution','Sex Crimes','Violation of Sex Offender Registration'],value='Sex Offenses')\n",
    "\n",
    "data.offense_category.value_counts()"
   ]
  },
  {
   "cell_type": "code",
   "execution_count": 25,
   "metadata": {},
   "outputs": [
    {
     "output_type": "execute_result",
     "data": {
      "text/plain": "Narcotics                                        58271\nRobbery/Burglery/Theft                           47777\nMotor Vehicle Offenses                           29045\nFirearms and Explosives                          26030\nBattery                                          13511\nSex Offenses                                      7393\nOther Offense                                     3850\nHomicide                                          3709\nJudicial Process Violations                       3100\nForgery                                           2511\nPROMIS Conversion                                 2214\nAggravated Fleeing and Eluding                    2131\nCriminal Damage to Property                       1642\nCredit Card Cases                                 1248\nHome Invasion                                     1210\nOffense Against Police Officers                    875\nHuman Trafficking/Detention/Kidnapping             611\nFraudulent ID                                      452\nArson                                              396\nFraud                                              339\nStalking                                           289\nDeceptive Practice                                 195\nIntimidation                                       183\nPossession of Contraband in Penal Institution      134\nCriminal Trespass To Residence                      94\nBribery                                             88\nHate Crimes                                         69\nOfficial Misconduct                                 54\nDog Fighting                                        40\nPossession of Shank in Penal Institution            25\nGambling                                            12\nFailure To Pay Child Support                         6\nBenefit Recipient Fraud                              2\nCompelling Gang Membership                           2\nName: offense_category, dtype: int64"
     },
     "metadata": {},
     "execution_count": 25
    }
   ],
   "source": [
    "# Consolidate Human Trafficking, Detention and Kidnapping category\n",
    "data.offense_category = data.offense_category.replace(to_replace=['Child Abduction','Human Trafficking','Kidnapping','Unlawful Restraint'],value='Human Trafficking/Detention/Kidnapping')\n",
    "\n",
    "data.offense_category.value_counts()"
   ]
  },
  {
   "cell_type": "code",
   "execution_count": 26,
   "metadata": {},
   "outputs": [
    {
     "output_type": "execute_result",
     "data": {
      "text/plain": "Narcotics                                        58271\nRobbery/Burglery/Theft                           47777\nMotor Vehicle Offenses                           29045\nFirearms and Explosives                          26030\nBattery                                          13511\nSex Offenses                                      7393\nOther Offense                                     3850\nHomicide                                          3709\nJudicial Process Violations                       3100\nForgery                                           2511\nPROMIS Conversion                                 2214\nAggravated Fleeing and Eluding                    2131\nCriminal Damage to Property                       1642\nTrespassing                                       1304\nCredit Card Cases                                 1248\nOffense Against Police Officers                    875\nHuman Trafficking/Detention/Kidnapping             611\nFraudulent ID                                      452\nArson                                              396\nFraud                                              339\nStalking                                           289\nDeceptive Practice                                 195\nIntimidation                                       183\nPossession of Contraband in Penal Institution      134\nBribery                                             88\nHate Crimes                                         69\nOfficial Misconduct                                 54\nDog Fighting                                        40\nPossession of Shank in Penal Institution            25\nGambling                                            12\nFailure To Pay Child Support                         6\nBenefit Recipient Fraud                              2\nCompelling Gang Membership                           2\nName: offense_category, dtype: int64"
     },
     "metadata": {},
     "execution_count": 26
    }
   ],
   "source": [
    "# Consolidate Trespassing category\n",
    "data.offense_category = data.offense_category.replace(to_replace=['Home Invasion','Criminal Trespass To Residence'],value='Trespassing')\n",
    "\n",
    "data.offense_category.value_counts()"
   ]
  },
  {
   "cell_type": "code",
   "execution_count": 27,
   "metadata": {},
   "outputs": [
    {
     "output_type": "execute_result",
     "data": {
      "text/plain": "Narcotics                                        58271\nRobbery/Burglery/Theft                           47777\nMotor Vehicle Offenses                           29045\nFirearms and Explosives                          26030\nBattery                                          13511\nSex Offenses                                      7393\nFraud/Deception                                   4747\nOther Offense                                     3850\nHomicide                                          3709\nJudicial Process Violations                       3100\nPROMIS Conversion                                 2214\nAggravated Fleeing and Eluding                    2131\nCriminal Damage to Property                       1642\nTrespassing                                       1304\nOffense Against Police Officers                    875\nHuman Trafficking/Detention/Kidnapping             611\nArson                                              396\nStalking                                           289\nIntimidation                                       183\nPossession of Contraband in Penal Institution      134\nBribery                                             88\nHate Crimes                                         69\nOfficial Misconduct                                 54\nDog Fighting                                        40\nPossession of Shank in Penal Institution            25\nGambling                                            12\nFailure To Pay Child Support                         6\nCompelling Gang Membership                           2\nName: offense_category, dtype: int64"
     },
     "metadata": {},
     "execution_count": 27
    }
   ],
   "source": [
    "# Consolidate Fraud and Deception category\n",
    "data.offense_category = data.offense_category.replace(to_replace=['Benefit Recipient Fraud','Credit Card Cases','Deceptive Practice','Forgery','Fraud','Fraudulent ID'],value='Fraud/Deception')\n",
    "\n",
    "data.offense_category.value_counts()"
   ]
  },
  {
   "cell_type": "code",
   "execution_count": 28,
   "metadata": {},
   "outputs": [
    {
     "output_type": "execute_result",
     "data": {
      "text/plain": "Narcotics                                        58271\nRobbery/Burglery/Theft                           47777\nMotor Vehicle Offenses                           29045\nFirearms and Explosives                          26030\nBattery                                          13511\nSex Offenses                                      7393\nFraud/Deception                                   4747\nOther Offense                                     3850\nHomicide                                          3709\nJudicial Process Violations                       3100\nPROMIS Conversion                                 2214\nAggravated Fleeing and Eluding                    2131\nCriminal Damage to Property                       1642\nTrespassing                                       1304\nOffense Against Police Officers                    875\nHuman Trafficking/Detention/Kidnapping             611\nArson                                              396\nCorruption                                         325\nStalking                                           289\nPossession of Contraband in Penal Institution      134\nHate Crimes                                         69\nDog Fighting                                        40\nPossession of Shank in Penal Institution            25\nGambling                                            12\nFailure To Pay Child Support                         6\nCompelling Gang Membership                           2\nName: offense_category, dtype: int64"
     },
     "metadata": {},
     "execution_count": 28
    }
   ],
   "source": [
    "# Consolidate Corruption category\n",
    "data.offense_category = data.offense_category.replace(to_replace=['Intimidation','Official Misconduct','Bribery'],value='Corruption')\n",
    "\n",
    "data.offense_category.value_counts()"
   ]
  },
  {
   "cell_type": "code",
   "execution_count": 29,
   "metadata": {},
   "outputs": [
    {
     "output_type": "execute_result",
     "data": {
      "text/plain": "Narcotics                                 58271\nRobbery/Burglery/Theft                    47777\nMotor Vehicle Offenses                    29045\nFirearms and Explosives                   26030\nBattery                                   13511\nSex Offenses                               7393\nFraud/Deception                            4747\nOther Offense                              3850\nHomicide                                   3709\nJudicial Process Violations                3100\nPROMIS Conversion                          2214\nAggravated Fleeing and Eluding             2131\nCriminal Damage to Property                1642\nTrespassing                                1304\nOffense Against Police Officers             875\nHuman Trafficking/Detention/Kidnapping      611\nArson                                       396\nCorruption                                  325\nStalking                                    289\nInside Penal Institutions                   159\nHate Crimes                                  69\nDog Fighting                                 40\nGambling                                     12\nFailure To Pay Child Support                  6\nCompelling Gang Membership                    2\nName: offense_category, dtype: int64"
     },
     "metadata": {},
     "execution_count": 29
    }
   ],
   "source": [
    "# Consolidate Inside Penal Institutions category\n",
    "data.offense_category = data.offense_category.replace(to_replace=['Possession of Contraband in Penal Institution','Possession of Shank in Penal Institution'],value='Inside Penal Institutions')\n",
    "\n",
    "data.offense_category.value_counts()"
   ]
  },
  {
   "cell_type": "code",
   "execution_count": 30,
   "metadata": {},
   "outputs": [
    {
     "output_type": "execute_result",
     "data": {
      "text/plain": "Narcotics                                 58271\nRobbery/Burglery/Theft                    47777\nMotor Vehicle Offenses                    29045\nFirearms and Explosives                   26030\nBattery                                   13511\nSex Offenses                               7393\nFraud/Deception                            4747\nOther Offense                              3910\nHomicide                                   3709\nJudicial Process Violations                3100\nPROMIS Conversion                          2214\nAggravated Fleeing and Eluding             2131\nCriminal Damage to Property                1642\nTrespassing                                1304\nOffense Against Police Officers             875\nHuman Trafficking/Detention/Kidnapping      611\nArson                                       396\nCorruption                                  325\nStalking                                    289\nInside Penal Institutions                   159\nHate Crimes                                  69\nName: offense_category, dtype: int64"
     },
     "metadata": {},
     "execution_count": 30
    }
   ],
   "source": [
    "# Consolidate Other Offense category\n",
    "data.offense_category = data.offense_category.replace(to_replace=['Dog Fighting','Gambling','Failure To Pay Child Support','Compelling Gang Membership'],value='Other Offense')\n",
    "\n",
    "data.offense_category.value_counts()"
   ]
  },
  {
   "cell_type": "markdown",
   "metadata": {},
   "source": [
    "## Cleaning Race columns"
   ]
  },
  {
   "cell_type": "code",
   "execution_count": 31,
   "metadata": {},
   "outputs": [
    {
     "output_type": "execute_result",
     "data": {
      "text/plain": "Black                               140446\nWhite [Hispanic or Latino]           32744\nWhite                                28199\nHISPANIC                              3418\nAsian                                 1196\nWhite/Black [Hispanic or Latino]      1069\nUnknown                                293\nAmerican Indian                        108\nBiracial                                29\nASIAN                                    6\nName: race, dtype: int64"
     },
     "metadata": {},
     "execution_count": 31
    }
   ],
   "source": [
    "# Review data\n",
    "data.race.value_counts()"
   ]
  },
  {
   "cell_type": "code",
   "execution_count": 32,
   "metadata": {},
   "outputs": [
    {
     "output_type": "execute_result",
     "data": {
      "text/plain": "Black                               140446\nWhite [Hispanic or Latino]           32744\nWhite                                28199\nHISPANIC                              3418\nAsian                                 1202\nWhite/Black [Hispanic or Latino]      1069\nUnknown                                293\nAmerican Indian                        108\nBiracial                                29\nName: race, dtype: int64"
     },
     "metadata": {},
     "execution_count": 32
    }
   ],
   "source": [
    "# Consolidate Asian race\n",
    "data.race = data.race.replace(to_replace='ASIAN',value='Asian')\n",
    "\n",
    "data.race.value_counts()"
   ]
  },
  {
   "cell_type": "code",
   "execution_count": 33,
   "metadata": {},
   "outputs": [
    {
     "output_type": "execute_result",
     "data": {
      "text/plain": "Black              140446\nHispanic/Latino     37231\nWhite               28199\nAsian                1202\nUnknown               293\nAmerican Indian       108\nBiracial               29\nName: race, dtype: int64"
     },
     "metadata": {},
     "execution_count": 33
    }
   ],
   "source": [
    "# Consolidate Hispanic/Latino race\n",
    "data.race = data.race.replace(to_replace=['White [Hispanic or Latino]','HISPANIC','White/Black [Hispanic or Latino]'],value='Hispanic/Latino')\n",
    "\n",
    "data.race.value_counts()"
   ]
  },
  {
   "cell_type": "markdown",
   "metadata": {},
   "source": [
    "## Cleaning Sentence Type"
   ]
  },
  {
   "cell_type": "code",
   "execution_count": 34,
   "metadata": {},
   "outputs": [
    {
     "output_type": "execute_result",
     "data": {
      "text/plain": "Prison                                   112359\nProbation                                 80240\nJail                                       6434\nCook County Boot Camp                      2333\nConditional Discharge                      2180\n2nd Chance Probation                       1763\nSupervision                                1603\nProbation Terminated Unsatisfactorily       229\nInpatient Mental Health Services            155\nConditional Release                          57\nDeath                                        56\nProbation Terminated Instanter               54\nConversion                                   28\nProbation Terminated Satisfactorily          17\nName: sentence_type, dtype: int64"
     },
     "metadata": {},
     "execution_count": 34
    }
   ],
   "source": [
    "# Review data\n",
    "data.sentence_type.value_counts()"
   ]
  },
  {
   "cell_type": "code",
   "execution_count": 35,
   "metadata": {},
   "outputs": [
    {
     "output_type": "execute_result",
     "data": {
      "text/plain": "Prison                              112359\nProbation/Supervision                83906\nJail                                  6434\nCook County Boot Camp                 2333\nConditional Discharge                 2180\nInpatient Mental Health Services       155\nConditional Release                     57\nDeath                                   56\nConversion                              28\nName: sentence_type, dtype: int64"
     },
     "metadata": {},
     "execution_count": 35
    }
   ],
   "source": [
    "# Consolidate Probation & Supervision sentence\n",
    "data.sentence_type = data.sentence_type.replace(to_replace=['Probation','2nd Chance Probation','Supervision','Probation Terminated Unsatisfactorily','Probation Terminated Instanter','Probation Terminated Satisfactorily'],value='Probation/Supervision')\n",
    "\n",
    "data.sentence_type.value_counts()"
   ]
  },
  {
   "cell_type": "code",
   "execution_count": 36,
   "metadata": {},
   "outputs": [
    {
     "output_type": "execute_result",
     "data": {
      "text/plain": "Prison                              112359\nProbation/Supervision                83906\nJail                                  6434\nCook County Boot Camp                 2333\nConditional Discharge                 2237\nInpatient Mental Health Services       155\nDeath                                   56\nConversion                              28\nName: sentence_type, dtype: int64"
     },
     "metadata": {},
     "execution_count": 36
    }
   ],
   "source": [
    "# Consolidate Conditional sentence type\n",
    "data.sentence_type = data.sentence_type.replace(to_replace='Conditional Release',value='Conditional Discharge')\n",
    "\n",
    "data.sentence_type.value_counts()"
   ]
  },
  {
   "cell_type": "code",
   "execution_count": 37,
   "metadata": {},
   "outputs": [
    {
     "output_type": "execute_result",
     "data": {
      "text/plain": "Incarceration                       118793\nProbation/Supervision                83906\nCook County Boot Camp                 2333\nConditional Discharge                 2237\nInpatient Mental Health Services       155\nDeath                                   56\nConversion                              28\nName: sentence_type, dtype: int64"
     },
     "metadata": {},
     "execution_count": 37
    }
   ],
   "source": [
    "# Consolidate Incarceration sentence\n",
    "data.sentence_type = data.sentence_type.replace(to_replace=['Jail','Prison'],value='Incarceration')\n",
    "\n",
    "data.sentence_type.value_counts()"
   ]
  },
  {
   "cell_type": "markdown",
   "metadata": {},
   "source": [
    "## Cleaning Commitment Unit & Term by Sentence Type"
   ]
  },
  {
   "cell_type": "code",
   "execution_count": 38,
   "metadata": {},
   "outputs": [
    {
     "output_type": "execute_result",
     "data": {
      "text/plain": "Year(s)         151605\nMonths           47829\nDays              5448\nTerm              2135\nNatural Life       403\nDollars             56\nWeeks               15\nHours               14\nPounds               2\nKilos                1\nName: commitment_unit, dtype: int64"
     },
     "metadata": {},
     "execution_count": 38
    }
   ],
   "source": [
    "# Data Exploration\n",
    "data.commitment_unit.value_counts()"
   ]
  },
  {
   "cell_type": "code",
   "execution_count": 39,
   "metadata": {},
   "outputs": [
    {
     "output_type": "execute_result",
     "data": {
      "text/plain": "Year(s)         151605\nMonths           47829\nDays              5448\nTerm              2135\nNatural Life       403\nDollars             56\nWeeks               15\nHours               14\nWeight               3\nName: commitment_unit, dtype: int64"
     },
     "metadata": {},
     "execution_count": 39
    }
   ],
   "source": [
    "# Unify Weight units\n",
    "data.commitment_unit = data.commitment_unit.replace(to_replace=['Pounds','Kilos'],value='Weight')\n",
    "\n",
    "data.commitment_unit.value_counts()"
   ]
  },
  {
   "cell_type": "code",
   "execution_count": 40,
   "metadata": {},
   "outputs": [
    {
     "output_type": "execute_result",
     "data": {
      "text/plain": "['0',\n '00',\n '001',\n '002',\n '006',\n '007',\n '010',\n '012',\n '015',\n '018',\n '02',\n '024',\n '027',\n '030',\n '036',\n '042',\n '054',\n '055',\n '06',\n '062',\n '1',\n '1,154.00',\n '1.5',\n '10',\n '10.5',\n '100',\n '101',\n '1013',\n '102',\n '103',\n '104',\n '105',\n '106',\n '107',\n '108',\n '109',\n '11',\n '11.5',\n '110',\n '111',\n '112',\n '113',\n '114',\n '115',\n '116',\n '117',\n '118',\n '119',\n '12',\n '12.5',\n '12.75',\n '120',\n '121',\n '122',\n '123',\n '125',\n '126',\n '127',\n '1277.13',\n '128',\n '129',\n '13',\n '13.5',\n '130',\n '131',\n '132',\n '133',\n '134',\n '135',\n '136',\n '137',\n '138',\n '139',\n '14',\n '14.5',\n '140',\n '141',\n '142',\n '143',\n '144',\n '145',\n '146',\n '147',\n '148',\n '149',\n '15',\n '150',\n '151',\n '152',\n '153',\n '154',\n '155',\n '156',\n '157',\n '158',\n '159',\n '16',\n '16.5',\n '160',\n '161',\n '162',\n '163',\n '164',\n '165',\n '166',\n '167',\n '168',\n '169',\n '17',\n '17.5',\n '170',\n '171',\n '172',\n '174',\n '175',\n '176',\n '177',\n '178',\n '179',\n '18',\n '18 months',\n '180',\n '181',\n '182',\n '183',\n '184',\n '185',\n '186',\n '187',\n '188',\n '189',\n '19',\n '19.5',\n '190',\n '191',\n '192',\n '193',\n '194',\n '195',\n '196',\n '197',\n '198',\n '199',\n '2',\n '2.5',\n '2.6',\n '20',\n '20.5',\n '200',\n '202',\n '203',\n '204',\n '205',\n '206',\n '207',\n '208',\n '21',\n '210',\n '211',\n '212',\n '213',\n '214',\n '215',\n '216',\n '217',\n '218',\n '219',\n '22',\n '22.5',\n '220',\n '221',\n '222',\n '223',\n '224',\n '225',\n '226',\n '227',\n '228',\n '229',\n '23',\n '23.5',\n '230',\n '231',\n '232',\n '233',\n '234',\n '235',\n '236',\n '237',\n '238',\n '239',\n '24',\n '24 wrap',\n '240',\n '241',\n '242',\n '243',\n '244',\n '246',\n '247',\n '248',\n '25',\n '250',\n '251',\n '252',\n '253',\n '254',\n '256',\n '257',\n '258',\n '26',\n '26.5',\n '260',\n '261',\n '262',\n '263',\n '264',\n '265',\n '266',\n '267',\n '268',\n '269',\n '27',\n '270',\n '272',\n '273',\n '274',\n '275',\n '276',\n '279',\n '28',\n '280',\n '281',\n '282',\n '284',\n '285',\n '286',\n '288',\n '289',\n '29',\n '290',\n '291',\n '292',\n '294',\n '297',\n '298',\n '299',\n '2`',\n '3',\n '3.5',\n '3.6',\n '30',\n '30 months',\n '300',\n '301',\n '303',\n '305',\n '306',\n '307',\n '308',\n '309',\n '31',\n '31.5',\n '310',\n '311',\n '312',\n '313',\n '316',\n '317',\n '319',\n '32',\n '320',\n '321',\n '324',\n '325',\n '327',\n '328',\n '33',\n '330',\n '331',\n '332',\n '333',\n '334',\n '336',\n '338',\n '339',\n '34',\n '340',\n '341',\n '343',\n '344',\n '345',\n '347',\n '349',\n '35',\n '350',\n '351',\n '352',\n '353',\n '354',\n '355',\n '356',\n '357',\n '358',\n '359',\n '36',\n '360',\n '362',\n '364',\n '365',\n '368',\n '369',\n '37',\n '38',\n '380',\n '386',\n '387',\n '39',\n '390',\n '397',\n '4',\n '4.5',\n '4.75',\n '40',\n '405',\n '41',\n '416',\n '42',\n '43',\n '44',\n '444',\n '447',\n '45',\n '46',\n '4620',\n '47',\n '47.5',\n '471',\n '478',\n '48',\n '49',\n '5',\n '5.2',\n '5.25',\n '5.5',\n '5.6',\n '50',\n '51',\n '52',\n '528',\n '53',\n '54',\n '55',\n '555',\n '56',\n '57',\n '574',\n '58',\n '59',\n '591',\n '6',\n '6.4',\n '6.5',\n '6.50',\n '60',\n '607',\n '61',\n '62',\n '628',\n '63',\n '630',\n '634',\n '64',\n '65',\n '66',\n '67',\n '68',\n '69',\n '7',\n '7.3',\n '7.5',\n '7.6',\n '70',\n '71',\n '72',\n '73',\n '74',\n '75',\n '76',\n '77',\n '78',\n '79',\n '8',\n '8.5',\n '8.6',\n '8.75',\n '80',\n '81',\n '82',\n '83',\n '84',\n '85',\n '86',\n '87',\n '88',\n '89',\n '9',\n '9.3',\n '9.5',\n '9.6',\n '90',\n '91',\n '92',\n '93',\n '94',\n '95',\n '96',\n '97',\n '98',\n '99',\n '999',\n 'two']"
     },
     "metadata": {},
     "execution_count": 40
    }
   ],
   "source": [
    "sorted(list(data.commitment_term.unique()))"
   ]
  },
  {
   "cell_type": "code",
   "execution_count": 41,
   "metadata": {},
   "outputs": [
    {
     "output_type": "execute_result",
     "data": {
      "text/plain": "4         30.0\n6         30.0\n9         62.0\n17        70.0\n34         6.0\n          ... \n241252    24.0\n241257     2.0\n241280    18.0\n241298     2.0\n241310    90.0\nName: commitment_term, Length: 207508, dtype: float64"
     },
     "metadata": {},
     "execution_count": 41
    }
   ],
   "source": [
    "# Clean all non-numeric characters and transform value type to float\n",
    "data.commitment_term = data.commitment_term.replace(to_replace='two',value=2)\n",
    "data.commitment_term = data.commitment_term.replace(regex=['[a-z]*','\\,','\\`'], value='')\n",
    "data.commitment_term = data.commitment_term.astype('float')\n",
    "\n",
    "data.commitment_term"
   ]
  },
  {
   "cell_type": "code",
   "execution_count": 42,
   "metadata": {},
   "outputs": [
    {
     "output_type": "execute_result",
     "data": {
      "text/plain": "commitment_unit\nDays            102.542034\nDollars         130.520179\nHours            34.214286\nMonths           24.848784\nNatural Life     10.411911\nTerm              1.017330\nWeeks            25.066667\nWeight           11.333333\nYear(s)           4.167848\nName: commitment_term, dtype: float64"
     },
     "metadata": {},
     "execution_count": 42
    }
   ],
   "source": [
    "data_commitmentunits = data.groupby(['commitment_unit']).mean()\n",
    "data_commitmentunits['commitment_term']"
   ]
  },
  {
   "cell_type": "code",
   "execution_count": 43,
   "metadata": {},
   "outputs": [
    {
     "output_type": "execute_result",
     "data": {
      "text/plain": "        case_id case_participant_id     charge_id charge_version_id  \\\n4   87302669130        221103049156  106144159241       60394680398   \n6   87302669130        221103049156  106144264879       69145326192   \n9   87302669130        221103049156  106130320657       69533646672   \n17  90077158262        225880020769  108900784087       71752349593   \n34  91518077764        300040539496  122760812814      130802551602   \n\n        court_facility            court_name age_at_incident gender   race  \\\n4   Markham Courthouse  District 6 - Markham              27   Male  Black   \n6   Markham Courthouse  District 6 - Markham              27   Male  Black   \n9   Markham Courthouse  District 6 - Markham              27   Male  Black   \n17         26TH Street  District 1 - Chicago              21   Male  Black   \n34  Markham Courthouse  District 6 - Markham              23   Male  Black   \n\n   charge_disposition length_of_case_in_days  current_sentence  \\\n4      Plea Of Guilty                  10982              True   \n6      Plea Of Guilty                  10982              True   \n9      Plea Of Guilty                  10982              True   \n17     Finding Guilty                  12479              True   \n34     Verdict Guilty                   3760              True   \n\n    primary_charge           sentence_date   offense_category  \\\n4            False  10/16/2014 12:00:00 AM  PROMIS Conversion   \n6            False  10/16/2014 12:00:00 AM  PROMIS Conversion   \n9             True  10/16/2014 12:00:00 AM  PROMIS Conversion   \n17           False   9/10/2018 12:00:00 AM  PROMIS Conversion   \n34           False   3/14/2012 12:00:00 AM  PROMIS Conversion   \n\n    commitment_term commitment_unit  sentence_type  year  commitment_term_orig  \n4              30.0         Year(s)  Incarceration  2014                  30.0  \n6              30.0         Year(s)  Incarceration  2014                  30.0  \n9              62.0         Year(s)  Incarceration  2014                  62.0  \n17             70.0         Year(s)  Incarceration  2018                  70.0  \n34              6.0         Year(s)  Incarceration  2012                   6.0  ",
      "text/html": "<div>\n<style scoped>\n    .dataframe tbody tr th:only-of-type {\n        vertical-align: middle;\n    }\n\n    .dataframe tbody tr th {\n        vertical-align: top;\n    }\n\n    .dataframe thead th {\n        text-align: right;\n    }\n</style>\n<table border=\"1\" class=\"dataframe\">\n  <thead>\n    <tr style=\"text-align: right;\">\n      <th></th>\n      <th>case_id</th>\n      <th>case_participant_id</th>\n      <th>charge_id</th>\n      <th>charge_version_id</th>\n      <th>court_facility</th>\n      <th>court_name</th>\n      <th>age_at_incident</th>\n      <th>gender</th>\n      <th>race</th>\n      <th>charge_disposition</th>\n      <th>length_of_case_in_days</th>\n      <th>current_sentence</th>\n      <th>primary_charge</th>\n      <th>sentence_date</th>\n      <th>offense_category</th>\n      <th>commitment_term</th>\n      <th>commitment_unit</th>\n      <th>sentence_type</th>\n      <th>year</th>\n      <th>commitment_term_orig</th>\n    </tr>\n  </thead>\n  <tbody>\n    <tr>\n      <td>4</td>\n      <td>87302669130</td>\n      <td>221103049156</td>\n      <td>106144159241</td>\n      <td>60394680398</td>\n      <td>Markham Courthouse</td>\n      <td>District 6 - Markham</td>\n      <td>27</td>\n      <td>Male</td>\n      <td>Black</td>\n      <td>Plea Of Guilty</td>\n      <td>10982</td>\n      <td>True</td>\n      <td>False</td>\n      <td>10/16/2014 12:00:00 AM</td>\n      <td>PROMIS Conversion</td>\n      <td>30.0</td>\n      <td>Year(s)</td>\n      <td>Incarceration</td>\n      <td>2014</td>\n      <td>30.0</td>\n    </tr>\n    <tr>\n      <td>6</td>\n      <td>87302669130</td>\n      <td>221103049156</td>\n      <td>106144264879</td>\n      <td>69145326192</td>\n      <td>Markham Courthouse</td>\n      <td>District 6 - Markham</td>\n      <td>27</td>\n      <td>Male</td>\n      <td>Black</td>\n      <td>Plea Of Guilty</td>\n      <td>10982</td>\n      <td>True</td>\n      <td>False</td>\n      <td>10/16/2014 12:00:00 AM</td>\n      <td>PROMIS Conversion</td>\n      <td>30.0</td>\n      <td>Year(s)</td>\n      <td>Incarceration</td>\n      <td>2014</td>\n      <td>30.0</td>\n    </tr>\n    <tr>\n      <td>9</td>\n      <td>87302669130</td>\n      <td>221103049156</td>\n      <td>106130320657</td>\n      <td>69533646672</td>\n      <td>Markham Courthouse</td>\n      <td>District 6 - Markham</td>\n      <td>27</td>\n      <td>Male</td>\n      <td>Black</td>\n      <td>Plea Of Guilty</td>\n      <td>10982</td>\n      <td>True</td>\n      <td>True</td>\n      <td>10/16/2014 12:00:00 AM</td>\n      <td>PROMIS Conversion</td>\n      <td>62.0</td>\n      <td>Year(s)</td>\n      <td>Incarceration</td>\n      <td>2014</td>\n      <td>62.0</td>\n    </tr>\n    <tr>\n      <td>17</td>\n      <td>90077158262</td>\n      <td>225880020769</td>\n      <td>108900784087</td>\n      <td>71752349593</td>\n      <td>26TH Street</td>\n      <td>District 1 - Chicago</td>\n      <td>21</td>\n      <td>Male</td>\n      <td>Black</td>\n      <td>Finding Guilty</td>\n      <td>12479</td>\n      <td>True</td>\n      <td>False</td>\n      <td>9/10/2018 12:00:00 AM</td>\n      <td>PROMIS Conversion</td>\n      <td>70.0</td>\n      <td>Year(s)</td>\n      <td>Incarceration</td>\n      <td>2018</td>\n      <td>70.0</td>\n    </tr>\n    <tr>\n      <td>34</td>\n      <td>91518077764</td>\n      <td>300040539496</td>\n      <td>122760812814</td>\n      <td>130802551602</td>\n      <td>Markham Courthouse</td>\n      <td>District 6 - Markham</td>\n      <td>23</td>\n      <td>Male</td>\n      <td>Black</td>\n      <td>Verdict Guilty</td>\n      <td>3760</td>\n      <td>True</td>\n      <td>False</td>\n      <td>3/14/2012 12:00:00 AM</td>\n      <td>PROMIS Conversion</td>\n      <td>6.0</td>\n      <td>Year(s)</td>\n      <td>Incarceration</td>\n      <td>2012</td>\n      <td>6.0</td>\n    </tr>\n  </tbody>\n</table>\n</div>"
     },
     "metadata": {},
     "execution_count": 43
    }
   ],
   "source": [
    "terms = data['commitment_term']\n",
    "data['commitment_term_orig'] = terms\n",
    "\n",
    "terms_type = data['commitment_unit']\n",
    "data['commitment_unit_orig'] = terms_type\n",
    "\n",
    "data.head()"
   ]
  },
  {
   "cell_type": "markdown",
   "metadata": {},
   "source": [
    "### Cleaning by Cook County Boot Camp"
   ]
  },
  {
   "cell_type": "code",
   "execution_count": 44,
   "metadata": {},
   "outputs": [
    {
     "output_type": "execute_result",
     "data": {
      "text/plain": "Term       1967\nYear(s)     179\nMonths      135\nDays         51\nDollars       1\nName: commitment_unit, dtype: int64"
     },
     "metadata": {},
     "execution_count": 44
    }
   ],
   "source": [
    "bootcamp = data.loc[data.sentence_type == 'Cook County Boot Camp']\n",
    "bootcamp.commitment_unit.value_counts()"
   ]
  },
  {
   "cell_type": "code",
   "execution_count": 45,
   "metadata": {},
   "outputs": [
    {
     "output_type": "execute_result",
     "data": {
      "text/plain": "6.0     95\n0.0     17\n4.0     11\n12.0     6\n18.0     2\n24.0     2\n42.0     1\n9.0      1\nName: commitment_term, dtype: int64"
     },
     "metadata": {},
     "execution_count": 45
    }
   ],
   "source": [
    "bootcamp_years = bootcamp['commitment_term'].loc[bootcamp.commitment_unit == 'Months']\n",
    "bootcamp_years.value_counts()"
   ]
  },
  {
   "cell_type": "code",
   "execution_count": 46,
   "metadata": {},
   "outputs": [],
   "source": [
    "# Changing 0 Terms to Months\n",
    "data.loc[(data.sentence_type == 'Cook County Boot Camp') & (data.commitment_unit == 'Term') & (data.commitment_term == 0),['commitment_unit']] = 'Months'"
   ]
  },
  {
   "cell_type": "code",
   "execution_count": 47,
   "metadata": {},
   "outputs": [],
   "source": [
    "# Changing 0 Years to Months\n",
    "data.loc[(data.sentence_type == 'Cook County Boot Camp') & (data.commitment_unit == 'Year(s)') & (data.commitment_term == 0),['commitment_unit']] = 'Months'"
   ]
  },
  {
   "cell_type": "code",
   "execution_count": 48,
   "metadata": {},
   "outputs": [],
   "source": [
    "# Changing 1 Term to 12\n",
    "data.loc[(data.sentence_type == 'Cook County Boot Camp') & (data.commitment_unit == 'Term') & (data.commitment_term == 1),['commitment_term']] = 12"
   ]
  },
  {
   "cell_type": "code",
   "execution_count": 49,
   "metadata": {},
   "outputs": [],
   "source": [
    "# Changing 12 Term to Months\n",
    "data.loc[(data.sentence_type == 'Cook County Boot Camp') & (data.commitment_unit == 'Term') & (data.commitment_term == 12),['commitment_unit']] = 'Months'"
   ]
  },
  {
   "cell_type": "code",
   "execution_count": 50,
   "metadata": {},
   "outputs": [],
   "source": [
    "# Changing 18 Term to Months\n",
    "data.loc[(data.sentence_type == 'Cook County Boot Camp') & (data.commitment_unit == 'Term') & (data.commitment_term == 18),['commitment_unit']] = 'Months'"
   ]
  },
  {
   "cell_type": "code",
   "execution_count": 51,
   "metadata": {},
   "outputs": [
    {
     "output_type": "execute_result",
     "data": {
      "text/plain": "Months     2121\nYear(s)     160\nDays         51\nDollars       1\nName: commitment_unit, dtype: int64"
     },
     "metadata": {},
     "execution_count": 51
    }
   ],
   "source": [
    "bootcamp = data.loc[data.sentence_type == 'Cook County Boot Camp']\n",
    "bootcamp.commitment_unit.value_counts()"
   ]
  },
  {
   "cell_type": "code",
   "execution_count": 52,
   "metadata": {},
   "outputs": [
    {
     "output_type": "execute_result",
     "data": {
      "text/plain": "1.0     85\n3.0     26\n4.0     26\n2.0     13\n6.0      8\n15.0     1\n7.0      1\nName: commitment_term, dtype: int64"
     },
     "metadata": {},
     "execution_count": 52
    }
   ],
   "source": [
    "data.loc[data.sentence_type == 'Cook County Boot Camp'].commitment_term.loc[data.commitment_unit == 'Year(s)'].value_counts()"
   ]
  },
  {
   "cell_type": "code",
   "execution_count": 53,
   "metadata": {},
   "outputs": [],
   "source": [
    "# Changing Years to Months, numeric\n",
    "data.loc[(data.sentence_type == 'Cook County Boot Camp') & (data.commitment_unit == 'Year(s)') & (data.commitment_term == 1),['commitment_term']] = 12\n",
    "\n",
    "data.loc[(data.sentence_type == 'Cook County Boot Camp') & (data.commitment_unit == 'Year(s)') & (data.commitment_term == 2),['commitment_term']] = 24\n",
    "\n",
    "data.loc[(data.sentence_type == 'Cook County Boot Camp') & (data.commitment_unit == 'Year(s)') & (data.commitment_term == 3),['commitment_term']] = 36\n",
    "\n",
    "data.loc[(data.sentence_type == 'Cook County Boot Camp') & (data.commitment_unit == 'Year(s)') & (data.commitment_term == 4),['commitment_term']] = 48\n",
    "\n",
    "data.loc[(data.sentence_type == 'Cook County Boot Camp') & (data.commitment_unit == 'Year(s)') & (data.commitment_term == 6),['commitment_term']] = 72\n",
    "\n",
    "data.loc[(data.sentence_type == 'Cook County Boot Camp') & (data.commitment_unit == 'Year(s)') & (data.commitment_term == 7),['commitment_term']] = 84\n",
    "\n",
    "data.loc[(data.sentence_type == 'Cook County Boot Camp') & (data.commitment_unit == 'Year(s)') & (data.commitment_term == 15),['commitment_term']] = 180"
   ]
  },
  {
   "cell_type": "code",
   "execution_count": 54,
   "metadata": {},
   "outputs": [],
   "source": [
    "# Changing Years to Months unit\n",
    "data.loc[(data.sentence_type == 'Cook County Boot Camp') & (data.commitment_unit == 'Year(s)'),['commitment_unit']] = 'Months'"
   ]
  },
  {
   "cell_type": "code",
   "execution_count": 55,
   "metadata": {},
   "outputs": [
    {
     "output_type": "execute_result",
     "data": {
      "text/plain": "Months     2281\nDays         51\nDollars       1\nName: commitment_unit, dtype: int64"
     },
     "metadata": {},
     "execution_count": 55
    }
   ],
   "source": [
    "bootcamp = data.loc[data.sentence_type == 'Cook County Boot Camp']\n",
    "bootcamp.commitment_unit.value_counts()"
   ]
  },
  {
   "cell_type": "code",
   "execution_count": 56,
   "metadata": {},
   "outputs": [
    {
     "output_type": "execute_result",
     "data": {
      "text/plain": "180.0    43\n0.0       3\n120.0     2\n66.0      1\n299.0     1\n150.0     1\nName: commitment_term, dtype: int64"
     },
     "metadata": {},
     "execution_count": 56
    }
   ],
   "source": [
    "data.loc[data.sentence_type == 'Cook County Boot Camp'].commitment_term.loc[data.commitment_unit == 'Days'].value_counts()"
   ]
  },
  {
   "cell_type": "code",
   "execution_count": 57,
   "metadata": {},
   "outputs": [],
   "source": [
    "# Changing Days to Months, numeric\n",
    "data.loc[(data.sentence_type == 'Cook County Boot Camp') & (data.commitment_unit == 'Days') & (data.commitment_term == 180),['commitment_term']] = 6\n",
    "\n",
    "data.loc[(data.sentence_type == 'Cook County Boot Camp') & (data.commitment_unit == 'Days') & (data.commitment_term == 120),['commitment_term']] = 4\n",
    "\n",
    "data.loc[(data.sentence_type == 'Cook County Boot Camp') & (data.commitment_unit == 'Days') & (data.commitment_term == 150),['commitment_term']] = 5\n",
    "\n",
    "data.loc[(data.sentence_type == 'Cook County Boot Camp') & (data.commitment_unit == 'Days') & (data.commitment_term == 299),['commitment_term']] = 10\n",
    "\n",
    "data.loc[(data.sentence_type == 'Cook County Boot Camp') & (data.commitment_unit == 'Days') & (data.commitment_term == 66),['commitment_term']] = 2"
   ]
  },
  {
   "cell_type": "code",
   "execution_count": 58,
   "metadata": {},
   "outputs": [],
   "source": [
    "# Changing Years to Months unit\n",
    "data.loc[(data.sentence_type == 'Cook County Boot Camp') & (data.commitment_unit == 'Days'),['commitment_unit']] = 'Months'"
   ]
  },
  {
   "cell_type": "code",
   "execution_count": 59,
   "metadata": {},
   "outputs": [
    {
     "output_type": "execute_result",
     "data": {
      "text/plain": "Months     2332\nDollars       1\nName: commitment_unit, dtype: int64"
     },
     "metadata": {},
     "execution_count": 59
    }
   ],
   "source": [
    "bootcamp = data.loc[data.sentence_type == 'Cook County Boot Camp']\n",
    "bootcamp.commitment_unit.value_counts()"
   ]
  },
  {
   "cell_type": "code",
   "execution_count": 60,
   "metadata": {},
   "outputs": [
    {
     "output_type": "execute_result",
     "data": {
      "text/plain": "      commitment_term\n7549              0.0",
      "text/html": "<div>\n<style scoped>\n    .dataframe tbody tr th:only-of-type {\n        vertical-align: middle;\n    }\n\n    .dataframe tbody tr th {\n        vertical-align: top;\n    }\n\n    .dataframe thead th {\n        text-align: right;\n    }\n</style>\n<table border=\"1\" class=\"dataframe\">\n  <thead>\n    <tr style=\"text-align: right;\">\n      <th></th>\n      <th>commitment_term</th>\n    </tr>\n  </thead>\n  <tbody>\n    <tr>\n      <td>7549</td>\n      <td>0.0</td>\n    </tr>\n  </tbody>\n</table>\n</div>"
     },
     "metadata": {},
     "execution_count": 60
    }
   ],
   "source": [
    "data.loc[(data.sentence_type == 'Cook County Boot Camp') & (data.commitment_unit == 'Dollars'),['commitment_term']]"
   ]
  },
  {
   "cell_type": "code",
   "execution_count": 61,
   "metadata": {},
   "outputs": [],
   "source": [
    "# Changing Dollars to Months unit\n",
    "data.loc[(data.sentence_type == 'Cook County Boot Camp') & (data.commitment_unit == 'Dollars'),['commitment_unit']] = 'Months'"
   ]
  },
  {
   "cell_type": "code",
   "execution_count": 62,
   "metadata": {},
   "outputs": [
    {
     "output_type": "execute_result",
     "data": {
      "text/plain": "Months    2333\nName: commitment_unit, dtype: int64"
     },
     "metadata": {},
     "execution_count": 62
    }
   ],
   "source": [
    "bootcamp = data.loc[data.sentence_type == 'Cook County Boot Camp']\n",
    "bootcamp.commitment_unit.value_counts()"
   ]
  },
  {
   "cell_type": "code",
   "execution_count": 63,
   "metadata": {},
   "outputs": [
    {
     "output_type": "execute_result",
     "data": {
      "text/plain": "12.0     1980\n6.0       138\n0.0       117\n36.0       26\n48.0       26\n24.0       15\n4.0        13\n72.0        8\n18.0        3\n180.0       1\n2.0         1\n10.0        1\n5.0         1\n42.0        1\n9.0         1\n84.0        1\nName: commitment_term, dtype: int64"
     },
     "metadata": {},
     "execution_count": 63
    }
   ],
   "source": [
    "data.loc[data.sentence_type == 'Cook County Boot Camp'].commitment_term.value_counts()"
   ]
  },
  {
   "cell_type": "markdown",
   "metadata": {},
   "source": [
    "### Cleaning by Inpatient Mental Health Services"
   ]
  },
  {
   "cell_type": "code",
   "execution_count": 64,
   "metadata": {},
   "outputs": [
    {
     "output_type": "execute_result",
     "data": {
      "text/plain": "Year(s)    102\nTerm        35\nMonths      18\nName: commitment_unit, dtype: int64"
     },
     "metadata": {},
     "execution_count": 64
    }
   ],
   "source": [
    "data.loc[data.sentence_type == 'Inpatient Mental Health Services'].commitment_unit.value_counts()"
   ]
  },
  {
   "cell_type": "code",
   "execution_count": 65,
   "metadata": {},
   "outputs": [
    {
     "output_type": "execute_result",
     "data": {
      "text/plain": "120.0    36\n2.0      17\n60.0     14\n15.0      8\n5.0       7\n30.0      5\n14.0      5\n7.0       3\n13.0      2\n10.0      2\n1.0       1\n6.0       1\n3.0       1\nName: commitment_term, dtype: int64"
     },
     "metadata": {},
     "execution_count": 65
    }
   ],
   "source": [
    "data.loc[data.sentence_type == 'Inpatient Mental Health Services'].commitment_term.loc[data.commitment_unit == 'Year(s)'].value_counts()"
   ]
  },
  {
   "cell_type": "code",
   "execution_count": 66,
   "metadata": {},
   "outputs": [
    {
     "output_type": "execute_result",
     "data": {
      "text/plain": "14.0    10\n24.0     5\n15.0     2\n30.0     1\nName: commitment_term, dtype: int64"
     },
     "metadata": {},
     "execution_count": 66
    }
   ],
   "source": [
    "data.loc[data.sentence_type == 'Inpatient Mental Health Services'].commitment_term.loc[data.commitment_unit == 'Months'].value_counts()"
   ]
  },
  {
   "cell_type": "code",
   "execution_count": 67,
   "metadata": {},
   "outputs": [],
   "source": [
    "# Changing Months to Years, numeric\n",
    "data.loc[(data.sentence_type == 'Inpatient Mental Health Services') & (data.commitment_unit == 'Months') & (data.commitment_term == 14),['commitment_term']] = (14/12)\n",
    "\n",
    "data.loc[(data.sentence_type == 'Inpatient Mental Health Services') & (data.commitment_unit == 'Months') & (data.commitment_term == 24),['commitment_term']] = (24/12)\n",
    "\n",
    "data.loc[(data.sentence_type == 'Inpatient Mental Health Services') & (data.commitment_unit == 'Months') & (data.commitment_term == 15),['commitment_term']] = (15/12)\n",
    "\n",
    "data.loc[(data.sentence_type == 'Inpatient Mental Health Services') & (data.commitment_unit == 'Months') & (data.commitment_term == 30),['commitment_term']] = (30/12)"
   ]
  },
  {
   "cell_type": "code",
   "execution_count": 68,
   "metadata": {},
   "outputs": [],
   "source": [
    "data.loc[(data.sentence_type == 'Inpatient Mental Health Services') & (data.commitment_unit == 'Months'),['commitment_unit']] = 'Year(s)'"
   ]
  },
  {
   "cell_type": "code",
   "execution_count": 69,
   "metadata": {},
   "outputs": [
    {
     "output_type": "execute_result",
     "data": {
      "text/plain": "Year(s)    120\nTerm        35\nName: commitment_unit, dtype: int64"
     },
     "metadata": {},
     "execution_count": 69
    }
   ],
   "source": [
    "data.loc[data.sentence_type == 'Inpatient Mental Health Services'].commitment_unit.value_counts()"
   ]
  },
  {
   "cell_type": "code",
   "execution_count": 70,
   "metadata": {},
   "outputs": [
    {
     "output_type": "execute_result",
     "data": {
      "text/plain": "1.0    27\n0.0     8\nName: commitment_term, dtype: int64"
     },
     "metadata": {},
     "execution_count": 70
    }
   ],
   "source": [
    "data.loc[data.sentence_type == 'Inpatient Mental Health Services'].commitment_term.loc[data.commitment_unit == 'Term'].value_counts()"
   ]
  },
  {
   "cell_type": "code",
   "execution_count": 71,
   "metadata": {},
   "outputs": [
    {
     "output_type": "execute_result",
     "data": {
      "text/plain": "Incarceration                       118793\nProbation/Supervision                83906\nCook County Boot Camp                 2333\nConditional Discharge                 2237\nInpatient Mental Health Services       155\nDeath                                   56\nConversion                              28\nName: sentence_type, dtype: int64"
     },
     "metadata": {},
     "execution_count": 71
    }
   ],
   "source": [
    "data.sentence_type.value_counts()"
   ]
  },
  {
   "cell_type": "markdown",
   "metadata": {},
   "source": [
    "### Cleaning by Conditional Discharge"
   ]
  },
  {
   "cell_type": "code",
   "execution_count": 72,
   "metadata": {},
   "outputs": [
    {
     "output_type": "execute_result",
     "data": {
      "text/plain": "Months     1142\nYear(s)    1066\nDays         26\nTerm          2\nDollars       1\nName: commitment_unit, dtype: int64"
     },
     "metadata": {},
     "execution_count": 72
    }
   ],
   "source": [
    "data.loc[data.sentence_type == 'Conditional Discharge'].commitment_unit.value_counts()"
   ]
  },
  {
   "cell_type": "code",
   "execution_count": 73,
   "metadata": {},
   "outputs": [
    {
     "output_type": "execute_result",
     "data": {
      "text/plain": "18.0    559\n12.0    324\n24.0    190\n6.0      37\n30.0     17\n15.0      5\n20.0      3\n4.0       2\n16.0      1\n14.0      1\n9.0       1\n3.0       1\n1.0       1\nName: commitment_term, dtype: int64"
     },
     "metadata": {},
     "execution_count": 73
    }
   ],
   "source": [
    "data.loc[data.sentence_type == 'Conditional Discharge'].commitment_term.loc[data.commitment_unit == 'Months'].value_counts()"
   ]
  },
  {
   "cell_type": "code",
   "execution_count": 74,
   "metadata": {},
   "outputs": [
    {
     "output_type": "execute_result",
     "data": {
      "text/plain": "1.0     643\n2.0     417\n12.0      2\n3.0       2\n8.0       2\nName: commitment_term, dtype: int64"
     },
     "metadata": {},
     "execution_count": 74
    }
   ],
   "source": [
    "data.loc[data.sentence_type == 'Conditional Discharge'].commitment_term.loc[data.commitment_unit == 'Year(s)'].value_counts()"
   ]
  },
  {
   "cell_type": "code",
   "execution_count": 75,
   "metadata": {},
   "outputs": [],
   "source": [
    "# Changing Years to Months, numeric\n",
    "data.loc[(data.sentence_type == 'Conditional Discharge') & (data.commitment_unit == 'Year(s)') & (data.commitment_term == 1),['commitment_term']] = (1*12)\n",
    "\n",
    "data.loc[(data.sentence_type == 'Conditional Discharge') & (data.commitment_unit == 'Year(s)') & (data.commitment_term == 2),['commitment_term']] = (2*12)\n",
    "\n",
    "data.loc[(data.sentence_type == 'Conditional Discharge') & (data.commitment_unit == 'Year(s)') & (data.commitment_term == 12),['commitment_term']] = (12*12)\n",
    "\n",
    "data.loc[(data.sentence_type == 'Conditional Discharge') & (data.commitment_unit == 'Year(s)') & (data.commitment_term == 3),['commitment_term']] = (3*12)\n",
    "\n",
    "data.loc[(data.sentence_type == 'Conditional Discharge') & (data.commitment_unit == 'Year(s)') & (data.commitment_term == 8),['commitment_term']] = (8*12)"
   ]
  },
  {
   "cell_type": "code",
   "execution_count": 76,
   "metadata": {},
   "outputs": [],
   "source": [
    "data.loc[(data.sentence_type == 'Conditional Discharge') & (data.commitment_unit == 'Year(s)'),['commitment_unit']] = 'Months'"
   ]
  },
  {
   "cell_type": "code",
   "execution_count": 77,
   "metadata": {},
   "outputs": [
    {
     "output_type": "execute_result",
     "data": {
      "text/plain": "Months     2208\nDays         26\nTerm          2\nDollars       1\nName: commitment_unit, dtype: int64"
     },
     "metadata": {},
     "execution_count": 77
    }
   ],
   "source": [
    "data.loc[data.sentence_type == 'Conditional Discharge'].commitment_unit.value_counts()"
   ]
  },
  {
   "cell_type": "code",
   "execution_count": 78,
   "metadata": {},
   "outputs": [
    {
     "output_type": "execute_result",
     "data": {
      "text/plain": "2.0      4\n5.0      3\n30.0     2\n4.0      2\n0.0      2\n90.0     1\n158.0    1\n133.0    1\n60.0     1\n12.0     1\n120.0    1\n10.0     1\n364.0    1\n7.0      1\n194.0    1\n180.0    1\n1.0      1\n14.0     1\nName: commitment_term, dtype: int64"
     },
     "metadata": {},
     "execution_count": 78
    }
   ],
   "source": [
    "data.loc[data.sentence_type == 'Conditional Discharge'].commitment_term.loc[data.commitment_unit == 'Days'].value_counts()"
   ]
  },
  {
   "cell_type": "code",
   "execution_count": 79,
   "metadata": {},
   "outputs": [],
   "source": [
    "# Changing Years to Months, numeric\n",
    "data.loc[(data.sentence_type == 'Conditional Discharge') & (data.commitment_unit == 'Days') & (data.commitment_term == 2),['commitment_term']] = 0.07\n",
    "\n",
    "data.loc[(data.sentence_type == 'Conditional Discharge') & (data.commitment_unit == 'Days') & (data.commitment_term == 5),['commitment_term']] = 0.17\n",
    "\n",
    "data.loc[(data.sentence_type == 'Conditional Discharge') & (data.commitment_unit == 'Days') & (data.commitment_term == 30),['commitment_term']] = 1\n",
    "\n",
    "data.loc[(data.sentence_type == 'Conditional Discharge') & (data.commitment_unit == 'Days') & (data.commitment_term == 4),['commitment_term']] = 0.13\n",
    "\n",
    "data.loc[(data.sentence_type == 'Conditional Discharge') & (data.commitment_unit == 'Days') & (data.commitment_term == 90),['commitment_term']] = 3\n",
    "\n",
    "data.loc[(data.sentence_type == 'Conditional Discharge') & (data.commitment_unit == 'Days') & (data.commitment_term == 158),['commitment_term']] = 5\n",
    "\n",
    "data.loc[(data.sentence_type == 'Conditional Discharge') & (data.commitment_unit == 'Days') & (data.commitment_term == 133),['commitment_term']] = 4.75\n",
    "\n",
    "data.loc[(data.sentence_type == 'Conditional Discharge') & (data.commitment_unit == 'Days') & (data.commitment_term == 60),['commitment_term']] = 2\n",
    "\n",
    "data.loc[(data.sentence_type == 'Conditional Discharge') & (data.commitment_unit == 'Days') & (data.commitment_term == 12),['commitment_term']] = 0.4\n",
    "\n",
    "data.loc[(data.sentence_type == 'Conditional Discharge') & (data.commitment_unit == 'Days') & (data.commitment_term == 120),['commitment_term']] = 5\n",
    "\n",
    "data.loc[(data.sentence_type == 'Conditional Discharge') & (data.commitment_unit == 'Days') & (data.commitment_term == 10),['commitment_term']] = 0.33\n",
    "\n",
    "data.loc[(data.sentence_type == 'Conditional Discharge') & (data.commitment_unit == 'Days') & (data.commitment_term == 364),['commitment_term']] = 12\n",
    "\n",
    "data.loc[(data.sentence_type == 'Conditional Discharge') & (data.commitment_unit == 'Days') & (data.commitment_term == 7),['commitment_term']] = 0.25\n",
    "\n",
    "data.loc[(data.sentence_type == 'Conditional Discharge') & (data.commitment_unit == 'Days') & (data.commitment_term == 194),['commitment_term']] = 7\n",
    "\n",
    "data.loc[(data.sentence_type == 'Conditional Discharge') & (data.commitment_unit == 'Days') & (data.commitment_term == 180),['commitment_term']] = 6\n",
    "\n",
    "data.loc[(data.sentence_type == 'Conditional Discharge') & (data.commitment_unit == 'Days') & (data.commitment_term == 1),['commitment_term']] = 0.03\n",
    "\n",
    "data.loc[(data.sentence_type == 'Conditional Discharge') & (data.commitment_unit == 'Days') & (data.commitment_term == 14),['commitment_term']] = 0.5"
   ]
  },
  {
   "cell_type": "code",
   "execution_count": 80,
   "metadata": {},
   "outputs": [],
   "source": [
    "data.loc[(data.sentence_type == 'Conditional Discharge') & (data.commitment_unit == 'Days'),['commitment_unit']] = 'Months'"
   ]
  },
  {
   "cell_type": "code",
   "execution_count": 81,
   "metadata": {},
   "outputs": [
    {
     "output_type": "execute_result",
     "data": {
      "text/plain": "Months     2234\nTerm          2\nDollars       1\nName: commitment_unit, dtype: int64"
     },
     "metadata": {},
     "execution_count": 81
    }
   ],
   "source": [
    "data.loc[data.sentence_type == 'Conditional Discharge'].commitment_unit.value_counts()"
   ]
  },
  {
   "cell_type": "code",
   "execution_count": 82,
   "metadata": {},
   "outputs": [
    {
     "output_type": "execute_result",
     "data": {
      "text/plain": "1.0    2\nName: commitment_term, dtype: int64"
     },
     "metadata": {},
     "execution_count": 82
    }
   ],
   "source": [
    "data.loc[data.sentence_type == 'Conditional Discharge'].commitment_term.loc[data.commitment_unit == 'Term'].value_counts()"
   ]
  },
  {
   "cell_type": "code",
   "execution_count": 83,
   "metadata": {},
   "outputs": [
    {
     "output_type": "execute_result",
     "data": {
      "text/plain": "100.0    1\nName: commitment_term, dtype: int64"
     },
     "metadata": {},
     "execution_count": 83
    }
   ],
   "source": [
    "data.loc[data.sentence_type == 'Conditional Discharge'].commitment_term.loc[data.commitment_unit == 'Dollars'].value_counts()"
   ]
  },
  {
   "cell_type": "markdown",
   "metadata": {},
   "source": [
    "### Cleaning by Probation/Supervision"
   ]
  },
  {
   "cell_type": "code",
   "execution_count": 84,
   "metadata": {},
   "outputs": [
    {
     "output_type": "execute_result",
     "data": {
      "text/plain": "Incarceration                       118793\nProbation/Supervision                83906\nCook County Boot Camp                 2333\nConditional Discharge                 2237\nInpatient Mental Health Services       155\nDeath                                   56\nConversion                              28\nName: sentence_type, dtype: int64"
     },
     "metadata": {},
     "execution_count": 84
    }
   ],
   "source": [
    "data.sentence_type.value_counts()"
   ]
  },
  {
   "cell_type": "code",
   "execution_count": 85,
   "metadata": {},
   "outputs": [
    {
     "output_type": "execute_result",
     "data": {
      "text/plain": "Year(s)         49203\nMonths          33936\nDays              636\nTerm               87\nNatural Life       12\nWeeks              11\nDollars             9\nHours               9\nWeight              3\nName: commitment_unit, dtype: int64"
     },
     "metadata": {},
     "execution_count": 85
    }
   ],
   "source": [
    "data.loc[data.sentence_type == 'Probation/Supervision'].commitment_unit.value_counts()"
   ]
  },
  {
   "cell_type": "code",
   "execution_count": 86,
   "metadata": {},
   "outputs": [
    {
     "output_type": "execute_result",
     "data": {
      "text/plain": "2.00       4\n1277.13    1\n1154.00    1\n27.00      1\n1.00       1\n24.00      1\nName: commitment_term, dtype: int64"
     },
     "metadata": {},
     "execution_count": 86
    }
   ],
   "source": [
    "data.loc[data.sentence_type == 'Probation/Supervision'].commitment_term.loc[data.commitment_unit == 'Dollars'].value_counts()"
   ]
  },
  {
   "cell_type": "code",
   "execution_count": 87,
   "metadata": {},
   "outputs": [
    {
     "output_type": "execute_result",
     "data": {
      "text/plain": "2.0    6\n1.0    6\nName: commitment_term, dtype: int64"
     },
     "metadata": {},
     "execution_count": 87
    }
   ],
   "source": [
    "data.loc[data.sentence_type == 'Probation/Supervision'].commitment_term.loc[data.commitment_unit == 'Natural Life'].value_counts()"
   ]
  },
  {
   "cell_type": "code",
   "execution_count": 102,
   "metadata": {},
   "outputs": [],
   "source": [
    "data.loc[(data.sentence_type == 'Probation/Supervision') & (data.commitment_unit == 'Natural Life') & (data.commitment_term == 1),['commitment_term']] = 1560\n",
    "\n",
    "data.loc[(data.sentence_type == 'Probation/Supervision') & (data.commitment_unit == 'Natural Life') & (data.commitment_term == 2),['commitment_term']] = 1560"
   ]
  },
  {
   "cell_type": "code",
   "execution_count": 103,
   "metadata": {},
   "outputs": [
    {
     "output_type": "execute_result",
     "data": {
      "text/plain": "130.0    12\nName: commitment_term, dtype: int64"
     },
     "metadata": {},
     "execution_count": 103
    }
   ],
   "source": [
    "data.loc[data.sentence_type == 'Probation/Supervision'].commitment_term.loc[data.commitment_unit == 'Natural Life'].value_counts()"
   ]
  },
  {
   "cell_type": "code",
   "execution_count": 104,
   "metadata": {},
   "outputs": [],
   "source": [
    "data.loc[(data.sentence_type == 'Probation/Supervision') & (data.commitment_unit == 'Natural Life'),['commitment_unit']] = 'Months'"
   ]
  },
  {
   "cell_type": "code",
   "execution_count": 105,
   "metadata": {},
   "outputs": [
    {
     "output_type": "execute_result",
     "data": {
      "text/plain": "Year(s)    49215\nMonths     33936\nDays         636\nTerm          87\nWeeks         11\nDollars        9\nHours          9\nWeight         3\nName: commitment_unit, dtype: int64"
     },
     "metadata": {},
     "execution_count": 105
    }
   ],
   "source": [
    "data.loc[data.sentence_type == 'Probation/Supervision'].commitment_unit.value_counts()"
   ]
  },
  {
   "cell_type": "code",
   "execution_count": 107,
   "metadata": {},
   "outputs": [
    {
     "output_type": "execute_result",
     "data": {
      "text/plain": "2.0     3\n24.0    3\n18.0    2\n12.0    1\n30.0    1\n54.0    1\nName: commitment_term, dtype: int64"
     },
     "metadata": {},
     "execution_count": 107
    }
   ],
   "source": [
    "data.loc[data.sentence_type == 'Probation/Supervision'].commitment_term.loc[data.commitment_unit == 'Weeks'].value_counts()"
   ]
  },
  {
   "cell_type": "code",
   "execution_count": 108,
   "metadata": {},
   "outputs": [
    {
     "output_type": "execute_result",
     "data": {
      "text/plain": "24.0     16264\n18.0      8315\n30.0      6349\n12.0      1251\n14.0       497\n36.0       450\n6.0        258\n15.0       108\n0.0         89\n48.0        82\n2.0         46\n13.0        36\n3.0         35\n20.0        35\n16.0        15\n21.0        15\n17.0        14\n19.0        13\n42.0        12\n9.0          8\n23.0         7\n22.0         6\n11.0         4\n25.0         4\n28.0         3\n10.0         3\n54.0         3\n29.0         2\n27.0         2\n20.5         1\n8.0          1\n66.0         1\n4.0          1\n32.0         1\n34.0         1\n39.0         1\n33.0         1\n254.0        1\n1.0          1\nName: commitment_term, dtype: int64"
     },
     "metadata": {},
     "execution_count": 108
    }
   ],
   "source": [
    "data.loc[data.sentence_type == 'Probation/Supervision'].commitment_term.loc[data.commitment_unit == 'Months'].value_counts()"
   ]
  },
  {
   "cell_type": "code",
   "execution_count": 110,
   "metadata": {},
   "outputs": [
    {
     "output_type": "execute_result",
     "data": {
      "text/plain": "[0.0,\n 1.0,\n 2.0,\n 3.0,\n 4.0,\n 5.0,\n 6.0,\n 7.0,\n 8.0,\n 10.0,\n 12.0,\n 14.0,\n 15.0,\n 16.0,\n 17.0,\n 18.0,\n 19.0,\n 20.0,\n 21.0,\n 22.0,\n 23.0,\n 24.0,\n 25.0,\n 26.0,\n 27.0,\n 28.0,\n 29.0,\n 30.0,\n 31.0,\n 32.0,\n 33.0,\n 35.0,\n 38.0,\n 39.0,\n 40.0,\n 41.0,\n 42.0,\n 43.0,\n 44.0,\n 45.0,\n 46.0,\n 47.0,\n 48.0,\n 49.0,\n 50.0,\n 51.0,\n 53.0,\n 54.0,\n 56.0,\n 59.0,\n 60.0,\n 61.0,\n 62.0,\n 63.0,\n 64.0,\n 65.0,\n 71.0,\n 72.0,\n 73.0,\n 74.0,\n 75.0,\n 76.0,\n 77.0,\n 80.0,\n 81.0,\n 84.0,\n 85.0,\n 87.0,\n 90.0,\n 92.0,\n 93.0,\n 96.0,\n 98.0,\n 99.0,\n 101.0,\n 103.0,\n 104.0,\n 106.0,\n 108.0,\n 110.0,\n 111.0,\n 112.0,\n 113.0,\n 114.0,\n 115.0,\n 117.0,\n 118.0,\n 119.0,\n 120.0,\n 125.0,\n 128.0,\n 131.0,\n 132.0,\n 133.0,\n 140.0,\n 141.0,\n 142.0,\n 143.0,\n 147.0,\n 151.0,\n 154.0,\n 160.0,\n 163.0,\n 165.0,\n 171.0,\n 172.0,\n 175.0,\n 177.0,\n 178.0,\n 179.0,\n 180.0,\n 187.0,\n 191.0,\n 194.0,\n 206.0,\n 210.0,\n 212.0,\n 220.0,\n 222.0,\n 228.0,\n 240.0,\n 263.0,\n 273.0,\n 285.0,\n 300.0,\n 303.0,\n 305.0,\n 352.0,\n 356.0,\n 364.0,\n 365.0,\n 368.0,\n 444.0,\n 574.0]"
     },
     "metadata": {},
     "execution_count": 110
    }
   ],
   "source": [
    "sorted(data.loc[data.sentence_type == 'Probation/Supervision'].commitment_term.loc[data.commitment_unit == 'Days'].unique())"
   ]
  }
 ],
 "metadata": {
  "language_info": {
   "codemirror_mode": {
    "name": "ipython",
    "version": 3
   },
   "file_extension": ".py",
   "mimetype": "text/x-python",
   "name": "python",
   "nbconvert_exporter": "python",
   "pygments_lexer": "ipython3",
   "version": "3.7.4-final"
  },
  "orig_nbformat": 2,
  "kernelspec": {
   "name": "python37464bitbaseconda1f272b08825b44268b0b382f97a12fd9",
   "display_name": "Python 3.7.4 64-bit ('base': conda)"
  }
 },
 "nbformat": 4,
 "nbformat_minor": 2
}