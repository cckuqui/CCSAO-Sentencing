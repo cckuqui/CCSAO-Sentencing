{
 "cells": [
  {
   "cell_type": "code",
   "execution_count": 1,
   "metadata": {},
   "outputs": [],
   "source": [
    "import pandas as pd\n",
    "from sodapy import Socrata\n",
    "import numpy as np"
   ]
  },
  {
   "cell_type": "markdown",
   "metadata": {},
   "source": [
    "# Get information from Cook County Sentencing Data Database"
   ]
  },
  {
   "cell_type": "code",
   "execution_count": 2,
   "metadata": {},
   "outputs": [
    {
     "output_type": "stream",
     "name": "stderr",
     "text": "WARNING:root:Requests made without an app_token will be subject to strict throttling limits.\n"
    }
   ],
   "source": [
    "# Call API\n",
    "client = Socrata(\"datacatalog.cookcountyil.gov\", None)"
   ]
  },
  {
   "cell_type": "code",
   "execution_count": 3,
   "metadata": {},
   "outputs": [],
   "source": [
    "# Retrive Data\n",
    "results = client.get(\"tg8v-tm6u\", limit=300000)"
   ]
  },
  {
   "cell_type": "code",
   "execution_count": 4,
   "metadata": {},
   "outputs": [
    {
     "output_type": "execute_result",
     "data": {
      "text/plain": "['case_id',\n 'case_participant_id',\n 'offense_category',\n 'primary_charge',\n 'charge_id',\n 'charge_version_id',\n 'disposition_charged_offense_title',\n 'disposition_charged_chapter',\n 'disposition_charged_act',\n 'disposition_charged_section',\n 'disposition_charged_class',\n 'disposition_charged_aoic',\n 'disposition_date',\n 'charge_disposition',\n 'sentence_phase',\n 'sentence_date',\n 'sentence_judge',\n 'sentence_type',\n 'current_sentence',\n 'commitment_type',\n 'court_name',\n 'court_facility',\n 'length_of_case_in_days',\n 'age_at_incident',\n 'gender',\n 'race',\n 'incident_begin_date',\n 'arrest_date',\n 'law_enforcement_agency',\n 'received_date',\n 'arraignment_date',\n 'updated_offense_category',\n 'charge_count',\n 'commitment_term',\n 'commitment_unit',\n 'incident_end_date',\n 'charge_disposition_reason',\n 'incident_city',\n 'unit']"
     },
     "metadata": {},
     "execution_count": 4
    }
   ],
   "source": [
    "# Generate DataFrame\n",
    "original_data = pd.DataFrame.from_records(results)\n",
    "\n",
    "# Explore data\n",
    "list(original_data.columns.values)"
   ]
  },
  {
   "cell_type": "markdown",
   "metadata": {},
   "source": [
    "# Cleaning Process"
   ]
  },
  {
   "cell_type": "markdown",
   "metadata": {},
   "source": [
    "## Select only chosen columns"
   ]
  },
  {
   "cell_type": "code",
   "execution_count": 51,
   "metadata": {},
   "outputs": [
    {
     "output_type": "execute_result",
     "data": {
      "text/plain": "       case_id case_participant_id     charge_id charge_version_id  \\\n0  44670309710        218297158761  297139645442       83571817251   \n1  44670309710        218297158761  297176911341       94830742153   \n2  44670309710        218297158761  297177207102       94826043158   \n3  44670309710        218297158761  297178094385       70461958445   \n4  44670309710        218297158761  297178094385       70461958445   \n\n       court_facility            court_name age_at_incident gender   race  \\\n0  Markham Courthouse  District 6 - Markham              27   Male  Black   \n1  Markham Courthouse  District 6 - Markham              27   Male  Black   \n2  Markham Courthouse  District 6 - Markham              27   Male  Black   \n3  Markham Courthouse  District 6 - Markham              27   Male  Black   \n4  Markham Courthouse  District 6 - Markham              27   Male  Black   \n\n  charge_disposition length_of_case_in_days  current_sentence  primary_charge  \\\n0    Nolle On Remand                    619              True           False   \n1    Nolle On Remand                    619              True           False   \n2    Nolle On Remand                    619              True           False   \n3     Plea Of Guilty                  10982              True           False   \n4     Plea Of Guilty                    619             False           False   \n\n            sentence_date   offense_category commitment_term commitment_unit  \\\n0    6/2/1986 12:00:00 AM  PROMIS Conversion             NaN             NaN   \n1    6/2/1986 12:00:00 AM  PROMIS Conversion             NaN             NaN   \n2    6/2/1986 12:00:00 AM  PROMIS Conversion             NaN             NaN   \n3  10/16/2014 12:00:00 AM  PROMIS Conversion              30         Year(s)   \n4    6/2/1986 12:00:00 AM  PROMIS Conversion             030         Year(s)   \n\n  sentence_type  \n0    Conversion  \n1    Conversion  \n2    Conversion  \n3        Prison  \n4    Conversion  ",
      "text/html": "<div>\n<style scoped>\n    .dataframe tbody tr th:only-of-type {\n        vertical-align: middle;\n    }\n\n    .dataframe tbody tr th {\n        vertical-align: top;\n    }\n\n    .dataframe thead th {\n        text-align: right;\n    }\n</style>\n<table border=\"1\" class=\"dataframe\">\n  <thead>\n    <tr style=\"text-align: right;\">\n      <th></th>\n      <th>case_id</th>\n      <th>case_participant_id</th>\n      <th>charge_id</th>\n      <th>charge_version_id</th>\n      <th>court_facility</th>\n      <th>court_name</th>\n      <th>age_at_incident</th>\n      <th>gender</th>\n      <th>race</th>\n      <th>charge_disposition</th>\n      <th>length_of_case_in_days</th>\n      <th>current_sentence</th>\n      <th>primary_charge</th>\n      <th>sentence_date</th>\n      <th>offense_category</th>\n      <th>commitment_term</th>\n      <th>commitment_unit</th>\n      <th>sentence_type</th>\n    </tr>\n  </thead>\n  <tbody>\n    <tr>\n      <td>0</td>\n      <td>44670309710</td>\n      <td>218297158761</td>\n      <td>297139645442</td>\n      <td>83571817251</td>\n      <td>Markham Courthouse</td>\n      <td>District 6 - Markham</td>\n      <td>27</td>\n      <td>Male</td>\n      <td>Black</td>\n      <td>Nolle On Remand</td>\n      <td>619</td>\n      <td>True</td>\n      <td>False</td>\n      <td>6/2/1986 12:00:00 AM</td>\n      <td>PROMIS Conversion</td>\n      <td>NaN</td>\n      <td>NaN</td>\n      <td>Conversion</td>\n    </tr>\n    <tr>\n      <td>1</td>\n      <td>44670309710</td>\n      <td>218297158761</td>\n      <td>297176911341</td>\n      <td>94830742153</td>\n      <td>Markham Courthouse</td>\n      <td>District 6 - Markham</td>\n      <td>27</td>\n      <td>Male</td>\n      <td>Black</td>\n      <td>Nolle On Remand</td>\n      <td>619</td>\n      <td>True</td>\n      <td>False</td>\n      <td>6/2/1986 12:00:00 AM</td>\n      <td>PROMIS Conversion</td>\n      <td>NaN</td>\n      <td>NaN</td>\n      <td>Conversion</td>\n    </tr>\n    <tr>\n      <td>2</td>\n      <td>44670309710</td>\n      <td>218297158761</td>\n      <td>297177207102</td>\n      <td>94826043158</td>\n      <td>Markham Courthouse</td>\n      <td>District 6 - Markham</td>\n      <td>27</td>\n      <td>Male</td>\n      <td>Black</td>\n      <td>Nolle On Remand</td>\n      <td>619</td>\n      <td>True</td>\n      <td>False</td>\n      <td>6/2/1986 12:00:00 AM</td>\n      <td>PROMIS Conversion</td>\n      <td>NaN</td>\n      <td>NaN</td>\n      <td>Conversion</td>\n    </tr>\n    <tr>\n      <td>3</td>\n      <td>44670309710</td>\n      <td>218297158761</td>\n      <td>297178094385</td>\n      <td>70461958445</td>\n      <td>Markham Courthouse</td>\n      <td>District 6 - Markham</td>\n      <td>27</td>\n      <td>Male</td>\n      <td>Black</td>\n      <td>Plea Of Guilty</td>\n      <td>10982</td>\n      <td>True</td>\n      <td>False</td>\n      <td>10/16/2014 12:00:00 AM</td>\n      <td>PROMIS Conversion</td>\n      <td>30</td>\n      <td>Year(s)</td>\n      <td>Prison</td>\n    </tr>\n    <tr>\n      <td>4</td>\n      <td>44670309710</td>\n      <td>218297158761</td>\n      <td>297178094385</td>\n      <td>70461958445</td>\n      <td>Markham Courthouse</td>\n      <td>District 6 - Markham</td>\n      <td>27</td>\n      <td>Male</td>\n      <td>Black</td>\n      <td>Plea Of Guilty</td>\n      <td>619</td>\n      <td>False</td>\n      <td>False</td>\n      <td>6/2/1986 12:00:00 AM</td>\n      <td>PROMIS Conversion</td>\n      <td>030</td>\n      <td>Year(s)</td>\n      <td>Conversion</td>\n    </tr>\n  </tbody>\n</table>\n</div>"
     },
     "metadata": {},
     "execution_count": 51
    }
   ],
   "source": [
    "data = original_data[['case_id','case_participant_id','charge_id','charge_version_id','court_facility','court_name','age_at_incident','gender','race','charge_disposition','length_of_case_in_days','current_sentence','primary_charge','sentence_date','offense_category','commitment_term','commitment_unit','sentence_type']]\n",
    "data.head()"
   ]
  },
  {
   "cell_type": "code",
   "execution_count": 52,
   "metadata": {},
   "outputs": [
    {
     "output_type": "execute_result",
     "data": {
      "text/plain": "case_id                   236124\ncase_participant_id       236124\ncharge_id                 236124\ncharge_version_id         236124\ncourt_facility            234258\ncourt_name                234741\nage_at_incident           233071\ngender                    235334\nrace                      234890\ncharge_disposition        236124\nlength_of_case_in_days    217350\ncurrent_sentence          236124\nprimary_charge            236124\nsentence_date             236124\noffense_category          236124\ncommitment_term           234516\ncommitment_unit           234516\nsentence_type             236124\ndtype: int64"
     },
     "metadata": {},
     "execution_count": 52
    }
   ],
   "source": [
    "# Explore values in columns\n",
    "data.count()"
   ]
  },
  {
   "cell_type": "markdown",
   "metadata": {},
   "source": [
    "## Drop NaN Values"
   ]
  },
  {
   "cell_type": "code",
   "execution_count": 53,
   "metadata": {},
   "outputs": [
    {
     "output_type": "execute_result",
     "data": {
      "text/plain": "case_id                   211576\ncase_participant_id       211576\ncharge_id                 211576\ncharge_version_id         211576\ncourt_facility            211576\ncourt_name                211576\nage_at_incident           211576\ngender                    211576\nrace                      211576\ncharge_disposition        211576\nlength_of_case_in_days    211576\ncurrent_sentence          211576\nprimary_charge            211576\nsentence_date             211576\noffense_category          211576\ncommitment_term           211576\ncommitment_unit           211576\nsentence_type             211576\ndtype: int64"
     },
     "metadata": {},
     "execution_count": 53
    }
   ],
   "source": [
    "data = data.dropna()\n",
    "data.count()"
   ]
  },
  {
   "cell_type": "markdown",
   "metadata": {},
   "source": [
    "## Filter data after 2000 & before 2019"
   ]
  },
  {
   "cell_type": "code",
   "execution_count": 54,
   "metadata": {},
   "outputs": [
    {
     "output_type": "execute_result",
     "data": {
      "text/plain": "case_id                   object\ncase_participant_id       object\ncharge_id                 object\ncharge_version_id         object\ncourt_facility            object\ncourt_name                object\nage_at_incident           object\ngender                    object\nrace                      object\ncharge_disposition        object\nlength_of_case_in_days    object\ncurrent_sentence            bool\nprimary_charge              bool\nsentence_date             object\noffense_category          object\ncommitment_term           object\ncommitment_unit           object\nsentence_type             object\ndtype: object"
     },
     "metadata": {},
     "execution_count": 54
    }
   ],
   "source": [
    "# Explore type of values in each column\n",
    "data.dtypes"
   ]
  },
  {
   "cell_type": "code",
   "execution_count": 55,
   "metadata": {},
   "outputs": [
    {
     "output_type": "execute_result",
     "data": {
      "text/plain": "       case_id case_participant_id     charge_id charge_version_id  \\\n3  44670309710        218297158761  297178094385       70461958445   \n4  44670309710        218297158761  297178094385       70461958445   \n5  44670309710        218297158761  297140236964       70609573999   \n6  44670309710        218297158761  297178390146       80671262249   \n7  44670309710        218297158761  297178390146       80671262249   \n\n       court_facility            court_name age_at_incident gender   race  \\\n3  Markham Courthouse  District 6 - Markham              27   Male  Black   \n4  Markham Courthouse  District 6 - Markham              27   Male  Black   \n5  Markham Courthouse  District 6 - Markham              27   Male  Black   \n6  Markham Courthouse  District 6 - Markham              27   Male  Black   \n7  Markham Courthouse  District 6 - Markham              27   Male  Black   \n\n  charge_disposition length_of_case_in_days  current_sentence  primary_charge  \\\n3     Plea Of Guilty                  10982              True           False   \n4     Plea Of Guilty                    619             False           False   \n5    Nolle On Remand                    619              True           False   \n6     Plea Of Guilty                  10982              True           False   \n7     Plea Of Guilty                    619             False           False   \n\n            sentence_date   offense_category commitment_term commitment_unit  \\\n3  10/16/2014 12:00:00 AM  PROMIS Conversion              30         Year(s)   \n4    6/2/1986 12:00:00 AM  PROMIS Conversion             030         Year(s)   \n5    6/2/1986 12:00:00 AM  PROMIS Conversion             030         Year(s)   \n6  10/16/2014 12:00:00 AM  PROMIS Conversion              30         Year(s)   \n7    6/2/1986 12:00:00 AM  PROMIS Conversion             030         Year(s)   \n\n  sentence_type                    year  \n3        Prison  10/16/2014 12:00:00 AM  \n4    Conversion    6/2/1986 12:00:00 AM  \n5    Conversion    6/2/1986 12:00:00 AM  \n6        Prison  10/16/2014 12:00:00 AM  \n7    Conversion    6/2/1986 12:00:00 AM  ",
      "text/html": "<div>\n<style scoped>\n    .dataframe tbody tr th:only-of-type {\n        vertical-align: middle;\n    }\n\n    .dataframe tbody tr th {\n        vertical-align: top;\n    }\n\n    .dataframe thead th {\n        text-align: right;\n    }\n</style>\n<table border=\"1\" class=\"dataframe\">\n  <thead>\n    <tr style=\"text-align: right;\">\n      <th></th>\n      <th>case_id</th>\n      <th>case_participant_id</th>\n      <th>charge_id</th>\n      <th>charge_version_id</th>\n      <th>court_facility</th>\n      <th>court_name</th>\n      <th>age_at_incident</th>\n      <th>gender</th>\n      <th>race</th>\n      <th>charge_disposition</th>\n      <th>length_of_case_in_days</th>\n      <th>current_sentence</th>\n      <th>primary_charge</th>\n      <th>sentence_date</th>\n      <th>offense_category</th>\n      <th>commitment_term</th>\n      <th>commitment_unit</th>\n      <th>sentence_type</th>\n      <th>year</th>\n    </tr>\n  </thead>\n  <tbody>\n    <tr>\n      <td>3</td>\n      <td>44670309710</td>\n      <td>218297158761</td>\n      <td>297178094385</td>\n      <td>70461958445</td>\n      <td>Markham Courthouse</td>\n      <td>District 6 - Markham</td>\n      <td>27</td>\n      <td>Male</td>\n      <td>Black</td>\n      <td>Plea Of Guilty</td>\n      <td>10982</td>\n      <td>True</td>\n      <td>False</td>\n      <td>10/16/2014 12:00:00 AM</td>\n      <td>PROMIS Conversion</td>\n      <td>30</td>\n      <td>Year(s)</td>\n      <td>Prison</td>\n      <td>10/16/2014 12:00:00 AM</td>\n    </tr>\n    <tr>\n      <td>4</td>\n      <td>44670309710</td>\n      <td>218297158761</td>\n      <td>297178094385</td>\n      <td>70461958445</td>\n      <td>Markham Courthouse</td>\n      <td>District 6 - Markham</td>\n      <td>27</td>\n      <td>Male</td>\n      <td>Black</td>\n      <td>Plea Of Guilty</td>\n      <td>619</td>\n      <td>False</td>\n      <td>False</td>\n      <td>6/2/1986 12:00:00 AM</td>\n      <td>PROMIS Conversion</td>\n      <td>030</td>\n      <td>Year(s)</td>\n      <td>Conversion</td>\n      <td>6/2/1986 12:00:00 AM</td>\n    </tr>\n    <tr>\n      <td>5</td>\n      <td>44670309710</td>\n      <td>218297158761</td>\n      <td>297140236964</td>\n      <td>70609573999</td>\n      <td>Markham Courthouse</td>\n      <td>District 6 - Markham</td>\n      <td>27</td>\n      <td>Male</td>\n      <td>Black</td>\n      <td>Nolle On Remand</td>\n      <td>619</td>\n      <td>True</td>\n      <td>False</td>\n      <td>6/2/1986 12:00:00 AM</td>\n      <td>PROMIS Conversion</td>\n      <td>030</td>\n      <td>Year(s)</td>\n      <td>Conversion</td>\n      <td>6/2/1986 12:00:00 AM</td>\n    </tr>\n    <tr>\n      <td>6</td>\n      <td>44670309710</td>\n      <td>218297158761</td>\n      <td>297178390146</td>\n      <td>80671262249</td>\n      <td>Markham Courthouse</td>\n      <td>District 6 - Markham</td>\n      <td>27</td>\n      <td>Male</td>\n      <td>Black</td>\n      <td>Plea Of Guilty</td>\n      <td>10982</td>\n      <td>True</td>\n      <td>False</td>\n      <td>10/16/2014 12:00:00 AM</td>\n      <td>PROMIS Conversion</td>\n      <td>30</td>\n      <td>Year(s)</td>\n      <td>Prison</td>\n      <td>10/16/2014 12:00:00 AM</td>\n    </tr>\n    <tr>\n      <td>7</td>\n      <td>44670309710</td>\n      <td>218297158761</td>\n      <td>297178390146</td>\n      <td>80671262249</td>\n      <td>Markham Courthouse</td>\n      <td>District 6 - Markham</td>\n      <td>27</td>\n      <td>Male</td>\n      <td>Black</td>\n      <td>Plea Of Guilty</td>\n      <td>619</td>\n      <td>False</td>\n      <td>False</td>\n      <td>6/2/1986 12:00:00 AM</td>\n      <td>PROMIS Conversion</td>\n      <td>030</td>\n      <td>Year(s)</td>\n      <td>Conversion</td>\n      <td>6/2/1986 12:00:00 AM</td>\n    </tr>\n  </tbody>\n</table>\n</div>"
     },
     "metadata": {},
     "execution_count": 55
    }
   ],
   "source": [
    "# Create a copy of the Sentence Date to filter it\n",
    "hdate = data['sentence_date']\n",
    "data['year'] = hdate\n",
    "\n",
    "data.head()"
   ]
  },
  {
   "cell_type": "code",
   "execution_count": 56,
   "metadata": {},
   "outputs": [],
   "source": [
    "# Select only the year\n",
    "data['year'] = data['year'].replace(regex=['[0-9]*\\/[0-9]*\\/','\\s[0-9]*\\:[0-9]*\\:[0-9]*\\s[A-Z]*'], value='')"
   ]
  },
  {
   "cell_type": "code",
   "execution_count": 57,
   "metadata": {},
   "outputs": [],
   "source": [
    "# Change value type\n",
    "data['year'] = data['year'].astype(int)"
   ]
  },
  {
   "cell_type": "code",
   "execution_count": 58,
   "metadata": {},
   "outputs": [
    {
     "output_type": "execute_result",
     "data": {
      "text/plain": "case_id                   object\ncase_participant_id       object\ncharge_id                 object\ncharge_version_id         object\ncourt_facility            object\ncourt_name                object\nage_at_incident           object\ngender                    object\nrace                      object\ncharge_disposition        object\nlength_of_case_in_days    object\ncurrent_sentence            bool\nprimary_charge              bool\nsentence_date             object\noffense_category          object\ncommitment_term           object\ncommitment_unit           object\nsentence_type             object\nyear                       int32\ndtype: object"
     },
     "metadata": {},
     "execution_count": 58
    }
   ],
   "source": [
    "data.dtypes"
   ]
  },
  {
   "cell_type": "code",
   "execution_count": 59,
   "metadata": {},
   "outputs": [],
   "source": [
    "# Filter year\n",
    "data = data[(data.year > 1999) & (data.year < 2020)]"
   ]
  },
  {
   "cell_type": "code",
   "execution_count": 60,
   "metadata": {},
   "outputs": [
    {
     "output_type": "execute_result",
     "data": {
      "text/plain": "                year\ncount  211516.000000\nmean     2014.734895\nstd         2.432940\nmin      2000.000000\n25%      2013.000000\n50%      2015.000000\n75%      2017.000000\nmax      2019.000000",
      "text/html": "<div>\n<style scoped>\n    .dataframe tbody tr th:only-of-type {\n        vertical-align: middle;\n    }\n\n    .dataframe tbody tr th {\n        vertical-align: top;\n    }\n\n    .dataframe thead th {\n        text-align: right;\n    }\n</style>\n<table border=\"1\" class=\"dataframe\">\n  <thead>\n    <tr style=\"text-align: right;\">\n      <th></th>\n      <th>year</th>\n    </tr>\n  </thead>\n  <tbody>\n    <tr>\n      <td>count</td>\n      <td>211516.000000</td>\n    </tr>\n    <tr>\n      <td>mean</td>\n      <td>2014.734895</td>\n    </tr>\n    <tr>\n      <td>std</td>\n      <td>2.432940</td>\n    </tr>\n    <tr>\n      <td>min</td>\n      <td>2000.000000</td>\n    </tr>\n    <tr>\n      <td>25%</td>\n      <td>2013.000000</td>\n    </tr>\n    <tr>\n      <td>50%</td>\n      <td>2015.000000</td>\n    </tr>\n    <tr>\n      <td>75%</td>\n      <td>2017.000000</td>\n    </tr>\n    <tr>\n      <td>max</td>\n      <td>2019.000000</td>\n    </tr>\n  </tbody>\n</table>\n</div>"
     },
     "metadata": {},
     "execution_count": 60
    }
   ],
   "source": [
    "# Confirm values\n",
    "data.describe()"
   ]
  },
  {
   "cell_type": "markdown",
   "metadata": {},
   "source": [
    "## Analize Offense Category and consolidate into related categories"
   ]
  },
  {
   "cell_type": "code",
   "execution_count": 61,
   "metadata": {},
   "outputs": [
    {
     "output_type": "execute_result",
     "data": {
      "text/plain": "Narcotics                       60250\nUUW - Unlawful Use of Weapon    23456\nAggravated DUI                  13265\nRetail Theft                    12425\nBurglary                        10832\n                                ...  \nGambling                           12\nTampering                           9\nFailure To Pay Child Support        6\nBenefit Recipient Fraud             2\nCompelling Gang Membership          2\nName: offense_category, Length: 88, dtype: int64"
     },
     "metadata": {},
     "execution_count": 61
    }
   ],
   "source": [
    "# Review all the information\n",
    "data.offense_category.value_counts()"
   ]
  },
  {
   "cell_type": "code",
   "execution_count": 62,
   "metadata": {},
   "outputs": [
    {
     "output_type": "execute_result",
     "data": {
      "text/plain": "Narcotics                       60250\nUUW - Unlawful Use of Weapon    23456\nAggravated DUI                  13265\nRetail Theft                    12425\nBurglary                        10832\n                                ...  \nGambling                           12\nTampering                           9\nFailure To Pay Child Support        6\nCompelling Gang Membership          2\nBenefit Recipient Fraud             2\nName: offense_category, Length: 86, dtype: int64"
     },
     "metadata": {},
     "execution_count": 62
    }
   ],
   "source": [
    "# Consolidate Homicide category\n",
    "data.offense_category = data.offense_category.replace(to_replace=['Attempt Homicide','Reckless Homicide'],value='Homicide')\n",
    "\n",
    "data.offense_category.value_counts()"
   ]
  },
  {
   "cell_type": "code",
   "execution_count": 63,
   "metadata": {},
   "outputs": [
    {
     "output_type": "execute_result",
     "data": {
      "text/plain": "Narcotics                       60250\nUUW - Unlawful Use of Weapon    23456\nAggravated DUI                  13265\nRetail Theft                    12425\nBurglary                        10832\n                                ...  \nGambling                           12\nTampering                           9\nFailure To Pay Child Support        6\nCompelling Gang Membership          2\nBenefit Recipient Fraud             2\nName: offense_category, Length: 83, dtype: int64"
     },
     "metadata": {},
     "execution_count": 63
    }
   ],
   "source": [
    "# Consolidate Offense Against Police Officers category\n",
    "data.offense_category = data.offense_category.replace(to_replace=['Aggravated Assault Police Officer','Aggravated Assault Police Officer Firearm','Police Shooting','Impersonating Police Officer'],value='Offense Against Police Officers')\n",
    "\n",
    "data.offense_category.value_counts()"
   ]
  },
  {
   "cell_type": "code",
   "execution_count": 64,
   "metadata": {},
   "outputs": [
    {
     "output_type": "execute_result",
     "data": {
      "text/plain": "Narcotics                       60250\nUUW - Unlawful Use of Weapon    23456\nBattery                         13544\nAggravated DUI                  13265\nRetail Theft                    12425\n                                ...  \nGambling                           12\nTampering                           9\nFailure To Pay Child Support        6\nBenefit Recipient Fraud             2\nCompelling Gang Membership          2\nName: offense_category, Length: 78, dtype: int64"
     },
     "metadata": {},
     "execution_count": 64
    }
   ],
   "source": [
    "# Consolidate Battery category\n",
    "data.offense_category = data.offense_category.replace(to_replace=['Aggravated Battery','Aggravated Battery Police Officer','Aggravated Battery Police Officer Firearm','Aggravated Battery With A Firearm','Domestic Battery'],value='Battery')\n",
    "\n",
    "data.offense_category.value_counts()"
   ]
  },
  {
   "cell_type": "code",
   "execution_count": 65,
   "metadata": {},
   "outputs": [
    {
     "output_type": "execute_result",
     "data": {
      "text/plain": "Narcotics                       60250\nRobbery/Burglery/Theft          48208\nUUW - Unlawful Use of Weapon    23456\nBattery                         13544\nAggravated DUI                  13265\n                                ...  \nGambling                           12\nTampering                           9\nFailure To Pay Child Support        6\nBenefit Recipient Fraud             2\nCompelling Gang Membership          2\nName: offense_category, Length: 66, dtype: int64"
     },
     "metadata": {},
     "execution_count": 65
    }
   ],
   "source": [
    "# Consolidate Robbery, Burglery and Theft category\n",
    "data.offense_category = data.offense_category.replace(to_replace=['Aggravated Identity Theft','Aggravated Robbery','Aggravated Robbery BB Gun','Armed Robbery','Attempt Armed Robbery','Burglary','Identity Theft','Residential Burglary','Retail Theft','Robbery','Theft','Theft by Deception','Possession Of Burglary Tools'],value='Robbery/Burglery/Theft')\n",
    "\n",
    "data.offense_category.value_counts()"
   ]
  },
  {
   "cell_type": "code",
   "execution_count": 66,
   "metadata": {},
   "outputs": [
    {
     "output_type": "execute_result",
     "data": {
      "text/plain": "Narcotics                       60250\nRobbery/Burglery/Theft          48208\nUUW - Unlawful Use of Weapon    23456\nBattery                         13544\nAggravated DUI                  13265\n                                ...  \nGambling                           12\nTampering                           9\nFailure To Pay Child Support        6\nCompelling Gang Membership          2\nBenefit Recipient Fraud             2\nName: offense_category, Length: 64, dtype: int64"
     },
     "metadata": {},
     "execution_count": 66
    }
   ],
   "source": [
    "# Consolidate Arson category\n",
    "data.offense_category = data.offense_category.replace(to_replace=['Arson and Attempt Arson','Attempt Arson'],value='Arson')\n",
    "\n",
    "data.offense_category.value_counts()"
   ]
  },
  {
   "cell_type": "code",
   "execution_count": 67,
   "metadata": {},
   "outputs": [
    {
     "output_type": "execute_result",
     "data": {
      "text/plain": "Narcotics                                        60250\nRobbery/Burglery/Theft                           48208\nFirearms and Explosives                          25996\nBattery                                          13544\nAggravated DUI                                   13265\nDriving With Suspended Or Revoked License         8415\nSex Crimes                                        4407\nOther Offense                                     3866\nPossession of Stolen Motor Vehicle                3770\nHomicide                                          3698\nDUI                                               3443\nEscape - Failure to Return                        2681\nForgery                                           2571\nPROMIS Conversion                                 2232\nFailure to Register as a Sex Offender             2198\nAggravated Fleeing and Eluding                    2148\nCriminal Damage to Property                       1657\nCredit Card Cases                                 1258\nHome Invasion                                     1225\nOffense Against Police Officers                    882\nVehicular Hijacking                                716\nProstitution                                       643\nViolation Order Of Protection                      460\nFraudulent ID                                      450\nArson                                              397\nFraud                                              380\nStalking                                           311\nKidnapping                                         295\nDeceptive Practice                                 199\nIntimidation                                       185\nMajor Accidents                                    176\nUnlawful Restraint                                 173\nObstructing Justice                                166\nPossession of Contraband in Penal Institution      138\nChild Pornography                                  126\nViolation of Sex Offender Registration              97\nCriminal Trespass To Residence                      96\nChild Abduction                                     90\nBribery                                             89\nVehicular Invasion                                  88\nHuman Trafficking                                   77\nOfficial Misconduct                                 71\nHate Crimes                                         69\nAttempt Vehicular Hijacking                         55\nViolate Bail Bond                                   55\nDog Fighting                                        41\nCommunicating With Witness                          35\nPerjury                                             28\nPossession of Shank in Penal Institution            26\nAttempt Sex Crimes                                  22\nPandering                                           17\nGambling                                            12\nTampering                                            9\nFailure To Pay Child Support                         6\nCompelling Gang Membership                           2\nBenefit Recipient Fraud                              2\nName: offense_category, dtype: int64"
     },
     "metadata": {},
     "execution_count": 67
    }
   ],
   "source": [
    "# Consolidate Firearms and Explosives category\n",
    "data.offense_category = data.offense_category.replace(to_replace=['Aggravated Discharge Firearm','Armed Violence','Disarming Police Officer','Gun Running','Possession of Explosives','UUW - Unlawful Use of Weapon','Gun - Non UUW','Bomb Threat','Reckless Discharge of Firearm'],value='Firearms and Explosives')\n",
    "\n",
    "data.offense_category.value_counts()"
   ]
  },
  {
   "cell_type": "code",
   "execution_count": 68,
   "metadata": {},
   "outputs": [
    {
     "output_type": "execute_result",
     "data": {
      "text/plain": "Narcotics                                        60250\nRobbery/Burglery/Theft                           48208\nMotor Vehicle Offenses                           29928\nFirearms and Explosives                          25996\nBattery                                          13544\nSex Crimes                                        4407\nOther Offense                                     3866\nHomicide                                          3698\nEscape - Failure to Return                        2681\nForgery                                           2571\nPROMIS Conversion                                 2232\nFailure to Register as a Sex Offender             2198\nAggravated Fleeing and Eluding                    2148\nCriminal Damage to Property                       1657\nCredit Card Cases                                 1258\nHome Invasion                                     1225\nOffense Against Police Officers                    882\nProstitution                                       643\nViolation Order Of Protection                      460\nFraudulent ID                                      450\nArson                                              397\nFraud                                              380\nStalking                                           311\nKidnapping                                         295\nDeceptive Practice                                 199\nIntimidation                                       185\nUnlawful Restraint                                 173\nObstructing Justice                                166\nPossession of Contraband in Penal Institution      138\nChild Pornography                                  126\nViolation of Sex Offender Registration              97\nCriminal Trespass To Residence                      96\nChild Abduction                                     90\nBribery                                             89\nHuman Trafficking                                   77\nOfficial Misconduct                                 71\nHate Crimes                                         69\nViolate Bail Bond                                   55\nDog Fighting                                        41\nCommunicating With Witness                          35\nPerjury                                             28\nPossession of Shank in Penal Institution            26\nAttempt Sex Crimes                                  22\nPandering                                           17\nGambling                                            12\nTampering                                            9\nFailure To Pay Child Support                         6\nBenefit Recipient Fraud                              2\nCompelling Gang Membership                           2\nName: offense_category, dtype: int64"
     },
     "metadata": {},
     "execution_count": 68
    }
   ],
   "source": [
    "# Consolidate Motor Vehicles Offenses category\n",
    "data.offense_category = data.offense_category.replace(to_replace=['Aggravated DUI','Attempt Vehicular Hijacking','DUI','Driving With Suspended Or Revoked License','Major Accidents','Possession of Stolen Motor Vehicle','Vehicular Hijacking','Vehicular Invasion'],value='Motor Vehicle Offenses')\n",
    "\n",
    "data.offense_category.value_counts()"
   ]
  },
  {
   "cell_type": "code",
   "execution_count": 69,
   "metadata": {},
   "outputs": [
    {
     "output_type": "execute_result",
     "data": {
      "text/plain": "Narcotics                                        60250\nRobbery/Burglery/Theft                           48208\nMotor Vehicle Offenses                           29928\nFirearms and Explosives                          25996\nBattery                                          13544\nSex Crimes                                        4407\nOther Offense                                     3866\nHomicide                                          3698\nJudicial Process Violations                       3434\nForgery                                           2571\nPROMIS Conversion                                 2232\nFailure to Register as a Sex Offender             2198\nAggravated Fleeing and Eluding                    2148\nCriminal Damage to Property                       1657\nCredit Card Cases                                 1258\nHome Invasion                                     1225\nOffense Against Police Officers                    882\nProstitution                                       643\nFraudulent ID                                      450\nArson                                              397\nFraud                                              380\nStalking                                           311\nKidnapping                                         295\nDeceptive Practice                                 199\nIntimidation                                       185\nUnlawful Restraint                                 173\nPossession of Contraband in Penal Institution      138\nChild Pornography                                  126\nViolation of Sex Offender Registration              97\nCriminal Trespass To Residence                      96\nChild Abduction                                     90\nBribery                                             89\nHuman Trafficking                                   77\nOfficial Misconduct                                 71\nHate Crimes                                         69\nDog Fighting                                        41\nPossession of Shank in Penal Institution            26\nAttempt Sex Crimes                                  22\nPandering                                           17\nGambling                                            12\nFailure To Pay Child Support                         6\nBenefit Recipient Fraud                              2\nCompelling Gang Membership                           2\nName: offense_category, dtype: int64"
     },
     "metadata": {},
     "execution_count": 69
    }
   ],
   "source": [
    "# Consolidate Judicial Process Violations category\n",
    "data.offense_category = data.offense_category.replace(to_replace=['Communicating With Witness','Escape - Failure to Return','Obstructing Justice','Perjury','Tampering','Violate Bail Bond','Violation Order Of Protection'],value='Judicial Process Violations')\n",
    "\n",
    "data.offense_category.value_counts()"
   ]
  },
  {
   "cell_type": "code",
   "execution_count": 70,
   "metadata": {},
   "outputs": [
    {
     "output_type": "execute_result",
     "data": {
      "text/plain": "Narcotics                                        60250\nRobbery/Burglery/Theft                           48208\nMotor Vehicle Offenses                           29928\nFirearms and Explosives                          25996\nBattery                                          13544\nSex Offenses                                      7510\nOther Offense                                     3866\nHomicide                                          3698\nJudicial Process Violations                       3434\nForgery                                           2571\nPROMIS Conversion                                 2232\nAggravated Fleeing and Eluding                    2148\nCriminal Damage to Property                       1657\nCredit Card Cases                                 1258\nHome Invasion                                     1225\nOffense Against Police Officers                    882\nFraudulent ID                                      450\nArson                                              397\nFraud                                              380\nStalking                                           311\nKidnapping                                         295\nDeceptive Practice                                 199\nIntimidation                                       185\nUnlawful Restraint                                 173\nPossession of Contraband in Penal Institution      138\nCriminal Trespass To Residence                      96\nChild Abduction                                     90\nBribery                                             89\nHuman Trafficking                                   77\nOfficial Misconduct                                 71\nHate Crimes                                         69\nDog Fighting                                        41\nPossession of Shank in Penal Institution            26\nGambling                                            12\nFailure To Pay Child Support                         6\nCompelling Gang Membership                           2\nBenefit Recipient Fraud                              2\nName: offense_category, dtype: int64"
     },
     "metadata": {},
     "execution_count": 70
    }
   ],
   "source": [
    "# Consolidate Sex Offenses category\n",
    "data.offense_category = data.offense_category.replace(to_replace=['Attempt Sex Crimes','Child Pornography','Failure to Register as a Sex Offender','Pandering','Prostitution','Sex Crimes','Violation of Sex Offender Registration'],value='Sex Offenses')\n",
    "\n",
    "data.offense_category.value_counts()"
   ]
  },
  {
   "cell_type": "code",
   "execution_count": 71,
   "metadata": {},
   "outputs": [
    {
     "output_type": "execute_result",
     "data": {
      "text/plain": "Narcotics                                        60250\nRobbery/Burglery/Theft                           48208\nMotor Vehicle Offenses                           29928\nFirearms and Explosives                          25996\nBattery                                          13544\nSex Offenses                                      7510\nOther Offense                                     3866\nHomicide                                          3698\nJudicial Process Violations                       3434\nForgery                                           2571\nPROMIS Conversion                                 2232\nAggravated Fleeing and Eluding                    2148\nCriminal Damage to Property                       1657\nCredit Card Cases                                 1258\nHome Invasion                                     1225\nOffense Against Police Officers                    882\nHuman Trafficking/Detention/Kidnapping             635\nFraudulent ID                                      450\nArson                                              397\nFraud                                              380\nStalking                                           311\nDeceptive Practice                                 199\nIntimidation                                       185\nPossession of Contraband in Penal Institution      138\nCriminal Trespass To Residence                      96\nBribery                                             89\nOfficial Misconduct                                 71\nHate Crimes                                         69\nDog Fighting                                        41\nPossession of Shank in Penal Institution            26\nGambling                                            12\nFailure To Pay Child Support                         6\nCompelling Gang Membership                           2\nBenefit Recipient Fraud                              2\nName: offense_category, dtype: int64"
     },
     "metadata": {},
     "execution_count": 71
    }
   ],
   "source": [
    "# Consolidate Human Trafficking, Detention and Kidnapping category\n",
    "data.offense_category = data.offense_category.replace(to_replace=['Child Abduction','Human Trafficking','Kidnapping','Unlawful Restraint'],value='Human Trafficking/Detention/Kidnapping')\n",
    "\n",
    "data.offense_category.value_counts()"
   ]
  },
  {
   "cell_type": "code",
   "execution_count": 72,
   "metadata": {},
   "outputs": [
    {
     "output_type": "execute_result",
     "data": {
      "text/plain": "Narcotics                                        60250\nRobbery/Burglery/Theft                           48208\nMotor Vehicle Offenses                           29928\nFirearms and Explosives                          25996\nBattery                                          13544\nSex Offenses                                      7510\nOther Offense                                     3866\nHomicide                                          3698\nJudicial Process Violations                       3434\nForgery                                           2571\nPROMIS Conversion                                 2232\nAggravated Fleeing and Eluding                    2148\nCriminal Damage to Property                       1657\nTrespassing                                       1321\nCredit Card Cases                                 1258\nOffense Against Police Officers                    882\nHuman Trafficking/Detention/Kidnapping             635\nFraudulent ID                                      450\nArson                                              397\nFraud                                              380\nStalking                                           311\nDeceptive Practice                                 199\nIntimidation                                       185\nPossession of Contraband in Penal Institution      138\nBribery                                             89\nOfficial Misconduct                                 71\nHate Crimes                                         69\nDog Fighting                                        41\nPossession of Shank in Penal Institution            26\nGambling                                            12\nFailure To Pay Child Support                         6\nBenefit Recipient Fraud                              2\nCompelling Gang Membership                           2\nName: offense_category, dtype: int64"
     },
     "metadata": {},
     "execution_count": 72
    }
   ],
   "source": [
    "# Consolidate Trespassing category\n",
    "data.offense_category = data.offense_category.replace(to_replace=['Home Invasion','Criminal Trespass To Residence'],value='Trespassing')\n",
    "\n",
    "data.offense_category.value_counts()"
   ]
  },
  {
   "cell_type": "code",
   "execution_count": 73,
   "metadata": {},
   "outputs": [
    {
     "output_type": "execute_result",
     "data": {
      "text/plain": "Narcotics                                        60250\nRobbery/Burglery/Theft                           48208\nMotor Vehicle Offenses                           29928\nFirearms and Explosives                          25996\nBattery                                          13544\nSex Offenses                                      7510\nFraud/Deception                                   4860\nOther Offense                                     3866\nHomicide                                          3698\nJudicial Process Violations                       3434\nPROMIS Conversion                                 2232\nAggravated Fleeing and Eluding                    2148\nCriminal Damage to Property                       1657\nTrespassing                                       1321\nOffense Against Police Officers                    882\nHuman Trafficking/Detention/Kidnapping             635\nArson                                              397\nStalking                                           311\nIntimidation                                       185\nPossession of Contraband in Penal Institution      138\nBribery                                             89\nOfficial Misconduct                                 71\nHate Crimes                                         69\nDog Fighting                                        41\nPossession of Shank in Penal Institution            26\nGambling                                            12\nFailure To Pay Child Support                         6\nCompelling Gang Membership                           2\nName: offense_category, dtype: int64"
     },
     "metadata": {},
     "execution_count": 73
    }
   ],
   "source": [
    "# Consolidate Fraud and Deception category\n",
    "data.offense_category = data.offense_category.replace(to_replace=['Benefit Recipient Fraud','Credit Card Cases','Deceptive Practice','Forgery','Fraud','Fraudulent ID'],value='Fraud/Deception')\n",
    "\n",
    "data.offense_category.value_counts()"
   ]
  },
  {
   "cell_type": "code",
   "execution_count": 74,
   "metadata": {},
   "outputs": [
    {
     "output_type": "execute_result",
     "data": {
      "text/plain": "Narcotics                                        60250\nRobbery/Burglery/Theft                           48208\nMotor Vehicle Offenses                           29928\nFirearms and Explosives                          25996\nBattery                                          13544\nSex Offenses                                      7510\nFraud/Deception                                   4860\nOther Offense                                     3866\nHomicide                                          3698\nJudicial Process Violations                       3434\nPROMIS Conversion                                 2232\nAggravated Fleeing and Eluding                    2148\nCriminal Damage to Property                       1657\nTrespassing                                       1321\nOffense Against Police Officers                    882\nHuman Trafficking/Detention/Kidnapping             635\nArson                                              397\nCorruption                                         345\nStalking                                           311\nPossession of Contraband in Penal Institution      138\nHate Crimes                                         69\nDog Fighting                                        41\nPossession of Shank in Penal Institution            26\nGambling                                            12\nFailure To Pay Child Support                         6\nCompelling Gang Membership                           2\nName: offense_category, dtype: int64"
     },
     "metadata": {},
     "execution_count": 74
    }
   ],
   "source": [
    "# Consolidate Corruption category\n",
    "data.offense_category = data.offense_category.replace(to_replace=['Intimidation','Official Misconduct','Bribery'],value='Corruption')\n",
    "\n",
    "data.offense_category.value_counts()"
   ]
  },
  {
   "cell_type": "code",
   "execution_count": 75,
   "metadata": {},
   "outputs": [
    {
     "output_type": "execute_result",
     "data": {
      "text/plain": "Narcotics                                 60250\nRobbery/Burglery/Theft                    48208\nMotor Vehicle Offenses                    29928\nFirearms and Explosives                   25996\nBattery                                   13544\nSex Offenses                               7510\nFraud/Deception                            4860\nOther Offense                              3866\nHomicide                                   3698\nJudicial Process Violations                3434\nPROMIS Conversion                          2232\nAggravated Fleeing and Eluding             2148\nCriminal Damage to Property                1657\nTrespassing                                1321\nOffense Against Police Officers             882\nHuman Trafficking/Detention/Kidnapping      635\nArson                                       397\nCorruption                                  345\nStalking                                    311\nInside Penal Institutions                   164\nHate Crimes                                  69\nDog Fighting                                 41\nGambling                                     12\nFailure To Pay Child Support                  6\nCompelling Gang Membership                    2\nName: offense_category, dtype: int64"
     },
     "metadata": {},
     "execution_count": 75
    }
   ],
   "source": [
    "# Consolidate Inside Penal Institutions category\n",
    "data.offense_category = data.offense_category.replace(to_replace=['Possession of Contraband in Penal Institution','Possession of Shank in Penal Institution'],value='Inside Penal Institutions')\n",
    "\n",
    "data.offense_category.value_counts()"
   ]
  },
  {
   "cell_type": "code",
   "execution_count": 76,
   "metadata": {},
   "outputs": [
    {
     "output_type": "execute_result",
     "data": {
      "text/plain": "Narcotics                                 60250\nRobbery/Burglery/Theft                    48208\nMotor Vehicle Offenses                    29928\nFirearms and Explosives                   25996\nBattery                                   13544\nSex Offenses                               7510\nFraud/Deception                            4860\nOther Offense                              3927\nHomicide                                   3698\nJudicial Process Violations                3434\nPROMIS Conversion                          2232\nAggravated Fleeing and Eluding             2148\nCriminal Damage to Property                1657\nTrespassing                                1321\nOffense Against Police Officers             882\nHuman Trafficking/Detention/Kidnapping      635\nArson                                       397\nCorruption                                  345\nStalking                                    311\nInside Penal Institutions                   164\nHate Crimes                                  69\nName: offense_category, dtype: int64"
     },
     "metadata": {},
     "execution_count": 76
    }
   ],
   "source": [
    "# Consolidate Other Offense category\n",
    "data.offense_category = data.offense_category.replace(to_replace=['Dog Fighting','Gambling','Failure To Pay Child Support','Compelling Gang Membership'],value='Other Offense')\n",
    "\n",
    "data.offense_category.value_counts()"
   ]
  },
  {
   "cell_type": "markdown",
   "metadata": {},
   "source": [
    "## Cleaning Race columns"
   ]
  },
  {
   "cell_type": "code",
   "execution_count": 77,
   "metadata": {},
   "outputs": [
    {
     "output_type": "execute_result",
     "data": {
      "text/plain": "Black                               143073\nWhite [Hispanic or Latino]           33506\nWhite                                28725\nHISPANIC                              3460\nAsian                                 1221\nWhite/Black [Hispanic or Latino]      1082\nUnknown                                302\nAmerican Indian                        112\nBiracial                                29\nASIAN                                    6\nName: race, dtype: int64"
     },
     "metadata": {},
     "execution_count": 77
    }
   ],
   "source": [
    "# Review data\n",
    "data.race.value_counts()"
   ]
  },
  {
   "cell_type": "code",
   "execution_count": 78,
   "metadata": {},
   "outputs": [
    {
     "output_type": "execute_result",
     "data": {
      "text/plain": "Black                               143073\nWhite [Hispanic or Latino]           33506\nWhite                                28725\nHISPANIC                              3460\nAsian                                 1227\nWhite/Black [Hispanic or Latino]      1082\nUnknown                                302\nAmerican Indian                        112\nBiracial                                29\nName: race, dtype: int64"
     },
     "metadata": {},
     "execution_count": 78
    }
   ],
   "source": [
    "# Consolidate Asian race\n",
    "data.race = data.race.replace(to_replace='ASIAN',value='Asian')\n",
    "\n",
    "data.race.value_counts()"
   ]
  },
  {
   "cell_type": "code",
   "execution_count": 79,
   "metadata": {},
   "outputs": [
    {
     "output_type": "execute_result",
     "data": {
      "text/plain": "Black              143073\nHispanic/Latino     38048\nWhite               28725\nAsian                1227\nUnknown               302\nAmerican Indian       112\nBiracial               29\nName: race, dtype: int64"
     },
     "metadata": {},
     "execution_count": 79
    }
   ],
   "source": [
    "# Consolidate Hispanic/Latino race\n",
    "data.race = data.race.replace(to_replace=['White [Hispanic or Latino]','HISPANIC','White/Black [Hispanic or Latino]'],value='Hispanic/Latino')\n",
    "\n",
    "data.race.value_counts()"
   ]
  },
  {
   "cell_type": "markdown",
   "metadata": {},
   "source": [
    "## Cleaning Sentence Type"
   ]
  },
  {
   "cell_type": "code",
   "execution_count": 80,
   "metadata": {},
   "outputs": [
    {
     "output_type": "execute_result",
     "data": {
      "text/plain": "Prison                                   114472\nProbation                                 81925\nJail                                       6519\nCook County Boot Camp                      2373\nConditional Discharge                      2221\n2nd Chance Probation                       1777\nSupervision                                1621\nProbation Terminated Unsatisfactorily       235\nInpatient Mental Health Services            158\nConditional Release                          59\nDeath                                        57\nProbation Terminated Instanter               53\nConversion                                   28\nProbation Terminated Satisfactorily          18\nName: sentence_type, dtype: int64"
     },
     "metadata": {},
     "execution_count": 80
    }
   ],
   "source": [
    "# Review data\n",
    "data.sentence_type.value_counts()"
   ]
  },
  {
   "cell_type": "code",
   "execution_count": 81,
   "metadata": {},
   "outputs": [
    {
     "output_type": "execute_result",
     "data": {
      "text/plain": "Prison                              114472\nProbation/Supervision                85629\nJail                                  6519\nCook County Boot Camp                 2373\nConditional Discharge                 2221\nInpatient Mental Health Services       158\nConditional Release                     59\nDeath                                   57\nConversion                              28\nName: sentence_type, dtype: int64"
     },
     "metadata": {},
     "execution_count": 81
    }
   ],
   "source": [
    "# Consolidate Probation & Supervision sentence\n",
    "data.sentence_type = data.sentence_type.replace(to_replace=['Probation','2nd Chance Probation','Supervision','Probation Terminated Unsatisfactorily','Probation Terminated Instanter','Probation Terminated Satisfactorily'],value='Probation/Supervision')\n",
    "\n",
    "data.sentence_type.value_counts()"
   ]
  },
  {
   "cell_type": "code",
   "execution_count": 82,
   "metadata": {},
   "outputs": [
    {
     "output_type": "execute_result",
     "data": {
      "text/plain": "Prison                              114472\nProbation/Supervision                85629\nJail                                  6519\nCook County Boot Camp                 2373\nConditional Discharge                 2280\nInpatient Mental Health Services       158\nDeath                                   57\nConversion                              28\nName: sentence_type, dtype: int64"
     },
     "metadata": {},
     "execution_count": 82
    }
   ],
   "source": [
    "# Consolidate Conditional sentence type\n",
    "data.sentence_type = data.sentence_type.replace(to_replace='Conditional Release',value='Conditional Discharge')\n",
    "\n",
    "data.sentence_type.value_counts()"
   ]
  },
  {
   "cell_type": "code",
   "execution_count": 83,
   "metadata": {},
   "outputs": [
    {
     "output_type": "execute_result",
     "data": {
      "text/plain": "Incarceration                       120991\nProbation/Supervision                85629\nCook County Boot Camp                 2373\nConditional Discharge                 2280\nInpatient Mental Health Services       158\nDeath                                   57\nConversion                              28\nName: sentence_type, dtype: int64"
     },
     "metadata": {},
     "execution_count": 83
    }
   ],
   "source": [
    "# Consolidate Incarceration sentence\n",
    "data.sentence_type = data.sentence_type.replace(to_replace=['Jail','Prison'],value='Incarceration')\n",
    "\n",
    "data.sentence_type.value_counts()"
   ]
  },
  {
   "cell_type": "markdown",
   "metadata": {},
   "source": [
    "## Cleaning Commitment Unit & Term by Sentence Type"
   ]
  },
  {
   "cell_type": "code",
   "execution_count": 84,
   "metadata": {},
   "outputs": [
    {
     "output_type": "execute_result",
     "data": {
      "text/plain": "Year(s)         154583\nMonths           48745\nDays              5511\nTerm              2166\nNatural Life       419\nDollars             57\nHours               17\nWeeks               15\nPounds               2\nKilos                1\nName: commitment_unit, dtype: int64"
     },
     "metadata": {},
     "execution_count": 84
    }
   ],
   "source": [
    "# Data Exploration\n",
    "data.commitment_unit.value_counts()"
   ]
  },
  {
   "cell_type": "code",
   "execution_count": 85,
   "metadata": {},
   "outputs": [
    {
     "output_type": "execute_result",
     "data": {
      "text/plain": "Year(s)         154583\nMonths           48745\nDays              5511\nTerm              2166\nNatural Life       419\nDollars             57\nHours               17\nWeeks               15\nWeight               3\nName: commitment_unit, dtype: int64"
     },
     "metadata": {},
     "execution_count": 85
    }
   ],
   "source": [
    "# Unify Weight units\n",
    "data.commitment_unit = data.commitment_unit.replace(to_replace=['Pounds','Kilos'],value='Weight')\n",
    "\n",
    "data.commitment_unit.value_counts()"
   ]
  },
  {
   "cell_type": "code",
   "execution_count": 86,
   "metadata": {},
   "outputs": [
    {
     "output_type": "execute_result",
     "data": {
      "text/plain": "['0',\n '00',\n '001',\n '002',\n '006',\n '007',\n '010',\n '012',\n '015',\n '018',\n '02',\n '024',\n '027',\n '030',\n '036',\n '042',\n '054',\n '055',\n '06',\n '062',\n '1',\n '1,154.00',\n '1.5',\n '10',\n '10.5',\n '100',\n '101',\n '1013',\n '102',\n '103',\n '104',\n '105',\n '106',\n '107',\n '108',\n '109',\n '11',\n '11.5',\n '110',\n '111',\n '112',\n '113',\n '114',\n '115',\n '116',\n '117',\n '118',\n '119',\n '12',\n '12.5',\n '12.75',\n '120',\n '121',\n '122',\n '123',\n '125',\n '126',\n '127',\n '1277.13',\n '128',\n '129',\n '13',\n '13.5',\n '130',\n '131',\n '132',\n '133',\n '134',\n '135',\n '136',\n '137',\n '138',\n '139',\n '14',\n '14.5',\n '140',\n '141',\n '142',\n '143',\n '144',\n '145',\n '146',\n '147',\n '148',\n '149',\n '15',\n '150',\n '151',\n '152',\n '153',\n '154',\n '155',\n '156',\n '157',\n '158',\n '159',\n '16',\n '16.5',\n '160',\n '161',\n '162',\n '163',\n '164',\n '165',\n '166',\n '167',\n '168',\n '169',\n '17',\n '17.5',\n '170',\n '171',\n '172',\n '174',\n '175',\n '176',\n '177',\n '178',\n '179',\n '18',\n '18 months',\n '180',\n '181',\n '182',\n '183',\n '184',\n '185',\n '186',\n '187',\n '188',\n '189',\n '19',\n '19.5',\n '190',\n '191',\n '192',\n '194',\n '195',\n '196',\n '197',\n '198',\n '199',\n '2',\n '2.5',\n '2.6',\n '20',\n '20.5',\n '200',\n '202',\n '203',\n '204',\n '205',\n '206',\n '207',\n '208',\n '21',\n '210',\n '211',\n '212',\n '213',\n '214',\n '215',\n '216',\n '217',\n '218',\n '219',\n '22',\n '22.5',\n '220',\n '221',\n '222',\n '223',\n '224',\n '225',\n '226',\n '227',\n '228',\n '229',\n '23',\n '23.5',\n '230',\n '231',\n '232',\n '233',\n '234',\n '235',\n '236',\n '237',\n '238',\n '239',\n '24',\n '24 wrap',\n '240',\n '241',\n '242',\n '243',\n '244',\n '246',\n '247',\n '248',\n '25',\n '250',\n '251',\n '252',\n '253',\n '254',\n '256',\n '257',\n '258',\n '26',\n '26.5',\n '260',\n '261',\n '262',\n '263',\n '264',\n '265',\n '266',\n '267',\n '268',\n '269',\n '27',\n '270',\n '272',\n '273',\n '274',\n '275',\n '276',\n '279',\n '28',\n '280',\n '281',\n '282',\n '284',\n '285',\n '286',\n '288',\n '289',\n '29',\n '290',\n '291',\n '292',\n '294',\n '297',\n '298',\n '299',\n '2`',\n '3',\n '3.5',\n '3.6',\n '30',\n '30 months',\n '300',\n '301',\n '303',\n '305',\n '306',\n '307',\n '308',\n '309',\n '31',\n '31.5',\n '310',\n '311',\n '312',\n '313',\n '316',\n '317',\n '319',\n '32',\n '320',\n '321',\n '324',\n '325',\n '327',\n '328',\n '33',\n '330',\n '331',\n '332',\n '333',\n '334',\n '336',\n '338',\n '339',\n '34',\n '340',\n '341',\n '343',\n '344',\n '345',\n '347',\n '349',\n '35',\n '350',\n '351',\n '352',\n '353',\n '354',\n '355',\n '356',\n '357',\n '358',\n '359',\n '36',\n '360',\n '362',\n '364',\n '365',\n '368',\n '369',\n '37',\n '38',\n '380',\n '386',\n '387',\n '39',\n '390',\n '397',\n '4',\n '4.5',\n '4.75',\n '40',\n '405',\n '41',\n '416',\n '42',\n '43',\n '44',\n '444',\n '447',\n '45',\n '46',\n '4620',\n '47',\n '47.5',\n '475',\n '478',\n '48',\n '49',\n '5',\n '5.2',\n '5.25',\n '5.5',\n '5.6',\n '50',\n '51',\n '52',\n '528',\n '53',\n '54',\n '55',\n '555',\n '56',\n '57',\n '574',\n '58',\n '59',\n '591',\n '6',\n '6.4',\n '6.5',\n '6.50',\n '60',\n '607',\n '61',\n '62',\n '628',\n '63',\n '630',\n '634',\n '64',\n '65',\n '66',\n '67',\n '68',\n '69',\n '7',\n '7.3',\n '7.5',\n '7.6',\n '70',\n '71',\n '72',\n '73',\n '74',\n '75',\n '76',\n '77',\n '78',\n '79',\n '8',\n '8.5',\n '8.6',\n '8.75',\n '80',\n '81',\n '82',\n '83',\n '84',\n '85',\n '86',\n '87',\n '88',\n '89',\n '9',\n '9.3',\n '9.5',\n '9.6',\n '90',\n '91',\n '92',\n '93',\n '94',\n '95',\n '96',\n '97',\n '98',\n '99',\n '999',\n 'two']"
     },
     "metadata": {},
     "execution_count": 86
    }
   ],
   "source": [
    "sorted(list(data.commitment_term.unique()))"
   ]
  },
  {
   "cell_type": "code",
   "execution_count": 87,
   "metadata": {},
   "outputs": [
    {
     "output_type": "execute_result",
     "data": {
      "text/plain": "3         30.0\n6         30.0\n9         62.0\n17        70.0\n34         6.0\n          ... \n236119     2.0\n236120     2.0\n236121     2.0\n236122     1.0\n236123     3.0\nName: commitment_term, Length: 211516, dtype: float64"
     },
     "metadata": {},
     "execution_count": 87
    }
   ],
   "source": [
    "# Clean all non-numeric characters and transform value type to float\n",
    "data.commitment_term = data.commitment_term.replace(to_replace='two',value=2)\n",
    "data.commitment_term = data.commitment_term.replace(regex=['[a-z]*','\\,','\\`'], value='')\n",
    "data.commitment_term = data.commitment_term.astype('float')\n",
    "\n",
    "data.commitment_term"
   ]
  },
  {
   "cell_type": "code",
   "execution_count": 88,
   "metadata": {},
   "outputs": [
    {
     "output_type": "execute_result",
     "data": {
      "text/plain": "commitment_unit\nDays            102.789875\nDollars         129.019825\nHours            34.176471\nMonths           24.853554\nNatural Life     11.541766\nTerm              1.016620\nWeeks            25.066667\nWeight           11.333333\nYear(s)           4.135462\nName: commitment_term, dtype: float64"
     },
     "metadata": {},
     "execution_count": 88
    }
   ],
   "source": [
    "data_commitmentunits = data.groupby(['commitment_unit']).mean()\n",
    "data_commitmentunits['commitment_term']"
   ]
  },
  {
   "cell_type": "markdown",
   "metadata": {},
   "source": [
    "### Cleaning by Cook County Boot Camp"
   ]
  },
  {
   "cell_type": "code",
   "execution_count": 162,
   "metadata": {},
   "outputs": [],
   "source": [
    "data_break = data"
   ]
  },
  {
   "cell_type": "code",
   "execution_count": 163,
   "metadata": {},
   "outputs": [
    {
     "output_type": "execute_result",
     "data": {
      "text/plain": "Term       1998\nYear(s)     181\nMonths      141\nDays         52\nDollars       1\nName: commitment_unit, dtype: int64"
     },
     "metadata": {},
     "execution_count": 163
    }
   ],
   "source": [
    "bootcamp = data_break.loc[data_break.sentence_type == 'Cook County Boot Camp']\n",
    "bootcamp.commitment_unit.value_counts()"
   ]
  },
  {
   "cell_type": "code",
   "execution_count": 164,
   "metadata": {},
   "outputs": [],
   "source": [
    "# fnames = {103: \"Matt\", 104: \"Mr\"}\n",
    "# df['First_Name'] = df['ID'].map(fnames)]"
   ]
  },
  {
   "cell_type": "code",
   "execution_count": 165,
   "metadata": {},
   "outputs": [
    {
     "output_type": "execute_result",
     "data": {
      "text/plain": "1.0     86\n4.0     27\n3.0     26\n0.0     19\n2.0     13\n6.0      8\n15.0     1\n7.0      1\nName: commitment_term, dtype: int64"
     },
     "metadata": {},
     "execution_count": 165
    }
   ],
   "source": [
    "bootcamp_years = bootcamp['commitment_term'].loc[bootcamp.commitment_unit == 'Year(s)']\n",
    "bootcamp_years.value_counts()"
   ]
  },
  {
   "cell_type": "code",
   "execution_count": 177,
   "metadata": {},
   "outputs": [
    {
     "output_type": "error",
     "ename": "TypeError",
     "evalue": "ufunc 'invert' not supported for the input types, and the inputs could not be safely coerced to any supported types according to the casting rule ''safe''",
     "traceback": [
      "\u001b[1;31m---------------------------------------------------------------------------\u001b[0m",
      "\u001b[1;31mTypeError\u001b[0m                                 Traceback (most recent call last)",
      "\u001b[1;32m<ipython-input-177-bf9d721ecb81>\u001b[0m in \u001b[0;36m<module>\u001b[1;34m\u001b[0m\n\u001b[0;32m      1\u001b[0m \u001b[0mchange\u001b[0m \u001b[1;33m=\u001b[0m \u001b[0mdata_break\u001b[0m\u001b[1;33m.\u001b[0m\u001b[0mcommitment_term\u001b[0m\u001b[1;33m.\u001b[0m\u001b[0mloc\u001b[0m\u001b[1;33m[\u001b[0m\u001b[0mdata_break\u001b[0m\u001b[1;33m.\u001b[0m\u001b[0msentence_type\u001b[0m \u001b[1;33m==\u001b[0m \u001b[1;34m'Cook County Boot Camp'\u001b[0m\u001b[1;33m]\u001b[0m\u001b[1;33m.\u001b[0m\u001b[0mloc\u001b[0m\u001b[1;33m[\u001b[0m\u001b[0mdata_break\u001b[0m\u001b[1;33m.\u001b[0m\u001b[0mcommitment_unit\u001b[0m \u001b[1;33m==\u001b[0m \u001b[1;34m'Year(s)'\u001b[0m\u001b[1;33m]\u001b[0m\u001b[1;33m.\u001b[0m\u001b[0mloc\u001b[0m\u001b[1;33m[\u001b[0m\u001b[0mdata_break\u001b[0m\u001b[1;33m.\u001b[0m\u001b[0mcommitment_term\u001b[0m \u001b[1;33m==\u001b[0m \u001b[1;36m0\u001b[0m\u001b[1;33m]\u001b[0m\u001b[1;33m\u001b[0m\u001b[1;33m\u001b[0m\u001b[0m\n\u001b[0;32m      2\u001b[0m \u001b[1;33m\u001b[0m\u001b[0m\n\u001b[1;32m----> 3\u001b[1;33m \u001b[0mdata_break\u001b[0m\u001b[1;33m.\u001b[0m\u001b[0mwhere\u001b[0m\u001b[1;33m(\u001b[0m\u001b[1;33m~\u001b[0m\u001b[0mchange\u001b[0m\u001b[1;33m,\u001b[0m\u001b[1;36m1\u001b[0m\u001b[1;33m)\u001b[0m\u001b[1;33m\u001b[0m\u001b[1;33m\u001b[0m\u001b[0m\n\u001b[0m\u001b[0;32m      4\u001b[0m \u001b[1;33m\u001b[0m\u001b[0m\n\u001b[0;32m      5\u001b[0m \u001b[0mdata_break\u001b[0m\u001b[1;33m.\u001b[0m\u001b[0mloc\u001b[0m\u001b[1;33m[\u001b[0m\u001b[0mdata_break\u001b[0m\u001b[1;33m.\u001b[0m\u001b[0msentence_type\u001b[0m \u001b[1;33m==\u001b[0m \u001b[1;34m'Cook County Boot Camp'\u001b[0m\u001b[1;33m]\u001b[0m\u001b[1;33m.\u001b[0m\u001b[0mcommitment_term\u001b[0m\u001b[1;33m.\u001b[0m\u001b[0mloc\u001b[0m\u001b[1;33m[\u001b[0m\u001b[0mdata_break\u001b[0m\u001b[1;33m.\u001b[0m\u001b[0mcommitment_unit\u001b[0m \u001b[1;33m==\u001b[0m \u001b[1;34m'Year(s)'\u001b[0m\u001b[1;33m]\u001b[0m\u001b[1;33m.\u001b[0m\u001b[0mvalue_counts\u001b[0m\u001b[1;33m(\u001b[0m\u001b[1;33m)\u001b[0m\u001b[1;33m\u001b[0m\u001b[1;33m\u001b[0m\u001b[0m\n",
      "\u001b[1;32m~\\Anaconda3\\lib\\site-packages\\pandas\\core\\generic.py\u001b[0m in \u001b[0;36m__invert__\u001b[1;34m(self)\u001b[0m\n\u001b[0;32m   1539\u001b[0m     \u001b[1;32mdef\u001b[0m \u001b[0m__invert__\u001b[0m\u001b[1;33m(\u001b[0m\u001b[0mself\u001b[0m\u001b[1;33m)\u001b[0m\u001b[1;33m:\u001b[0m\u001b[1;33m\u001b[0m\u001b[1;33m\u001b[0m\u001b[0m\n\u001b[0;32m   1540\u001b[0m         \u001b[1;32mtry\u001b[0m\u001b[1;33m:\u001b[0m\u001b[1;33m\u001b[0m\u001b[1;33m\u001b[0m\u001b[0m\n\u001b[1;32m-> 1541\u001b[1;33m             \u001b[0marr\u001b[0m \u001b[1;33m=\u001b[0m \u001b[0moperator\u001b[0m\u001b[1;33m.\u001b[0m\u001b[0minv\u001b[0m\u001b[1;33m(\u001b[0m\u001b[0mcom\u001b[0m\u001b[1;33m.\u001b[0m\u001b[0mvalues_from_object\u001b[0m\u001b[1;33m(\u001b[0m\u001b[0mself\u001b[0m\u001b[1;33m)\u001b[0m\u001b[1;33m)\u001b[0m\u001b[1;33m\u001b[0m\u001b[1;33m\u001b[0m\u001b[0m\n\u001b[0m\u001b[0;32m   1542\u001b[0m             \u001b[1;32mreturn\u001b[0m \u001b[0mself\u001b[0m\u001b[1;33m.\u001b[0m\u001b[0m__array_wrap__\u001b[0m\u001b[1;33m(\u001b[0m\u001b[0marr\u001b[0m\u001b[1;33m)\u001b[0m\u001b[1;33m\u001b[0m\u001b[1;33m\u001b[0m\u001b[0m\n\u001b[0;32m   1543\u001b[0m         \u001b[1;32mexcept\u001b[0m \u001b[0mException\u001b[0m\u001b[1;33m:\u001b[0m\u001b[1;33m\u001b[0m\u001b[1;33m\u001b[0m\u001b[0m\n",
      "\u001b[1;31mTypeError\u001b[0m: ufunc 'invert' not supported for the input types, and the inputs could not be safely coerced to any supported types according to the casting rule ''safe''"
     ]
    }
   ],
   "source": [
    "change = data_break.commitment_term.loc[data_break.sentence_type == 'Cook County Boot Camp'].loc[data_break.commitment_unit == 'Year(s)'].loc[data_break.commitment_term == 0]\n",
    "\n",
    "# data_break.where(~change,1)\n",
    "\n",
    "data_break.loc[data_break.sentence_type == 'Cook County Boot Camp'].commitment_term.loc[data_break.commitment_unit == 'Year(s)'].value_counts()"
   ]
  },
  {
   "cell_type": "code",
   "execution_count": 167,
   "metadata": {},
   "outputs": [
    {
     "output_type": "execute_result",
     "data": {
      "text/plain": "1.0     86\n4.0     27\n3.0     26\n0.0     19\n2.0     13\n6.0      8\n15.0     1\n7.0      1\nName: commitment_term, dtype: int64"
     },
     "metadata": {},
     "execution_count": 167
    }
   ],
   "source": [
    "for index,row in data_break.iterrows():\n",
    "    if row.sentence_type == 'Cook County Boot Camp':\n",
    "        if row.commitment_unit == 'Year(s)':\n",
    "            # row.commitment_term.replace(0,1)\n",
    "            if row.commitment_term == 0:\n",
    "                row.commitment_term = 1\n",
    "                \n",
    "data_break.loc[data_break.sentence_type == 'Cook County Boot Camp'].commitment_term.loc[data_break.commitment_unit == 'Year(s)'].value_counts()"
   ]
  }
 ],
 "metadata": {
  "language_info": {
   "codemirror_mode": {
    "name": "ipython",
    "version": 3
   },
   "file_extension": ".py",
   "mimetype": "text/x-python",
   "name": "python",
   "nbconvert_exporter": "python",
   "pygments_lexer": "ipython3",
   "version": "3.7.4-final"
  },
  "orig_nbformat": 2,
  "kernelspec": {
   "name": "python37464bitbaseconda1f272b08825b44268b0b382f97a12fd9",
   "display_name": "Python 3.7.4 64-bit ('base': conda)"
  }
 },
 "nbformat": 4,
 "nbformat_minor": 2
}