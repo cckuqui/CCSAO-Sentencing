{
 "cells": [
  {
   "cell_type": "code",
   "execution_count": 1,
   "metadata": {},
   "outputs": [],
   "source": [
    "import pandas as pd\n",
    "from sodapy import Socrata\n",
    "import numpy as np"
   ]
  },
  {
   "cell_type": "markdown",
   "metadata": {},
   "source": [
    "# Get information from Cook County Sentencing Data Database"
   ]
  },
  {
   "cell_type": "code",
   "execution_count": 2,
   "metadata": {
    "tags": []
   },
   "outputs": [
    {
     "output_type": "stream",
     "name": "stderr",
     "text": "WARNING:root:Requests made without an app_token will be subject to strict throttling limits.\n"
    }
   ],
   "source": [
    "# Call API\n",
    "client = Socrata(\"datacatalog.cookcountyil.gov\", None)"
   ]
  },
  {
   "cell_type": "code",
   "execution_count": 3,
   "metadata": {},
   "outputs": [],
   "source": [
    "# Retrive Data\n",
    "results = client.get(\"tg8v-tm6u\", limit=300000)"
   ]
  },
  {
   "cell_type": "code",
   "execution_count": 4,
   "metadata": {},
   "outputs": [
    {
     "output_type": "execute_result",
     "data": {
      "text/plain": "['case_id',\n 'case_participant_id',\n 'received_date',\n 'offense_category',\n 'primary_charge',\n 'charge_id',\n 'charge_version_id',\n 'disposition_charged_offense_title',\n 'charge_count',\n 'disposition_date',\n 'disposition_charged_chapter',\n 'disposition_charged_class',\n 'disposition_charged_aoic',\n 'charge_disposition',\n 'sentence_judge',\n 'court_name',\n 'court_facility',\n 'sentence_phase',\n 'sentence_date',\n 'sentence_type',\n 'current_sentence',\n 'commitment_type',\n 'commitment_term',\n 'commitment_unit',\n 'length_of_case_in_days',\n 'age_at_incident',\n 'race',\n 'gender',\n 'incident_begin_date',\n 'law_enforcement_agency',\n 'arrest_date',\n 'felony_review_date',\n 'felony_review_result',\n 'arraignment_date',\n 'updated_offense_category',\n 'incident_end_date',\n 'disposition_charged_act',\n 'disposition_charged_section',\n 'charge_disposition_reason',\n 'incident_city',\n 'unit']"
     },
     "metadata": {},
     "execution_count": 4
    }
   ],
   "source": [
    "# Generate DataFrame\n",
    "original_data = pd.DataFrame.from_records(results)\n",
    "\n",
    "# Explore data\n",
    "list(original_data.columns.values)"
   ]
  },
  {
   "cell_type": "code",
   "execution_count": 5,
   "metadata": {},
   "outputs": [],
   "source": [
    "data = original_data.copy()"
   ]
  },
  {
   "cell_type": "code",
   "execution_count": 6,
   "metadata": {},
   "outputs": [
    {
     "output_type": "execute_result",
     "data": {
      "text/plain": "case_id                              241659\ncase_participant_id                  241659\nreceived_date                        241659\noffense_category                     241659\nprimary_charge                       241659\ncharge_id                            241659\ncharge_version_id                    241659\ndisposition_charged_offense_title    241659\ncharge_count                         241659\ndisposition_date                     241659\ndisposition_charged_chapter          241659\ndisposition_charged_class            241640\ndisposition_charged_aoic             241635\ncharge_disposition                   241659\nsentence_judge                       240917\ncourt_name                           240274\ncourt_facility                       239777\nsentence_phase                       241659\nsentence_date                        241659\nsentence_type                        241659\ncurrent_sentence                     241659\ncommitment_type                      240026\ncommitment_term                      239997\ncommitment_unit                      239997\nlength_of_case_in_days               222753\nage_at_incident                      232210\nrace                                 240404\ngender                               240855\nincident_begin_date                  232963\nlaw_enforcement_agency               233239\narrest_date                          236619\nfelony_review_date                   166981\nfelony_review_result                 166981\narraignment_date                     222753\nupdated_offense_category             241659\nincident_end_date                     21603\ndisposition_charged_act              236291\ndisposition_charged_section          236291\ncharge_disposition_reason               843\nincident_city                        222595\nunit                                  75214\ndtype: int64"
     },
     "metadata": {},
     "execution_count": 6
    }
   ],
   "source": [
    "# Explore values in columns\n",
    "data.count()"
   ]
  },
  {
   "cell_type": "code",
   "execution_count": 7,
   "metadata": {},
   "outputs": [],
   "source": [
    "data = data.drop([\n",
    "    'charge_disposition_reason',\n",
    "    'unit',\n",
    "    'disposition_charged_chapter',\n",
    "    'disposition_charged_act',\n",
    "    'disposition_charged_section',\n",
    "    'incident_end_date',\n",
    "    'law_enforcement_agency',\n",
    "    'disposition_charged_aoic',\n",
    "    'incident_city',\n",
    "    'arraignment_date',\n",
    "    'felony_review_date',\n",
    "    'felony_review_result',\n",
    "    'received_date',\n",
    "    'disposition_date',\n",
    "    'charge_id',\n",
    "    'charge_version_id',\n",
    "    'sentence_judge',\n",
    "    'sentence_phase',\n",
    "    'offense_category',\n",
    "    'commitment_type'\n",
    "],axis=1)"
   ]
  },
  {
   "cell_type": "code",
   "execution_count": 8,
   "metadata": {},
   "outputs": [],
   "source": [
    "data = data.rename(columns={'updated_offense_category':'offense_category'})"
   ]
  },
  {
   "cell_type": "code",
   "execution_count": 9,
   "metadata": {},
   "outputs": [
    {
     "output_type": "execute_result",
     "data": {
      "text/plain": "case_id                              241659\ncase_participant_id                  241659\nprimary_charge                       241659\ndisposition_charged_offense_title    241659\ncharge_count                         241659\ndisposition_charged_class            241640\ncharge_disposition                   241659\ncourt_name                           240274\ncourt_facility                       239777\nsentence_date                        241659\nsentence_type                        241659\ncurrent_sentence                     241659\ncommitment_type                      240026\ncommitment_term                      239997\ncommitment_unit                      239997\nlength_of_case_in_days               222753\nage_at_incident                      232210\nrace                                 240404\ngender                               240855\nincident_begin_date                  232963\narrest_date                          236619\noffense_category                     241659\ndtype: int64"
     },
     "metadata": {},
     "execution_count": 9
    }
   ],
   "source": [
    "data.count()"
   ]
  },
  {
   "cell_type": "markdown",
   "metadata": {},
   "source": [
    "# Cleaning Process"
   ]
  },
  {
   "cell_type": "markdown",
   "metadata": {},
   "source": [
    "## Filter data after 2000 & before 2019"
   ]
  },
  {
   "cell_type": "code",
   "execution_count": 10,
   "metadata": {},
   "outputs": [],
   "source": [
    "# Create a copy of the Sentence Date to filter it\n",
    "data['date_year'] = data['sentence_date'].copy()"
   ]
  },
  {
   "cell_type": "code",
   "execution_count": 11,
   "metadata": {},
   "outputs": [],
   "source": [
    "# Select only the year\n",
    "data['date_year'] = data['date_year'].replace(regex=['[0-9]*\\/[0-9]*\\/','\\s[0-9]*\\:[0-9]*\\:[0-9]*\\s[A-Z]*'], value='')"
   ]
  },
  {
   "cell_type": "code",
   "execution_count": 12,
   "metadata": {},
   "outputs": [],
   "source": [
    "# Change value type\n",
    "data['date_year'] = data['date_year'].astype(int)"
   ]
  },
  {
   "cell_type": "code",
   "execution_count": 13,
   "metadata": {},
   "outputs": [
    {
     "output_type": "execute_result",
     "data": {
      "text/plain": "case_id                              object\ncase_participant_id                  object\nprimary_charge                         bool\ndisposition_charged_offense_title    object\ncharge_count                         object\ndisposition_charged_class            object\ncharge_disposition                   object\ncourt_name                           object\ncourt_facility                       object\nsentence_date                        object\nsentence_type                        object\ncurrent_sentence                       bool\ncommitment_type                      object\ncommitment_term                      object\ncommitment_unit                      object\nlength_of_case_in_days               object\nage_at_incident                      object\nrace                                 object\ngender                               object\nincident_begin_date                  object\narrest_date                          object\noffense_category                     object\ndate_year                             int32\ndtype: object"
     },
     "metadata": {},
     "execution_count": 13
    }
   ],
   "source": [
    "# Confirm value type change\n",
    "data.dtypes"
   ]
  },
  {
   "cell_type": "code",
   "execution_count": 14,
   "metadata": {},
   "outputs": [],
   "source": [
    "# Filter year\n",
    "data = data[(data.date_year >= 2010) & (data.date_year <= 2020)]"
   ]
  },
  {
   "cell_type": "code",
   "execution_count": 15,
   "metadata": {},
   "outputs": [
    {
     "output_type": "execute_result",
     "data": {
      "text/plain": "           date_year\ncount  241360.000000\nmean     2014.728567\nstd         2.543026\nmin      2010.000000\n25%      2013.000000\n50%      2015.000000\n75%      2017.000000\nmax      2020.000000",
      "text/html": "<div>\n<style scoped>\n    .dataframe tbody tr th:only-of-type {\n        vertical-align: middle;\n    }\n\n    .dataframe tbody tr th {\n        vertical-align: top;\n    }\n\n    .dataframe thead th {\n        text-align: right;\n    }\n</style>\n<table border=\"1\" class=\"dataframe\">\n  <thead>\n    <tr style=\"text-align: right;\">\n      <th></th>\n      <th>date_year</th>\n    </tr>\n  </thead>\n  <tbody>\n    <tr>\n      <th>count</th>\n      <td>241360.000000</td>\n    </tr>\n    <tr>\n      <th>mean</th>\n      <td>2014.728567</td>\n    </tr>\n    <tr>\n      <th>std</th>\n      <td>2.543026</td>\n    </tr>\n    <tr>\n      <th>min</th>\n      <td>2010.000000</td>\n    </tr>\n    <tr>\n      <th>25%</th>\n      <td>2013.000000</td>\n    </tr>\n    <tr>\n      <th>50%</th>\n      <td>2015.000000</td>\n    </tr>\n    <tr>\n      <th>75%</th>\n      <td>2017.000000</td>\n    </tr>\n    <tr>\n      <th>max</th>\n      <td>2020.000000</td>\n    </tr>\n  </tbody>\n</table>\n</div>"
     },
     "metadata": {},
     "execution_count": 15
    }
   ],
   "source": [
    "# Confirm values\n",
    "data.describe()"
   ]
  },
  {
   "cell_type": "markdown",
   "metadata": {},
   "source": [
    "## Filter only current sentence and primary charge"
   ]
  },
  {
   "cell_type": "code",
   "execution_count": 16,
   "metadata": {},
   "outputs": [],
   "source": [
    "data = data.loc[data.current_sentence == True]\n",
    "data = data.loc[data.primary_charge == True]"
   ]
  },
  {
   "cell_type": "code",
   "execution_count": 17,
   "metadata": {},
   "outputs": [
    {
     "output_type": "execute_result",
     "data": {
      "text/plain": "case_id                              164729\ncase_participant_id                  164729\nprimary_charge                       164729\ndisposition_charged_offense_title    164729\ncharge_count                         164729\ndisposition_charged_class            164719\ncharge_disposition                   164729\ncourt_name                           164104\ncourt_facility                       163798\nsentence_date                        164729\nsentence_type                        164729\ncurrent_sentence                     164729\ncommitment_type                      163492\ncommitment_term                      163492\ncommitment_unit                      163492\nlength_of_case_in_days               152488\nage_at_incident                      158511\nrace                                 163786\ngender                               164125\nincident_begin_date                  158857\narrest_date                          161148\noffense_category                     164729\ndate_year                            164729\ndtype: int64"
     },
     "metadata": {},
     "execution_count": 17
    }
   ],
   "source": [
    "data.count()"
   ]
  },
  {
   "cell_type": "markdown",
   "metadata": {},
   "source": [
    "## Analize Offense Category and consolidate into related categories"
   ]
  },
  {
   "cell_type": "code",
   "execution_count": 18,
   "metadata": {},
   "outputs": [
    {
     "output_type": "execute_result",
     "data": {
      "text/plain": "Narcotics                                 47630\nAggravated DUI                            14161\nRetail Theft                              12990\nUUW - Unlawful Use of Weapon              12793\nBurglary                                   9772\n                                          ...  \nPossession of Explosives                      8\nDUI                                           8\nArson and Attempt Arson                       4\nViolation of Sex Offender Registration        3\nTampering                                     1\nName: offense_category, Length: 78, dtype: int64"
     },
     "metadata": {},
     "execution_count": 18
    }
   ],
   "source": [
    "# Review all the information\n",
    "data.offense_category.value_counts()"
   ]
  },
  {
   "cell_type": "code",
   "execution_count": 19,
   "metadata": {
    "tags": []
   },
   "outputs": [
    {
     "output_type": "execute_result",
     "data": {
      "text/plain": "array(['PROMIS Conversion', 'Domestic Battery', 'Narcotics', 'Homicide',\n       'UUW - Unlawful Use of Weapon', 'Sex Crimes', 'Burglary',\n       'Aggravated DUI', 'Driving With Suspended Or Revoked License',\n       'Retail Theft', 'Identity Theft', 'Attempt Homicide',\n       'Home Invasion', 'Forgery', 'Theft',\n       'Aggravated Fleeing and Eluding', 'DUI', 'Robbery',\n       'Possession of Stolen Motor Vehicle',\n       'Aggravated Battery With A Firearm', 'Fraudulent ID',\n       'Criminal Damage to Property', 'Armed Robbery',\n       'Escape - Failure to Return', 'Other Offense',\n       'Failure to Register as a Sex Offender', 'Aggravated Battery',\n       'Aggravated Discharge Firearm', 'Credit Card Cases', 'Kidnapping',\n       'Residential Burglary', 'Aggravated Battery Police Officer',\n       'Deceptive Practice', 'Attempt Armed Robbery', 'Arson',\n       'Aggravated Identity Theft', 'Aggravated Robbery',\n       'Possession of Contraband in Penal Institution', 'Bribery',\n       'Dog Fighting', 'Vehicular Hijacking', 'Possession of Explosives',\n       'Intimidation', 'Attempt Arson', 'Pandering',\n       'Impersonating Police Officer', 'Child Abduction',\n       'Violate Bail Bond', 'Violation Order Of Protection',\n       'Theft by Deception', 'Criminal Trespass To Residence',\n       'Reckless Discharge of Firearm', 'Stalking', 'Prostitution',\n       'Child Pornography', 'Major Accidents', 'Disarming Police Officer',\n       'Arson and Attempt Arson', 'Gun Running',\n       'Aggravated Assault Police Officer', 'Human Trafficking',\n       'Attempt Vehicular Hijacking', 'Possession Of Burglary Tools',\n       'Fraud', 'Battery', 'Violation of Sex Offender Registration',\n       'Perjury', 'Unlawful Restraint', 'Obstructing Justice',\n       'Official Misconduct', 'Bomb Threat', 'Gun - Non UUW',\n       'Hate Crimes', 'Tampering', 'Communicating With Witness',\n       'Reckless Homicide', 'Gambling', 'Vehicular Invasion'],\n      dtype=object)"
     },
     "metadata": {},
     "execution_count": 19
    }
   ],
   "source": [
    "data.offense_category.unique()"
   ]
  },
  {
   "cell_type": "code",
   "execution_count": 20,
   "metadata": {},
   "outputs": [],
   "source": [
    "# Consolidate Homicide category\n",
    "data.offense_category = data.offense_category.replace(to_replace=['Attempt Homicide','Reckless Homicide'],value='Homicide')"
   ]
  },
  {
   "cell_type": "code",
   "execution_count": 21,
   "metadata": {},
   "outputs": [],
   "source": [
    "# Consolidate Offense Against Police Officers category\n",
    "data.offense_category = data.offense_category.replace(to_replace=['Aggravated Assault Police Officer','Aggravated Assault Police Officer Firearm','Police Shooting','Impersonating Police Officer','Aggravated Battery Police Officer','Aggravated Battery Police Officer Firearm','Disarming Police Officer'],value='Offense Against Police Officers')"
   ]
  },
  {
   "cell_type": "code",
   "execution_count": 22,
   "metadata": {},
   "outputs": [],
   "source": [
    "# Consolidate Battery category\n",
    "data.offense_category = data.offense_category.replace(to_replace=['Aggravated Battery','Aggravated Battery With A Firearm','Domestic Battery'],value='Battery')"
   ]
  },
  {
   "cell_type": "code",
   "execution_count": 23,
   "metadata": {},
   "outputs": [],
   "source": [
    "# Consolidate Robbery, Burglery and Theft category\n",
    "data.offense_category = data.offense_category.replace(to_replace=['Aggravated Identity Theft','Aggravated Robbery','Aggravated Robbery BB Gun','Armed Robbery','Attempt Armed Robbery','Burglary','Identity Theft','Residential Burglary','Retail Theft','Robbery','Theft','Theft by Deception','Possession Of Burglary Tools'],value='Robbery/Burglary/Theft')"
   ]
  },
  {
   "cell_type": "code",
   "execution_count": 24,
   "metadata": {},
   "outputs": [],
   "source": [
    "# Consolidate Arson category\n",
    "data.offense_category = data.offense_category.replace(to_replace=['Arson and Attempt Arson','Attempt Arson'],value='Arson')"
   ]
  },
  {
   "cell_type": "code",
   "execution_count": 25,
   "metadata": {},
   "outputs": [],
   "source": [
    "# Consolidate Firearms and Explosives category\n",
    "data.offense_category = data.offense_category.replace(to_replace=['Aggravated Discharge Firearm','Armed Violence','Gun Running','Possession of Explosives','UUW - Unlawful Use of Weapon','Gun - Non UUW','Bomb Threat','Reckless Discharge of Firearm'],value='Firearms and Explosives')"
   ]
  },
  {
   "cell_type": "code",
   "execution_count": 26,
   "metadata": {},
   "outputs": [],
   "source": [
    "# Consolidate Motor Vehicles Offenses category\n",
    "data.offense_category = data.offense_category.replace(to_replace=['Aggravated DUI','Attempt Vehicular Hijacking','DUI','Driving With Suspended Or Revoked License','Major Accidents','Possession of Stolen Motor Vehicle','Vehicular Hijacking','Vehicular Invasion'],value='Motor Vehicle Offenses')"
   ]
  },
  {
   "cell_type": "code",
   "execution_count": 27,
   "metadata": {},
   "outputs": [],
   "source": [
    "# Consolidate Judicial Process Violations category\n",
    "data.offense_category = data.offense_category.replace(to_replace=['Communicating With Witness','Escape - Failure to Return','Obstructing Justice','Perjury','Tampering','Violate Bail Bond','Violation Order Of Protection'],value='Judicial Process Violations')"
   ]
  },
  {
   "cell_type": "code",
   "execution_count": 28,
   "metadata": {},
   "outputs": [],
   "source": [
    "# Consolidate Sex Offenses category\n",
    "data.offense_category = data.offense_category.replace(to_replace=['Attempt Sex Crimes','Child Pornography','Failure to Register as a Sex Offender','Pandering','Prostitution','Sex Crimes','Violation of Sex Offender Registration'],value='Sex Offenses')"
   ]
  },
  {
   "cell_type": "code",
   "execution_count": 29,
   "metadata": {},
   "outputs": [],
   "source": [
    "# Consolidate Human Trafficking, Detention and Kidnapping category\n",
    "data.offense_category = data.offense_category.replace(to_replace=['Child Abduction','Human Trafficking','Kidnapping','Unlawful Restraint'],value='Human Trafficking/Detention/Kidnapping')"
   ]
  },
  {
   "cell_type": "code",
   "execution_count": 30,
   "metadata": {},
   "outputs": [],
   "source": [
    "# Consolidate Trespassing category\n",
    "data.offense_category = data.offense_category.replace(to_replace=['Home Invasion','Criminal Trespass To Residence'],value='Trespassing')"
   ]
  },
  {
   "cell_type": "code",
   "execution_count": 31,
   "metadata": {},
   "outputs": [],
   "source": [
    "# Consolidate Fraud and Deception category\n",
    "data.offense_category = data.offense_category.replace(to_replace=['Credit Card Cases','Deceptive Practice','Forgery','Fraud','Fraudulent ID'],value='Fraud/Deception')"
   ]
  },
  {
   "cell_type": "code",
   "execution_count": 32,
   "metadata": {},
   "outputs": [],
   "source": [
    "# Consolidate Corruption category\n",
    "data.offense_category = data.offense_category.replace(to_replace=['Intimidation','Official Misconduct','Bribery'],value='Corruption')"
   ]
  },
  {
   "cell_type": "code",
   "execution_count": 33,
   "metadata": {},
   "outputs": [],
   "source": [
    "# Consolidate Inside Penal Institutions category\n",
    "data.offense_category = data.offense_category.replace(to_replace=['Possession of Contraband in Penal Institution','Possession of Shank in Penal Institution'],value='Inside Penal Institutions')"
   ]
  },
  {
   "cell_type": "code",
   "execution_count": 34,
   "metadata": {},
   "outputs": [],
   "source": [
    "# Consolidate Other Offense category\n",
    "data.offense_category = data.offense_category.replace(to_replace=['Dog Fighting','Gambling','Failure To Pay Child Support','Compelling Gang Membership'],value='Other Offense')"
   ]
  },
  {
   "cell_type": "code",
   "execution_count": 35,
   "metadata": {},
   "outputs": [
    {
     "output_type": "execute_result",
     "data": {
      "text/plain": "Narcotics                                 47630\nRobbery/Burglary/Theft                    45019\nMotor Vehicle Offenses                    26700\nFirearms and Explosives                   13502\nSex Offenses                               5310\nBattery                                    4423\nOffense Against Police Officers            4385\nFraud/Deception                            3713\nJudicial Process Violations                3122\nOther Offense                              2526\nPROMIS Conversion                          2183\nAggravated Fleeing and Eluding             1726\nCriminal Damage to Property                1712\nHomicide                                   1124\nTrespassing                                 524\nArson                                       291\nCorruption                                  263\nHuman Trafficking/Detention/Kidnapping      214\nInside Penal Institutions                   179\nStalking                                    162\nHate Crimes                                  21\nName: offense_category, dtype: int64"
     },
     "metadata": {},
     "execution_count": 35
    }
   ],
   "source": [
    "data.offense_category.value_counts()"
   ]
  },
  {
   "cell_type": "markdown",
   "metadata": {},
   "source": [
    "## Cleaning Race columns"
   ]
  },
  {
   "cell_type": "code",
   "execution_count": 36,
   "metadata": {},
   "outputs": [
    {
     "output_type": "execute_result",
     "data": {
      "text/plain": "Black                               106854\nWhite [Hispanic or Latino]           25770\nWhite                                24758\nHISPANIC                              4236\nAsian                                  940\nWhite/Black [Hispanic or Latino]       840\nUnknown                                235\nAmerican Indian                         84\nASIAN                                   41\nBiracial                                28\nName: race, dtype: int64"
     },
     "metadata": {},
     "execution_count": 36
    }
   ],
   "source": [
    "# Review data\n",
    "data.race.value_counts()"
   ]
  },
  {
   "cell_type": "code",
   "execution_count": 37,
   "metadata": {},
   "outputs": [],
   "source": [
    "# Consolidate Asian race\n",
    "data.race = data.race.replace(to_replace='ASIAN',value='Asian')"
   ]
  },
  {
   "cell_type": "code",
   "execution_count": 38,
   "metadata": {},
   "outputs": [],
   "source": [
    "# Consolidate Hispanic/Latino race\n",
    "data.race = data.race.replace(to_replace=['White [Hispanic or Latino]','HISPANIC','White/Black [Hispanic or Latino]'],value='Hispanic/Latino')"
   ]
  },
  {
   "cell_type": "code",
   "execution_count": 39,
   "metadata": {},
   "outputs": [
    {
     "output_type": "execute_result",
     "data": {
      "text/plain": "Black              106854\nHispanic/Latino     30846\nWhite               24758\nAsian                 981\nUnknown               235\nAmerican Indian        84\nBiracial               28\nName: race, dtype: int64"
     },
     "metadata": {},
     "execution_count": 39
    }
   ],
   "source": [
    "data.race.value_counts()"
   ]
  },
  {
   "cell_type": "markdown",
   "metadata": {},
   "source": [
    "## Cleaning Sentence Type"
   ]
  },
  {
   "cell_type": "code",
   "execution_count": 40,
   "metadata": {},
   "outputs": [
    {
     "output_type": "execute_result",
     "data": {
      "text/plain": "Prison                                   83764\nProbation                                65798\nJail                                      6161\nConditional Discharge                     2836\nSupervision                               2083\n2nd Chance Probation                      1638\nCook County Boot Camp                     1469\nProbation Terminated Unsatisfactorily      665\nProbation Terminated Instanter              74\nConditional Release                         74\nInpatient Mental Health Services            60\nProbation Terminated Satisfactorily         52\nDeath                                       47\nConversion                                   8\nName: sentence_type, dtype: int64"
     },
     "metadata": {},
     "execution_count": 40
    }
   ],
   "source": [
    "# Review data\n",
    "data.sentence_type.value_counts()"
   ]
  },
  {
   "cell_type": "code",
   "execution_count": 41,
   "metadata": {},
   "outputs": [],
   "source": [
    "# Consolidate Probation & Supervision sentence\n",
    "data.sentence_type = data.sentence_type.replace(to_replace=['Probation','2nd Chance Probation','Supervision','Probation Terminated Unsatisfactorily','Probation Terminated Instanter','Probation Terminated Satisfactorily'],value='Probation/Supervision')"
   ]
  },
  {
   "cell_type": "code",
   "execution_count": 42,
   "metadata": {},
   "outputs": [],
   "source": [
    "# Consolidate Conditional sentence type\n",
    "data.sentence_type = data.sentence_type.replace(to_replace='Conditional Release',value='Conditional Discharge')"
   ]
  },
  {
   "cell_type": "code",
   "execution_count": 43,
   "metadata": {},
   "outputs": [],
   "source": [
    "# Consolidate Incarceration sentence\n",
    "data.sentence_type = data.sentence_type.replace(to_replace=['Jail','Prison'],value='Incarceration')"
   ]
  },
  {
   "cell_type": "code",
   "execution_count": 44,
   "metadata": {},
   "outputs": [
    {
     "output_type": "execute_result",
     "data": {
      "text/plain": "Incarceration                       89925\nProbation/Supervision               70310\nConditional Discharge                2910\nCook County Boot Camp                1469\nInpatient Mental Health Services       60\nDeath                                  47\nConversion                              8\nName: sentence_type, dtype: int64"
     },
     "metadata": {},
     "execution_count": 44
    }
   ],
   "source": [
    "data.sentence_type.value_counts()"
   ]
  },
  {
   "cell_type": "markdown",
   "metadata": {},
   "source": [
    "## Cleaning Gender"
   ]
  },
  {
   "cell_type": "code",
   "execution_count": 45,
   "metadata": {},
   "outputs": [
    {
     "output_type": "execute_result",
     "data": {
      "text/plain": "Male                          143275\nFemale                         20839\nUnknown                            5\nMale name, no gender given         3\nUnknown Gender                     3\nName: gender, dtype: int64"
     },
     "metadata": {},
     "execution_count": 45
    }
   ],
   "source": [
    "data.gender.value_counts()"
   ]
  },
  {
   "cell_type": "code",
   "execution_count": 46,
   "metadata": {},
   "outputs": [],
   "source": [
    "data = data.loc[(data.gender == \"Male\") | (data.gender == \"Female\")]"
   ]
  },
  {
   "cell_type": "code",
   "execution_count": 47,
   "metadata": {},
   "outputs": [
    {
     "output_type": "execute_result",
     "data": {
      "text/plain": "Male      143275\nFemale     20839\nName: gender, dtype: int64"
     },
     "metadata": {},
     "execution_count": 47
    }
   ],
   "source": [
    "data.gender.value_counts()"
   ]
  },
  {
   "cell_type": "markdown",
   "metadata": {},
   "source": [
    "## Cleaning Commitment Unit"
   ]
  },
  {
   "cell_type": "code",
   "execution_count": 48,
   "metadata": {},
   "outputs": [
    {
     "output_type": "execute_result",
     "data": {
      "text/plain": "Year(s)         116649\nMonths           39289\nDays              5557\nTerm              1206\nNatural Life       112\nDollars             56\nHours               11\nWeeks               11\nPounds               2\nOunces               1\nKilos                1\nName: commitment_unit, dtype: int64"
     },
     "metadata": {},
     "execution_count": 48
    }
   ],
   "source": [
    "# Data Exploration\n",
    "data.commitment_unit.value_counts()"
   ]
  },
  {
   "cell_type": "code",
   "execution_count": 49,
   "metadata": {},
   "outputs": [],
   "source": [
    "# Unify Weight units\n",
    "data.commitment_unit = data.commitment_unit.replace(to_replace=['Pounds','Kilos','Ounces'],value='Weight')"
   ]
  },
  {
   "cell_type": "code",
   "execution_count": 50,
   "metadata": {},
   "outputs": [],
   "source": [
    "# Clean all non-numeric characters and transform value type to float\n",
    "data.commitment_term = data.commitment_term.replace(to_replace='two',value=2)\n",
    "data.commitment_term = data.commitment_term.replace(regex=['[a-z]*','\\,','\\`'], value='')\n",
    "data.commitment_term = data.commitment_term.astype('float')"
   ]
  },
  {
   "cell_type": "code",
   "execution_count": 51,
   "metadata": {},
   "outputs": [
    {
     "output_type": "execute_result",
     "data": {
      "text/plain": "Year(s)         116649\nMonths           39289\nDays              5557\nTerm              1206\nNatural Life       112\nDollars             56\nHours               11\nWeeks               11\nWeight               4\nName: commitment_unit, dtype: int64"
     },
     "metadata": {},
     "execution_count": 51
    }
   ],
   "source": [
    "# Review commitment unit values\n",
    "data.commitment_unit.value_counts()"
   ]
  },
  {
   "cell_type": "code",
   "execution_count": 52,
   "metadata": {},
   "outputs": [],
   "source": [
    "# Change all years over 130 to 130 to mark natural life\n",
    "data.loc[(data.commitment_unit == 'Year(s)') & (data.commitment_term > 129),['commitment_term']] = 130"
   ]
  },
  {
   "cell_type": "code",
   "execution_count": 53,
   "metadata": {},
   "outputs": [],
   "source": [
    "# Changes in Bootcamp Terms to Months\n",
    "data.loc[(data.sentence_type == 'Cook County Boot Camp') & (data.commitment_unit == 'Term') & (data.commitment_term == 1),['commitment_term']] = 12\n",
    "data.loc[(data.sentence_type == 'Cook County Boot Camp') & (data.commitment_unit == 'Term') & (data.commitment_term == 12),['commitment_unit']] = 'Months'\n",
    "data.loc[(data.sentence_type == 'Cook County Boot Camp') & (data.commitment_unit == 'Term') & (data.commitment_term == 18),['commitment_unit']] = 'Months'"
   ]
  },
  {
   "cell_type": "code",
   "execution_count": 54,
   "metadata": {},
   "outputs": [],
   "source": [
    "# Change Death info to 130 years\n",
    "data.loc[(data.sentence_type == 'Death'),['commitment_unit']] = 'Year(s)'\n",
    "data.loc[(data.sentence_type == 'Death'),['commitment_term']] = 130"
   ]
  },
  {
   "cell_type": "code",
   "execution_count": 55,
   "metadata": {},
   "outputs": [],
   "source": [
    "# Create column with all values in months\n",
    "def month_convert(row):\n",
    "    if row ['commitment_unit'] == 'Months':\n",
    "        return round(float(row['commitment_term']),2)\n",
    "    if row[\"commitment_unit\"] == \"Year(s)\":\n",
    "        return round(int(row[\"commitment_term\"]) * 12.0, 2)\n",
    "    if row[\"commitment_unit\"] == \"Weeks\":\n",
    "       return round(float(row['commitment_term']) / 4, 2)\n",
    "    if row[\"commitment_unit\"] == \"Days\":\n",
    "        return round(float( row['commitment_term']) / 30, 2)\n",
    "    if row['commitment_unit'] == \"Natural Life\":\n",
    "        return 1560.\n",
    "    else:\n",
    "        return 0.\n",
    "\n",
    "data['month'] = data.apply(lambda row:month_convert(row), axis = 1)"
   ]
  },
  {
   "cell_type": "code",
   "execution_count": 56,
   "metadata": {},
   "outputs": [],
   "source": [
    "# Create column with all values in years\n",
    "def year_convert(row):\n",
    "    if row ['commitment_unit'] == 'Year(s)':\n",
    "        return round(float(row['commitment_term']),2)\n",
    "    if row[\"commitment_unit\"] == \"Months\":\n",
    "        return round(int(row[\"commitment_term\"]) / 12.0, 2)\n",
    "    if row[\"commitment_unit\"] == \"Weeks\":\n",
    "       return round(float(row['commitment_term']) / 52, 2)\n",
    "    if row[\"commitment_unit\"] == \"Days\":\n",
    "        return round(float( row['commitment_term'])/365, 2)\n",
    "    if row['commitment_unit'] == \"Natural Life\":\n",
    "        return 130.\n",
    "    else:\n",
    "        return 0.\n",
    "\n",
    "data['year'] = data.apply(lambda row:year_convert(row), axis = 1)"
   ]
  },
  {
   "cell_type": "markdown",
   "metadata": {},
   "source": [
    "## Create bins for age"
   ]
  },
  {
   "cell_type": "code",
   "execution_count": 57,
   "metadata": {},
   "outputs": [],
   "source": [
    "data.dropna(inplace=True)"
   ]
  },
  {
   "cell_type": "code",
   "execution_count": 58,
   "metadata": {},
   "outputs": [],
   "source": [
    "# Change age dtype from string to integer \n",
    "data.age_at_incident = data.age_at_incident.astype(int)"
   ]
  },
  {
   "cell_type": "code",
   "execution_count": 59,
   "metadata": {},
   "outputs": [],
   "source": [
    "# Bins to group age\n",
    "bins_ranges = [0,18,24,29,39,49,59,137]\n",
    "bins_names = [\"<18\", '18-24', '25-29', '30s', '40s', '50s', '60+']\n",
    "\n",
    "data['age_bins'] = pd.cut(data.age_at_incident,bins_ranges,labels=bins_names)"
   ]
  },
  {
   "cell_type": "code",
   "execution_count": 60,
   "metadata": {},
   "outputs": [],
   "source": [
    "# Drop duplicates of data with current values\n",
    "data.drop_duplicates(inplace=True)\n",
    "data.reset_index(drop=True,inplace=True)"
   ]
  },
  {
   "cell_type": "code",
   "execution_count": 61,
   "metadata": {},
   "outputs": [
    {
     "output_type": "execute_result",
     "data": {
      "text/plain": "             case_id case_participant_id  primary_charge  \\\n0       388416976380        131818052297            True   \n1       388421850391        126135811747            True   \n2       388497668340        131896431683            True   \n3       388499293010        131910329156            True   \n4       388507957919        131947840553            True   \n...              ...                 ...             ...   \n141979  814823348343        557047778586            True   \n141980  814953592748        557210308344            True   \n141981  814953863526        557210661670            True   \n141982  814954946640        557212251635            True   \n141983  815391712180        557756431885            True   \n\n       disposition_charged_offense_title charge_count  \\\n0                          ARMED ROBBERY            1   \n1            ATTEMPT FIRST DEGREE MURDER            1   \n2                      FIN ID THEFT <300            1   \n3         FAIL REPORT ACCIDENT/DEATH/INJ            1   \n4              UNLWFL USE FIREARMS/FELON            1   \n...                                  ...          ...   \n141979                AGGRAVATED BATTERY            1   \n141980                          BURGLARY            1   \n141981                          BURGLARY            1   \n141982                          BURGLARY            1   \n141983          VIOLATE ORDER PROTECTION            1   \n\n       disposition_charged_class charge_disposition  \\\n0                              X     Plea Of Guilty   \n1                              X     Finding Guilty   \n2                              A     Plea Of Guilty   \n3                              4     Plea Of Guilty   \n4                              3     Plea Of Guilty   \n...                          ...                ...   \n141979                         3     Plea Of Guilty   \n141980                         1     Plea Of Guilty   \n141981                         2     Plea Of Guilty   \n141982                         2     Plea Of Guilty   \n141983                         A     Plea Of Guilty   \n\n                          court_name              court_facility  \\\n0               District 6 - Markham          Markham Courthouse   \n1               District 6 - Markham          Markham Courthouse   \n2               District 6 - Markham          Markham Courthouse   \n3               District 6 - Markham          Markham Courthouse   \n4               District 6 - Markham          Markham Courthouse   \n...                              ...                         ...   \n141979          District 1 - Chicago                 26TH Street   \n141980          District 1 - Chicago                 26TH Street   \n141981          District 1 - Chicago                 26TH Street   \n141982          District 1 - Chicago                 26TH Street   \n141983  District 3 - Rolling Meadows  Rolling Meadows Courthouse   \n\n                sentence_date  ... age_at_incident             race gender  \\\n0       6/19/2012 12:00:00 AM  ...              17            Black   Male   \n1        6/6/2011 12:00:00 AM  ...              23            Black   Male   \n2        5/2/2012 12:00:00 AM  ...              34            Black   Male   \n3       9/12/2011 12:00:00 AM  ...              18            Black   Male   \n4       1/12/2012 12:00:00 AM  ...              25            Black   Male   \n...                       ...  ...             ...              ...    ...   \n141979  6/17/2020 12:00:00 AM  ...              27  Hispanic/Latino   Male   \n141980  6/29/2020 12:00:00 AM  ...              57            Black   Male   \n141981  6/29/2020 12:00:00 AM  ...              57            Black   Male   \n141982  6/29/2020 12:00:00 AM  ...              57            Black   Male   \n141983  6/24/2020 12:00:00 AM  ...              25  Hispanic/Latino   Male   \n\n           incident_begin_date             arrest_date  \\\n0        10/8/2008 12:00:00 AM   10/8/2008 11:45:00 PM   \n1         5/5/2007 12:00:00 AM     5/5/2007 2:07:00 AM   \n2        7/19/2008 12:00:00 AM  10/16/2008 12:00:00 AM   \n3       11/30/2008 12:00:00 AM  11/30/2008 12:30:00 PM   \n4         8/8/2008 12:00:00 AM   8/15/2008 11:15:00 AM   \n...                        ...                     ...   \n141979    3/9/2020 12:00:00 AM   3/19/2020 11:45:00 AM   \n141980   3/31/2020 12:00:00 AM    3/31/2020 8:55:00 PM   \n141981    3/7/2020 12:00:00 AM    3/31/2020 8:55:00 PM   \n141982   3/29/2020 12:00:00 AM   3/31/2020 12:00:00 AM   \n141983    5/9/2020 12:00:00 AM    5/9/2020 10:48:00 PM   \n\n                   offense_category  date_year  month  year age_bins  \n0                 PROMIS Conversion       2012  120.0  10.0      <18  \n1                           Battery       2011  312.0  26.0    18-24  \n2                 PROMIS Conversion       2012   60.0   5.0      30s  \n3                 PROMIS Conversion       2011   24.0   2.0      <18  \n4                         Narcotics       2012   60.0   5.0    25-29  \n...                             ...        ...    ...   ...      ...  \n141979                      Battery       2020   24.0   2.0    25-29  \n141980       Robbery/Burglary/Theft       2020   72.0   6.0      50s  \n141981       Robbery/Burglary/Theft       2020   72.0   6.0      50s  \n141982       Robbery/Burglary/Theft       2020   72.0   6.0      50s  \n141983  Judicial Process Violations       2020   24.0   2.0    25-29  \n\n[141984 rows x 26 columns]",
      "text/html": "<div>\n<style scoped>\n    .dataframe tbody tr th:only-of-type {\n        vertical-align: middle;\n    }\n\n    .dataframe tbody tr th {\n        vertical-align: top;\n    }\n\n    .dataframe thead th {\n        text-align: right;\n    }\n</style>\n<table border=\"1\" class=\"dataframe\">\n  <thead>\n    <tr style=\"text-align: right;\">\n      <th></th>\n      <th>case_id</th>\n      <th>case_participant_id</th>\n      <th>primary_charge</th>\n      <th>disposition_charged_offense_title</th>\n      <th>charge_count</th>\n      <th>disposition_charged_class</th>\n      <th>charge_disposition</th>\n      <th>court_name</th>\n      <th>court_facility</th>\n      <th>sentence_date</th>\n      <th>...</th>\n      <th>age_at_incident</th>\n      <th>race</th>\n      <th>gender</th>\n      <th>incident_begin_date</th>\n      <th>arrest_date</th>\n      <th>offense_category</th>\n      <th>date_year</th>\n      <th>month</th>\n      <th>year</th>\n      <th>age_bins</th>\n    </tr>\n  </thead>\n  <tbody>\n    <tr>\n      <th>0</th>\n      <td>388416976380</td>\n      <td>131818052297</td>\n      <td>True</td>\n      <td>ARMED ROBBERY</td>\n      <td>1</td>\n      <td>X</td>\n      <td>Plea Of Guilty</td>\n      <td>District 6 - Markham</td>\n      <td>Markham Courthouse</td>\n      <td>6/19/2012 12:00:00 AM</td>\n      <td>...</td>\n      <td>17</td>\n      <td>Black</td>\n      <td>Male</td>\n      <td>10/8/2008 12:00:00 AM</td>\n      <td>10/8/2008 11:45:00 PM</td>\n      <td>PROMIS Conversion</td>\n      <td>2012</td>\n      <td>120.0</td>\n      <td>10.0</td>\n      <td>&lt;18</td>\n    </tr>\n    <tr>\n      <th>1</th>\n      <td>388421850391</td>\n      <td>126135811747</td>\n      <td>True</td>\n      <td>ATTEMPT FIRST DEGREE MURDER</td>\n      <td>1</td>\n      <td>X</td>\n      <td>Finding Guilty</td>\n      <td>District 6 - Markham</td>\n      <td>Markham Courthouse</td>\n      <td>6/6/2011 12:00:00 AM</td>\n      <td>...</td>\n      <td>23</td>\n      <td>Black</td>\n      <td>Male</td>\n      <td>5/5/2007 12:00:00 AM</td>\n      <td>5/5/2007 2:07:00 AM</td>\n      <td>Battery</td>\n      <td>2011</td>\n      <td>312.0</td>\n      <td>26.0</td>\n      <td>18-24</td>\n    </tr>\n    <tr>\n      <th>2</th>\n      <td>388497668340</td>\n      <td>131896431683</td>\n      <td>True</td>\n      <td>FIN ID THEFT &lt;300</td>\n      <td>1</td>\n      <td>A</td>\n      <td>Plea Of Guilty</td>\n      <td>District 6 - Markham</td>\n      <td>Markham Courthouse</td>\n      <td>5/2/2012 12:00:00 AM</td>\n      <td>...</td>\n      <td>34</td>\n      <td>Black</td>\n      <td>Male</td>\n      <td>7/19/2008 12:00:00 AM</td>\n      <td>10/16/2008 12:00:00 AM</td>\n      <td>PROMIS Conversion</td>\n      <td>2012</td>\n      <td>60.0</td>\n      <td>5.0</td>\n      <td>30s</td>\n    </tr>\n    <tr>\n      <th>3</th>\n      <td>388499293010</td>\n      <td>131910329156</td>\n      <td>True</td>\n      <td>FAIL REPORT ACCIDENT/DEATH/INJ</td>\n      <td>1</td>\n      <td>4</td>\n      <td>Plea Of Guilty</td>\n      <td>District 6 - Markham</td>\n      <td>Markham Courthouse</td>\n      <td>9/12/2011 12:00:00 AM</td>\n      <td>...</td>\n      <td>18</td>\n      <td>Black</td>\n      <td>Male</td>\n      <td>11/30/2008 12:00:00 AM</td>\n      <td>11/30/2008 12:30:00 PM</td>\n      <td>PROMIS Conversion</td>\n      <td>2011</td>\n      <td>24.0</td>\n      <td>2.0</td>\n      <td>&lt;18</td>\n    </tr>\n    <tr>\n      <th>4</th>\n      <td>388507957919</td>\n      <td>131947840553</td>\n      <td>True</td>\n      <td>UNLWFL USE FIREARMS/FELON</td>\n      <td>1</td>\n      <td>3</td>\n      <td>Plea Of Guilty</td>\n      <td>District 6 - Markham</td>\n      <td>Markham Courthouse</td>\n      <td>1/12/2012 12:00:00 AM</td>\n      <td>...</td>\n      <td>25</td>\n      <td>Black</td>\n      <td>Male</td>\n      <td>8/8/2008 12:00:00 AM</td>\n      <td>8/15/2008 11:15:00 AM</td>\n      <td>Narcotics</td>\n      <td>2012</td>\n      <td>60.0</td>\n      <td>5.0</td>\n      <td>25-29</td>\n    </tr>\n    <tr>\n      <th>...</th>\n      <td>...</td>\n      <td>...</td>\n      <td>...</td>\n      <td>...</td>\n      <td>...</td>\n      <td>...</td>\n      <td>...</td>\n      <td>...</td>\n      <td>...</td>\n      <td>...</td>\n      <td>...</td>\n      <td>...</td>\n      <td>...</td>\n      <td>...</td>\n      <td>...</td>\n      <td>...</td>\n      <td>...</td>\n      <td>...</td>\n      <td>...</td>\n      <td>...</td>\n      <td>...</td>\n    </tr>\n    <tr>\n      <th>141979</th>\n      <td>814823348343</td>\n      <td>557047778586</td>\n      <td>True</td>\n      <td>AGGRAVATED BATTERY</td>\n      <td>1</td>\n      <td>3</td>\n      <td>Plea Of Guilty</td>\n      <td>District 1 - Chicago</td>\n      <td>26TH Street</td>\n      <td>6/17/2020 12:00:00 AM</td>\n      <td>...</td>\n      <td>27</td>\n      <td>Hispanic/Latino</td>\n      <td>Male</td>\n      <td>3/9/2020 12:00:00 AM</td>\n      <td>3/19/2020 11:45:00 AM</td>\n      <td>Battery</td>\n      <td>2020</td>\n      <td>24.0</td>\n      <td>2.0</td>\n      <td>25-29</td>\n    </tr>\n    <tr>\n      <th>141980</th>\n      <td>814953592748</td>\n      <td>557210308344</td>\n      <td>True</td>\n      <td>BURGLARY</td>\n      <td>1</td>\n      <td>1</td>\n      <td>Plea Of Guilty</td>\n      <td>District 1 - Chicago</td>\n      <td>26TH Street</td>\n      <td>6/29/2020 12:00:00 AM</td>\n      <td>...</td>\n      <td>57</td>\n      <td>Black</td>\n      <td>Male</td>\n      <td>3/31/2020 12:00:00 AM</td>\n      <td>3/31/2020 8:55:00 PM</td>\n      <td>Robbery/Burglary/Theft</td>\n      <td>2020</td>\n      <td>72.0</td>\n      <td>6.0</td>\n      <td>50s</td>\n    </tr>\n    <tr>\n      <th>141981</th>\n      <td>814953863526</td>\n      <td>557210661670</td>\n      <td>True</td>\n      <td>BURGLARY</td>\n      <td>1</td>\n      <td>2</td>\n      <td>Plea Of Guilty</td>\n      <td>District 1 - Chicago</td>\n      <td>26TH Street</td>\n      <td>6/29/2020 12:00:00 AM</td>\n      <td>...</td>\n      <td>57</td>\n      <td>Black</td>\n      <td>Male</td>\n      <td>3/7/2020 12:00:00 AM</td>\n      <td>3/31/2020 8:55:00 PM</td>\n      <td>Robbery/Burglary/Theft</td>\n      <td>2020</td>\n      <td>72.0</td>\n      <td>6.0</td>\n      <td>50s</td>\n    </tr>\n    <tr>\n      <th>141982</th>\n      <td>814954946640</td>\n      <td>557212251635</td>\n      <td>True</td>\n      <td>BURGLARY</td>\n      <td>1</td>\n      <td>2</td>\n      <td>Plea Of Guilty</td>\n      <td>District 1 - Chicago</td>\n      <td>26TH Street</td>\n      <td>6/29/2020 12:00:00 AM</td>\n      <td>...</td>\n      <td>57</td>\n      <td>Black</td>\n      <td>Male</td>\n      <td>3/29/2020 12:00:00 AM</td>\n      <td>3/31/2020 12:00:00 AM</td>\n      <td>Robbery/Burglary/Theft</td>\n      <td>2020</td>\n      <td>72.0</td>\n      <td>6.0</td>\n      <td>50s</td>\n    </tr>\n    <tr>\n      <th>141983</th>\n      <td>815391712180</td>\n      <td>557756431885</td>\n      <td>True</td>\n      <td>VIOLATE ORDER PROTECTION</td>\n      <td>1</td>\n      <td>A</td>\n      <td>Plea Of Guilty</td>\n      <td>District 3 - Rolling Meadows</td>\n      <td>Rolling Meadows Courthouse</td>\n      <td>6/24/2020 12:00:00 AM</td>\n      <td>...</td>\n      <td>25</td>\n      <td>Hispanic/Latino</td>\n      <td>Male</td>\n      <td>5/9/2020 12:00:00 AM</td>\n      <td>5/9/2020 10:48:00 PM</td>\n      <td>Judicial Process Violations</td>\n      <td>2020</td>\n      <td>24.0</td>\n      <td>2.0</td>\n      <td>25-29</td>\n    </tr>\n  </tbody>\n</table>\n<p>141984 rows × 26 columns</p>\n</div>"
     },
     "metadata": {},
     "execution_count": 61
    }
   ],
   "source": [
    "data"
   ]
  },
  {
   "cell_type": "markdown",
   "metadata": {},
   "source": [
    "## Cleaning of Charge Disposition"
   ]
  },
  {
   "cell_type": "code",
   "execution_count": 62,
   "metadata": {},
   "outputs": [
    {
     "output_type": "execute_result",
     "data": {
      "text/plain": "Plea Of Guilty                      134132\nFinding Guilty                        6267\nVerdict Guilty                         917\nCase Dismissed                         397\nNolle Prosecution                      113\nFNG Reason Insanity                     24\nFinding Not Not Guilty                  23\nBFW                                     21\nCharge Vacated                          19\nPlea of Guilty - Amended Charge         16\nPlea of Guilty But Mentally Ill         15\nFNG                                     15\nDeath Suggested-Cause Abated             7\nFinding Guilty - Lesser Included         7\nFinding Guilty But Mentally Ill          5\nSexually Dangerous Person                1\nSuperseded by Indictment                 1\nFNPC                                     1\nPlea of Guilty - Lesser Included         1\nWOWI                                     1\nSOLW                                     1\nName: charge_disposition, dtype: int64"
     },
     "metadata": {},
     "execution_count": 62
    }
   ],
   "source": [
    "data.charge_disposition.value_counts()"
   ]
  },
  {
   "cell_type": "code",
   "execution_count": 75,
   "metadata": {},
   "outputs": [
    {
     "output_type": "execute_result",
     "data": {
      "text/plain": "Plea Of Guilty            134164\nFinding Guilty              6279\nVerdict Guilty               917\nNo Guilty Finding            570\nFinding Not Not Guilty        23\nBFW                           21\nName: charge_disposition, dtype: int64"
     },
     "metadata": {},
     "execution_count": 75
    }
   ],
   "source": [
    "data = data[\n",
    "    (data.charge_disposition != 'WOWI') & \n",
    "    (data.charge_disposition != 'Superseded by Indictment') & \n",
    "    (data.charge_disposition != 'Death Suggested-Cause Abated') &\n",
    "    (data.charge_disposition != 'Sexually Dangerous Person')\n",
    "]"
   ]
  },
  {
   "cell_type": "code",
   "execution_count": 69,
   "metadata": {},
   "outputs": [],
   "source": [
    "# Merging data\n",
    "data.charge_disposition = data.charge_disposition.replace(to_replace=[\n",
    "    'Nolle Prosecution', \n",
    "    'Case Dismissed', \n",
    "    'FNG',\n",
    "    'FNG Reason Insanity',\n",
    "    'FNPC',\n",
    "    'SOLW',\n",
    "    'Charge Vacated'\n",
    "],value='No Guilty Finding')"
   ]
  },
  {
   "cell_type": "code",
   "execution_count": 71,
   "metadata": {},
   "outputs": [],
   "source": [
    "data.charge_disposition = data.charge_disposition.replace(to_replace=[\n",
    "    'Finding Guilty - Lesser Included',\n",
    "    'Finding Guilty But Mentally Ill'\n",
    "], value='Finding Guilty')"
   ]
  },
  {
   "cell_type": "code",
   "execution_count": 72,
   "metadata": {},
   "outputs": [],
   "source": [
    "data.charge_disposition = data.charge_disposition.replace(to_replace=[\n",
    "    'Plea of Guilty - Amended Charge',\n",
    "    'Plea of Guilty But Mentally Ill',\n",
    "    'Plea of Guilty - Lesser Included'\n",
    "], value='Plea Of Guilty')"
   ]
  },
  {
   "cell_type": "code",
   "execution_count": 73,
   "metadata": {},
   "outputs": [],
   "source": [
    "data.charge_disposition = data.charge_disposition.replace(to_replace=[\n",
    "    'Finding Guilty - Lesser Included',\n",
    "    'Finding Guilty But Mentally Ill'\n",
    "], value='Finding Guilty')"
   ]
  },
  {
   "cell_type": "code",
   "execution_count": 76,
   "metadata": {},
   "outputs": [
    {
     "output_type": "execute_result",
     "data": {
      "text/plain": "Plea Of Guilty            134164\nFinding Guilty              6279\nVerdict Guilty               917\nNo Guilty Finding            570\nFinding Not Not Guilty        23\nBFW                           21\nName: charge_disposition, dtype: int64"
     },
     "metadata": {},
     "execution_count": 76
    }
   ],
   "source": [
    "data.charge_disposition.value_counts()"
   ]
  },
  {
   "cell_type": "markdown",
   "metadata": {},
   "source": [
    "# Analize new dataframe to create the database diagram"
   ]
  },
  {
   "cell_type": "code",
   "execution_count": 77,
   "metadata": {},
   "outputs": [
    {
     "output_type": "execute_result",
     "data": {
      "text/plain": "Index(['case_id', 'case_participant_id', 'primary_charge',\n       'disposition_charged_offense_title', 'charge_count',\n       'disposition_charged_class', 'charge_disposition', 'court_name',\n       'court_facility', 'sentence_date', 'sentence_type', 'current_sentence',\n       'commitment_type', 'commitment_term', 'commitment_unit',\n       'length_of_case_in_days', 'age_at_incident', 'race', 'gender',\n       'incident_begin_date', 'arrest_date', 'offense_category', 'date_year',\n       'month', 'year', 'age_bins'],\n      dtype='object')"
     },
     "metadata": {},
     "execution_count": 77
    }
   ],
   "source": [
    "data.columns"
   ]
  },
  {
   "cell_type": "code",
   "execution_count": 81,
   "metadata": {},
   "outputs": [
    {
     "output_type": "execute_result",
     "data": {
      "text/plain": "Illinois Department of Corrections          74127\nProbation                                   48569\nCook County Department of Corrections        4509\n710/410 Probation                            4125\nIntensive Probation Services                 2282\nConditional Discharge                        1774\nMental Health Probation                      1381\nCourt Supervision                            1329\nCook County Boot Camp                        1129\nIntensive Drug Probation Services            1091\nDrug Court Probation                          478\nGang Probation                                300\n2nd Chance Probation                          243\nSex Offender Probation                        236\nCook County Impact Incarceration Program      132\nVeteran's Court Probation                     109\nDrug School                                    46\nInpatient Mental Health Services               30\nJuvenile IDOC                                  30\nConditional Release                            21\nRepeat Offender Probation                      12\nDomestic Violence Probation                     8\nPeriodic Imprisonment                           5\nHome Confinement                                4\nDeath                                           3\nProbation Terminated Unsatisfactorily           1\nName: commitment_type, dtype: int64"
     },
     "metadata": {},
     "execution_count": 81
    }
   ],
   "source": [
    "data.commitment_type.value_counts()"
   ]
  },
  {
   "cell_type": "markdown",
   "metadata": {},
   "source": [
    "![DBD-from-quickDBD.png](DBD-from-quickDBD.png)"
   ]
  },
  {
   "cell_type": "markdown",
   "metadata": {},
   "source": [
    "# Create tables for SQL"
   ]
  },
  {
   "cell_type": "code",
   "execution_count": null,
   "metadata": {},
   "outputs": [],
   "source": [
    "# participants = data[['case_participant_id','age_at_incident','gender','race','age_bins']].drop_duplicates()\n",
    "# participants"
   ]
  },
  {
   "cell_type": "code",
   "execution_count": null,
   "metadata": {},
   "outputs": [],
   "source": [
    "# courts = data[['court_facility', 'court_name']].drop_duplicates().reset_index(drop=True)\n",
    "# courts"
   ]
  },
  {
   "cell_type": "code",
   "execution_count": null,
   "metadata": {},
   "outputs": [],
   "source": [
    "# courts['court_id']=['1-26','6','2','5','4','3','1-4','1-DV','1-1','1-3','1-2','1-5','1-RJCC']\n",
    "# courts = courts[['court_id', 'court_facility', 'court_name']]\n",
    "# courts"
   ]
  },
  {
   "cell_type": "code",
   "execution_count": null,
   "metadata": {},
   "outputs": [],
   "source": [
    "# offenses = data[['offense_category']].drop_duplicates()\n",
    "# offenses = offenses.reset_index(drop=True)\n",
    "# offenses['offense_id'] = offenses.index + 1\n",
    "# offenses = offenses[['offense_id','offense_category']]\n",
    "# # offenses"
   ]
  },
  {
   "cell_type": "code",
   "execution_count": null,
   "metadata": {},
   "outputs": [],
   "source": [
    "# sentences = data[['sentence_type','commitment_term','commitment_unit','month', 'year']].drop_duplicates()\n",
    "# sentences = sentences.reset_index(drop=True)\n",
    "# sentences['sentence_id'] = sentences.index + 1\n",
    "# sentences = sentences[['sentence_id','sentence_type','commitment_term','commitment_unit','month', 'year']]\n",
    "# # sentences"
   ]
  },
  {
   "cell_type": "code",
   "execution_count": null,
   "metadata": {},
   "outputs": [],
   "source": [
    "# results = data.merge(sentences,on=['sentence_type','commitment_term','commitment_unit','month','year'])\n",
    "# results = results.merge(offenses,on='offense_category')\n",
    "# results = results.merge(courts,on=['court_facility','court_name'])\n",
    "# # results.columns"
   ]
  },
  {
   "cell_type": "code",
   "execution_count": null,
   "metadata": {},
   "outputs": [],
   "source": [
    "# results = results[['case_id','sentence_id','offense_id','court_id','case_participant_id','charge_id','charge_version_id','charge_disposition','length_of_case_in_days','primary_charge']]\n",
    "# # results"
   ]
  },
  {
   "cell_type": "code",
   "execution_count": null,
   "metadata": {},
   "outputs": [],
   "source": [
    "# participants.to_json('../Dashboard/static/participants.json', orient='records')"
   ]
  },
  {
   "cell_type": "code",
   "execution_count": null,
   "metadata": {},
   "outputs": [],
   "source": [
    "# offense_multi = data[['case_id','offense_category','sentence_type','court_name']].drop_duplicates()\n",
    "# offense_multi.to_json('../Dashboard/static/offense_multi.json', orient='records')"
   ]
  },
  {
   "cell_type": "code",
   "execution_count": null,
   "metadata": {},
   "outputs": [],
   "source": [
    "# offense_box = data[['offense_category','length_of_case_in_days']].drop_duplicates()\n",
    "# offense_box.to_json('../Dashboard/static/offense_box.json', orient='records')"
   ]
  },
  {
   "cell_type": "code",
   "execution_count": null,
   "metadata": {},
   "outputs": [],
   "source": [
    "# scatter_length = data[['length_of_case_in_days','month','year','offense_category','sentence_type']].drop_duplicates()\n",
    "# scatter_length.to_json('../Dashboard/static/scatter_length.json', orient='records')\n",
    "# scatter_length.to_json('../Dashboard/static/scatter_length2.json')"
   ]
  },
  {
   "cell_type": "code",
   "execution_count": null,
   "metadata": {},
   "outputs": [],
   "source": [
    "# participants_age = participants.groupby(['age_bins']).count()\n",
    "# participants_age\n",
    "# participants_age.to_json('../Dashboard/static/participants_age.json')"
   ]
  },
  {
   "cell_type": "code",
   "execution_count": null,
   "metadata": {},
   "outputs": [],
   "source": [
    "# participants.columns"
   ]
  },
  {
   "cell_type": "code",
   "execution_count": null,
   "metadata": {},
   "outputs": [],
   "source": [
    "# participants2 = participants[['case_participant_id', 'gender', 'race', 'age_bins']]\n",
    "# participants_multi = participants2.groupby(['gender','race','age_bins']).count()\n",
    "# participants_multi.dropna(inplace=True)\n",
    "# participants_multi.to_json('../Dashboard/static/participants_multi.json',orient='split')\n",
    "# participants_multi"
   ]
  },
  {
   "cell_type": "code",
   "execution_count": null,
   "metadata": {},
   "outputs": [],
   "source": [
    "# data.to_json('../Dashboard/data.json',orient='records')\n",
    "# results.to_json('../data/results.json')\n",
    "# participants.to_json('../data/participants.json')\n",
    "# courts.to_json('../data/courts.json')\n",
    "# offenses.to_json('../data/offenses.json')\n",
    "# sentences.to_json('../data/sentences.json')"
   ]
  },
  {
   "cell_type": "markdown",
   "metadata": {},
   "source": [
    "# ============================================================================"
   ]
  },
  {
   "cell_type": "markdown",
   "metadata": {},
   "source": [
    "# ============================================================================"
   ]
  },
  {
   "cell_type": "markdown",
   "metadata": {},
   "source": [
    "# Upload information to Postgres"
   ]
  },
  {
   "cell_type": "code",
   "execution_count": null,
   "metadata": {},
   "outputs": [],
   "source": [
    "# from password import key\n",
    "# from sqlalchemy import create_engine"
   ]
  },
  {
   "cell_type": "code",
   "execution_count": null,
   "metadata": {},
   "outputs": [],
   "source": [
    "# conn = f\"postgres:{key}@localhost:5432/sentencing\"\n",
    "# engine = create_engine(f'postgresql://{conn}')"
   ]
  },
  {
   "cell_type": "code",
   "execution_count": null,
   "metadata": {},
   "outputs": [],
   "source": [
    "# courts.to_sql(name='courts',con=engine,if_exists='append',index=False)"
   ]
  },
  {
   "cell_type": "code",
   "execution_count": null,
   "metadata": {},
   "outputs": [],
   "source": [
    "# participants.to_sql(name='participants',con=engine,if_exists='append',index=False)"
   ]
  },
  {
   "cell_type": "code",
   "execution_count": null,
   "metadata": {},
   "outputs": [],
   "source": [
    "# offenses.to_sql(name='offenses',con=engine,if_exists='append',index=False)"
   ]
  },
  {
   "cell_type": "code",
   "execution_count": null,
   "metadata": {},
   "outputs": [],
   "source": [
    "# sentences.to_sql(name='sentences',con=engine,if_exists='append',index=False)"
   ]
  },
  {
   "cell_type": "code",
   "execution_count": null,
   "metadata": {},
   "outputs": [],
   "source": [
    "# results = results[['case_participant_id','court_id','offense_id','sentence_id','case_id','primary_charge','charge_disposition','charge_id','charge_version_id','length_of_case_in_days']]"
   ]
  },
  {
   "cell_type": "code",
   "execution_count": null,
   "metadata": {},
   "outputs": [],
   "source": [
    "# results.to_sql(name='results',con=engine,if_exists='append',index=False)"
   ]
  },
  {
   "cell_type": "markdown",
   "metadata": {},
   "source": [
    "# Queries from SQL for Graphs"
   ]
  },
  {
   "cell_type": "code",
   "execution_count": null,
   "metadata": {},
   "outputs": [],
   "source": [
    "# import json"
   ]
  },
  {
   "cell_type": "code",
   "execution_count": null,
   "metadata": {},
   "outputs": [],
   "source": [
    "# participants.to_json('../data/general_demographics.json',orient='records')"
   ]
  },
  {
   "cell_type": "code",
   "execution_count": null,
   "metadata": {},
   "outputs": [],
   "source": [
    "# data[['case_participant_id','court_name','age_bins','offense_category','sentence_type']].drop_duplicates()"
   ]
  },
  {
   "cell_type": "code",
   "execution_count": null,
   "metadata": {},
   "outputs": [],
   "source": [
    "# query1 = 'select \\\n",
    "# \tpa.age_bins, \\\n",
    "#     pa.gender, \\\n",
    "#     pa.race, \\\n",
    "# \tfr.court_name, \\\n",
    "# \tfr.offense_category, \\\n",
    "# \tfr.sentence_type \\\n",
    "# from ( \\\n",
    "#     select \\\n",
    "# \t\tr.case_participant_id, \\\n",
    "# \t\tmax(court_name) court_name, \\\n",
    "# \t\to.offense_category, \\\n",
    "# \t\ts.sentence_type \\\n",
    "# \tfrom results r \\\n",
    "# \tleft join courts co \\\n",
    "# \t\ton r.court_id = co.court_id \\\n",
    "# \tleft join offenses o \\\n",
    "# \t\ton r.offense_id = o.offense_id \\\n",
    "# \tleft join sentences s \\\n",
    "# \t\ton r.sentence_id = s.sentence_id \\\n",
    "# \tgroup by ( \\\n",
    "# \t\to.offense_category, \\\n",
    "# \t\ts.sentence_type, \\\n",
    "# \t\tr.case_participant_id \\\n",
    "# \t)) fr \\\n",
    "# left join participants pa \\\n",
    "# \ton fr.case_participant_id = pa.case_participant_id;'"
   ]
  },
  {
   "cell_type": "code",
   "execution_count": null,
   "metadata": {},
   "outputs": [],
   "source": [
    "# filtered_demographics = pd.read_sql_query(query1,con=engine)\n",
    "# filtered_demographics.to_json('../data/filtered_demographics.json',orient='records')"
   ]
  },
  {
   "cell_type": "code",
   "execution_count": null,
   "metadata": {},
   "outputs": [],
   "source": [
    "# data[['year','month','offense_category','sentence_type','court_name']].loc[data.year != 0].drop_duplicates()"
   ]
  },
  {
   "cell_type": "code",
   "execution_count": null,
   "metadata": {},
   "outputs": [],
   "source": [
    "# query2 = 'select\\\n",
    "# \ts.year, \\\n",
    "# \ts.month, \\\n",
    "# \tfr.offense_category, \\\n",
    "# \ts.sentence_type, \\\n",
    "# \tfr.court_name \\\n",
    "# from \\\n",
    "# \t(select \\\n",
    "# \t \tr.sentence_id, \\\n",
    "# \t \to.offense_category, \\\n",
    "# \t \tco.court_name \\\n",
    "# \t from results r \\\n",
    "# \t left join courts co \\\n",
    "# \t \ton r.court_id = co.court_id \\\n",
    "# \t left join offenses o \\\n",
    "# \t \ton r.offense_id = o.offense_id \\\n",
    "# \t group by ( \\\n",
    "# \t \tr.sentence_id, \\\n",
    "# \t \to.offense_category, \\\n",
    "# \t \tco.court_name \\\n",
    "# \t)) fr \\\n",
    "# left join sentences s \\\n",
    "# \ton s.sentence_id = fr.sentence_id \\\n",
    "# where s.month !=0;'"
   ]
  },
  {
   "cell_type": "code",
   "execution_count": null,
   "metadata": {},
   "outputs": [],
   "source": [
    "# boxplot_offense = pd.read_sql_query(query2,con=engine)\n",
    "# boxplot_offense.to_json('../data/boxplot_offense.json',orient='records')"
   ]
  },
  {
   "cell_type": "code",
   "execution_count": null,
   "metadata": {},
   "outputs": [],
   "source": [
    "# data[['length_of_case_in_days','month','year','offense_category','sentence_type']].loc[data.month != 0].drop_duplicates()"
   ]
  },
  {
   "cell_type": "code",
   "execution_count": null,
   "metadata": {},
   "outputs": [],
   "source": [
    "# query3 = 'select \\\n",
    "# \tfr.length_of_case_in_days, \\\n",
    "# \ts.month, \\\n",
    "# \ts.year, \\\n",
    "# \tfr.offense_category, \\\n",
    "# \ts.sentence_type \\\n",
    "# from  \\\n",
    "# \t(select \\\n",
    "# \t \tr.sentence_id, \\\n",
    "# \t \tr.length_of_case_in_days, \\\n",
    "# \t \to.offense_category \\\n",
    "# \t from results r \\\n",
    "# \t left join offenses o \\\n",
    "# \t \ton r.offense_id = o.offense_id \\\n",
    "# \t group by ( \\\n",
    "# \t\tr.sentence_id, \\\n",
    "# \t \tr.length_of_case_in_days, \\\n",
    "# \t \to.offense_category \\\n",
    "# \t )) fr \\\n",
    "# left join sentences s \\\n",
    "# \ton s.sentence_id = fr.sentence_id \\\n",
    "# where s.month !=0 \\\n",
    "# and fr.length_of_case_in_days != 0;'"
   ]
  },
  {
   "cell_type": "code",
   "execution_count": null,
   "metadata": {},
   "outputs": [],
   "source": [
    "# scatter_length = pd.read_sql_query(query3, con=engine)\n",
    "# scatter_length.to_json('../data/scatter_length.json',orient='records')"
   ]
  },
  {
   "cell_type": "code",
   "execution_count": null,
   "metadata": {},
   "outputs": [],
   "source": [
    "# query4 = 'select \\\n",
    "# \tfr.length_of_case_in_days, \\\n",
    "# \ts.month, \\\n",
    "# \ts.year, \\\n",
    "# \tfr.offense_category, \\\n",
    "# \ts.sentence_type \\\n",
    "# from  \\\n",
    "# \t(select \\\n",
    "# \t \tr.sentence_id, \\\n",
    "# \t \tr.length_of_case_in_days, \\\n",
    "# \t \to.offense_category \\\n",
    "# \t from results r \\\n",
    "# \t left join offenses o \\\n",
    "# \t \ton r.offense_id = o.offense_id \\\n",
    "# \t group by ( \\\n",
    "# \t\tr.sentence_id, \\\n",
    "# \t \tr.length_of_case_in_days, \\\n",
    "# \t \to.offense_category \\\n",
    "# \t )) fr \\\n",
    "# left join sentences s \\\n",
    "# \ton s.sentence_id = fr.sentence_id \\\n",
    "# where s.month !=0  \\\n",
    "# and fr.length_of_case_in_days != 0;'"
   ]
  },
  {
   "cell_type": "code",
   "execution_count": null,
   "metadata": {},
   "outputs": [],
   "source": [
    "# boxplot_length = pd.read_sql_query(query4, con=engine)\n",
    "# boxplot_length.to_json('../data/boxplot_length.json',orient='records')"
   ]
  },
  {
   "cell_type": "code",
   "execution_count": null,
   "metadata": {},
   "outputs": [],
   "source": [
    "# query5 = 'select \\\n",
    "# \tfr.court_name, \\\n",
    "# \tcount(s.sentence_type) sentence_type, \\\n",
    "# \tfr.offense_category \\\n",
    "# from ( \\\n",
    "# \tselect \\\n",
    "# \t\tco.court_name, \\\n",
    "# \t\to.offense_category, \\\n",
    "# \t\tr.sentence_id \\\n",
    "# \tfrom results r \\\n",
    "# \t\t left join offenses o \\\n",
    "# \t \ton r.offense_id = o.offense_id \\\n",
    "# \t left join courts co \\\n",
    "# \t \ton r.court_id = co.court_id \\\n",
    "# \t group by ( \\\n",
    "# \t\tco.court_name, \\\n",
    "# \t\to.offense_category, \\\n",
    "# \t\tr.sentence_id \\\n",
    "# \t )) fr \\\n",
    "# left join sentences s \\\n",
    "# \ton s.sentence_id = fr.sentence_id \\\n",
    "# group by  \\\n",
    "# \tfr.court_name, \\\n",
    "# \tfr.offense_category;'"
   ]
  },
  {
   "cell_type": "code",
   "execution_count": null,
   "metadata": {},
   "outputs": [],
   "source": [
    "# barchar_courts = pd.read_sql_query(query5, con=engine)\n",
    "# barchar_courts.to_json('../data/barchar_courts.json',orient='records')"
   ]
  },
  {
   "cell_type": "code",
   "execution_count": null,
   "metadata": {},
   "outputs": [],
   "source": [
    "# query6 = 'select \\\n",
    "# \tcount(fr.case_participant_id) participants, \\\n",
    "# \tfr.age_at_incident, \\\n",
    "# \ts.month, \\\n",
    "# \ts.year, \\\n",
    "# \ts.sentence_type, \\\n",
    "# \tfr.court_name \\\n",
    "# from ( \\\n",
    "# \tselect \\\n",
    "# \t\tpa.case_participant_id, \\\n",
    "# \t\tco.court_name, \\\n",
    "# \t\tr.sentence_id, \\\n",
    "# \t\tpa.age_at_incident \\\n",
    "# \tfrom results r \\\n",
    "# \t\tleft join offenses o \\\n",
    "# \t \t\ton r.offense_id = o.offense_id \\\n",
    "# \t\tleft join courts co \\\n",
    "# \t \t\ton r.court_id = co.court_id \\\n",
    "# \t\tleft join participants pa \\\n",
    "# \t\t\ton r.case_participant_id = pa.case_participant_id \\\n",
    "# \t group by ( \\\n",
    "# \t\tpa.case_participant_id, \\\n",
    "# \t\tco.court_name, \\\n",
    "# \t\tr.sentence_id, \\\n",
    "# \t\tpa.age_at_incident \\\n",
    "# \t )) fr \\\n",
    "# left join sentences s \\\n",
    "# \ton s.sentence_id = fr.sentence_id \\\n",
    "# group by  \\\n",
    "# \tfr.age_at_incident, \\\n",
    "# \ts.month, \\\n",
    "# \ts.year, \\\n",
    "# \ts.sentence_type, \\\n",
    "# \tfr.court_name;' "
   ]
  },
  {
   "cell_type": "code",
   "execution_count": null,
   "metadata": {},
   "outputs": [],
   "source": [
    "# scatter_courts = pd.read_sql_query(query6, con=engine)\n",
    "# scatter_courts.to_json('../data/scatter_courts.json',orient='records')"
   ]
  },
  {
   "cell_type": "code",
   "execution_count": null,
   "metadata": {},
   "outputs": [],
   "source": [
    "# data[['case_id','offense_category','sentence_type','court_name']].drop_duplicates()"
   ]
  },
  {
   "cell_type": "code",
   "execution_count": null,
   "metadata": {},
   "outputs": [],
   "source": [
    "# query7 = 'select \\\n",
    "# \tr.case_id, \\\n",
    "# \to.offense_category, \\\n",
    "# \ts.sentence_type, \\\n",
    "# \tco.court_name \\\n",
    "# from results r \\\n",
    "# left join offenses o \\\n",
    "# \ton r.offense_id = o.offense_id \\\n",
    "# left join courts co \\\n",
    "# \ton r.court_id = co.court_id \\\n",
    "# left join sentences s \\\n",
    "# \ton r.sentence_id = s.sentence_id \\\n",
    "# group by \\\n",
    "# \tr.case_id, \\\n",
    "# \to.offense_category, \\\n",
    "# \ts.sentence_type, \\\n",
    "# \tco.court_name;'"
   ]
  },
  {
   "cell_type": "code",
   "execution_count": null,
   "metadata": {},
   "outputs": [],
   "source": [
    "# pie_offense = pd.read_sql_query(query7, con=engine)\n",
    "# pie_offense.to_json('../data/pie_offense.json',orient='records')"
   ]
  }
 ],
 "metadata": {
  "language_info": {
   "codemirror_mode": {
    "name": "ipython",
    "version": 3
   },
   "file_extension": ".py",
   "mimetype": "text/x-python",
   "name": "python",
   "nbconvert_exporter": "python",
   "pygments_lexer": "ipython3",
   "version": "3.8.3-final"
  },
  "orig_nbformat": 2,
  "kernelspec": {
   "name": "python_defaultSpec_1595989310710",
   "display_name": "Python 3.8.3 64-bit ('venv': venv)"
  }
 },
 "nbformat": 4,
 "nbformat_minor": 2
}