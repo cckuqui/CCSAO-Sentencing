{
 "cells": [
  {
   "cell_type": "code",
   "execution_count": 1,
   "metadata": {},
   "outputs": [],
   "source": [
    "import pandas as pd\n",
    "from sodapy import Socrata\n",
    "import numpy as np"
   ]
  },
  {
   "cell_type": "markdown",
   "metadata": {},
   "source": [
    "# Get information from Cook County Sentencing Data Database"
   ]
  },
  {
   "cell_type": "code",
   "execution_count": 2,
   "metadata": {},
   "outputs": [
    {
     "output_type": "stream",
     "name": "stderr",
     "text": "WARNING:root:Requests made without an app_token will be subject to strict throttling limits.\n"
    }
   ],
   "source": [
    "# Call API\n",
    "client = Socrata(\"datacatalog.cookcountyil.gov\", None)"
   ]
  },
  {
   "cell_type": "code",
   "execution_count": 3,
   "metadata": {},
   "outputs": [],
   "source": [
    "# Retrive Data\n",
    "results = client.get(\"tg8v-tm6u\", limit=300000)"
   ]
  },
  {
   "cell_type": "code",
   "execution_count": 4,
   "metadata": {},
   "outputs": [
    {
     "output_type": "execute_result",
     "data": {
      "text/plain": "['case_id',\n 'case_participant_id',\n 'received_date',\n 'offense_category',\n 'primary_charge',\n 'charge_id',\n 'charge_version_id',\n 'disposition_charged_offense_title',\n 'charge_count',\n 'disposition_date',\n 'disposition_charged_chapter',\n 'disposition_charged_act',\n 'disposition_charged_section',\n 'disposition_charged_class',\n 'disposition_charged_aoic',\n 'charge_disposition',\n 'sentence_judge',\n 'court_name',\n 'court_facility',\n 'sentence_phase',\n 'sentence_date',\n 'sentence_type',\n 'current_sentence',\n 'commitment_type',\n 'length_of_case_in_days',\n 'age_at_incident',\n 'race',\n 'gender',\n 'incident_begin_date',\n 'law_enforcement_agency',\n 'arrest_date',\n 'felony_review_date',\n 'felony_review_result',\n 'arraignment_date',\n 'updated_offense_category',\n 'commitment_term',\n 'commitment_unit',\n 'incident_end_date',\n 'charge_disposition_reason',\n 'incident_city',\n 'unit']"
     },
     "metadata": {},
     "execution_count": 4
    }
   ],
   "source": [
    "# Generate DataFrame\n",
    "original_data = pd.DataFrame.from_records(results)\n",
    "\n",
    "# Explore data\n",
    "list(original_data.columns.values)"
   ]
  },
  {
   "cell_type": "markdown",
   "metadata": {},
   "source": [
    "# Cleaning Process"
   ]
  },
  {
   "cell_type": "markdown",
   "metadata": {},
   "source": [
    "## Select only chosen columns"
   ]
  },
  {
   "cell_type": "code",
   "execution_count": 5,
   "metadata": {},
   "outputs": [
    {
     "output_type": "execute_result",
     "data": {
      "text/plain": "       case_id case_participant_id     charge_id charge_version_id  \\\n0  87302669130        221103049156  106130426295       71631463339   \n1  87302669130        221103049156  106130637571       60521205325   \n2  87302669130        221103049156  106143736689       81281765233   \n3  87302669130        221103049156  106143842327       81277737609   \n4  87302669130        221103049156  106144159241       60394680398   \n\n       court_facility            court_name age_at_incident gender   race  \\\n0  Markham Courthouse  District 6 - Markham              27   Male  Black   \n1  Markham Courthouse  District 6 - Markham              27   Male  Black   \n2  Markham Courthouse  District 6 - Markham              27   Male  Black   \n3  Markham Courthouse  District 6 - Markham              27   Male  Black   \n4  Markham Courthouse  District 6 - Markham              27   Male  Black   \n\n  charge_disposition length_of_case_in_days  current_sentence  primary_charge  \\\n0    Nolle On Remand                    619              True           False   \n1    Nolle On Remand                    619              True           False   \n2    Nolle On Remand                    619              True           False   \n3    Nolle On Remand                    619              True           False   \n4     Plea Of Guilty                  10982              True           False   \n\n            sentence_date   offense_category commitment_term commitment_unit  \\\n0    6/2/1986 12:00:00 AM  PROMIS Conversion             NaN             NaN   \n1    6/2/1986 12:00:00 AM  PROMIS Conversion             030         Year(s)   \n2    6/2/1986 12:00:00 AM  PROMIS Conversion             NaN             NaN   \n3    6/2/1986 12:00:00 AM  PROMIS Conversion             NaN             NaN   \n4  10/16/2014 12:00:00 AM  PROMIS Conversion              30         Year(s)   \n\n  sentence_type  \n0    Conversion  \n1    Conversion  \n2    Conversion  \n3    Conversion  \n4        Prison  ",
      "text/html": "<div>\n<style scoped>\n    .dataframe tbody tr th:only-of-type {\n        vertical-align: middle;\n    }\n\n    .dataframe tbody tr th {\n        vertical-align: top;\n    }\n\n    .dataframe thead th {\n        text-align: right;\n    }\n</style>\n<table border=\"1\" class=\"dataframe\">\n  <thead>\n    <tr style=\"text-align: right;\">\n      <th></th>\n      <th>case_id</th>\n      <th>case_participant_id</th>\n      <th>charge_id</th>\n      <th>charge_version_id</th>\n      <th>court_facility</th>\n      <th>court_name</th>\n      <th>age_at_incident</th>\n      <th>gender</th>\n      <th>race</th>\n      <th>charge_disposition</th>\n      <th>length_of_case_in_days</th>\n      <th>current_sentence</th>\n      <th>primary_charge</th>\n      <th>sentence_date</th>\n      <th>offense_category</th>\n      <th>commitment_term</th>\n      <th>commitment_unit</th>\n      <th>sentence_type</th>\n    </tr>\n  </thead>\n  <tbody>\n    <tr>\n      <td>0</td>\n      <td>87302669130</td>\n      <td>221103049156</td>\n      <td>106130426295</td>\n      <td>71631463339</td>\n      <td>Markham Courthouse</td>\n      <td>District 6 - Markham</td>\n      <td>27</td>\n      <td>Male</td>\n      <td>Black</td>\n      <td>Nolle On Remand</td>\n      <td>619</td>\n      <td>True</td>\n      <td>False</td>\n      <td>6/2/1986 12:00:00 AM</td>\n      <td>PROMIS Conversion</td>\n      <td>NaN</td>\n      <td>NaN</td>\n      <td>Conversion</td>\n    </tr>\n    <tr>\n      <td>1</td>\n      <td>87302669130</td>\n      <td>221103049156</td>\n      <td>106130637571</td>\n      <td>60521205325</td>\n      <td>Markham Courthouse</td>\n      <td>District 6 - Markham</td>\n      <td>27</td>\n      <td>Male</td>\n      <td>Black</td>\n      <td>Nolle On Remand</td>\n      <td>619</td>\n      <td>True</td>\n      <td>False</td>\n      <td>6/2/1986 12:00:00 AM</td>\n      <td>PROMIS Conversion</td>\n      <td>030</td>\n      <td>Year(s)</td>\n      <td>Conversion</td>\n    </tr>\n    <tr>\n      <td>2</td>\n      <td>87302669130</td>\n      <td>221103049156</td>\n      <td>106143736689</td>\n      <td>81281765233</td>\n      <td>Markham Courthouse</td>\n      <td>District 6 - Markham</td>\n      <td>27</td>\n      <td>Male</td>\n      <td>Black</td>\n      <td>Nolle On Remand</td>\n      <td>619</td>\n      <td>True</td>\n      <td>False</td>\n      <td>6/2/1986 12:00:00 AM</td>\n      <td>PROMIS Conversion</td>\n      <td>NaN</td>\n      <td>NaN</td>\n      <td>Conversion</td>\n    </tr>\n    <tr>\n      <td>3</td>\n      <td>87302669130</td>\n      <td>221103049156</td>\n      <td>106143842327</td>\n      <td>81277737609</td>\n      <td>Markham Courthouse</td>\n      <td>District 6 - Markham</td>\n      <td>27</td>\n      <td>Male</td>\n      <td>Black</td>\n      <td>Nolle On Remand</td>\n      <td>619</td>\n      <td>True</td>\n      <td>False</td>\n      <td>6/2/1986 12:00:00 AM</td>\n      <td>PROMIS Conversion</td>\n      <td>NaN</td>\n      <td>NaN</td>\n      <td>Conversion</td>\n    </tr>\n    <tr>\n      <td>4</td>\n      <td>87302669130</td>\n      <td>221103049156</td>\n      <td>106144159241</td>\n      <td>60394680398</td>\n      <td>Markham Courthouse</td>\n      <td>District 6 - Markham</td>\n      <td>27</td>\n      <td>Male</td>\n      <td>Black</td>\n      <td>Plea Of Guilty</td>\n      <td>10982</td>\n      <td>True</td>\n      <td>False</td>\n      <td>10/16/2014 12:00:00 AM</td>\n      <td>PROMIS Conversion</td>\n      <td>30</td>\n      <td>Year(s)</td>\n      <td>Prison</td>\n    </tr>\n  </tbody>\n</table>\n</div>"
     },
     "metadata": {},
     "execution_count": 5
    }
   ],
   "source": [
    "# Copy only columns that we'll need for our analysis\n",
    "data = original_data[['case_id','case_participant_id','charge_id','charge_version_id','court_facility','court_name','age_at_incident','gender','race','charge_disposition','length_of_case_in_days','current_sentence','primary_charge','sentence_date','offense_category','commitment_term','commitment_unit','sentence_type']]\n",
    "data.head()"
   ]
  },
  {
   "cell_type": "code",
   "execution_count": 6,
   "metadata": {},
   "outputs": [
    {
     "output_type": "execute_result",
     "data": {
      "text/plain": "case_id                   241511\ncase_participant_id       241511\ncharge_id                 241511\ncharge_version_id         241511\ncourt_facility            239630\ncourt_name                240126\nage_at_incident           232073\ngender                    240700\nrace                      240247\ncharge_disposition        241511\nlength_of_case_in_days    222605\ncurrent_sentence          241511\nprimary_charge            241511\nsentence_date             241511\noffense_category          241511\ncommitment_term           239852\ncommitment_unit           239852\nsentence_type             241511\ndtype: int64"
     },
     "metadata": {},
     "execution_count": 6
    }
   ],
   "source": [
    "# Explore values in columns\n",
    "data.count()"
   ]
  },
  {
   "cell_type": "code",
   "execution_count": 7,
   "metadata": {},
   "outputs": [],
   "source": [
    "# Delete conversion data from dataframe\n",
    "data.replace(regex='PROMIS*',value=np.NaN, inplace=True)"
   ]
  },
  {
   "cell_type": "markdown",
   "metadata": {},
   "source": [
    "## Drop NaN Values"
   ]
  },
  {
   "cell_type": "code",
   "execution_count": 8,
   "metadata": {},
   "outputs": [
    {
     "output_type": "execute_result",
     "data": {
      "text/plain": "case_id                   208561\ncase_participant_id       208561\ncharge_id                 208561\ncharge_version_id         208561\ncourt_facility            208561\ncourt_name                208561\nage_at_incident           208561\ngender                    208561\nrace                      208561\ncharge_disposition        208561\nlength_of_case_in_days    208561\ncurrent_sentence          208561\nprimary_charge            208561\nsentence_date             208561\noffense_category          208561\ncommitment_term           208561\ncommitment_unit           208561\nsentence_type             208561\ndtype: int64"
     },
     "metadata": {},
     "execution_count": 8
    }
   ],
   "source": [
    "data = data.dropna()\n",
    "data.count()"
   ]
  },
  {
   "cell_type": "markdown",
   "metadata": {},
   "source": [
    "## Filter data after 2000 & before 2019"
   ]
  },
  {
   "cell_type": "code",
   "execution_count": 9,
   "metadata": {},
   "outputs": [
    {
     "output_type": "execute_result",
     "data": {
      "text/plain": "case_id                   object\ncase_participant_id       object\ncharge_id                 object\ncharge_version_id         object\ncourt_facility            object\ncourt_name                object\nage_at_incident           object\ngender                    object\nrace                      object\ncharge_disposition        object\nlength_of_case_in_days    object\ncurrent_sentence            bool\nprimary_charge              bool\nsentence_date             object\noffense_category          object\ncommitment_term           object\ncommitment_unit           object\nsentence_type             object\ndtype: object"
     },
     "metadata": {},
     "execution_count": 9
    }
   ],
   "source": [
    "# Explore type of values in each column\n",
    "data.dtypes"
   ]
  },
  {
   "cell_type": "code",
   "execution_count": 10,
   "metadata": {},
   "outputs": [
    {
     "output_type": "execute_result",
     "data": {
      "text/plain": "           case_id case_participant_id     charge_id charge_version_id  \\\n663   114024398027        230101052744  807648613316      449520166967   \n1360  123803937179        255504441936  190690725339      122497821309   \n2123  127790349873        265428457350  541647467636      271650860226   \n2177  128491120254        266244611418  759810529209      458530536964   \n2261  129030951431        266511120401  702938173654      382945270335   \n\n          court_facility            court_name age_at_incident gender  \\\n663          26TH Street  District 1 - Chicago              21   Male   \n1360         26TH Street  District 1 - Chicago              27   Male   \n2123  Markham Courthouse  District 6 - Markham              18   Male   \n2177         26TH Street  District 1 - Chicago              21   Male   \n2261         26TH Street  District 1 - Chicago              35   Male   \n\n          race charge_disposition length_of_case_in_days  current_sentence  \\\n663      White     Plea Of Guilty                    187              True   \n1360  HISPANIC     Plea Of Guilty                   2624              True   \n2123     Black     Plea Of Guilty                    795              True   \n2177     Black     Finding Guilty                   1201              True   \n2261     Black     Plea Of Guilty                    271              True   \n\n      primary_charge          sentence_date              offense_category  \\\n663            False  5/11/2015 12:00:00 AM             Reckless Homicide   \n1360           False  11/5/2014 12:00:00 AM  UUW - Unlawful Use of Weapon   \n2123           False  12/9/2013 12:00:00 AM                    Sex Crimes   \n2177            True   2/1/2016 12:00:00 AM                      Homicide   \n2261            True  2/28/2011 12:00:00 AM    Escape - Failure to Return   \n\n     commitment_term commitment_unit sentence_type              date_year  \n663                8         Year(s)        Prison  5/11/2015 12:00:00 AM  \n1360               2         Year(s)     Probation  11/5/2014 12:00:00 AM  \n2123               4         Year(s)        Prison  12/9/2013 12:00:00 AM  \n2177               9         Year(s)        Prison   2/1/2016 12:00:00 AM  \n2261               2         Year(s)        Prison  2/28/2011 12:00:00 AM  ",
      "text/html": "<div>\n<style scoped>\n    .dataframe tbody tr th:only-of-type {\n        vertical-align: middle;\n    }\n\n    .dataframe tbody tr th {\n        vertical-align: top;\n    }\n\n    .dataframe thead th {\n        text-align: right;\n    }\n</style>\n<table border=\"1\" class=\"dataframe\">\n  <thead>\n    <tr style=\"text-align: right;\">\n      <th></th>\n      <th>case_id</th>\n      <th>case_participant_id</th>\n      <th>charge_id</th>\n      <th>charge_version_id</th>\n      <th>court_facility</th>\n      <th>court_name</th>\n      <th>age_at_incident</th>\n      <th>gender</th>\n      <th>race</th>\n      <th>charge_disposition</th>\n      <th>length_of_case_in_days</th>\n      <th>current_sentence</th>\n      <th>primary_charge</th>\n      <th>sentence_date</th>\n      <th>offense_category</th>\n      <th>commitment_term</th>\n      <th>commitment_unit</th>\n      <th>sentence_type</th>\n      <th>date_year</th>\n    </tr>\n  </thead>\n  <tbody>\n    <tr>\n      <td>663</td>\n      <td>114024398027</td>\n      <td>230101052744</td>\n      <td>807648613316</td>\n      <td>449520166967</td>\n      <td>26TH Street</td>\n      <td>District 1 - Chicago</td>\n      <td>21</td>\n      <td>Male</td>\n      <td>White</td>\n      <td>Plea Of Guilty</td>\n      <td>187</td>\n      <td>True</td>\n      <td>False</td>\n      <td>5/11/2015 12:00:00 AM</td>\n      <td>Reckless Homicide</td>\n      <td>8</td>\n      <td>Year(s)</td>\n      <td>Prison</td>\n      <td>5/11/2015 12:00:00 AM</td>\n    </tr>\n    <tr>\n      <td>1360</td>\n      <td>123803937179</td>\n      <td>255504441936</td>\n      <td>190690725339</td>\n      <td>122497821309</td>\n      <td>26TH Street</td>\n      <td>District 1 - Chicago</td>\n      <td>27</td>\n      <td>Male</td>\n      <td>HISPANIC</td>\n      <td>Plea Of Guilty</td>\n      <td>2624</td>\n      <td>True</td>\n      <td>False</td>\n      <td>11/5/2014 12:00:00 AM</td>\n      <td>UUW - Unlawful Use of Weapon</td>\n      <td>2</td>\n      <td>Year(s)</td>\n      <td>Probation</td>\n      <td>11/5/2014 12:00:00 AM</td>\n    </tr>\n    <tr>\n      <td>2123</td>\n      <td>127790349873</td>\n      <td>265428457350</td>\n      <td>541647467636</td>\n      <td>271650860226</td>\n      <td>Markham Courthouse</td>\n      <td>District 6 - Markham</td>\n      <td>18</td>\n      <td>Male</td>\n      <td>Black</td>\n      <td>Plea Of Guilty</td>\n      <td>795</td>\n      <td>True</td>\n      <td>False</td>\n      <td>12/9/2013 12:00:00 AM</td>\n      <td>Sex Crimes</td>\n      <td>4</td>\n      <td>Year(s)</td>\n      <td>Prison</td>\n      <td>12/9/2013 12:00:00 AM</td>\n    </tr>\n    <tr>\n      <td>2177</td>\n      <td>128491120254</td>\n      <td>266244611418</td>\n      <td>759810529209</td>\n      <td>458530536964</td>\n      <td>26TH Street</td>\n      <td>District 1 - Chicago</td>\n      <td>21</td>\n      <td>Male</td>\n      <td>Black</td>\n      <td>Finding Guilty</td>\n      <td>1201</td>\n      <td>True</td>\n      <td>True</td>\n      <td>2/1/2016 12:00:00 AM</td>\n      <td>Homicide</td>\n      <td>9</td>\n      <td>Year(s)</td>\n      <td>Prison</td>\n      <td>2/1/2016 12:00:00 AM</td>\n    </tr>\n    <tr>\n      <td>2261</td>\n      <td>129030951431</td>\n      <td>266511120401</td>\n      <td>702938173654</td>\n      <td>382945270335</td>\n      <td>26TH Street</td>\n      <td>District 1 - Chicago</td>\n      <td>35</td>\n      <td>Male</td>\n      <td>Black</td>\n      <td>Plea Of Guilty</td>\n      <td>271</td>\n      <td>True</td>\n      <td>True</td>\n      <td>2/28/2011 12:00:00 AM</td>\n      <td>Escape - Failure to Return</td>\n      <td>2</td>\n      <td>Year(s)</td>\n      <td>Prison</td>\n      <td>2/28/2011 12:00:00 AM</td>\n    </tr>\n  </tbody>\n</table>\n</div>"
     },
     "metadata": {},
     "execution_count": 10
    }
   ],
   "source": [
    "# Create a copy of the Sentence Date to filter it\n",
    "hdate = data['sentence_date']\n",
    "data['date_year'] = hdate\n",
    "\n",
    "data.head()"
   ]
  },
  {
   "cell_type": "code",
   "execution_count": 11,
   "metadata": {},
   "outputs": [],
   "source": [
    "# Select only the year\n",
    "data['date_year'] = data['date_year'].replace(regex=['[0-9]*\\/[0-9]*\\/','\\s[0-9]*\\:[0-9]*\\:[0-9]*\\s[A-Z]*'], value='')"
   ]
  },
  {
   "cell_type": "code",
   "execution_count": 12,
   "metadata": {},
   "outputs": [],
   "source": [
    "# Change value type\n",
    "data['date_year'] = data['date_year'].astype(int)"
   ]
  },
  {
   "cell_type": "code",
   "execution_count": 13,
   "metadata": {},
   "outputs": [
    {
     "output_type": "execute_result",
     "data": {
      "text/plain": "case_id                   object\ncase_participant_id       object\ncharge_id                 object\ncharge_version_id         object\ncourt_facility            object\ncourt_name                object\nage_at_incident           object\ngender                    object\nrace                      object\ncharge_disposition        object\nlength_of_case_in_days    object\ncurrent_sentence            bool\nprimary_charge              bool\nsentence_date             object\noffense_category          object\ncommitment_term           object\ncommitment_unit           object\nsentence_type             object\ndate_year                  int32\ndtype: object"
     },
     "metadata": {},
     "execution_count": 13
    }
   ],
   "source": [
    "# Confirm value type change\n",
    "data.dtypes"
   ]
  },
  {
   "cell_type": "code",
   "execution_count": 14,
   "metadata": {},
   "outputs": [],
   "source": [
    "# Filter year\n",
    "data = data[(data.date_year > 2014) & (data.date_year < 2020)]"
   ]
  },
  {
   "cell_type": "code",
   "execution_count": 15,
   "metadata": {},
   "outputs": [
    {
     "output_type": "execute_result",
     "data": {
      "text/plain": "           date_year\ncount  105320.000000\nmean     2016.799032\nstd         1.398293\nmin      2015.000000\n25%      2016.000000\n50%      2017.000000\n75%      2018.000000\nmax      2019.000000",
      "text/html": "<div>\n<style scoped>\n    .dataframe tbody tr th:only-of-type {\n        vertical-align: middle;\n    }\n\n    .dataframe tbody tr th {\n        vertical-align: top;\n    }\n\n    .dataframe thead th {\n        text-align: right;\n    }\n</style>\n<table border=\"1\" class=\"dataframe\">\n  <thead>\n    <tr style=\"text-align: right;\">\n      <th></th>\n      <th>date_year</th>\n    </tr>\n  </thead>\n  <tbody>\n    <tr>\n      <td>count</td>\n      <td>105320.000000</td>\n    </tr>\n    <tr>\n      <td>mean</td>\n      <td>2016.799032</td>\n    </tr>\n    <tr>\n      <td>std</td>\n      <td>1.398293</td>\n    </tr>\n    <tr>\n      <td>min</td>\n      <td>2015.000000</td>\n    </tr>\n    <tr>\n      <td>25%</td>\n      <td>2016.000000</td>\n    </tr>\n    <tr>\n      <td>50%</td>\n      <td>2017.000000</td>\n    </tr>\n    <tr>\n      <td>75%</td>\n      <td>2018.000000</td>\n    </tr>\n    <tr>\n      <td>max</td>\n      <td>2019.000000</td>\n    </tr>\n  </tbody>\n</table>\n</div>"
     },
     "metadata": {},
     "execution_count": 15
    }
   ],
   "source": [
    "# Confirm values\n",
    "data.describe()"
   ]
  },
  {
   "cell_type": "code",
   "execution_count": 16,
   "metadata": {},
   "outputs": [
    {
     "output_type": "execute_result",
     "data": {
      "text/plain": "          date_year\ncount  69962.000000\nmean    2016.775735\nstd        1.407371\nmin     2015.000000\n25%     2016.000000\n50%     2017.000000\n75%     2018.000000\nmax     2019.000000",
      "text/html": "<div>\n<style scoped>\n    .dataframe tbody tr th:only-of-type {\n        vertical-align: middle;\n    }\n\n    .dataframe tbody tr th {\n        vertical-align: top;\n    }\n\n    .dataframe thead th {\n        text-align: right;\n    }\n</style>\n<table border=\"1\" class=\"dataframe\">\n  <thead>\n    <tr style=\"text-align: right;\">\n      <th></th>\n      <th>date_year</th>\n    </tr>\n  </thead>\n  <tbody>\n    <tr>\n      <td>count</td>\n      <td>69962.000000</td>\n    </tr>\n    <tr>\n      <td>mean</td>\n      <td>2016.775735</td>\n    </tr>\n    <tr>\n      <td>std</td>\n      <td>1.407371</td>\n    </tr>\n    <tr>\n      <td>min</td>\n      <td>2015.000000</td>\n    </tr>\n    <tr>\n      <td>25%</td>\n      <td>2016.000000</td>\n    </tr>\n    <tr>\n      <td>50%</td>\n      <td>2017.000000</td>\n    </tr>\n    <tr>\n      <td>75%</td>\n      <td>2018.000000</td>\n    </tr>\n    <tr>\n      <td>max</td>\n      <td>2019.000000</td>\n    </tr>\n  </tbody>\n</table>\n</div>"
     },
     "metadata": {},
     "execution_count": 16
    }
   ],
   "source": [
    "data = data.loc[data.current_sentence == True]\n",
    "data = data.loc[data.primary_charge == True]\n",
    "data.describe()"
   ]
  },
  {
   "cell_type": "markdown",
   "metadata": {},
   "source": [
    "## Analize Offense Category and consolidate into related categories"
   ]
  },
  {
   "cell_type": "code",
   "execution_count": 18,
   "metadata": {},
   "outputs": [
    {
     "output_type": "execute_result",
     "data": {
      "text/plain": "Narcotics                       18389\nUUW - Unlawful Use of Weapon     7091\nAggravated DUI                   4790\nRetail Theft                     4763\nBurglary                         4222\n                                ...  \nDog Fighting                        4\nTampering                           4\nPolice Shooting                     3\nFailure To Pay Child Support        2\nPerjury                             1\nName: offense_category, Length: 84, dtype: int64"
     },
     "metadata": {},
     "execution_count": 18
    }
   ],
   "source": [
    "# Review all the information\n",
    "data.offense_category.value_counts()"
   ]
  },
  {
   "cell_type": "code",
   "execution_count": 19,
   "metadata": {},
   "outputs": [
    {
     "output_type": "execute_result",
     "data": {
      "text/plain": "Narcotics                       18389\nUUW - Unlawful Use of Weapon     7091\nAggravated DUI                   4790\nRetail Theft                     4763\nBurglary                         4222\n                                ...  \nDog Fighting                        4\nTampering                           4\nPolice Shooting                     3\nFailure To Pay Child Support        2\nPerjury                             1\nName: offense_category, Length: 82, dtype: int64"
     },
     "metadata": {},
     "execution_count": 19
    }
   ],
   "source": [
    "# Consolidate Homicide category\n",
    "data.offense_category = data.offense_category.replace(to_replace=['Attempt Homicide','Reckless Homicide'],value='Homicide')\n",
    "\n",
    "data.offense_category.value_counts()"
   ]
  },
  {
   "cell_type": "code",
   "execution_count": 20,
   "metadata": {},
   "outputs": [
    {
     "output_type": "execute_result",
     "data": {
      "text/plain": "Narcotics                       18389\nUUW - Unlawful Use of Weapon     7091\nAggravated DUI                   4790\nRetail Theft                     4763\nBurglary                         4222\n                                ...  \nPandering                           4\nDog Fighting                        4\nTampering                           4\nFailure To Pay Child Support        2\nPerjury                             1\nName: offense_category, Length: 79, dtype: int64"
     },
     "metadata": {},
     "execution_count": 20
    }
   ],
   "source": [
    "# Consolidate Offense Against Police Officers category\n",
    "data.offense_category = data.offense_category.replace(to_replace=['Aggravated Assault Police Officer','Aggravated Assault Police Officer Firearm','Police Shooting','Impersonating Police Officer'],value='Offense Against Police Officers')\n",
    "\n",
    "data.offense_category.value_counts()"
   ]
  },
  {
   "cell_type": "code",
   "execution_count": 21,
   "metadata": {},
   "outputs": [
    {
     "output_type": "execute_result",
     "data": {
      "text/plain": "Narcotics                       18389\nUUW - Unlawful Use of Weapon     7091\nAggravated DUI                   4790\nRetail Theft                     4763\nBattery                          4229\n                                ...  \nDog Fighting                        4\nPandering                           4\nTampering                           4\nFailure To Pay Child Support        2\nPerjury                             1\nName: offense_category, Length: 74, dtype: int64"
     },
     "metadata": {},
     "execution_count": 21
    }
   ],
   "source": [
    "# Consolidate Battery category\n",
    "data.offense_category = data.offense_category.replace(to_replace=['Aggravated Battery','Aggravated Battery Police Officer','Aggravated Battery Police Officer Firearm','Aggravated Battery With A Firearm','Domestic Battery'],value='Battery')\n",
    "\n",
    "data.offense_category.value_counts()"
   ]
  },
  {
   "cell_type": "code",
   "execution_count": 22,
   "metadata": {},
   "outputs": [
    {
     "output_type": "execute_result",
     "data": {
      "text/plain": "Narcotics                       18389\nRobbery/Burglery/Theft          17439\nUUW - Unlawful Use of Weapon     7091\nAggravated DUI                   4790\nBattery                          4229\n                                ...  \nAttempt Sex Crimes                  4\nDog Fighting                        4\nTampering                           4\nFailure To Pay Child Support        2\nPerjury                             1\nName: offense_category, Length: 62, dtype: int64"
     },
     "metadata": {},
     "execution_count": 22
    }
   ],
   "source": [
    "# Consolidate Robbery, Burglery and Theft category\n",
    "data.offense_category = data.offense_category.replace(to_replace=['Aggravated Identity Theft','Aggravated Robbery','Aggravated Robbery BB Gun','Armed Robbery','Attempt Armed Robbery','Burglary','Identity Theft','Residential Burglary','Retail Theft','Robbery','Theft','Theft by Deception','Possession Of Burglary Tools'],value='Robbery/Burglery/Theft')\n",
    "\n",
    "data.offense_category.value_counts()"
   ]
  },
  {
   "cell_type": "code",
   "execution_count": 23,
   "metadata": {},
   "outputs": [
    {
     "output_type": "execute_result",
     "data": {
      "text/plain": "Narcotics                                        18389\nRobbery/Burglery/Theft                           17439\nUUW - Unlawful Use of Weapon                      7091\nAggravated DUI                                    4790\nBattery                                           4229\nDriving With Suspended Or Revoked License         3949\nPossession of Stolen Motor Vehicle                1631\nOther Offense                                     1362\nDUI                                               1288\nEscape - Failure to Return                        1151\nSex Crimes                                        1136\nFailure to Register as a Sex Offender             1044\nAggravated Fleeing and Eluding                     992\nForgery                                            944\nCriminal Damage to Property                        746\nHomicide                                           599\nCredit Card Cases                                  448\nReckless Discharge of Firearm                      233\nVehicular Hijacking                                229\nOffense Against Police Officers                    229\nHome Invasion                                      207\nFraudulent ID                                      187\nViolation Order Of Protection                      179\nAggravated Discharge Firearm                       170\nArson                                              146\nFraud                                              135\nStalking                                            87\nMajor Accidents                                     75\nIntimidation                                        72\nDeceptive Practice                                  63\nObstructing Justice                                 61\nArmed Violence                                      59\nCriminal Trespass To Residence                      57\nGun - Non UUW                                       56\nUnlawful Restraint                                  55\nKidnapping                                          53\nPossession of Contraband in Penal Institution       40\nViolation of Sex Offender Registration              38\nChild Pornography                                   28\nViolate Bail Bond                                   26\nDisarming Police Officer                            25\nChild Abduction                                     25\nBribery                                             24\nVehicular Invasion                                  22\nHate Crimes                                         22\nProstitution                                        19\nBomb Threat                                         19\nAttempt Vehicular Hijacking                         14\nPossession of Shank in Penal Institution            12\nHuman Trafficking                                   12\nCommunicating With Witness                          10\nGun Running                                         10\nOfficial Misconduct                                  9\nGambling                                             7\nDog Fighting                                         4\nTampering                                            4\nPandering                                            4\nAttempt Sex Crimes                                   4\nFailure To Pay Child Support                         2\nPerjury                                              1\nName: offense_category, dtype: int64"
     },
     "metadata": {},
     "execution_count": 23
    }
   ],
   "source": [
    "# Consolidate Arson category\n",
    "data.offense_category = data.offense_category.replace(to_replace=['Arson and Attempt Arson','Attempt Arson'],value='Arson')\n",
    "\n",
    "data.offense_category.value_counts()"
   ]
  },
  {
   "cell_type": "code",
   "execution_count": 24,
   "metadata": {},
   "outputs": [
    {
     "output_type": "execute_result",
     "data": {
      "text/plain": "Narcotics                                        18389\nRobbery/Burglery/Theft                           17439\nFirearms and Explosives                           7663\nAggravated DUI                                    4790\nBattery                                           4229\nDriving With Suspended Or Revoked License         3949\nPossession of Stolen Motor Vehicle                1631\nOther Offense                                     1362\nDUI                                               1288\nEscape - Failure to Return                        1151\nSex Crimes                                        1136\nFailure to Register as a Sex Offender             1044\nAggravated Fleeing and Eluding                     992\nForgery                                            944\nCriminal Damage to Property                        746\nHomicide                                           599\nCredit Card Cases                                  448\nVehicular Hijacking                                229\nOffense Against Police Officers                    229\nHome Invasion                                      207\nFraudulent ID                                      187\nViolation Order Of Protection                      179\nArson                                              146\nFraud                                              135\nStalking                                            87\nMajor Accidents                                     75\nIntimidation                                        72\nDeceptive Practice                                  63\nObstructing Justice                                 61\nCriminal Trespass To Residence                      57\nUnlawful Restraint                                  55\nKidnapping                                          53\nPossession of Contraband in Penal Institution       40\nViolation of Sex Offender Registration              38\nChild Pornography                                   28\nViolate Bail Bond                                   26\nChild Abduction                                     25\nBribery                                             24\nHate Crimes                                         22\nVehicular Invasion                                  22\nProstitution                                        19\nAttempt Vehicular Hijacking                         14\nHuman Trafficking                                   12\nPossession of Shank in Penal Institution            12\nCommunicating With Witness                          10\nOfficial Misconduct                                  9\nGambling                                             7\nAttempt Sex Crimes                                   4\nDog Fighting                                         4\nTampering                                            4\nPandering                                            4\nFailure To Pay Child Support                         2\nPerjury                                              1\nName: offense_category, dtype: int64"
     },
     "metadata": {},
     "execution_count": 24
    }
   ],
   "source": [
    "# Consolidate Firearms and Explosives category\n",
    "data.offense_category = data.offense_category.replace(to_replace=['Aggravated Discharge Firearm','Armed Violence','Disarming Police Officer','Gun Running','Possession of Explosives','UUW - Unlawful Use of Weapon','Gun - Non UUW','Bomb Threat','Reckless Discharge of Firearm'],value='Firearms and Explosives')\n",
    "\n",
    "data.offense_category.value_counts()"
   ]
  },
  {
   "cell_type": "code",
   "execution_count": 25,
   "metadata": {},
   "outputs": [
    {
     "output_type": "execute_result",
     "data": {
      "text/plain": "Narcotics                                        18389\nRobbery/Burglery/Theft                           17439\nMotor Vehicle Offenses                           11998\nFirearms and Explosives                           7663\nBattery                                           4229\nOther Offense                                     1362\nEscape - Failure to Return                        1151\nSex Crimes                                        1136\nFailure to Register as a Sex Offender             1044\nAggravated Fleeing and Eluding                     992\nForgery                                            944\nCriminal Damage to Property                        746\nHomicide                                           599\nCredit Card Cases                                  448\nOffense Against Police Officers                    229\nHome Invasion                                      207\nFraudulent ID                                      187\nViolation Order Of Protection                      179\nArson                                              146\nFraud                                              135\nStalking                                            87\nIntimidation                                        72\nDeceptive Practice                                  63\nObstructing Justice                                 61\nCriminal Trespass To Residence                      57\nUnlawful Restraint                                  55\nKidnapping                                          53\nPossession of Contraband in Penal Institution       40\nViolation of Sex Offender Registration              38\nChild Pornography                                   28\nViolate Bail Bond                                   26\nChild Abduction                                     25\nBribery                                             24\nHate Crimes                                         22\nProstitution                                        19\nHuman Trafficking                                   12\nPossession of Shank in Penal Institution            12\nCommunicating With Witness                          10\nOfficial Misconduct                                  9\nGambling                                             7\nPandering                                            4\nAttempt Sex Crimes                                   4\nTampering                                            4\nDog Fighting                                         4\nFailure To Pay Child Support                         2\nPerjury                                              1\nName: offense_category, dtype: int64"
     },
     "metadata": {},
     "execution_count": 25
    }
   ],
   "source": [
    "# Consolidate Motor Vehicles Offenses category\n",
    "data.offense_category = data.offense_category.replace(to_replace=['Aggravated DUI','Attempt Vehicular Hijacking','DUI','Driving With Suspended Or Revoked License','Major Accidents','Possession of Stolen Motor Vehicle','Vehicular Hijacking','Vehicular Invasion'],value='Motor Vehicle Offenses')\n",
    "\n",
    "data.offense_category.value_counts()"
   ]
  },
  {
   "cell_type": "code",
   "execution_count": 26,
   "metadata": {},
   "outputs": [
    {
     "output_type": "execute_result",
     "data": {
      "text/plain": "Narcotics                                        18389\nRobbery/Burglery/Theft                           17439\nMotor Vehicle Offenses                           11998\nFirearms and Explosives                           7663\nBattery                                           4229\nJudicial Process Violations                       1432\nOther Offense                                     1362\nSex Crimes                                        1136\nFailure to Register as a Sex Offender             1044\nAggravated Fleeing and Eluding                     992\nForgery                                            944\nCriminal Damage to Property                        746\nHomicide                                           599\nCredit Card Cases                                  448\nOffense Against Police Officers                    229\nHome Invasion                                      207\nFraudulent ID                                      187\nArson                                              146\nFraud                                              135\nStalking                                            87\nIntimidation                                        72\nDeceptive Practice                                  63\nCriminal Trespass To Residence                      57\nUnlawful Restraint                                  55\nKidnapping                                          53\nPossession of Contraband in Penal Institution       40\nViolation of Sex Offender Registration              38\nChild Pornography                                   28\nChild Abduction                                     25\nBribery                                             24\nHate Crimes                                         22\nProstitution                                        19\nHuman Trafficking                                   12\nPossession of Shank in Penal Institution            12\nOfficial Misconduct                                  9\nGambling                                             7\nPandering                                            4\nAttempt Sex Crimes                                   4\nDog Fighting                                         4\nFailure To Pay Child Support                         2\nName: offense_category, dtype: int64"
     },
     "metadata": {},
     "execution_count": 26
    }
   ],
   "source": [
    "# Consolidate Judicial Process Violations category\n",
    "data.offense_category = data.offense_category.replace(to_replace=['Communicating With Witness','Escape - Failure to Return','Obstructing Justice','Perjury','Tampering','Violate Bail Bond','Violation Order Of Protection'],value='Judicial Process Violations')\n",
    "\n",
    "data.offense_category.value_counts()"
   ]
  },
  {
   "cell_type": "code",
   "execution_count": 27,
   "metadata": {},
   "outputs": [
    {
     "output_type": "execute_result",
     "data": {
      "text/plain": "Narcotics                                        18389\nRobbery/Burglery/Theft                           17439\nMotor Vehicle Offenses                           11998\nFirearms and Explosives                           7663\nBattery                                           4229\nSex Offenses                                      2273\nJudicial Process Violations                       1432\nOther Offense                                     1362\nAggravated Fleeing and Eluding                     992\nForgery                                            944\nCriminal Damage to Property                        746\nHomicide                                           599\nCredit Card Cases                                  448\nOffense Against Police Officers                    229\nHome Invasion                                      207\nFraudulent ID                                      187\nArson                                              146\nFraud                                              135\nStalking                                            87\nIntimidation                                        72\nDeceptive Practice                                  63\nCriminal Trespass To Residence                      57\nUnlawful Restraint                                  55\nKidnapping                                          53\nPossession of Contraband in Penal Institution       40\nChild Abduction                                     25\nBribery                                             24\nHate Crimes                                         22\nHuman Trafficking                                   12\nPossession of Shank in Penal Institution            12\nOfficial Misconduct                                  9\nGambling                                             7\nDog Fighting                                         4\nFailure To Pay Child Support                         2\nName: offense_category, dtype: int64"
     },
     "metadata": {},
     "execution_count": 27
    }
   ],
   "source": [
    "# Consolidate Sex Offenses category\n",
    "data.offense_category = data.offense_category.replace(to_replace=['Attempt Sex Crimes','Child Pornography','Failure to Register as a Sex Offender','Pandering','Prostitution','Sex Crimes','Violation of Sex Offender Registration'],value='Sex Offenses')\n",
    "\n",
    "data.offense_category.value_counts()"
   ]
  },
  {
   "cell_type": "code",
   "execution_count": 28,
   "metadata": {},
   "outputs": [
    {
     "output_type": "execute_result",
     "data": {
      "text/plain": "Narcotics                                        18389\nRobbery/Burglery/Theft                           17439\nMotor Vehicle Offenses                           11998\nFirearms and Explosives                           7663\nBattery                                           4229\nSex Offenses                                      2273\nJudicial Process Violations                       1432\nOther Offense                                     1362\nAggravated Fleeing and Eluding                     992\nForgery                                            944\nCriminal Damage to Property                        746\nHomicide                                           599\nCredit Card Cases                                  448\nOffense Against Police Officers                    229\nHome Invasion                                      207\nFraudulent ID                                      187\nArson                                              146\nHuman Trafficking/Detention/Kidnapping             145\nFraud                                              135\nStalking                                            87\nIntimidation                                        72\nDeceptive Practice                                  63\nCriminal Trespass To Residence                      57\nPossession of Contraband in Penal Institution       40\nBribery                                             24\nHate Crimes                                         22\nPossession of Shank in Penal Institution            12\nOfficial Misconduct                                  9\nGambling                                             7\nDog Fighting                                         4\nFailure To Pay Child Support                         2\nName: offense_category, dtype: int64"
     },
     "metadata": {},
     "execution_count": 28
    }
   ],
   "source": [
    "# Consolidate Human Trafficking, Detention and Kidnapping category\n",
    "data.offense_category = data.offense_category.replace(to_replace=['Child Abduction','Human Trafficking','Kidnapping','Unlawful Restraint'],value='Human Trafficking/Detention/Kidnapping')\n",
    "\n",
    "data.offense_category.value_counts()"
   ]
  },
  {
   "cell_type": "code",
   "execution_count": 29,
   "metadata": {},
   "outputs": [
    {
     "output_type": "execute_result",
     "data": {
      "text/plain": "Narcotics                                        18389\nRobbery/Burglery/Theft                           17439\nMotor Vehicle Offenses                           11998\nFirearms and Explosives                           7663\nBattery                                           4229\nSex Offenses                                      2273\nJudicial Process Violations                       1432\nOther Offense                                     1362\nAggravated Fleeing and Eluding                     992\nForgery                                            944\nCriminal Damage to Property                        746\nHomicide                                           599\nCredit Card Cases                                  448\nTrespassing                                        264\nOffense Against Police Officers                    229\nFraudulent ID                                      187\nArson                                              146\nHuman Trafficking/Detention/Kidnapping             145\nFraud                                              135\nStalking                                            87\nIntimidation                                        72\nDeceptive Practice                                  63\nPossession of Contraband in Penal Institution       40\nBribery                                             24\nHate Crimes                                         22\nPossession of Shank in Penal Institution            12\nOfficial Misconduct                                  9\nGambling                                             7\nDog Fighting                                         4\nFailure To Pay Child Support                         2\nName: offense_category, dtype: int64"
     },
     "metadata": {},
     "execution_count": 29
    }
   ],
   "source": [
    "# Consolidate Trespassing category\n",
    "data.offense_category = data.offense_category.replace(to_replace=['Home Invasion','Criminal Trespass To Residence'],value='Trespassing')\n",
    "\n",
    "data.offense_category.value_counts()"
   ]
  },
  {
   "cell_type": "code",
   "execution_count": 30,
   "metadata": {},
   "outputs": [
    {
     "output_type": "execute_result",
     "data": {
      "text/plain": "Narcotics                                        18389\nRobbery/Burglery/Theft                           17439\nMotor Vehicle Offenses                           11998\nFirearms and Explosives                           7663\nBattery                                           4229\nSex Offenses                                      2273\nFraud/Deception                                   1777\nJudicial Process Violations                       1432\nOther Offense                                     1362\nAggravated Fleeing and Eluding                     992\nCriminal Damage to Property                        746\nHomicide                                           599\nTrespassing                                        264\nOffense Against Police Officers                    229\nArson                                              146\nHuman Trafficking/Detention/Kidnapping             145\nStalking                                            87\nIntimidation                                        72\nPossession of Contraband in Penal Institution       40\nBribery                                             24\nHate Crimes                                         22\nPossession of Shank in Penal Institution            12\nOfficial Misconduct                                  9\nGambling                                             7\nDog Fighting                                         4\nFailure To Pay Child Support                         2\nName: offense_category, dtype: int64"
     },
     "metadata": {},
     "execution_count": 30
    }
   ],
   "source": [
    "# Consolidate Fraud and Deception category\n",
    "data.offense_category = data.offense_category.replace(to_replace=['Benefit Recipient Fraud','Credit Card Cases','Deceptive Practice','Forgery','Fraud','Fraudulent ID'],value='Fraud/Deception')\n",
    "\n",
    "data.offense_category.value_counts()"
   ]
  },
  {
   "cell_type": "code",
   "execution_count": 31,
   "metadata": {},
   "outputs": [
    {
     "output_type": "execute_result",
     "data": {
      "text/plain": "Narcotics                                        18389\nRobbery/Burglery/Theft                           17439\nMotor Vehicle Offenses                           11998\nFirearms and Explosives                           7663\nBattery                                           4229\nSex Offenses                                      2273\nFraud/Deception                                   1777\nJudicial Process Violations                       1432\nOther Offense                                     1362\nAggravated Fleeing and Eluding                     992\nCriminal Damage to Property                        746\nHomicide                                           599\nTrespassing                                        264\nOffense Against Police Officers                    229\nArson                                              146\nHuman Trafficking/Detention/Kidnapping             145\nCorruption                                         105\nStalking                                            87\nPossession of Contraband in Penal Institution       40\nHate Crimes                                         22\nPossession of Shank in Penal Institution            12\nGambling                                             7\nDog Fighting                                         4\nFailure To Pay Child Support                         2\nName: offense_category, dtype: int64"
     },
     "metadata": {},
     "execution_count": 31
    }
   ],
   "source": [
    "# Consolidate Corruption category\n",
    "data.offense_category = data.offense_category.replace(to_replace=['Intimidation','Official Misconduct','Bribery'],value='Corruption')\n",
    "\n",
    "data.offense_category.value_counts()"
   ]
  },
  {
   "cell_type": "code",
   "execution_count": 32,
   "metadata": {},
   "outputs": [
    {
     "output_type": "execute_result",
     "data": {
      "text/plain": "Narcotics                                 18389\nRobbery/Burglery/Theft                    17439\nMotor Vehicle Offenses                    11998\nFirearms and Explosives                    7663\nBattery                                    4229\nSex Offenses                               2273\nFraud/Deception                            1777\nJudicial Process Violations                1432\nOther Offense                              1362\nAggravated Fleeing and Eluding              992\nCriminal Damage to Property                 746\nHomicide                                    599\nTrespassing                                 264\nOffense Against Police Officers             229\nArson                                       146\nHuman Trafficking/Detention/Kidnapping      145\nCorruption                                  105\nStalking                                     87\nInside Penal Institutions                    52\nHate Crimes                                  22\nGambling                                      7\nDog Fighting                                  4\nFailure To Pay Child Support                  2\nName: offense_category, dtype: int64"
     },
     "metadata": {},
     "execution_count": 32
    }
   ],
   "source": [
    "# Consolidate Inside Penal Institutions category\n",
    "data.offense_category = data.offense_category.replace(to_replace=['Possession of Contraband in Penal Institution','Possession of Shank in Penal Institution'],value='Inside Penal Institutions')\n",
    "\n",
    "data.offense_category.value_counts()"
   ]
  },
  {
   "cell_type": "code",
   "execution_count": 33,
   "metadata": {},
   "outputs": [
    {
     "output_type": "execute_result",
     "data": {
      "text/plain": "Narcotics                                 18389\nRobbery/Burglery/Theft                    17439\nMotor Vehicle Offenses                    11998\nFirearms and Explosives                    7663\nBattery                                    4229\nSex Offenses                               2273\nFraud/Deception                            1777\nJudicial Process Violations                1432\nOther Offense                              1375\nAggravated Fleeing and Eluding              992\nCriminal Damage to Property                 746\nHomicide                                    599\nTrespassing                                 264\nOffense Against Police Officers             229\nArson                                       146\nHuman Trafficking/Detention/Kidnapping      145\nCorruption                                  105\nStalking                                     87\nInside Penal Institutions                    52\nHate Crimes                                  22\nName: offense_category, dtype: int64"
     },
     "metadata": {},
     "execution_count": 33
    }
   ],
   "source": [
    "# Consolidate Other Offense category\n",
    "data.offense_category = data.offense_category.replace(to_replace=['Dog Fighting','Gambling','Failure To Pay Child Support','Compelling Gang Membership'],value='Other Offense')\n",
    "\n",
    "data.offense_category.value_counts()"
   ]
  },
  {
   "cell_type": "markdown",
   "metadata": {},
   "source": [
    "## Cleaning Race columns"
   ]
  },
  {
   "cell_type": "code",
   "execution_count": 34,
   "metadata": {},
   "outputs": [
    {
     "output_type": "execute_result",
     "data": {
      "text/plain": "Black                               46044\nWhite [Hispanic or Latino]          11842\nWhite                               10154\nHISPANIC                              947\nAsian                                 418\nWhite/Black [Hispanic or Latino]      401\nUnknown                               111\nAmerican Indian                        34\nBiracial                               11\nName: race, dtype: int64"
     },
     "metadata": {},
     "execution_count": 34
    }
   ],
   "source": [
    "# Review data\n",
    "data.race.value_counts()"
   ]
  },
  {
   "cell_type": "code",
   "execution_count": 35,
   "metadata": {},
   "outputs": [
    {
     "output_type": "execute_result",
     "data": {
      "text/plain": "Black                               46044\nWhite [Hispanic or Latino]          11842\nWhite                               10154\nHISPANIC                              947\nAsian                                 418\nWhite/Black [Hispanic or Latino]      401\nUnknown                               111\nAmerican Indian                        34\nBiracial                               11\nName: race, dtype: int64"
     },
     "metadata": {},
     "execution_count": 35
    }
   ],
   "source": [
    "# Consolidate Asian race\n",
    "data.race = data.race.replace(to_replace='ASIAN',value='Asian')\n",
    "\n",
    "data.race.value_counts()"
   ]
  },
  {
   "cell_type": "code",
   "execution_count": 36,
   "metadata": {},
   "outputs": [
    {
     "output_type": "execute_result",
     "data": {
      "text/plain": "Black              46044\nHispanic/Latino    13190\nWhite              10154\nAsian                418\nUnknown              111\nAmerican Indian       34\nBiracial              11\nName: race, dtype: int64"
     },
     "metadata": {},
     "execution_count": 36
    }
   ],
   "source": [
    "# Consolidate Hispanic/Latino race\n",
    "data.race = data.race.replace(to_replace=['White [Hispanic or Latino]','HISPANIC','White/Black [Hispanic or Latino]'],value='Hispanic/Latino')\n",
    "\n",
    "data.race.value_counts()"
   ]
  },
  {
   "cell_type": "markdown",
   "metadata": {},
   "source": [
    "## Cleaning Sentence Type"
   ]
  },
  {
   "cell_type": "code",
   "execution_count": 37,
   "metadata": {},
   "outputs": [
    {
     "output_type": "execute_result",
     "data": {
      "text/plain": "Prison                                   35373\nProbation                                27756\nJail                                      3219\n2nd Chance Probation                      1332\nConditional Discharge                     1014\nSupervision                                931\nCook County Boot Camp                      158\nProbation Terminated Unsatisfactorily       97\nProbation Terminated Instanter              27\nInpatient Mental Health Services            18\nConditional Release                         16\nDeath                                       16\nProbation Terminated Satisfactorily          5\nName: sentence_type, dtype: int64"
     },
     "metadata": {},
     "execution_count": 37
    }
   ],
   "source": [
    "# Review data\n",
    "data.sentence_type.value_counts()"
   ]
  },
  {
   "cell_type": "code",
   "execution_count": 38,
   "metadata": {},
   "outputs": [
    {
     "output_type": "execute_result",
     "data": {
      "text/plain": "Prison                              35373\nProbation/Supervision               30148\nJail                                 3219\nConditional Discharge                1014\nCook County Boot Camp                 158\nInpatient Mental Health Services       18\nConditional Release                    16\nDeath                                  16\nName: sentence_type, dtype: int64"
     },
     "metadata": {},
     "execution_count": 38
    }
   ],
   "source": [
    "# Consolidate Probation & Supervision sentence\n",
    "data.sentence_type = data.sentence_type.replace(to_replace=['Probation','2nd Chance Probation','Supervision','Probation Terminated Unsatisfactorily','Probation Terminated Instanter','Probation Terminated Satisfactorily'],value='Probation/Supervision')\n",
    "\n",
    "data.sentence_type.value_counts()"
   ]
  },
  {
   "cell_type": "code",
   "execution_count": 39,
   "metadata": {},
   "outputs": [
    {
     "output_type": "execute_result",
     "data": {
      "text/plain": "Prison                              35373\nProbation/Supervision               30148\nJail                                 3219\nConditional Discharge                1030\nCook County Boot Camp                 158\nInpatient Mental Health Services       18\nDeath                                  16\nName: sentence_type, dtype: int64"
     },
     "metadata": {},
     "execution_count": 39
    }
   ],
   "source": [
    "# Consolidate Conditional sentence type\n",
    "data.sentence_type = data.sentence_type.replace(to_replace='Conditional Release',value='Conditional Discharge')\n",
    "\n",
    "data.sentence_type.value_counts()"
   ]
  },
  {
   "cell_type": "code",
   "execution_count": 40,
   "metadata": {},
   "outputs": [
    {
     "output_type": "execute_result",
     "data": {
      "text/plain": "Incarceration                       38592\nProbation/Supervision               30148\nConditional Discharge                1030\nCook County Boot Camp                 158\nInpatient Mental Health Services       18\nDeath                                  16\nName: sentence_type, dtype: int64"
     },
     "metadata": {},
     "execution_count": 40
    }
   ],
   "source": [
    "# Consolidate Incarceration sentence\n",
    "data.sentence_type = data.sentence_type.replace(to_replace=['Jail','Prison'],value='Incarceration')\n",
    "\n",
    "data.sentence_type.value_counts()"
   ]
  },
  {
   "cell_type": "markdown",
   "metadata": {},
   "source": [
    "## Cleaning Commitment Unit"
   ]
  },
  {
   "cell_type": "code",
   "execution_count": 41,
   "metadata": {},
   "outputs": [
    {
     "output_type": "execute_result",
     "data": {
      "text/plain": "Year(s)         51153\nMonths          15491\nDays             3105\nTerm              155\nNatural Life       32\nDollars            17\nHours               4\nWeeks               4\nKilos               1\nName: commitment_unit, dtype: int64"
     },
     "metadata": {},
     "execution_count": 41
    }
   ],
   "source": [
    "# Data Exploration\n",
    "data.commitment_unit.value_counts()"
   ]
  },
  {
   "cell_type": "code",
   "execution_count": 42,
   "metadata": {},
   "outputs": [
    {
     "output_type": "execute_result",
     "data": {
      "text/plain": "Year(s)         51153\nMonths          15491\nDays             3105\nTerm              155\nNatural Life       32\nDollars            17\nHours               4\nWeeks               4\nWeight              1\nName: commitment_unit, dtype: int64"
     },
     "metadata": {},
     "execution_count": 42
    }
   ],
   "source": [
    "# Unify Weight units\n",
    "data.commitment_unit = data.commitment_unit.replace(to_replace=['Pounds','Kilos'],value='Weight')\n",
    "\n",
    "data.commitment_unit.value_counts()"
   ]
  },
  {
   "cell_type": "code",
   "execution_count": 43,
   "metadata": {},
   "outputs": [
    {
     "output_type": "execute_result",
     "data": {
      "text/plain": "['0',\n '001',\n '1',\n '1.5',\n '10',\n '10.5',\n '100',\n '101',\n '102',\n '103',\n '104',\n '105',\n '106',\n '107',\n '108',\n '109',\n '11',\n '11.5',\n '110',\n '111',\n '113',\n '114',\n '115',\n '116',\n '118',\n '119',\n '12',\n '12.5',\n '120',\n '121',\n '122',\n '123',\n '126',\n '127',\n '1277.13',\n '128',\n '129',\n '13',\n '13.5',\n '130',\n '131',\n '132',\n '133',\n '134',\n '135',\n '136',\n '137',\n '138',\n '139',\n '14',\n '14.5',\n '140',\n '141',\n '142',\n '143',\n '144',\n '145',\n '146',\n '147',\n '148',\n '149',\n '15',\n '150',\n '151',\n '153',\n '154',\n '155',\n '156',\n '158',\n '159',\n '16',\n '16.5',\n '160',\n '161',\n '162',\n '164',\n '165',\n '166',\n '167',\n '168',\n '169',\n '17',\n '17.5',\n '170',\n '171',\n '172',\n '174',\n '175',\n '176',\n '177',\n '179',\n '18',\n '180',\n '181',\n '182',\n '183',\n '184',\n '185',\n '186',\n '187',\n '188',\n '189',\n '19',\n '190',\n '191',\n '192',\n '193',\n '194',\n '195',\n '197',\n '199',\n '2',\n '2.5',\n '2.6',\n '20',\n '200',\n '202',\n '204',\n '205',\n '206',\n '207',\n '208',\n '21',\n '210',\n '211',\n '212',\n '213',\n '217',\n '218',\n '22',\n '220',\n '221',\n '222',\n '223',\n '224',\n '227',\n '228',\n '229',\n '23',\n '23.5',\n '230',\n '231',\n '232',\n '233',\n '234',\n '235',\n '237',\n '238',\n '239',\n '24',\n '240',\n '241',\n '242',\n '243',\n '244',\n '247',\n '248',\n '25',\n '250',\n '251',\n '254',\n '256',\n '257',\n '258',\n '26',\n '260',\n '261',\n '262',\n '263',\n '265',\n '266',\n '267',\n '269',\n '27',\n '270',\n '272',\n '274',\n '275',\n '276',\n '28',\n '280',\n '281',\n '282',\n '284',\n '286',\n '288',\n '29',\n '290',\n '291',\n '292',\n '294',\n '297',\n '298',\n '3',\n '3.5',\n '3.6',\n '30',\n '300',\n '305',\n '306',\n '307',\n '308',\n '309',\n '31',\n '310',\n '312',\n '313',\n '316',\n '317',\n '319',\n '32',\n '320',\n '321',\n '324',\n '33',\n '330',\n '332',\n '334',\n '339',\n '34',\n '344',\n '345',\n '347',\n '349',\n '35',\n '350',\n '351',\n '352',\n '354',\n '356',\n '357',\n '36',\n '360',\n '364',\n '365',\n '368',\n '369',\n '37',\n '38',\n '386',\n '387',\n '39',\n '390',\n '397',\n '4',\n '4.5',\n '40',\n '405',\n '41',\n '42',\n '43',\n '44',\n '444',\n '447',\n '45',\n '46',\n '47',\n '471',\n '478',\n '48',\n '49',\n '5',\n '5.2',\n '5.5',\n '50',\n '51',\n '52',\n '53',\n '54',\n '55',\n '56',\n '57',\n '574',\n '58',\n '59',\n '591',\n '6',\n '6.4',\n '6.5',\n '60',\n '607',\n '61',\n '62',\n '63',\n '634',\n '64',\n '65',\n '66',\n '67',\n '68',\n '69',\n '7',\n '7.5',\n '70',\n '71',\n '72',\n '73',\n '74',\n '75',\n '76',\n '77',\n '78',\n '79',\n '8',\n '8.5',\n '8.75',\n '80',\n '81',\n '82',\n '83',\n '84',\n '85',\n '86',\n '87',\n '88',\n '89',\n '9',\n '9.3',\n '9.5',\n '9.6',\n '90',\n '91',\n '92',\n '93',\n '94',\n '95',\n '96',\n '97',\n '98',\n '99']"
     },
     "metadata": {},
     "execution_count": 43
    }
   ],
   "source": [
    "sorted(list(data.commitment_term.unique()))"
   ]
  },
  {
   "cell_type": "code",
   "execution_count": 44,
   "metadata": {},
   "outputs": [
    {
     "output_type": "execute_result",
     "data": {
      "text/plain": "0         9.0\n1        30.0\n2         4.0\n3        52.0\n4        10.0\n         ... \n69957    24.0\n69958     2.0\n69959    18.0\n69960     2.0\n69961    90.0\nName: commitment_term, Length: 69962, dtype: float64"
     },
     "metadata": {},
     "execution_count": 44
    }
   ],
   "source": [
    "# Clean all non-numeric characters and transform value type to float\n",
    "data.commitment_term = data.commitment_term.replace(to_replace='two',value=2)\n",
    "data.commitment_term = data.commitment_term.replace(regex=['[a-z]*','\\,','\\`'], value='')\n",
    "data.commitment_term = data.commitment_term.astype('float')\n",
    "\n",
    "data.commitment_term"
   ]
  },
  {
   "cell_type": "code",
   "execution_count": 45,
   "metadata": {},
   "outputs": [
    {
     "output_type": "execute_result",
     "data": {
      "text/plain": "Year(s)         51153\nMonths          15491\nDays             3105\nTerm              155\nNatural Life       32\nDollars            17\nHours               4\nWeeks               4\nWeight              1\nName: commitment_unit, dtype: int64"
     },
     "metadata": {},
     "execution_count": 45
    }
   ],
   "source": [
    "# Review commitment unit values\n",
    "data.commitment_unit.value_counts()"
   ]
  },
  {
   "cell_type": "code",
   "execution_count": 46,
   "metadata": {},
   "outputs": [],
   "source": [
    "# Change all years over 130 to 130 to mark natural life\n",
    "data.loc[(data.commitment_unit == 'Year(s)') & (data.commitment_term > 129),['commitment_term']] = 130"
   ]
  },
  {
   "cell_type": "code",
   "execution_count": 47,
   "metadata": {},
   "outputs": [],
   "source": [
    "# Changes in Bootcamp Terms to Months\n",
    "data.loc[(data.sentence_type == 'Cook County Boot Camp') & (data.commitment_unit == 'Term') & (data.commitment_term == 1),['commitment_term']] = 12\n",
    "\n",
    "data.loc[(data.sentence_type == 'Cook County Boot Camp') & (data.commitment_unit == 'Term') & (data.commitment_term == 12),['commitment_unit']] = 'Months'\n",
    "\n",
    "data.loc[(data.sentence_type == 'Cook County Boot Camp') & (data.commitment_unit == 'Term') & (data.commitment_term == 18),['commitment_unit']] = 'Months'"
   ]
  },
  {
   "cell_type": "code",
   "execution_count": 48,
   "metadata": {},
   "outputs": [],
   "source": [
    "# Change Death info to 130 years\n",
    "data.loc[(data.sentence_type == 'Death'),['commitment_unit']] = 'Year(s)'\n",
    "data.loc[(data.sentence_type == 'Death'),['commitment_term']] = 130"
   ]
  },
  {
   "cell_type": "code",
   "execution_count": 49,
   "metadata": {},
   "outputs": [],
   "source": [
    "# Create column with all values in months\n",
    "def month_convert(row):\n",
    "    if row ['commitment_unit'] == 'Months':\n",
    "        return round(float(row['commitment_term']),2)\n",
    "    if row[\"commitment_unit\"] == \"Year(s)\":\n",
    "        return round(int(row[\"commitment_term\"]) * 12.0, 2)\n",
    "    if row[\"commitment_unit\"] == \"Weeks\":\n",
    "       return round(float(row['commitment_term']) / 4, 2)\n",
    "    if row[\"commitment_unit\"] == \"Days\":\n",
    "        return round(float( row['commitment_term']) / 30, 2)\n",
    "    if row['commitment_unit'] == \"Natural Life\":\n",
    "        return 1560.\n",
    "    else:\n",
    "        return 0.\n",
    "\n",
    "data['month'] = data.apply(lambda row:month_convert(row), axis = 1)"
   ]
  },
  {
   "cell_type": "code",
   "execution_count": 50,
   "metadata": {},
   "outputs": [],
   "source": [
    "# Create column with all values in years\n",
    "def year_convert(row):\n",
    "    if row ['commitment_unit'] == 'Year(s)':\n",
    "        return round(float(row['commitment_term']),2)\n",
    "    if row[\"commitment_unit\"] == \"Months\":\n",
    "        return round(int(row[\"commitment_term\"]) / 12.0, 2)\n",
    "    if row[\"commitment_unit\"] == \"Weeks\":\n",
    "       return round(float(row['commitment_term']) / 52, 2)\n",
    "    if row[\"commitment_unit\"] == \"Days\":\n",
    "        return round(float( row['commitment_term'])/365, 2)\n",
    "    if row['commitment_unit'] == \"Natural Life\":\n",
    "        return 130.\n",
    "    else:\n",
    "        return 0.\n",
    "\n",
    "data['year'] = data.apply(lambda row:year_convert(row), axis = 1)"
   ]
  },
  {
   "cell_type": "code",
   "execution_count": 51,
   "metadata": {},
   "outputs": [
    {
     "output_type": "execute_result",
     "data": {
      "text/plain": "      commitment_unit  commitment_term   year   month\n0             Year(s)              9.0   9.00  108.00\n1                Days             30.0   0.08    1.00\n2             Year(s)              4.0   4.00   48.00\n3             Year(s)             52.0  52.00  624.00\n4              Months             10.0   0.83   10.00\n...               ...              ...    ...     ...\n69957          Months             24.0   2.00   24.00\n69958            Days              2.0   0.01    0.07\n69959          Months             18.0   1.50   18.00\n69960            Days              2.0   0.01    0.07\n69961            Days             90.0   0.25    3.00\n\n[69962 rows x 4 columns]",
      "text/html": "<div>\n<style scoped>\n    .dataframe tbody tr th:only-of-type {\n        vertical-align: middle;\n    }\n\n    .dataframe tbody tr th {\n        vertical-align: top;\n    }\n\n    .dataframe thead th {\n        text-align: right;\n    }\n</style>\n<table border=\"1\" class=\"dataframe\">\n  <thead>\n    <tr style=\"text-align: right;\">\n      <th></th>\n      <th>commitment_unit</th>\n      <th>commitment_term</th>\n      <th>year</th>\n      <th>month</th>\n    </tr>\n  </thead>\n  <tbody>\n    <tr>\n      <td>0</td>\n      <td>Year(s)</td>\n      <td>9.0</td>\n      <td>9.00</td>\n      <td>108.00</td>\n    </tr>\n    <tr>\n      <td>1</td>\n      <td>Days</td>\n      <td>30.0</td>\n      <td>0.08</td>\n      <td>1.00</td>\n    </tr>\n    <tr>\n      <td>2</td>\n      <td>Year(s)</td>\n      <td>4.0</td>\n      <td>4.00</td>\n      <td>48.00</td>\n    </tr>\n    <tr>\n      <td>3</td>\n      <td>Year(s)</td>\n      <td>52.0</td>\n      <td>52.00</td>\n      <td>624.00</td>\n    </tr>\n    <tr>\n      <td>4</td>\n      <td>Months</td>\n      <td>10.0</td>\n      <td>0.83</td>\n      <td>10.00</td>\n    </tr>\n    <tr>\n      <td>...</td>\n      <td>...</td>\n      <td>...</td>\n      <td>...</td>\n      <td>...</td>\n    </tr>\n    <tr>\n      <td>69957</td>\n      <td>Months</td>\n      <td>24.0</td>\n      <td>2.00</td>\n      <td>24.00</td>\n    </tr>\n    <tr>\n      <td>69958</td>\n      <td>Days</td>\n      <td>2.0</td>\n      <td>0.01</td>\n      <td>0.07</td>\n    </tr>\n    <tr>\n      <td>69959</td>\n      <td>Months</td>\n      <td>18.0</td>\n      <td>1.50</td>\n      <td>18.00</td>\n    </tr>\n    <tr>\n      <td>69960</td>\n      <td>Days</td>\n      <td>2.0</td>\n      <td>0.01</td>\n      <td>0.07</td>\n    </tr>\n    <tr>\n      <td>69961</td>\n      <td>Days</td>\n      <td>90.0</td>\n      <td>0.25</td>\n      <td>3.00</td>\n    </tr>\n  </tbody>\n</table>\n<p>69962 rows × 4 columns</p>\n</div>"
     },
     "metadata": {},
     "execution_count": 51
    }
   ],
   "source": [
    "# Review new columns and changes\n",
    "data[['commitment_unit', 'commitment_term','year','month']]"
   ]
  },
  {
   "cell_type": "code",
   "execution_count": 52,
   "metadata": {},
   "outputs": [
    {
     "output_type": "execute_result",
     "data": {
      "text/plain": "20    3274\n19    3168\n21    3098\n22    3070\n23    2965\n24    2925\n25    2758\n26    2753\n27    2510\n28    2290\n29    2181\n30    2130\n31    1939\n18    1929\n32    1757\n33    1753\n34    1699\n35    1678\n36    1529\n37    1451\n38    1379\n40    1204\n39    1173\n43    1156\n45    1150\n46    1143\n42    1139\n48    1111\n44    1091\n41    1080\n47    1077\n49    1021\n51     982\n50     925\n52     918\n54     835\n53     821\n55     727\n56     645\n57     572\n58     469\n59     442\n60     367\n61     333\n62     243\n17     228\n63     164\n64     160\n65     128\n66     108\n67      65\n68      63\n69      39\n70      37\n71      23\n72      21\n73      19\n75      12\n74      10\n76       6\nName: age_at_incident, dtype: int64"
     },
     "metadata": {},
     "execution_count": 52
    }
   ],
   "source": [
    "# Review Age values\n",
    "data.age_at_incident.value_counts().head(60)"
   ]
  },
  {
   "cell_type": "code",
   "execution_count": 53,
   "metadata": {},
   "outputs": [],
   "source": [
    "# Change age dtype from string to integer \n",
    "data.age_at_incident = data.age_at_incident.astype(int)"
   ]
  },
  {
   "cell_type": "code",
   "execution_count": 54,
   "metadata": {},
   "outputs": [
    {
     "output_type": "execute_result",
     "data": {
      "text/plain": "case_id                    object\ncase_participant_id        object\ncharge_id                  object\ncharge_version_id          object\ncourt_facility             object\ncourt_name                 object\nage_at_incident             int32\ngender                     object\nrace                       object\ncharge_disposition         object\nlength_of_case_in_days     object\ncurrent_sentence             bool\nprimary_charge               bool\nsentence_date              object\noffense_category           object\ncommitment_term           float64\ncommitment_unit            object\nsentence_type              object\ndate_year                   int32\nmonth                     float64\nyear                      float64\ndtype: object"
     },
     "metadata": {},
     "execution_count": 54
    }
   ],
   "source": [
    "# Confirm changes\n",
    "data.dtypes"
   ]
  },
  {
   "cell_type": "code",
   "execution_count": 55,
   "metadata": {},
   "outputs": [],
   "source": [
    "# Bins to group age\n",
    "bins_ranges = [0,18,24,29,34,39,49,59,137]\n",
    "bins_names = [\"<18\", '18-24', '25-29', '30-34', '35-39', '40s', '50s', '60+']\n",
    "\n",
    "data['age_bins'] = pd.cut(data.age_at_incident,bins_ranges,labels=bins_names)"
   ]
  },
  {
   "cell_type": "code",
   "execution_count": 56,
   "metadata": {},
   "outputs": [
    {
     "output_type": "execute_result",
     "data": {
      "text/plain": "            case_id case_participant_id     charge_id charge_version_id  \\\n0      128491120254        266244611418  759810529209      458530536964   \n1      138057500568        274547245089  707305567445      480844954165   \n2      219960145803        874516091021  702607209651      382760114712   \n3      220003462419        874796614290  701366913337      382041644149   \n4      220036934349        874993408134  701540793563      478307838807   \n...             ...                 ...           ...               ...   \n69957  256376492742       1114936528342  922971556855      505146600989   \n69958  256381543493       1114965982098  922961626878      505922206274   \n69959  256409108612       1115174177395  923107618660      505224851968   \n69960  256441638876       1115411588918  923226884015      506085957954   \n69961  256462098701       1115557788810  923354177862      505662769759   \n\n                   court_facility                    court_name  \\\n0                     26TH Street          District 1 - Chicago   \n1                     26TH Street          District 1 - Chicago   \n2                     26TH Street          District 1 - Chicago   \n3              Markham Courthouse          District 6 - Markham   \n4               Skokie Courthouse           District 2 - Skokie   \n...                           ...                           ...   \n69957  Rolling Meadows Courthouse  District 3 - Rolling Meadows   \n69958          Markham Courthouse          District 6 - Markham   \n69959          Maywood Courthouse          District 4 - Maywood   \n69960                 26TH Street          District 1 - Chicago   \n69961           Skokie Courthouse           District 2 - Skokie   \n\n       age_at_incident  gender   race charge_disposition  ... primary_charge  \\\n0                   21    Male  Black     Finding Guilty  ...           True   \n1                   47  Female  Black     Plea Of Guilty  ...           True   \n2                   27    Male  Black     Plea Of Guilty  ...           True   \n3                   33    Male  Black     Verdict Guilty  ...           True   \n4                   40    Male  White     Plea Of Guilty  ...           True   \n...                ...     ...    ...                ...  ...            ...   \n69957               21    Male  White     Plea Of Guilty  ...           True   \n69958               61    Male  Black     Plea Of Guilty  ...           True   \n69959               38    Male  White     Plea Of Guilty  ...           True   \n69960               26    Male  Black     Plea Of Guilty  ...           True   \n69961               19  Female  Black     Plea Of Guilty  ...           True   \n\n                sentence_date         offense_category commitment_term  \\\n0        2/1/2016 12:00:00 AM                 Homicide             9.0   \n1       11/2/2017 12:00:00 AM                Narcotics            30.0   \n2       6/17/2016 12:00:00 AM                Narcotics             4.0   \n3       4/25/2018 12:00:00 AM                 Homicide            52.0   \n4       8/22/2017 12:00:00 AM   Robbery/Burglery/Theft            10.0   \n...                       ...                      ...             ...   \n69957   12/5/2019 12:00:00 AM                Narcotics            24.0   \n69958  12/20/2019 12:00:00 AM                Narcotics             2.0   \n69959  12/27/2019 12:00:00 AM  Firearms and Explosives            18.0   \n69960  12/24/2019 12:00:00 AM                Narcotics             2.0   \n69961  12/11/2019 12:00:00 AM   Robbery/Burglery/Theft            90.0   \n\n      commitment_unit          sentence_type date_year   month   year  \\\n0             Year(s)          Incarceration      2016  108.00   9.00   \n1                Days          Incarceration      2017    1.00   0.08   \n2             Year(s)          Incarceration      2016   48.00   4.00   \n3             Year(s)          Incarceration      2018  624.00  52.00   \n4              Months          Incarceration      2017   10.00   0.83   \n...               ...                    ...       ...     ...    ...   \n69957          Months  Probation/Supervision      2019   24.00   2.00   \n69958            Days          Incarceration      2019    0.07   0.01   \n69959          Months  Probation/Supervision      2019   18.00   1.50   \n69960            Days          Incarceration      2019    0.07   0.01   \n69961            Days          Incarceration      2019    3.00   0.25   \n\n       age_bins  \n0         18-24  \n1           40s  \n2         25-29  \n3         30-34  \n4           40s  \n...         ...  \n69957     18-24  \n69958       60+  \n69959     35-39  \n69960     25-29  \n69961     18-24  \n\n[69962 rows x 22 columns]",
      "text/html": "<div>\n<style scoped>\n    .dataframe tbody tr th:only-of-type {\n        vertical-align: middle;\n    }\n\n    .dataframe tbody tr th {\n        vertical-align: top;\n    }\n\n    .dataframe thead th {\n        text-align: right;\n    }\n</style>\n<table border=\"1\" class=\"dataframe\">\n  <thead>\n    <tr style=\"text-align: right;\">\n      <th></th>\n      <th>case_id</th>\n      <th>case_participant_id</th>\n      <th>charge_id</th>\n      <th>charge_version_id</th>\n      <th>court_facility</th>\n      <th>court_name</th>\n      <th>age_at_incident</th>\n      <th>gender</th>\n      <th>race</th>\n      <th>charge_disposition</th>\n      <th>...</th>\n      <th>primary_charge</th>\n      <th>sentence_date</th>\n      <th>offense_category</th>\n      <th>commitment_term</th>\n      <th>commitment_unit</th>\n      <th>sentence_type</th>\n      <th>date_year</th>\n      <th>month</th>\n      <th>year</th>\n      <th>age_bins</th>\n    </tr>\n  </thead>\n  <tbody>\n    <tr>\n      <td>0</td>\n      <td>128491120254</td>\n      <td>266244611418</td>\n      <td>759810529209</td>\n      <td>458530536964</td>\n      <td>26TH Street</td>\n      <td>District 1 - Chicago</td>\n      <td>21</td>\n      <td>Male</td>\n      <td>Black</td>\n      <td>Finding Guilty</td>\n      <td>...</td>\n      <td>True</td>\n      <td>2/1/2016 12:00:00 AM</td>\n      <td>Homicide</td>\n      <td>9.0</td>\n      <td>Year(s)</td>\n      <td>Incarceration</td>\n      <td>2016</td>\n      <td>108.00</td>\n      <td>9.00</td>\n      <td>18-24</td>\n    </tr>\n    <tr>\n      <td>1</td>\n      <td>138057500568</td>\n      <td>274547245089</td>\n      <td>707305567445</td>\n      <td>480844954165</td>\n      <td>26TH Street</td>\n      <td>District 1 - Chicago</td>\n      <td>47</td>\n      <td>Female</td>\n      <td>Black</td>\n      <td>Plea Of Guilty</td>\n      <td>...</td>\n      <td>True</td>\n      <td>11/2/2017 12:00:00 AM</td>\n      <td>Narcotics</td>\n      <td>30.0</td>\n      <td>Days</td>\n      <td>Incarceration</td>\n      <td>2017</td>\n      <td>1.00</td>\n      <td>0.08</td>\n      <td>40s</td>\n    </tr>\n    <tr>\n      <td>2</td>\n      <td>219960145803</td>\n      <td>874516091021</td>\n      <td>702607209651</td>\n      <td>382760114712</td>\n      <td>26TH Street</td>\n      <td>District 1 - Chicago</td>\n      <td>27</td>\n      <td>Male</td>\n      <td>Black</td>\n      <td>Plea Of Guilty</td>\n      <td>...</td>\n      <td>True</td>\n      <td>6/17/2016 12:00:00 AM</td>\n      <td>Narcotics</td>\n      <td>4.0</td>\n      <td>Year(s)</td>\n      <td>Incarceration</td>\n      <td>2016</td>\n      <td>48.00</td>\n      <td>4.00</td>\n      <td>25-29</td>\n    </tr>\n    <tr>\n      <td>3</td>\n      <td>220003462419</td>\n      <td>874796614290</td>\n      <td>701366913337</td>\n      <td>382041644149</td>\n      <td>Markham Courthouse</td>\n      <td>District 6 - Markham</td>\n      <td>33</td>\n      <td>Male</td>\n      <td>Black</td>\n      <td>Verdict Guilty</td>\n      <td>...</td>\n      <td>True</td>\n      <td>4/25/2018 12:00:00 AM</td>\n      <td>Homicide</td>\n      <td>52.0</td>\n      <td>Year(s)</td>\n      <td>Incarceration</td>\n      <td>2018</td>\n      <td>624.00</td>\n      <td>52.00</td>\n      <td>30-34</td>\n    </tr>\n    <tr>\n      <td>4</td>\n      <td>220036934349</td>\n      <td>874993408134</td>\n      <td>701540793563</td>\n      <td>478307838807</td>\n      <td>Skokie Courthouse</td>\n      <td>District 2 - Skokie</td>\n      <td>40</td>\n      <td>Male</td>\n      <td>White</td>\n      <td>Plea Of Guilty</td>\n      <td>...</td>\n      <td>True</td>\n      <td>8/22/2017 12:00:00 AM</td>\n      <td>Robbery/Burglery/Theft</td>\n      <td>10.0</td>\n      <td>Months</td>\n      <td>Incarceration</td>\n      <td>2017</td>\n      <td>10.00</td>\n      <td>0.83</td>\n      <td>40s</td>\n    </tr>\n    <tr>\n      <td>...</td>\n      <td>...</td>\n      <td>...</td>\n      <td>...</td>\n      <td>...</td>\n      <td>...</td>\n      <td>...</td>\n      <td>...</td>\n      <td>...</td>\n      <td>...</td>\n      <td>...</td>\n      <td>...</td>\n      <td>...</td>\n      <td>...</td>\n      <td>...</td>\n      <td>...</td>\n      <td>...</td>\n      <td>...</td>\n      <td>...</td>\n      <td>...</td>\n      <td>...</td>\n      <td>...</td>\n    </tr>\n    <tr>\n      <td>69957</td>\n      <td>256376492742</td>\n      <td>1114936528342</td>\n      <td>922971556855</td>\n      <td>505146600989</td>\n      <td>Rolling Meadows Courthouse</td>\n      <td>District 3 - Rolling Meadows</td>\n      <td>21</td>\n      <td>Male</td>\n      <td>White</td>\n      <td>Plea Of Guilty</td>\n      <td>...</td>\n      <td>True</td>\n      <td>12/5/2019 12:00:00 AM</td>\n      <td>Narcotics</td>\n      <td>24.0</td>\n      <td>Months</td>\n      <td>Probation/Supervision</td>\n      <td>2019</td>\n      <td>24.00</td>\n      <td>2.00</td>\n      <td>18-24</td>\n    </tr>\n    <tr>\n      <td>69958</td>\n      <td>256381543493</td>\n      <td>1114965982098</td>\n      <td>922961626878</td>\n      <td>505922206274</td>\n      <td>Markham Courthouse</td>\n      <td>District 6 - Markham</td>\n      <td>61</td>\n      <td>Male</td>\n      <td>Black</td>\n      <td>Plea Of Guilty</td>\n      <td>...</td>\n      <td>True</td>\n      <td>12/20/2019 12:00:00 AM</td>\n      <td>Narcotics</td>\n      <td>2.0</td>\n      <td>Days</td>\n      <td>Incarceration</td>\n      <td>2019</td>\n      <td>0.07</td>\n      <td>0.01</td>\n      <td>60+</td>\n    </tr>\n    <tr>\n      <td>69959</td>\n      <td>256409108612</td>\n      <td>1115174177395</td>\n      <td>923107618660</td>\n      <td>505224851968</td>\n      <td>Maywood Courthouse</td>\n      <td>District 4 - Maywood</td>\n      <td>38</td>\n      <td>Male</td>\n      <td>White</td>\n      <td>Plea Of Guilty</td>\n      <td>...</td>\n      <td>True</td>\n      <td>12/27/2019 12:00:00 AM</td>\n      <td>Firearms and Explosives</td>\n      <td>18.0</td>\n      <td>Months</td>\n      <td>Probation/Supervision</td>\n      <td>2019</td>\n      <td>18.00</td>\n      <td>1.50</td>\n      <td>35-39</td>\n    </tr>\n    <tr>\n      <td>69960</td>\n      <td>256441638876</td>\n      <td>1115411588918</td>\n      <td>923226884015</td>\n      <td>506085957954</td>\n      <td>26TH Street</td>\n      <td>District 1 - Chicago</td>\n      <td>26</td>\n      <td>Male</td>\n      <td>Black</td>\n      <td>Plea Of Guilty</td>\n      <td>...</td>\n      <td>True</td>\n      <td>12/24/2019 12:00:00 AM</td>\n      <td>Narcotics</td>\n      <td>2.0</td>\n      <td>Days</td>\n      <td>Incarceration</td>\n      <td>2019</td>\n      <td>0.07</td>\n      <td>0.01</td>\n      <td>25-29</td>\n    </tr>\n    <tr>\n      <td>69961</td>\n      <td>256462098701</td>\n      <td>1115557788810</td>\n      <td>923354177862</td>\n      <td>505662769759</td>\n      <td>Skokie Courthouse</td>\n      <td>District 2 - Skokie</td>\n      <td>19</td>\n      <td>Female</td>\n      <td>Black</td>\n      <td>Plea Of Guilty</td>\n      <td>...</td>\n      <td>True</td>\n      <td>12/11/2019 12:00:00 AM</td>\n      <td>Robbery/Burglery/Theft</td>\n      <td>90.0</td>\n      <td>Days</td>\n      <td>Incarceration</td>\n      <td>2019</td>\n      <td>3.00</td>\n      <td>0.25</td>\n      <td>18-24</td>\n    </tr>\n  </tbody>\n</table>\n<p>69962 rows × 22 columns</p>\n</div>"
     },
     "metadata": {},
     "execution_count": 56
    }
   ],
   "source": [
    "# Drop duplicates of data with current values\n",
    "data.drop_duplicates(inplace=True)\n",
    "data.reset_index(drop=True,inplace=True)\n",
    "data"
   ]
  },
  {
   "cell_type": "markdown",
   "metadata": {},
   "source": [
    "## Define commitment unit for each sentence type"
   ]
  },
  {
   "cell_type": "code",
   "execution_count": 57,
   "metadata": {},
   "outputs": [
    {
     "output_type": "execute_result",
     "data": {
      "text/plain": "Incarceration                       38592\nProbation/Supervision               30148\nConditional Discharge                1030\nCook County Boot Camp                 158\nInpatient Mental Health Services       18\nDeath                                  16\nName: sentence_type, dtype: int64"
     },
     "metadata": {},
     "execution_count": 57
    }
   ],
   "source": [
    "data.sentence_type.value_counts()"
   ]
  },
  {
   "cell_type": "markdown",
   "metadata": {},
   "source": [
    "### Analize Incarceration data to define unit"
   ]
  },
  {
   "cell_type": "code",
   "execution_count": 58,
   "metadata": {},
   "outputs": [
    {
     "output_type": "execute_result",
     "data": {
      "text/plain": "Year(s)         31883\nMonths           3828\nDays             2834\nNatural Life       25\nDollars            13\nTerm                7\nWeeks               1\nHours               1\nName: commitment_unit, dtype: int64"
     },
     "metadata": {},
     "execution_count": 58
    }
   ],
   "source": [
    "data.loc[data.sentence_type == 'Incarceration'].commitment_unit.value_counts()\n",
    "# Incarceration will be read by Year columns unless we are analyzing penalties in dollars"
   ]
  },
  {
   "cell_type": "markdown",
   "metadata": {},
   "source": [
    "### Analize Probation/Supervision to define unit"
   ]
  },
  {
   "cell_type": "code",
   "execution_count": 59,
   "metadata": {},
   "outputs": [
    {
     "output_type": "execute_result",
     "data": {
      "text/plain": "Year(s)         18778\nMonths          11095\nDays              242\nTerm               18\nNatural Life        4\nDollars             4\nWeeks               3\nHours               3\nWeight              1\nName: commitment_unit, dtype: int64"
     },
     "metadata": {},
     "execution_count": 59
    }
   ],
   "source": [
    "data.loc[data.sentence_type == 'Probation/Supervision'].commitment_unit.value_counts()"
   ]
  },
  {
   "cell_type": "code",
   "execution_count": 60,
   "metadata": {},
   "outputs": [
    {
     "output_type": "execute_result",
     "data": {
      "text/plain": "[0.0,\n 0.01,\n 0.02,\n 0.03,\n 0.04,\n 0.05,\n 0.06,\n 0.07,\n 0.08,\n 0.09,\n 0.1,\n 0.11,\n 0.12,\n 0.13,\n 0.14,\n 0.15,\n 0.16,\n 0.17,\n 0.18,\n 0.19,\n 0.2,\n 0.21,\n 0.22,\n 0.23,\n 0.25,\n 0.27,\n 0.28,\n 0.3,\n 0.31,\n 0.32,\n 0.33,\n 0.38,\n 0.39,\n 0.4,\n 0.42,\n 0.44,\n 0.45,\n 0.46,\n 0.47,\n 0.49,\n 0.5,\n 0.58,\n 0.61,\n 0.62,\n 0.67,\n 0.75,\n 0.82,\n 0.83,\n 0.84,\n 0.92,\n 0.96,\n 0.98,\n 1.0,\n 1.01,\n 1.08,\n 1.17,\n 1.22,\n 1.25,\n 1.33,\n 1.42,\n 1.5,\n 1.57,\n 1.58,\n 1.67,\n 1.75,\n 1.83,\n 1.92,\n 2.0,\n 2.08,\n 2.25,\n 2.5,\n 3.0,\n 3.5,\n 4.0,\n 4.5,\n 5.0,\n 6.0,\n 8.0,\n 12.0,\n 18.0,\n 21.17,\n 24.0,\n 25.0,\n 30.0,\n 130.0]"
     },
     "metadata": {},
     "execution_count": 60
    }
   ],
   "source": [
    "sorted(data.loc[data.sentence_type == 'Probation/Supervision'].year.unique())"
   ]
  },
  {
   "cell_type": "code",
   "execution_count": 61,
   "metadata": {},
   "outputs": [
    {
     "output_type": "execute_result",
     "data": {
      "text/plain": "2.00    21840\n1.50     2785\n1.00     2309\n2.50     1670\n3.00      495\n        ...  \n0.61        1\n0.19        1\n0.44        1\n0.67        1\n0.84        1\nName: year, Length: 85, dtype: int64"
     },
     "metadata": {},
     "execution_count": 61
    }
   ],
   "source": [
    "data.loc[data.sentence_type == 'Probation/Supervision'].year.value_counts()"
   ]
  },
  {
   "cell_type": "code",
   "execution_count": 62,
   "metadata": {},
   "outputs": [
    {
     "output_type": "execute_result",
     "data": {
      "text/plain": "[0.0,\n 0.03,\n 0.07,\n 0.1,\n 0.23,\n 0.27,\n 0.33,\n 0.4,\n 0.47,\n 0.5,\n 0.57,\n 0.6,\n 0.63,\n 0.67,\n 0.7,\n 0.73,\n 0.77,\n 0.8,\n 0.83,\n 0.93,\n 1.0,\n 1.03,\n 1.07,\n 1.1,\n 1.27,\n 1.3,\n 1.33,\n 1.37,\n 1.4,\n 1.43,\n 1.5,\n 1.53,\n 1.57,\n 1.6,\n 1.67,\n 1.7,\n 1.8,\n 1.97,\n 2.0,\n 2.03,\n 2.07,\n 2.13,\n 2.37,\n 2.4,\n 2.43,\n 2.57,\n 2.67,\n 2.7,\n 2.8,\n 3.0,\n 3.07,\n 3.3,\n 3.47,\n 3.6,\n 3.8,\n 3.83,\n 4.0,\n 4.67,\n 4.73,\n 4.9,\n 5.13,\n 5.33,\n 5.5,\n 5.73,\n 6.0,\n 7.0,\n 7.07,\n 7.4,\n 7.6,\n 8.0,\n 9.0,\n 10.0,\n 10.17,\n 11.0,\n 11.73,\n 11.87,\n 12.0,\n 12.13,\n 12.27,\n 13.0,\n 14.0,\n 14.8,\n 15.0,\n 16.0,\n 17.0,\n 18.0,\n 19.0,\n 19.13,\n 20.0,\n 21.0,\n 22.0,\n 23.0,\n 24.0,\n 25.0,\n 27.0,\n 30.0,\n 36.0,\n 42.0,\n 48.0,\n 54.0,\n 60.0,\n 72.0,\n 96.0,\n 144.0,\n 216.0,\n 254.0,\n 288.0,\n 300.0,\n 360.0,\n 1560.0]"
     },
     "metadata": {},
     "execution_count": 62
    }
   ],
   "source": [
    "sorted(data.loc[data.sentence_type == 'Probation/Supervision'].month.unique())"
   ]
  },
  {
   "cell_type": "code",
   "execution_count": 63,
   "metadata": {},
   "outputs": [
    {
     "output_type": "execute_result",
     "data": {
      "text/plain": "24.00    21841\n18.00     2785\n12.00     2308\n30.00     1669\n36.00      496\n         ...  \n4.90         1\n0.73         1\n1.30         1\n1.57         1\n10.17        1\nName: month, Length: 110, dtype: int64"
     },
     "metadata": {},
     "execution_count": 63
    }
   ],
   "source": [
    "data.loc[data.sentence_type == 'Probation/Supervision'].month.value_counts()\n",
    "# We will analize this info in months"
   ]
  },
  {
   "cell_type": "markdown",
   "metadata": {},
   "source": [
    "### Analize Cook County Boot Camp to define unit"
   ]
  },
  {
   "cell_type": "code",
   "execution_count": 64,
   "metadata": {},
   "outputs": [
    {
     "output_type": "execute_result",
     "data": {
      "text/plain": "Months     136\nDays        11\nYear(s)     10\nTerm         1\nName: commitment_unit, dtype: int64"
     },
     "metadata": {},
     "execution_count": 64
    }
   ],
   "source": [
    "data.loc[data.sentence_type == 'Cook County Boot Camp'].commitment_unit.value_counts()\n",
    "# This sentence will be analize in months"
   ]
  },
  {
   "cell_type": "markdown",
   "metadata": {},
   "source": [
    "### Analize Conditional Discharge to define unit"
   ]
  },
  {
   "cell_type": "code",
   "execution_count": 65,
   "metadata": {},
   "outputs": [
    {
     "output_type": "execute_result",
     "data": {
      "text/plain": "Months     553\nYear(s)    460\nDays        17\nName: commitment_unit, dtype: int64"
     },
     "metadata": {},
     "execution_count": 65
    }
   ],
   "source": [
    "data.loc[data.sentence_type == 'Conditional Discharge'].commitment_unit.value_counts()"
   ]
  },
  {
   "cell_type": "code",
   "execution_count": 66,
   "metadata": {},
   "outputs": [
    {
     "output_type": "execute_result",
     "data": {
      "text/plain": "1.00     395\n1.50     298\n2.00     294\n0.50      17\n0.01       8\n0.25       2\n1.25       2\n12.00      2\n0.00       2\n1.17       1\n2.50       1\n0.49       1\n0.75       1\n0.53       1\n0.33       1\n1.67       1\n1.33       1\n0.03       1\n0.02       1\nName: year, dtype: int64"
     },
     "metadata": {},
     "execution_count": 66
    }
   ],
   "source": [
    "data.loc[data.sentence_type == 'Conditional Discharge'].year.value_counts()"
   ]
  },
  {
   "cell_type": "code",
   "execution_count": 67,
   "metadata": {},
   "outputs": [
    {
     "output_type": "execute_result",
     "data": {
      "text/plain": "12.00     394\n18.00     298\n24.00     294\n6.00       18\n0.07        4\n0.17        3\n3.00        2\n15.00       2\n144.00      2\n20.00       1\n4.00        1\n9.00        1\n0.23        1\n30.00       1\n0.00        1\n16.00       1\n0.13        1\n12.13       1\n6.47        1\n0.33        1\n0.03        1\n14.00       1\nName: month, dtype: int64"
     },
     "metadata": {},
     "execution_count": 67
    }
   ],
   "source": [
    "data.loc[data.sentence_type == 'Conditional Discharge'].month.value_counts()\n",
    "# This information will be view in months"
   ]
  },
  {
   "cell_type": "markdown",
   "metadata": {},
   "source": [
    "### Analize Inpatien Mental Health Services to define unit"
   ]
  },
  {
   "cell_type": "code",
   "execution_count": 68,
   "metadata": {},
   "outputs": [
    {
     "output_type": "execute_result",
     "data": {
      "text/plain": "Year(s)    11\nTerm        5\nMonths      2\nName: commitment_unit, dtype: int64"
     },
     "metadata": {},
     "execution_count": 68
    }
   ],
   "source": [
    "data.loc[data.sentence_type == 'Inpatient Mental Health Services'].commitment_unit.value_counts()\n",
    "# This information will be view in years"
   ]
  },
  {
   "cell_type": "markdown",
   "metadata": {},
   "source": [
    "### Analize Death to confirm unit"
   ]
  },
  {
   "cell_type": "code",
   "execution_count": 69,
   "metadata": {},
   "outputs": [
    {
     "output_type": "execute_result",
     "data": {
      "text/plain": "Year(s)    16\nName: commitment_unit, dtype: int64"
     },
     "metadata": {},
     "execution_count": 69
    }
   ],
   "source": [
    "data.loc[data.sentence_type == 'Death'].commitment_unit.value_counts()"
   ]
  },
  {
   "cell_type": "markdown",
   "metadata": {},
   "source": [
    "## Filter only current sentence"
   ]
  },
  {
   "cell_type": "code",
   "execution_count": 70,
   "metadata": {},
   "outputs": [
    {
     "output_type": "execute_result",
     "data": {
      "text/plain": "            case_id case_participant_id     charge_id charge_version_id  \\\n0      128491120254        266244611418  759810529209      458530536964   \n1      138057500568        274547245089  707305567445      480844954165   \n2      219960145803        874516091021  702607209651      382760114712   \n3      220003462419        874796614290  701366913337      382041644149   \n4      220036934349        874993408134  701540793563      478307838807   \n...             ...                 ...           ...               ...   \n69957  256376492742       1114936528342  922971556855      505146600989   \n69958  256381543493       1114965982098  922961626878      505922206274   \n69959  256409108612       1115174177395  923107618660      505224851968   \n69960  256441638876       1115411588918  923226884015      506085957954   \n69961  256462098701       1115557788810  923354177862      505662769759   \n\n                   court_facility                    court_name  \\\n0                     26TH Street          District 1 - Chicago   \n1                     26TH Street          District 1 - Chicago   \n2                     26TH Street          District 1 - Chicago   \n3              Markham Courthouse          District 6 - Markham   \n4               Skokie Courthouse           District 2 - Skokie   \n...                           ...                           ...   \n69957  Rolling Meadows Courthouse  District 3 - Rolling Meadows   \n69958          Markham Courthouse          District 6 - Markham   \n69959          Maywood Courthouse          District 4 - Maywood   \n69960                 26TH Street          District 1 - Chicago   \n69961           Skokie Courthouse           District 2 - Skokie   \n\n       age_at_incident  gender   race charge_disposition  ... primary_charge  \\\n0                   21    Male  Black     Finding Guilty  ...           True   \n1                   47  Female  Black     Plea Of Guilty  ...           True   \n2                   27    Male  Black     Plea Of Guilty  ...           True   \n3                   33    Male  Black     Verdict Guilty  ...           True   \n4                   40    Male  White     Plea Of Guilty  ...           True   \n...                ...     ...    ...                ...  ...            ...   \n69957               21    Male  White     Plea Of Guilty  ...           True   \n69958               61    Male  Black     Plea Of Guilty  ...           True   \n69959               38    Male  White     Plea Of Guilty  ...           True   \n69960               26    Male  Black     Plea Of Guilty  ...           True   \n69961               19  Female  Black     Plea Of Guilty  ...           True   \n\n                sentence_date         offense_category commitment_term  \\\n0        2/1/2016 12:00:00 AM                 Homicide             9.0   \n1       11/2/2017 12:00:00 AM                Narcotics            30.0   \n2       6/17/2016 12:00:00 AM                Narcotics             4.0   \n3       4/25/2018 12:00:00 AM                 Homicide            52.0   \n4       8/22/2017 12:00:00 AM   Robbery/Burglery/Theft            10.0   \n...                       ...                      ...             ...   \n69957   12/5/2019 12:00:00 AM                Narcotics            24.0   \n69958  12/20/2019 12:00:00 AM                Narcotics             2.0   \n69959  12/27/2019 12:00:00 AM  Firearms and Explosives            18.0   \n69960  12/24/2019 12:00:00 AM                Narcotics             2.0   \n69961  12/11/2019 12:00:00 AM   Robbery/Burglery/Theft            90.0   \n\n      commitment_unit          sentence_type date_year   month   year  \\\n0             Year(s)          Incarceration      2016  108.00   9.00   \n1                Days          Incarceration      2017    1.00   0.08   \n2             Year(s)          Incarceration      2016   48.00   4.00   \n3             Year(s)          Incarceration      2018  624.00  52.00   \n4              Months          Incarceration      2017   10.00   0.83   \n...               ...                    ...       ...     ...    ...   \n69957          Months  Probation/Supervision      2019   24.00   2.00   \n69958            Days          Incarceration      2019    0.07   0.01   \n69959          Months  Probation/Supervision      2019   18.00   1.50   \n69960            Days          Incarceration      2019    0.07   0.01   \n69961            Days          Incarceration      2019    3.00   0.25   \n\n       age_bins  \n0         18-24  \n1           40s  \n2         25-29  \n3         30-34  \n4           40s  \n...         ...  \n69957     18-24  \n69958       60+  \n69959     35-39  \n69960     25-29  \n69961     18-24  \n\n[69962 rows x 22 columns]",
      "text/html": "<div>\n<style scoped>\n    .dataframe tbody tr th:only-of-type {\n        vertical-align: middle;\n    }\n\n    .dataframe tbody tr th {\n        vertical-align: top;\n    }\n\n    .dataframe thead th {\n        text-align: right;\n    }\n</style>\n<table border=\"1\" class=\"dataframe\">\n  <thead>\n    <tr style=\"text-align: right;\">\n      <th></th>\n      <th>case_id</th>\n      <th>case_participant_id</th>\n      <th>charge_id</th>\n      <th>charge_version_id</th>\n      <th>court_facility</th>\n      <th>court_name</th>\n      <th>age_at_incident</th>\n      <th>gender</th>\n      <th>race</th>\n      <th>charge_disposition</th>\n      <th>...</th>\n      <th>primary_charge</th>\n      <th>sentence_date</th>\n      <th>offense_category</th>\n      <th>commitment_term</th>\n      <th>commitment_unit</th>\n      <th>sentence_type</th>\n      <th>date_year</th>\n      <th>month</th>\n      <th>year</th>\n      <th>age_bins</th>\n    </tr>\n  </thead>\n  <tbody>\n    <tr>\n      <td>0</td>\n      <td>128491120254</td>\n      <td>266244611418</td>\n      <td>759810529209</td>\n      <td>458530536964</td>\n      <td>26TH Street</td>\n      <td>District 1 - Chicago</td>\n      <td>21</td>\n      <td>Male</td>\n      <td>Black</td>\n      <td>Finding Guilty</td>\n      <td>...</td>\n      <td>True</td>\n      <td>2/1/2016 12:00:00 AM</td>\n      <td>Homicide</td>\n      <td>9.0</td>\n      <td>Year(s)</td>\n      <td>Incarceration</td>\n      <td>2016</td>\n      <td>108.00</td>\n      <td>9.00</td>\n      <td>18-24</td>\n    </tr>\n    <tr>\n      <td>1</td>\n      <td>138057500568</td>\n      <td>274547245089</td>\n      <td>707305567445</td>\n      <td>480844954165</td>\n      <td>26TH Street</td>\n      <td>District 1 - Chicago</td>\n      <td>47</td>\n      <td>Female</td>\n      <td>Black</td>\n      <td>Plea Of Guilty</td>\n      <td>...</td>\n      <td>True</td>\n      <td>11/2/2017 12:00:00 AM</td>\n      <td>Narcotics</td>\n      <td>30.0</td>\n      <td>Days</td>\n      <td>Incarceration</td>\n      <td>2017</td>\n      <td>1.00</td>\n      <td>0.08</td>\n      <td>40s</td>\n    </tr>\n    <tr>\n      <td>2</td>\n      <td>219960145803</td>\n      <td>874516091021</td>\n      <td>702607209651</td>\n      <td>382760114712</td>\n      <td>26TH Street</td>\n      <td>District 1 - Chicago</td>\n      <td>27</td>\n      <td>Male</td>\n      <td>Black</td>\n      <td>Plea Of Guilty</td>\n      <td>...</td>\n      <td>True</td>\n      <td>6/17/2016 12:00:00 AM</td>\n      <td>Narcotics</td>\n      <td>4.0</td>\n      <td>Year(s)</td>\n      <td>Incarceration</td>\n      <td>2016</td>\n      <td>48.00</td>\n      <td>4.00</td>\n      <td>25-29</td>\n    </tr>\n    <tr>\n      <td>3</td>\n      <td>220003462419</td>\n      <td>874796614290</td>\n      <td>701366913337</td>\n      <td>382041644149</td>\n      <td>Markham Courthouse</td>\n      <td>District 6 - Markham</td>\n      <td>33</td>\n      <td>Male</td>\n      <td>Black</td>\n      <td>Verdict Guilty</td>\n      <td>...</td>\n      <td>True</td>\n      <td>4/25/2018 12:00:00 AM</td>\n      <td>Homicide</td>\n      <td>52.0</td>\n      <td>Year(s)</td>\n      <td>Incarceration</td>\n      <td>2018</td>\n      <td>624.00</td>\n      <td>52.00</td>\n      <td>30-34</td>\n    </tr>\n    <tr>\n      <td>4</td>\n      <td>220036934349</td>\n      <td>874993408134</td>\n      <td>701540793563</td>\n      <td>478307838807</td>\n      <td>Skokie Courthouse</td>\n      <td>District 2 - Skokie</td>\n      <td>40</td>\n      <td>Male</td>\n      <td>White</td>\n      <td>Plea Of Guilty</td>\n      <td>...</td>\n      <td>True</td>\n      <td>8/22/2017 12:00:00 AM</td>\n      <td>Robbery/Burglery/Theft</td>\n      <td>10.0</td>\n      <td>Months</td>\n      <td>Incarceration</td>\n      <td>2017</td>\n      <td>10.00</td>\n      <td>0.83</td>\n      <td>40s</td>\n    </tr>\n    <tr>\n      <td>...</td>\n      <td>...</td>\n      <td>...</td>\n      <td>...</td>\n      <td>...</td>\n      <td>...</td>\n      <td>...</td>\n      <td>...</td>\n      <td>...</td>\n      <td>...</td>\n      <td>...</td>\n      <td>...</td>\n      <td>...</td>\n      <td>...</td>\n      <td>...</td>\n      <td>...</td>\n      <td>...</td>\n      <td>...</td>\n      <td>...</td>\n      <td>...</td>\n      <td>...</td>\n      <td>...</td>\n    </tr>\n    <tr>\n      <td>69957</td>\n      <td>256376492742</td>\n      <td>1114936528342</td>\n      <td>922971556855</td>\n      <td>505146600989</td>\n      <td>Rolling Meadows Courthouse</td>\n      <td>District 3 - Rolling Meadows</td>\n      <td>21</td>\n      <td>Male</td>\n      <td>White</td>\n      <td>Plea Of Guilty</td>\n      <td>...</td>\n      <td>True</td>\n      <td>12/5/2019 12:00:00 AM</td>\n      <td>Narcotics</td>\n      <td>24.0</td>\n      <td>Months</td>\n      <td>Probation/Supervision</td>\n      <td>2019</td>\n      <td>24.00</td>\n      <td>2.00</td>\n      <td>18-24</td>\n    </tr>\n    <tr>\n      <td>69958</td>\n      <td>256381543493</td>\n      <td>1114965982098</td>\n      <td>922961626878</td>\n      <td>505922206274</td>\n      <td>Markham Courthouse</td>\n      <td>District 6 - Markham</td>\n      <td>61</td>\n      <td>Male</td>\n      <td>Black</td>\n      <td>Plea Of Guilty</td>\n      <td>...</td>\n      <td>True</td>\n      <td>12/20/2019 12:00:00 AM</td>\n      <td>Narcotics</td>\n      <td>2.0</td>\n      <td>Days</td>\n      <td>Incarceration</td>\n      <td>2019</td>\n      <td>0.07</td>\n      <td>0.01</td>\n      <td>60+</td>\n    </tr>\n    <tr>\n      <td>69959</td>\n      <td>256409108612</td>\n      <td>1115174177395</td>\n      <td>923107618660</td>\n      <td>505224851968</td>\n      <td>Maywood Courthouse</td>\n      <td>District 4 - Maywood</td>\n      <td>38</td>\n      <td>Male</td>\n      <td>White</td>\n      <td>Plea Of Guilty</td>\n      <td>...</td>\n      <td>True</td>\n      <td>12/27/2019 12:00:00 AM</td>\n      <td>Firearms and Explosives</td>\n      <td>18.0</td>\n      <td>Months</td>\n      <td>Probation/Supervision</td>\n      <td>2019</td>\n      <td>18.00</td>\n      <td>1.50</td>\n      <td>35-39</td>\n    </tr>\n    <tr>\n      <td>69960</td>\n      <td>256441638876</td>\n      <td>1115411588918</td>\n      <td>923226884015</td>\n      <td>506085957954</td>\n      <td>26TH Street</td>\n      <td>District 1 - Chicago</td>\n      <td>26</td>\n      <td>Male</td>\n      <td>Black</td>\n      <td>Plea Of Guilty</td>\n      <td>...</td>\n      <td>True</td>\n      <td>12/24/2019 12:00:00 AM</td>\n      <td>Narcotics</td>\n      <td>2.0</td>\n      <td>Days</td>\n      <td>Incarceration</td>\n      <td>2019</td>\n      <td>0.07</td>\n      <td>0.01</td>\n      <td>25-29</td>\n    </tr>\n    <tr>\n      <td>69961</td>\n      <td>256462098701</td>\n      <td>1115557788810</td>\n      <td>923354177862</td>\n      <td>505662769759</td>\n      <td>Skokie Courthouse</td>\n      <td>District 2 - Skokie</td>\n      <td>19</td>\n      <td>Female</td>\n      <td>Black</td>\n      <td>Plea Of Guilty</td>\n      <td>...</td>\n      <td>True</td>\n      <td>12/11/2019 12:00:00 AM</td>\n      <td>Robbery/Burglery/Theft</td>\n      <td>90.0</td>\n      <td>Days</td>\n      <td>Incarceration</td>\n      <td>2019</td>\n      <td>3.00</td>\n      <td>0.25</td>\n      <td>18-24</td>\n    </tr>\n  </tbody>\n</table>\n<p>69962 rows × 22 columns</p>\n</div>"
     },
     "metadata": {},
     "execution_count": 70
    }
   ],
   "source": [
    "data = data.loc[data.current_sentence == True]\n",
    "data"
   ]
  },
  {
   "cell_type": "markdown",
   "metadata": {},
   "source": [
    "# Analize new dataframe to create the database diagram"
   ]
  },
  {
   "cell_type": "code",
   "execution_count": 71,
   "metadata": {},
   "outputs": [
    {
     "output_type": "execute_result",
     "data": {
      "text/plain": "Index(['case_id', 'case_participant_id', 'charge_id', 'charge_version_id',\n       'court_facility', 'court_name', 'age_at_incident', 'gender', 'race',\n       'charge_disposition', 'length_of_case_in_days', 'current_sentence',\n       'primary_charge', 'sentence_date', 'offense_category',\n       'commitment_term', 'commitment_unit', 'sentence_type', 'date_year',\n       'month', 'year', 'age_bins'],\n      dtype='object')"
     },
     "metadata": {},
     "execution_count": 71
    }
   ],
   "source": [
    "data.columns"
   ]
  },
  {
   "cell_type": "code",
   "execution_count": 72,
   "metadata": {},
   "outputs": [
    {
     "output_type": "execute_result",
     "data": {
      "text/plain": "69962"
     },
     "metadata": {},
     "execution_count": 72
    }
   ],
   "source": [
    "len(data[['case_participant_id','age_at_incident', 'gender', 'race']].drop_duplicates())"
   ]
  },
  {
   "cell_type": "code",
   "execution_count": 73,
   "metadata": {},
   "outputs": [
    {
     "output_type": "execute_result",
     "data": {
      "text/plain": "69962"
     },
     "metadata": {},
     "execution_count": 73
    }
   ],
   "source": [
    "len(data.case_participant_id.drop_duplicates())"
   ]
  },
  {
   "cell_type": "code",
   "execution_count": 74,
   "metadata": {},
   "outputs": [
    {
     "output_type": "execute_result",
     "data": {
      "text/plain": "68884"
     },
     "metadata": {},
     "execution_count": 74
    }
   ],
   "source": [
    "len(data.charge_version_id.drop_duplicates())"
   ]
  },
  {
   "cell_type": "code",
   "execution_count": 75,
   "metadata": {},
   "outputs": [
    {
     "output_type": "execute_result",
     "data": {
      "text/plain": "68884"
     },
     "metadata": {},
     "execution_count": 75
    }
   ],
   "source": [
    "len(data[['charge_version_id','offense_category']].drop_duplicates())"
   ]
  },
  {
   "cell_type": "code",
   "execution_count": 76,
   "metadata": {},
   "outputs": [
    {
     "output_type": "execute_result",
     "data": {
      "text/plain": "69962"
     },
     "metadata": {},
     "execution_count": 76
    }
   ],
   "source": [
    "len(data[['case_participant_id','charge_id']].drop_duplicates())"
   ]
  },
  {
   "cell_type": "code",
   "execution_count": 77,
   "metadata": {},
   "outputs": [
    {
     "output_type": "execute_result",
     "data": {
      "text/plain": "            case_id case_participant_id         offense_category  \\\n0      128491120254        266244611418                 Homicide   \n1      138057500568        274547245089                Narcotics   \n2      219960145803        874516091021                Narcotics   \n3      220003462419        874796614290                 Homicide   \n4      220036934349        874993408134   Robbery/Burglery/Theft   \n...             ...                 ...                      ...   \n69957  256376492742       1114936528342                Narcotics   \n69958  256381543493       1114965982098                Narcotics   \n69959  256409108612       1115174177395  Firearms and Explosives   \n69960  256441638876       1115411588918                Narcotics   \n69961  256462098701       1115557788810   Robbery/Burglery/Theft   \n\n      charge_disposition     charge_id charge_version_id  \n0         Finding Guilty  759810529209      458530536964  \n1         Plea Of Guilty  707305567445      480844954165  \n2         Plea Of Guilty  702607209651      382760114712  \n3         Verdict Guilty  701366913337      382041644149  \n4         Plea Of Guilty  701540793563      478307838807  \n...                  ...           ...               ...  \n69957     Plea Of Guilty  922971556855      505146600989  \n69958     Plea Of Guilty  922961626878      505922206274  \n69959     Plea Of Guilty  923107618660      505224851968  \n69960     Plea Of Guilty  923226884015      506085957954  \n69961     Plea Of Guilty  923354177862      505662769759  \n\n[69962 rows x 6 columns]",
      "text/html": "<div>\n<style scoped>\n    .dataframe tbody tr th:only-of-type {\n        vertical-align: middle;\n    }\n\n    .dataframe tbody tr th {\n        vertical-align: top;\n    }\n\n    .dataframe thead th {\n        text-align: right;\n    }\n</style>\n<table border=\"1\" class=\"dataframe\">\n  <thead>\n    <tr style=\"text-align: right;\">\n      <th></th>\n      <th>case_id</th>\n      <th>case_participant_id</th>\n      <th>offense_category</th>\n      <th>charge_disposition</th>\n      <th>charge_id</th>\n      <th>charge_version_id</th>\n    </tr>\n  </thead>\n  <tbody>\n    <tr>\n      <td>0</td>\n      <td>128491120254</td>\n      <td>266244611418</td>\n      <td>Homicide</td>\n      <td>Finding Guilty</td>\n      <td>759810529209</td>\n      <td>458530536964</td>\n    </tr>\n    <tr>\n      <td>1</td>\n      <td>138057500568</td>\n      <td>274547245089</td>\n      <td>Narcotics</td>\n      <td>Plea Of Guilty</td>\n      <td>707305567445</td>\n      <td>480844954165</td>\n    </tr>\n    <tr>\n      <td>2</td>\n      <td>219960145803</td>\n      <td>874516091021</td>\n      <td>Narcotics</td>\n      <td>Plea Of Guilty</td>\n      <td>702607209651</td>\n      <td>382760114712</td>\n    </tr>\n    <tr>\n      <td>3</td>\n      <td>220003462419</td>\n      <td>874796614290</td>\n      <td>Homicide</td>\n      <td>Verdict Guilty</td>\n      <td>701366913337</td>\n      <td>382041644149</td>\n    </tr>\n    <tr>\n      <td>4</td>\n      <td>220036934349</td>\n      <td>874993408134</td>\n      <td>Robbery/Burglery/Theft</td>\n      <td>Plea Of Guilty</td>\n      <td>701540793563</td>\n      <td>478307838807</td>\n    </tr>\n    <tr>\n      <td>...</td>\n      <td>...</td>\n      <td>...</td>\n      <td>...</td>\n      <td>...</td>\n      <td>...</td>\n      <td>...</td>\n    </tr>\n    <tr>\n      <td>69957</td>\n      <td>256376492742</td>\n      <td>1114936528342</td>\n      <td>Narcotics</td>\n      <td>Plea Of Guilty</td>\n      <td>922971556855</td>\n      <td>505146600989</td>\n    </tr>\n    <tr>\n      <td>69958</td>\n      <td>256381543493</td>\n      <td>1114965982098</td>\n      <td>Narcotics</td>\n      <td>Plea Of Guilty</td>\n      <td>922961626878</td>\n      <td>505922206274</td>\n    </tr>\n    <tr>\n      <td>69959</td>\n      <td>256409108612</td>\n      <td>1115174177395</td>\n      <td>Firearms and Explosives</td>\n      <td>Plea Of Guilty</td>\n      <td>923107618660</td>\n      <td>505224851968</td>\n    </tr>\n    <tr>\n      <td>69960</td>\n      <td>256441638876</td>\n      <td>1115411588918</td>\n      <td>Narcotics</td>\n      <td>Plea Of Guilty</td>\n      <td>923226884015</td>\n      <td>506085957954</td>\n    </tr>\n    <tr>\n      <td>69961</td>\n      <td>256462098701</td>\n      <td>1115557788810</td>\n      <td>Robbery/Burglery/Theft</td>\n      <td>Plea Of Guilty</td>\n      <td>923354177862</td>\n      <td>505662769759</td>\n    </tr>\n  </tbody>\n</table>\n<p>69962 rows × 6 columns</p>\n</div>"
     },
     "metadata": {},
     "execution_count": 77
    }
   ],
   "source": [
    "data[['case_id','case_participant_id','offense_category','charge_disposition','charge_id','charge_version_id']].drop_duplicates()"
   ]
  },
  {
   "cell_type": "code",
   "execution_count": 76,
   "metadata": {},
   "outputs": [
    {
     "output_type": "execute_result",
     "data": {
      "text/plain": "             case_id case_participant_id             offense_category  \\\n0       114024398027        230101052744                     Homicide   \n1       123803937179        255504441936      Firearms and Explosives   \n2       127790349873        265428457350                 Sex Offenses   \n3       128491120254        266244611418                     Homicide   \n4       129030951431        266511120401  Judicial Process Violations   \n...              ...                 ...                          ...   \n205284  256376492742       1114936528342                    Narcotics   \n205285  256381543493       1114965982098                    Narcotics   \n205286  256409108612       1115174177395      Firearms and Explosives   \n205287  256441638876       1115411588918                    Narcotics   \n205288  256462098701       1115557788810       Robbery/Burglery/Theft   \n\n       charge_disposition  \n0          Plea Of Guilty  \n1          Plea Of Guilty  \n2          Plea Of Guilty  \n3          Finding Guilty  \n4          Plea Of Guilty  \n...                   ...  \n205284     Plea Of Guilty  \n205285     Plea Of Guilty  \n205286     Plea Of Guilty  \n205287     Plea Of Guilty  \n205288     Plea Of Guilty  \n\n[176502 rows x 4 columns]",
      "text/html": "<div>\n<style scoped>\n    .dataframe tbody tr th:only-of-type {\n        vertical-align: middle;\n    }\n\n    .dataframe tbody tr th {\n        vertical-align: top;\n    }\n\n    .dataframe thead th {\n        text-align: right;\n    }\n</style>\n<table border=\"1\" class=\"dataframe\">\n  <thead>\n    <tr style=\"text-align: right;\">\n      <th></th>\n      <th>case_id</th>\n      <th>case_participant_id</th>\n      <th>offense_category</th>\n      <th>charge_disposition</th>\n    </tr>\n  </thead>\n  <tbody>\n    <tr>\n      <td>0</td>\n      <td>114024398027</td>\n      <td>230101052744</td>\n      <td>Homicide</td>\n      <td>Plea Of Guilty</td>\n    </tr>\n    <tr>\n      <td>1</td>\n      <td>123803937179</td>\n      <td>255504441936</td>\n      <td>Firearms and Explosives</td>\n      <td>Plea Of Guilty</td>\n    </tr>\n    <tr>\n      <td>2</td>\n      <td>127790349873</td>\n      <td>265428457350</td>\n      <td>Sex Offenses</td>\n      <td>Plea Of Guilty</td>\n    </tr>\n    <tr>\n      <td>3</td>\n      <td>128491120254</td>\n      <td>266244611418</td>\n      <td>Homicide</td>\n      <td>Finding Guilty</td>\n    </tr>\n    <tr>\n      <td>4</td>\n      <td>129030951431</td>\n      <td>266511120401</td>\n      <td>Judicial Process Violations</td>\n      <td>Plea Of Guilty</td>\n    </tr>\n    <tr>\n      <td>...</td>\n      <td>...</td>\n      <td>...</td>\n      <td>...</td>\n      <td>...</td>\n    </tr>\n    <tr>\n      <td>205284</td>\n      <td>256376492742</td>\n      <td>1114936528342</td>\n      <td>Narcotics</td>\n      <td>Plea Of Guilty</td>\n    </tr>\n    <tr>\n      <td>205285</td>\n      <td>256381543493</td>\n      <td>1114965982098</td>\n      <td>Narcotics</td>\n      <td>Plea Of Guilty</td>\n    </tr>\n    <tr>\n      <td>205286</td>\n      <td>256409108612</td>\n      <td>1115174177395</td>\n      <td>Firearms and Explosives</td>\n      <td>Plea Of Guilty</td>\n    </tr>\n    <tr>\n      <td>205287</td>\n      <td>256441638876</td>\n      <td>1115411588918</td>\n      <td>Narcotics</td>\n      <td>Plea Of Guilty</td>\n    </tr>\n    <tr>\n      <td>205288</td>\n      <td>256462098701</td>\n      <td>1115557788810</td>\n      <td>Robbery/Burglery/Theft</td>\n      <td>Plea Of Guilty</td>\n    </tr>\n  </tbody>\n</table>\n<p>176502 rows × 4 columns</p>\n</div>"
     },
     "metadata": {},
     "execution_count": 76
    }
   ],
   "source": [
    "data[['case_id','case_participant_id','offense_category','charge_disposition']].drop_duplicates()"
   ]
  },
  {
   "cell_type": "markdown",
   "metadata": {},
   "source": [
    "![DBD-from-quickDBD.png](DBD-from-quickDBD.png)"
   ]
  },
  {
   "cell_type": "markdown",
   "metadata": {},
   "source": [
    "# Create tables for SQL"
   ]
  },
  {
   "cell_type": "code",
   "execution_count": 78,
   "metadata": {},
   "outputs": [
    {
     "output_type": "execute_result",
     "data": {
      "text/plain": "      case_participant_id  age_at_incident  gender   race age_bins\n0            266244611418               21    Male  Black    18-24\n1            274547245089               47  Female  Black      40s\n2            874516091021               27    Male  Black    25-29\n3            874796614290               33    Male  Black    30-34\n4            874993408134               40    Male  White      40s\n...                   ...              ...     ...    ...      ...\n69957       1114936528342               21    Male  White    18-24\n69958       1114965982098               61    Male  Black      60+\n69959       1115174177395               38    Male  White    35-39\n69960       1115411588918               26    Male  Black    25-29\n69961       1115557788810               19  Female  Black    18-24\n\n[69962 rows x 5 columns]",
      "text/html": "<div>\n<style scoped>\n    .dataframe tbody tr th:only-of-type {\n        vertical-align: middle;\n    }\n\n    .dataframe tbody tr th {\n        vertical-align: top;\n    }\n\n    .dataframe thead th {\n        text-align: right;\n    }\n</style>\n<table border=\"1\" class=\"dataframe\">\n  <thead>\n    <tr style=\"text-align: right;\">\n      <th></th>\n      <th>case_participant_id</th>\n      <th>age_at_incident</th>\n      <th>gender</th>\n      <th>race</th>\n      <th>age_bins</th>\n    </tr>\n  </thead>\n  <tbody>\n    <tr>\n      <td>0</td>\n      <td>266244611418</td>\n      <td>21</td>\n      <td>Male</td>\n      <td>Black</td>\n      <td>18-24</td>\n    </tr>\n    <tr>\n      <td>1</td>\n      <td>274547245089</td>\n      <td>47</td>\n      <td>Female</td>\n      <td>Black</td>\n      <td>40s</td>\n    </tr>\n    <tr>\n      <td>2</td>\n      <td>874516091021</td>\n      <td>27</td>\n      <td>Male</td>\n      <td>Black</td>\n      <td>25-29</td>\n    </tr>\n    <tr>\n      <td>3</td>\n      <td>874796614290</td>\n      <td>33</td>\n      <td>Male</td>\n      <td>Black</td>\n      <td>30-34</td>\n    </tr>\n    <tr>\n      <td>4</td>\n      <td>874993408134</td>\n      <td>40</td>\n      <td>Male</td>\n      <td>White</td>\n      <td>40s</td>\n    </tr>\n    <tr>\n      <td>...</td>\n      <td>...</td>\n      <td>...</td>\n      <td>...</td>\n      <td>...</td>\n      <td>...</td>\n    </tr>\n    <tr>\n      <td>69957</td>\n      <td>1114936528342</td>\n      <td>21</td>\n      <td>Male</td>\n      <td>White</td>\n      <td>18-24</td>\n    </tr>\n    <tr>\n      <td>69958</td>\n      <td>1114965982098</td>\n      <td>61</td>\n      <td>Male</td>\n      <td>Black</td>\n      <td>60+</td>\n    </tr>\n    <tr>\n      <td>69959</td>\n      <td>1115174177395</td>\n      <td>38</td>\n      <td>Male</td>\n      <td>White</td>\n      <td>35-39</td>\n    </tr>\n    <tr>\n      <td>69960</td>\n      <td>1115411588918</td>\n      <td>26</td>\n      <td>Male</td>\n      <td>Black</td>\n      <td>25-29</td>\n    </tr>\n    <tr>\n      <td>69961</td>\n      <td>1115557788810</td>\n      <td>19</td>\n      <td>Female</td>\n      <td>Black</td>\n      <td>18-24</td>\n    </tr>\n  </tbody>\n</table>\n<p>69962 rows × 5 columns</p>\n</div>"
     },
     "metadata": {},
     "execution_count": 78
    }
   ],
   "source": [
    "participants = data[['case_participant_id','age_at_incident','gender','race','age_bins']].drop_duplicates()\n",
    "participants"
   ]
  },
  {
   "cell_type": "code",
   "execution_count": 79,
   "metadata": {},
   "outputs": [
    {
     "output_type": "execute_result",
     "data": {
      "text/plain": "                    court_facility                    court_name\n0                      26TH Street          District 1 - Chicago\n1               Markham Courthouse          District 6 - Markham\n2                Skokie Courthouse           District 2 - Skokie\n3            Bridgeview Courthouse       District 5 - Bridgeview\n4       Rolling Meadows Courthouse  District 3 - Rolling Meadows\n5               Maywood Courthouse          District 4 - Maywood\n6       Harrison & Kedzie (Area 4)          District 1 - Chicago\n7                    DV Courthouse          District 1 - Chicago\n8     727 E. 111th Street (Area 2)          District 1 - Chicago\n9        51st & Wentworth (Area 1)          District 1 - Chicago\n10      Belmont & Western (Area 3)          District 1 - Chicago\n11        Grand & Central (Area 5)          District 1 - Chicago\n12  DNU_3605 W. Fillmore St (RJCC)          District 1 - Chicago",
      "text/html": "<div>\n<style scoped>\n    .dataframe tbody tr th:only-of-type {\n        vertical-align: middle;\n    }\n\n    .dataframe tbody tr th {\n        vertical-align: top;\n    }\n\n    .dataframe thead th {\n        text-align: right;\n    }\n</style>\n<table border=\"1\" class=\"dataframe\">\n  <thead>\n    <tr style=\"text-align: right;\">\n      <th></th>\n      <th>court_facility</th>\n      <th>court_name</th>\n    </tr>\n  </thead>\n  <tbody>\n    <tr>\n      <td>0</td>\n      <td>26TH Street</td>\n      <td>District 1 - Chicago</td>\n    </tr>\n    <tr>\n      <td>1</td>\n      <td>Markham Courthouse</td>\n      <td>District 6 - Markham</td>\n    </tr>\n    <tr>\n      <td>2</td>\n      <td>Skokie Courthouse</td>\n      <td>District 2 - Skokie</td>\n    </tr>\n    <tr>\n      <td>3</td>\n      <td>Bridgeview Courthouse</td>\n      <td>District 5 - Bridgeview</td>\n    </tr>\n    <tr>\n      <td>4</td>\n      <td>Rolling Meadows Courthouse</td>\n      <td>District 3 - Rolling Meadows</td>\n    </tr>\n    <tr>\n      <td>5</td>\n      <td>Maywood Courthouse</td>\n      <td>District 4 - Maywood</td>\n    </tr>\n    <tr>\n      <td>6</td>\n      <td>Harrison &amp; Kedzie (Area 4)</td>\n      <td>District 1 - Chicago</td>\n    </tr>\n    <tr>\n      <td>7</td>\n      <td>DV Courthouse</td>\n      <td>District 1 - Chicago</td>\n    </tr>\n    <tr>\n      <td>8</td>\n      <td>727 E. 111th Street (Area 2)</td>\n      <td>District 1 - Chicago</td>\n    </tr>\n    <tr>\n      <td>9</td>\n      <td>51st &amp; Wentworth (Area 1)</td>\n      <td>District 1 - Chicago</td>\n    </tr>\n    <tr>\n      <td>10</td>\n      <td>Belmont &amp; Western (Area 3)</td>\n      <td>District 1 - Chicago</td>\n    </tr>\n    <tr>\n      <td>11</td>\n      <td>Grand &amp; Central (Area 5)</td>\n      <td>District 1 - Chicago</td>\n    </tr>\n    <tr>\n      <td>12</td>\n      <td>DNU_3605 W. Fillmore St (RJCC)</td>\n      <td>District 1 - Chicago</td>\n    </tr>\n  </tbody>\n</table>\n</div>"
     },
     "metadata": {},
     "execution_count": 79
    }
   ],
   "source": [
    "courts = data[['court_facility', 'court_name']].drop_duplicates().reset_index(drop=True)\n",
    "courts"
   ]
  },
  {
   "cell_type": "code",
   "execution_count": 80,
   "metadata": {},
   "outputs": [
    {
     "output_type": "execute_result",
     "data": {
      "text/plain": "   court_id                  court_facility                    court_name\n0      1-26                     26TH Street          District 1 - Chicago\n1         6              Markham Courthouse          District 6 - Markham\n2         2               Skokie Courthouse           District 2 - Skokie\n3         5           Bridgeview Courthouse       District 5 - Bridgeview\n4         4      Rolling Meadows Courthouse  District 3 - Rolling Meadows\n5         3              Maywood Courthouse          District 4 - Maywood\n6       1-4      Harrison & Kedzie (Area 4)          District 1 - Chicago\n7      1-DV                   DV Courthouse          District 1 - Chicago\n8       1-1    727 E. 111th Street (Area 2)          District 1 - Chicago\n9       1-3       51st & Wentworth (Area 1)          District 1 - Chicago\n10      1-2      Belmont & Western (Area 3)          District 1 - Chicago\n11      1-5        Grand & Central (Area 5)          District 1 - Chicago\n12   1-RJCC  DNU_3605 W. Fillmore St (RJCC)          District 1 - Chicago",
      "text/html": "<div>\n<style scoped>\n    .dataframe tbody tr th:only-of-type {\n        vertical-align: middle;\n    }\n\n    .dataframe tbody tr th {\n        vertical-align: top;\n    }\n\n    .dataframe thead th {\n        text-align: right;\n    }\n</style>\n<table border=\"1\" class=\"dataframe\">\n  <thead>\n    <tr style=\"text-align: right;\">\n      <th></th>\n      <th>court_id</th>\n      <th>court_facility</th>\n      <th>court_name</th>\n    </tr>\n  </thead>\n  <tbody>\n    <tr>\n      <td>0</td>\n      <td>1-26</td>\n      <td>26TH Street</td>\n      <td>District 1 - Chicago</td>\n    </tr>\n    <tr>\n      <td>1</td>\n      <td>6</td>\n      <td>Markham Courthouse</td>\n      <td>District 6 - Markham</td>\n    </tr>\n    <tr>\n      <td>2</td>\n      <td>2</td>\n      <td>Skokie Courthouse</td>\n      <td>District 2 - Skokie</td>\n    </tr>\n    <tr>\n      <td>3</td>\n      <td>5</td>\n      <td>Bridgeview Courthouse</td>\n      <td>District 5 - Bridgeview</td>\n    </tr>\n    <tr>\n      <td>4</td>\n      <td>4</td>\n      <td>Rolling Meadows Courthouse</td>\n      <td>District 3 - Rolling Meadows</td>\n    </tr>\n    <tr>\n      <td>5</td>\n      <td>3</td>\n      <td>Maywood Courthouse</td>\n      <td>District 4 - Maywood</td>\n    </tr>\n    <tr>\n      <td>6</td>\n      <td>1-4</td>\n      <td>Harrison &amp; Kedzie (Area 4)</td>\n      <td>District 1 - Chicago</td>\n    </tr>\n    <tr>\n      <td>7</td>\n      <td>1-DV</td>\n      <td>DV Courthouse</td>\n      <td>District 1 - Chicago</td>\n    </tr>\n    <tr>\n      <td>8</td>\n      <td>1-1</td>\n      <td>727 E. 111th Street (Area 2)</td>\n      <td>District 1 - Chicago</td>\n    </tr>\n    <tr>\n      <td>9</td>\n      <td>1-3</td>\n      <td>51st &amp; Wentworth (Area 1)</td>\n      <td>District 1 - Chicago</td>\n    </tr>\n    <tr>\n      <td>10</td>\n      <td>1-2</td>\n      <td>Belmont &amp; Western (Area 3)</td>\n      <td>District 1 - Chicago</td>\n    </tr>\n    <tr>\n      <td>11</td>\n      <td>1-5</td>\n      <td>Grand &amp; Central (Area 5)</td>\n      <td>District 1 - Chicago</td>\n    </tr>\n    <tr>\n      <td>12</td>\n      <td>1-RJCC</td>\n      <td>DNU_3605 W. Fillmore St (RJCC)</td>\n      <td>District 1 - Chicago</td>\n    </tr>\n  </tbody>\n</table>\n</div>"
     },
     "metadata": {},
     "execution_count": 80
    }
   ],
   "source": [
    "courts['court_id']=['1-26','6','2','5','4','3','1-4','1-DV','1-1','1-3','1-2','1-5','1-RJCC']\n",
    "courts = courts[['court_id', 'court_facility', 'court_name']]\n",
    "courts"
   ]
  },
  {
   "cell_type": "code",
   "execution_count": 81,
   "metadata": {},
   "outputs": [
    {
     "output_type": "execute_result",
     "data": {
      "text/plain": "    offense_id                        offense_category\n0            1                                Homicide\n1            2                               Narcotics\n2            3                  Robbery/Burglery/Theft\n3            4                  Motor Vehicle Offenses\n4            5                            Sex Offenses\n5            6                 Firearms and Explosives\n6            7                           Other Offense\n7            8                         Fraud/Deception\n8            9                                 Battery\n9           10          Aggravated Fleeing and Eluding\n10          11               Inside Penal Institutions\n11          12                             Trespassing\n12          13  Human Trafficking/Detention/Kidnapping\n13          14                              Corruption\n14          15                                   Arson\n15          16             Judicial Process Violations\n16          17         Offense Against Police Officers\n17          18             Criminal Damage to Property\n18          19                                Stalking\n19          20                             Hate Crimes",
      "text/html": "<div>\n<style scoped>\n    .dataframe tbody tr th:only-of-type {\n        vertical-align: middle;\n    }\n\n    .dataframe tbody tr th {\n        vertical-align: top;\n    }\n\n    .dataframe thead th {\n        text-align: right;\n    }\n</style>\n<table border=\"1\" class=\"dataframe\">\n  <thead>\n    <tr style=\"text-align: right;\">\n      <th></th>\n      <th>offense_id</th>\n      <th>offense_category</th>\n    </tr>\n  </thead>\n  <tbody>\n    <tr>\n      <td>0</td>\n      <td>1</td>\n      <td>Homicide</td>\n    </tr>\n    <tr>\n      <td>1</td>\n      <td>2</td>\n      <td>Narcotics</td>\n    </tr>\n    <tr>\n      <td>2</td>\n      <td>3</td>\n      <td>Robbery/Burglery/Theft</td>\n    </tr>\n    <tr>\n      <td>3</td>\n      <td>4</td>\n      <td>Motor Vehicle Offenses</td>\n    </tr>\n    <tr>\n      <td>4</td>\n      <td>5</td>\n      <td>Sex Offenses</td>\n    </tr>\n    <tr>\n      <td>5</td>\n      <td>6</td>\n      <td>Firearms and Explosives</td>\n    </tr>\n    <tr>\n      <td>6</td>\n      <td>7</td>\n      <td>Other Offense</td>\n    </tr>\n    <tr>\n      <td>7</td>\n      <td>8</td>\n      <td>Fraud/Deception</td>\n    </tr>\n    <tr>\n      <td>8</td>\n      <td>9</td>\n      <td>Battery</td>\n    </tr>\n    <tr>\n      <td>9</td>\n      <td>10</td>\n      <td>Aggravated Fleeing and Eluding</td>\n    </tr>\n    <tr>\n      <td>10</td>\n      <td>11</td>\n      <td>Inside Penal Institutions</td>\n    </tr>\n    <tr>\n      <td>11</td>\n      <td>12</td>\n      <td>Trespassing</td>\n    </tr>\n    <tr>\n      <td>12</td>\n      <td>13</td>\n      <td>Human Trafficking/Detention/Kidnapping</td>\n    </tr>\n    <tr>\n      <td>13</td>\n      <td>14</td>\n      <td>Corruption</td>\n    </tr>\n    <tr>\n      <td>14</td>\n      <td>15</td>\n      <td>Arson</td>\n    </tr>\n    <tr>\n      <td>15</td>\n      <td>16</td>\n      <td>Judicial Process Violations</td>\n    </tr>\n    <tr>\n      <td>16</td>\n      <td>17</td>\n      <td>Offense Against Police Officers</td>\n    </tr>\n    <tr>\n      <td>17</td>\n      <td>18</td>\n      <td>Criminal Damage to Property</td>\n    </tr>\n    <tr>\n      <td>18</td>\n      <td>19</td>\n      <td>Stalking</td>\n    </tr>\n    <tr>\n      <td>19</td>\n      <td>20</td>\n      <td>Hate Crimes</td>\n    </tr>\n  </tbody>\n</table>\n</div>"
     },
     "metadata": {},
     "execution_count": 81
    }
   ],
   "source": [
    "offenses = data[['offense_category']].drop_duplicates()\n",
    "offenses = offenses.reset_index(drop=True)\n",
    "offenses['offense_id'] = offenses.index + 1\n",
    "offenses = offenses[['offense_id','offense_category']]\n",
    "offenses"
   ]
  },
  {
   "cell_type": "code",
   "execution_count": 82,
   "metadata": {},
   "outputs": [
    {
     "output_type": "execute_result",
     "data": {
      "text/plain": "     sentence_id          sentence_type  commitment_term commitment_unit  \\\n0              1          Incarceration              9.0         Year(s)   \n1              2          Incarceration             30.0            Days   \n2              3          Incarceration              4.0         Year(s)   \n3              4          Incarceration             52.0         Year(s)   \n4              5          Incarceration             10.0          Months   \n..           ...                    ...              ...             ...   \n663          664          Incarceration            141.0            Days   \n664          665          Incarceration             43.0          Months   \n665          666          Incarceration            164.0            Days   \n666          667  Probation/Supervision              6.0         Year(s)   \n667          668  Probation/Supervision             61.0            Days   \n\n      month   year  \n0    108.00   9.00  \n1      1.00   0.08  \n2     48.00   4.00  \n3    624.00  52.00  \n4     10.00   0.83  \n..      ...    ...  \n663    4.70   0.39  \n664   43.00   3.58  \n665    5.47   0.45  \n666   72.00   6.00  \n667    2.03   0.17  \n\n[668 rows x 6 columns]",
      "text/html": "<div>\n<style scoped>\n    .dataframe tbody tr th:only-of-type {\n        vertical-align: middle;\n    }\n\n    .dataframe tbody tr th {\n        vertical-align: top;\n    }\n\n    .dataframe thead th {\n        text-align: right;\n    }\n</style>\n<table border=\"1\" class=\"dataframe\">\n  <thead>\n    <tr style=\"text-align: right;\">\n      <th></th>\n      <th>sentence_id</th>\n      <th>sentence_type</th>\n      <th>commitment_term</th>\n      <th>commitment_unit</th>\n      <th>month</th>\n      <th>year</th>\n    </tr>\n  </thead>\n  <tbody>\n    <tr>\n      <td>0</td>\n      <td>1</td>\n      <td>Incarceration</td>\n      <td>9.0</td>\n      <td>Year(s)</td>\n      <td>108.00</td>\n      <td>9.00</td>\n    </tr>\n    <tr>\n      <td>1</td>\n      <td>2</td>\n      <td>Incarceration</td>\n      <td>30.0</td>\n      <td>Days</td>\n      <td>1.00</td>\n      <td>0.08</td>\n    </tr>\n    <tr>\n      <td>2</td>\n      <td>3</td>\n      <td>Incarceration</td>\n      <td>4.0</td>\n      <td>Year(s)</td>\n      <td>48.00</td>\n      <td>4.00</td>\n    </tr>\n    <tr>\n      <td>3</td>\n      <td>4</td>\n      <td>Incarceration</td>\n      <td>52.0</td>\n      <td>Year(s)</td>\n      <td>624.00</td>\n      <td>52.00</td>\n    </tr>\n    <tr>\n      <td>4</td>\n      <td>5</td>\n      <td>Incarceration</td>\n      <td>10.0</td>\n      <td>Months</td>\n      <td>10.00</td>\n      <td>0.83</td>\n    </tr>\n    <tr>\n      <td>...</td>\n      <td>...</td>\n      <td>...</td>\n      <td>...</td>\n      <td>...</td>\n      <td>...</td>\n      <td>...</td>\n    </tr>\n    <tr>\n      <td>663</td>\n      <td>664</td>\n      <td>Incarceration</td>\n      <td>141.0</td>\n      <td>Days</td>\n      <td>4.70</td>\n      <td>0.39</td>\n    </tr>\n    <tr>\n      <td>664</td>\n      <td>665</td>\n      <td>Incarceration</td>\n      <td>43.0</td>\n      <td>Months</td>\n      <td>43.00</td>\n      <td>3.58</td>\n    </tr>\n    <tr>\n      <td>665</td>\n      <td>666</td>\n      <td>Incarceration</td>\n      <td>164.0</td>\n      <td>Days</td>\n      <td>5.47</td>\n      <td>0.45</td>\n    </tr>\n    <tr>\n      <td>666</td>\n      <td>667</td>\n      <td>Probation/Supervision</td>\n      <td>6.0</td>\n      <td>Year(s)</td>\n      <td>72.00</td>\n      <td>6.00</td>\n    </tr>\n    <tr>\n      <td>667</td>\n      <td>668</td>\n      <td>Probation/Supervision</td>\n      <td>61.0</td>\n      <td>Days</td>\n      <td>2.03</td>\n      <td>0.17</td>\n    </tr>\n  </tbody>\n</table>\n<p>668 rows × 6 columns</p>\n</div>"
     },
     "metadata": {},
     "execution_count": 82
    }
   ],
   "source": [
    "sentences = data[['sentence_type','commitment_term','commitment_unit','month', 'year']].drop_duplicates()\n",
    "sentences = sentences.reset_index(drop=True)\n",
    "sentences['sentence_id'] = sentences.index + 1\n",
    "sentences = sentences[['sentence_id','sentence_type','commitment_term','commitment_unit','month', 'year']]\n",
    "sentences"
   ]
  },
  {
   "cell_type": "code",
   "execution_count": 83,
   "metadata": {},
   "outputs": [
    {
     "output_type": "execute_result",
     "data": {
      "text/plain": "Index(['case_id', 'case_participant_id', 'charge_id', 'charge_version_id',\n       'court_facility', 'court_name', 'age_at_incident', 'gender', 'race',\n       'charge_disposition', 'length_of_case_in_days', 'current_sentence',\n       'primary_charge', 'sentence_date', 'offense_category',\n       'commitment_term', 'commitment_unit', 'sentence_type', 'date_year',\n       'month', 'year', 'age_bins', 'sentence_id', 'offense_id', 'court_id'],\n      dtype='object')"
     },
     "metadata": {},
     "execution_count": 83
    }
   ],
   "source": [
    "results = data.merge(sentences,on=['sentence_type','commitment_term','commitment_unit','month','year'])\n",
    "results = results.merge(offenses,on='offense_category')\n",
    "results = results.merge(courts,on=['court_facility','court_name'])\n",
    "results.columns"
   ]
  },
  {
   "cell_type": "code",
   "execution_count": 84,
   "metadata": {},
   "outputs": [
    {
     "output_type": "execute_result",
     "data": {
      "text/plain": "            case_id  sentence_id  offense_id court_id case_participant_id  \\\n0      128491120254            1           1     1-26        266244611418   \n1      227103107024            1           1     1-26        919559790804   \n2      243841383374            1           1     1-26       1029535601348   \n3      245627551709            1           1     1-26       1042011642171   \n4      229071273628            3           1     1-26        931384404814   \n...             ...          ...         ...      ...                 ...   \n69957  242764374803            8          18     1-DV       1022008504066   \n69958  242915811745            8          18     1-DV       1023049005491   \n69959  254887462690           84          18     1-DV       1104738878037   \n69960  240404988967          216          18     1-DV       1006118321655   \n69961  248979538640           17           9   1-RJCC       1065232840612   \n\n          charge_id charge_version_id charge_disposition  \\\n0      759810529209      458530536964     Finding Guilty   \n1      741611206410      404355083213     Plea Of Guilty   \n2      841928054046      459871620641     Plea Of Guilty   \n3      854444895001      501233016402     Plea Of Guilty   \n4      752324488983      450658143326     Finding Guilty   \n...             ...               ...                ...   \n69957  834677375389      455853030145     Plea Of Guilty   \n69958  835743052011      456433353209     Plea Of Guilty   \n69959  915002011286      500691416065     Plea Of Guilty   \n69960  820398597442      447911994288     Finding Guilty   \n69961  877191618824      479533789979     Plea Of Guilty   \n\n      length_of_case_in_days  primary_charge  \n0                       1201            True  \n1                       1091            True  \n2                        467            True  \n3                        774            True  \n4                       1052            True  \n...                      ...             ...  \n69957                     76            True  \n69958                    474            True  \n69959                     89            True  \n69960                     92            True  \n69961                    142            True  \n\n[69962 rows x 10 columns]",
      "text/html": "<div>\n<style scoped>\n    .dataframe tbody tr th:only-of-type {\n        vertical-align: middle;\n    }\n\n    .dataframe tbody tr th {\n        vertical-align: top;\n    }\n\n    .dataframe thead th {\n        text-align: right;\n    }\n</style>\n<table border=\"1\" class=\"dataframe\">\n  <thead>\n    <tr style=\"text-align: right;\">\n      <th></th>\n      <th>case_id</th>\n      <th>sentence_id</th>\n      <th>offense_id</th>\n      <th>court_id</th>\n      <th>case_participant_id</th>\n      <th>charge_id</th>\n      <th>charge_version_id</th>\n      <th>charge_disposition</th>\n      <th>length_of_case_in_days</th>\n      <th>primary_charge</th>\n    </tr>\n  </thead>\n  <tbody>\n    <tr>\n      <td>0</td>\n      <td>128491120254</td>\n      <td>1</td>\n      <td>1</td>\n      <td>1-26</td>\n      <td>266244611418</td>\n      <td>759810529209</td>\n      <td>458530536964</td>\n      <td>Finding Guilty</td>\n      <td>1201</td>\n      <td>True</td>\n    </tr>\n    <tr>\n      <td>1</td>\n      <td>227103107024</td>\n      <td>1</td>\n      <td>1</td>\n      <td>1-26</td>\n      <td>919559790804</td>\n      <td>741611206410</td>\n      <td>404355083213</td>\n      <td>Plea Of Guilty</td>\n      <td>1091</td>\n      <td>True</td>\n    </tr>\n    <tr>\n      <td>2</td>\n      <td>243841383374</td>\n      <td>1</td>\n      <td>1</td>\n      <td>1-26</td>\n      <td>1029535601348</td>\n      <td>841928054046</td>\n      <td>459871620641</td>\n      <td>Plea Of Guilty</td>\n      <td>467</td>\n      <td>True</td>\n    </tr>\n    <tr>\n      <td>3</td>\n      <td>245627551709</td>\n      <td>1</td>\n      <td>1</td>\n      <td>1-26</td>\n      <td>1042011642171</td>\n      <td>854444895001</td>\n      <td>501233016402</td>\n      <td>Plea Of Guilty</td>\n      <td>774</td>\n      <td>True</td>\n    </tr>\n    <tr>\n      <td>4</td>\n      <td>229071273628</td>\n      <td>3</td>\n      <td>1</td>\n      <td>1-26</td>\n      <td>931384404814</td>\n      <td>752324488983</td>\n      <td>450658143326</td>\n      <td>Finding Guilty</td>\n      <td>1052</td>\n      <td>True</td>\n    </tr>\n    <tr>\n      <td>...</td>\n      <td>...</td>\n      <td>...</td>\n      <td>...</td>\n      <td>...</td>\n      <td>...</td>\n      <td>...</td>\n      <td>...</td>\n      <td>...</td>\n      <td>...</td>\n      <td>...</td>\n    </tr>\n    <tr>\n      <td>69957</td>\n      <td>242764374803</td>\n      <td>8</td>\n      <td>18</td>\n      <td>1-DV</td>\n      <td>1022008504066</td>\n      <td>834677375389</td>\n      <td>455853030145</td>\n      <td>Plea Of Guilty</td>\n      <td>76</td>\n      <td>True</td>\n    </tr>\n    <tr>\n      <td>69958</td>\n      <td>242915811745</td>\n      <td>8</td>\n      <td>18</td>\n      <td>1-DV</td>\n      <td>1023049005491</td>\n      <td>835743052011</td>\n      <td>456433353209</td>\n      <td>Plea Of Guilty</td>\n      <td>474</td>\n      <td>True</td>\n    </tr>\n    <tr>\n      <td>69959</td>\n      <td>254887462690</td>\n      <td>84</td>\n      <td>18</td>\n      <td>1-DV</td>\n      <td>1104738878037</td>\n      <td>915002011286</td>\n      <td>500691416065</td>\n      <td>Plea Of Guilty</td>\n      <td>89</td>\n      <td>True</td>\n    </tr>\n    <tr>\n      <td>69960</td>\n      <td>240404988967</td>\n      <td>216</td>\n      <td>18</td>\n      <td>1-DV</td>\n      <td>1006118321655</td>\n      <td>820398597442</td>\n      <td>447911994288</td>\n      <td>Finding Guilty</td>\n      <td>92</td>\n      <td>True</td>\n    </tr>\n    <tr>\n      <td>69961</td>\n      <td>248979538640</td>\n      <td>17</td>\n      <td>9</td>\n      <td>1-RJCC</td>\n      <td>1065232840612</td>\n      <td>877191618824</td>\n      <td>479533789979</td>\n      <td>Plea Of Guilty</td>\n      <td>142</td>\n      <td>True</td>\n    </tr>\n  </tbody>\n</table>\n<p>69962 rows × 10 columns</p>\n</div>"
     },
     "metadata": {},
     "execution_count": 84
    }
   ],
   "source": [
    "results = results[['case_id','sentence_id','offense_id','court_id','case_participant_id','charge_id','charge_version_id','charge_disposition','length_of_case_in_days','primary_charge']]\n",
    "results"
   ]
  },
  {
   "cell_type": "code",
   "execution_count": 85,
   "metadata": {},
   "outputs": [],
   "source": [
    "data.to_json('../Dashboard/data.json',orient='records')\n",
    "# results.to_json('../data/results.json')\n",
    "# participants.to_json('../data/participants.json')\n",
    "# courts.to_json('../data/courts.json')\n",
    "# offenses.to_json('../data/offenses.json')\n",
    "# sentences.to_json('../data/sentences.json')"
   ]
  },
  {
   "cell_type": "markdown",
   "metadata": {},
   "source": [
    "# Upload information to Postgres"
   ]
  },
  {
   "cell_type": "code",
   "execution_count": 84,
   "metadata": {},
   "outputs": [],
   "source": [
    "from password import key\n",
    "from sqlalchemy import create_engine"
   ]
  },
  {
   "cell_type": "code",
   "execution_count": 85,
   "metadata": {},
   "outputs": [],
   "source": [
    "conn = f\"postgres:{key}@localhost:5432/sentencing\"\n",
    "engine = create_engine(f'postgresql://{conn}')"
   ]
  },
  {
   "cell_type": "code",
   "execution_count": 86,
   "metadata": {},
   "outputs": [],
   "source": [
    "# courts.to_sql(name='courts',con=engine,if_exists='append',index=False)"
   ]
  },
  {
   "cell_type": "code",
   "execution_count": 87,
   "metadata": {},
   "outputs": [],
   "source": [
    "# participants.to_sql(name='participants',con=engine,if_exists='append',index=False)"
   ]
  },
  {
   "cell_type": "code",
   "execution_count": 88,
   "metadata": {},
   "outputs": [],
   "source": [
    "# offenses.to_sql(name='offenses',con=engine,if_exists='append',index=False)"
   ]
  },
  {
   "cell_type": "code",
   "execution_count": 89,
   "metadata": {},
   "outputs": [],
   "source": [
    "# sentences.to_sql(name='sentences',con=engine,if_exists='append',index=False)"
   ]
  },
  {
   "cell_type": "code",
   "execution_count": 90,
   "metadata": {},
   "outputs": [],
   "source": [
    "results = results[['case_participant_id','court_id','offense_id','sentence_id','case_id','primary_charge','charge_disposition','charge_id','charge_version_id','length_of_case_in_days']]"
   ]
  },
  {
   "cell_type": "code",
   "execution_count": 91,
   "metadata": {},
   "outputs": [],
   "source": [
    "# results.to_sql(name='results',con=engine,if_exists='append',index=False)"
   ]
  },
  {
   "cell_type": "markdown",
   "metadata": {},
   "source": [
    "# Queries from SQL for Graphs"
   ]
  },
  {
   "cell_type": "code",
   "execution_count": 93,
   "metadata": {},
   "outputs": [],
   "source": [
    "import json"
   ]
  },
  {
   "cell_type": "code",
   "execution_count": 94,
   "metadata": {},
   "outputs": [],
   "source": [
    "participants.to_json('../data/general_demographics.json',orient='records')"
   ]
  },
  {
   "cell_type": "code",
   "execution_count": 95,
   "metadata": {},
   "outputs": [
    {
     "output_type": "execute_result",
     "data": {
      "text/plain": "       case_participant_id                    court_name age_bins  \\\n0             230101052744          District 1 - Chicago    18-24   \n1             255504441936          District 1 - Chicago    25-29   \n2             265428457350          District 6 - Markham      <18   \n3             266244611418          District 1 - Chicago    18-24   \n4             266511120401          District 1 - Chicago    35-39   \n...                    ...                           ...      ...   \n205284       1114936528342  District 3 - Rolling Meadows    18-24   \n205285       1114965982098          District 6 - Markham      60+   \n205286       1115174177395          District 4 - Maywood    35-39   \n205287       1115411588918          District 1 - Chicago    25-29   \n205288       1115557788810           District 2 - Skokie    18-24   \n\n                   offense_category          sentence_type  \n0                          Homicide          Incarceration  \n1           Firearms and Explosives  Probation/Supervision  \n2                      Sex Offenses          Incarceration  \n3                          Homicide          Incarceration  \n4       Judicial Process Violations          Incarceration  \n...                             ...                    ...  \n205284                    Narcotics  Probation/Supervision  \n205285                    Narcotics          Incarceration  \n205286      Firearms and Explosives  Probation/Supervision  \n205287                    Narcotics          Incarceration  \n205288       Robbery/Burglery/Theft          Incarceration  \n\n[176426 rows x 5 columns]",
      "text/html": "<div>\n<style scoped>\n    .dataframe tbody tr th:only-of-type {\n        vertical-align: middle;\n    }\n\n    .dataframe tbody tr th {\n        vertical-align: top;\n    }\n\n    .dataframe thead th {\n        text-align: right;\n    }\n</style>\n<table border=\"1\" class=\"dataframe\">\n  <thead>\n    <tr style=\"text-align: right;\">\n      <th></th>\n      <th>case_participant_id</th>\n      <th>court_name</th>\n      <th>age_bins</th>\n      <th>offense_category</th>\n      <th>sentence_type</th>\n    </tr>\n  </thead>\n  <tbody>\n    <tr>\n      <td>0</td>\n      <td>230101052744</td>\n      <td>District 1 - Chicago</td>\n      <td>18-24</td>\n      <td>Homicide</td>\n      <td>Incarceration</td>\n    </tr>\n    <tr>\n      <td>1</td>\n      <td>255504441936</td>\n      <td>District 1 - Chicago</td>\n      <td>25-29</td>\n      <td>Firearms and Explosives</td>\n      <td>Probation/Supervision</td>\n    </tr>\n    <tr>\n      <td>2</td>\n      <td>265428457350</td>\n      <td>District 6 - Markham</td>\n      <td>&lt;18</td>\n      <td>Sex Offenses</td>\n      <td>Incarceration</td>\n    </tr>\n    <tr>\n      <td>3</td>\n      <td>266244611418</td>\n      <td>District 1 - Chicago</td>\n      <td>18-24</td>\n      <td>Homicide</td>\n      <td>Incarceration</td>\n    </tr>\n    <tr>\n      <td>4</td>\n      <td>266511120401</td>\n      <td>District 1 - Chicago</td>\n      <td>35-39</td>\n      <td>Judicial Process Violations</td>\n      <td>Incarceration</td>\n    </tr>\n    <tr>\n      <td>...</td>\n      <td>...</td>\n      <td>...</td>\n      <td>...</td>\n      <td>...</td>\n      <td>...</td>\n    </tr>\n    <tr>\n      <td>205284</td>\n      <td>1114936528342</td>\n      <td>District 3 - Rolling Meadows</td>\n      <td>18-24</td>\n      <td>Narcotics</td>\n      <td>Probation/Supervision</td>\n    </tr>\n    <tr>\n      <td>205285</td>\n      <td>1114965982098</td>\n      <td>District 6 - Markham</td>\n      <td>60+</td>\n      <td>Narcotics</td>\n      <td>Incarceration</td>\n    </tr>\n    <tr>\n      <td>205286</td>\n      <td>1115174177395</td>\n      <td>District 4 - Maywood</td>\n      <td>35-39</td>\n      <td>Firearms and Explosives</td>\n      <td>Probation/Supervision</td>\n    </tr>\n    <tr>\n      <td>205287</td>\n      <td>1115411588918</td>\n      <td>District 1 - Chicago</td>\n      <td>25-29</td>\n      <td>Narcotics</td>\n      <td>Incarceration</td>\n    </tr>\n    <tr>\n      <td>205288</td>\n      <td>1115557788810</td>\n      <td>District 2 - Skokie</td>\n      <td>18-24</td>\n      <td>Robbery/Burglery/Theft</td>\n      <td>Incarceration</td>\n    </tr>\n  </tbody>\n</table>\n<p>176426 rows × 5 columns</p>\n</div>"
     },
     "metadata": {},
     "execution_count": 95
    }
   ],
   "source": [
    "data[['case_participant_id','court_name','age_bins','offense_category','sentence_type']].drop_duplicates()"
   ]
  },
  {
   "cell_type": "code",
   "execution_count": 96,
   "metadata": {},
   "outputs": [],
   "source": [
    "query1 = 'select \\\n",
    "\tpa.age_bins, \\\n",
    "    pa.gender, \\\n",
    "    pa.race, \\\n",
    "\tfr.court_name, \\\n",
    "\tfr.offense_category, \\\n",
    "\tfr.sentence_type \\\n",
    "from ( \\\n",
    "    select \\\n",
    "\t\tr.case_participant_id, \\\n",
    "\t\tmax(court_name) court_name, \\\n",
    "\t\to.offense_category, \\\n",
    "\t\ts.sentence_type \\\n",
    "\tfrom results r \\\n",
    "\tleft join courts co \\\n",
    "\t\ton r.court_id = co.court_id \\\n",
    "\tleft join offenses o \\\n",
    "\t\ton r.offense_id = o.offense_id \\\n",
    "\tleft join sentences s \\\n",
    "\t\ton r.sentence_id = s.sentence_id \\\n",
    "\tgroup by ( \\\n",
    "\t\to.offense_category, \\\n",
    "\t\ts.sentence_type, \\\n",
    "\t\tr.case_participant_id \\\n",
    "\t)) fr \\\n",
    "left join participants pa \\\n",
    "\ton fr.case_participant_id = pa.case_participant_id;'"
   ]
  },
  {
   "cell_type": "code",
   "execution_count": 97,
   "metadata": {},
   "outputs": [],
   "source": [
    "filtered_demographics = pd.read_sql_query(query1,con=engine)\n",
    "filtered_demographics.to_json('../data/filtered_demographics.json',orient='records')"
   ]
  },
  {
   "cell_type": "code",
   "execution_count": 98,
   "metadata": {},
   "outputs": [
    {
     "output_type": "execute_result",
     "data": {
      "text/plain": "        year   month             offense_category  \\\n0       8.00   96.00                     Homicide   \n1       2.00   24.00      Firearms and Explosives   \n2       4.00   48.00                 Sex Offenses   \n3       9.00  108.00                     Homicide   \n4       2.00   24.00  Judicial Process Violations   \n...      ...     ...                          ...   \n205108  0.24    2.87                Other Offense   \n205109  0.11    1.30                Other Offense   \n205170  0.25    3.00              Fraud/Deception   \n205211  0.12    1.43              Fraud/Deception   \n205258  2.00   24.00                      Battery   \n\n                           sentence_type            court_name  \n0                          Incarceration  District 1 - Chicago  \n1                  Probation/Supervision  District 1 - Chicago  \n2                          Incarceration  District 6 - Markham  \n3                          Incarceration  District 1 - Chicago  \n4                          Incarceration  District 1 - Chicago  \n...                                  ...                   ...  \n205108                     Incarceration  District 1 - Chicago  \n205109                     Incarceration  District 1 - Chicago  \n205170             Probation/Supervision  District 1 - Chicago  \n205211                     Incarceration  District 1 - Chicago  \n205258  Inpatient Mental Health Services  District 1 - Chicago  \n\n[6164 rows x 5 columns]",
      "text/html": "<div>\n<style scoped>\n    .dataframe tbody tr th:only-of-type {\n        vertical-align: middle;\n    }\n\n    .dataframe tbody tr th {\n        vertical-align: top;\n    }\n\n    .dataframe thead th {\n        text-align: right;\n    }\n</style>\n<table border=\"1\" class=\"dataframe\">\n  <thead>\n    <tr style=\"text-align: right;\">\n      <th></th>\n      <th>year</th>\n      <th>month</th>\n      <th>offense_category</th>\n      <th>sentence_type</th>\n      <th>court_name</th>\n    </tr>\n  </thead>\n  <tbody>\n    <tr>\n      <td>0</td>\n      <td>8.00</td>\n      <td>96.00</td>\n      <td>Homicide</td>\n      <td>Incarceration</td>\n      <td>District 1 - Chicago</td>\n    </tr>\n    <tr>\n      <td>1</td>\n      <td>2.00</td>\n      <td>24.00</td>\n      <td>Firearms and Explosives</td>\n      <td>Probation/Supervision</td>\n      <td>District 1 - Chicago</td>\n    </tr>\n    <tr>\n      <td>2</td>\n      <td>4.00</td>\n      <td>48.00</td>\n      <td>Sex Offenses</td>\n      <td>Incarceration</td>\n      <td>District 6 - Markham</td>\n    </tr>\n    <tr>\n      <td>3</td>\n      <td>9.00</td>\n      <td>108.00</td>\n      <td>Homicide</td>\n      <td>Incarceration</td>\n      <td>District 1 - Chicago</td>\n    </tr>\n    <tr>\n      <td>4</td>\n      <td>2.00</td>\n      <td>24.00</td>\n      <td>Judicial Process Violations</td>\n      <td>Incarceration</td>\n      <td>District 1 - Chicago</td>\n    </tr>\n    <tr>\n      <td>...</td>\n      <td>...</td>\n      <td>...</td>\n      <td>...</td>\n      <td>...</td>\n      <td>...</td>\n    </tr>\n    <tr>\n      <td>205108</td>\n      <td>0.24</td>\n      <td>2.87</td>\n      <td>Other Offense</td>\n      <td>Incarceration</td>\n      <td>District 1 - Chicago</td>\n    </tr>\n    <tr>\n      <td>205109</td>\n      <td>0.11</td>\n      <td>1.30</td>\n      <td>Other Offense</td>\n      <td>Incarceration</td>\n      <td>District 1 - Chicago</td>\n    </tr>\n    <tr>\n      <td>205170</td>\n      <td>0.25</td>\n      <td>3.00</td>\n      <td>Fraud/Deception</td>\n      <td>Probation/Supervision</td>\n      <td>District 1 - Chicago</td>\n    </tr>\n    <tr>\n      <td>205211</td>\n      <td>0.12</td>\n      <td>1.43</td>\n      <td>Fraud/Deception</td>\n      <td>Incarceration</td>\n      <td>District 1 - Chicago</td>\n    </tr>\n    <tr>\n      <td>205258</td>\n      <td>2.00</td>\n      <td>24.00</td>\n      <td>Battery</td>\n      <td>Inpatient Mental Health Services</td>\n      <td>District 1 - Chicago</td>\n    </tr>\n  </tbody>\n</table>\n<p>6164 rows × 5 columns</p>\n</div>"
     },
     "metadata": {},
     "execution_count": 98
    }
   ],
   "source": [
    "data[['year','month','offense_category','sentence_type','court_name']].loc[data.year != 0].drop_duplicates()"
   ]
  },
  {
   "cell_type": "code",
   "execution_count": 99,
   "metadata": {},
   "outputs": [],
   "source": [
    "query2 = 'select\\\n",
    "\ts.year, \\\n",
    "\ts.month, \\\n",
    "\tfr.offense_category, \\\n",
    "\ts.sentence_type, \\\n",
    "\tfr.court_name \\\n",
    "from \\\n",
    "\t(select \\\n",
    "\t \tr.sentence_id, \\\n",
    "\t \to.offense_category, \\\n",
    "\t \tco.court_name \\\n",
    "\t from results r \\\n",
    "\t left join courts co \\\n",
    "\t \ton r.court_id = co.court_id \\\n",
    "\t left join offenses o \\\n",
    "\t \ton r.offense_id = o.offense_id \\\n",
    "\t group by ( \\\n",
    "\t \tr.sentence_id, \\\n",
    "\t \to.offense_category, \\\n",
    "\t \tco.court_name \\\n",
    "\t)) fr \\\n",
    "left join sentences s \\\n",
    "\ton s.sentence_id = fr.sentence_id \\\n",
    "where s.month !=0;'"
   ]
  },
  {
   "cell_type": "code",
   "execution_count": 100,
   "metadata": {},
   "outputs": [],
   "source": [
    "boxplot_offense = pd.read_sql_query(query2,con=engine)\n",
    "boxplot_offense.to_json('../data/boxplot_offense.json',orient='records')"
   ]
  },
  {
   "cell_type": "code",
   "execution_count": 101,
   "metadata": {},
   "outputs": [
    {
     "output_type": "execute_result",
     "data": {
      "text/plain": "       length_of_case_in_days   month  year             offense_category  \\\n0                         187   96.00  8.00                     Homicide   \n1                        2624   24.00  2.00      Firearms and Explosives   \n2                         795   48.00  4.00                 Sex Offenses   \n3                        1201  108.00  9.00                     Homicide   \n4                         271   24.00  2.00  Judicial Process Violations   \n...                       ...     ...   ...                          ...   \n205258                      7   24.00  2.00                      Battery   \n205259                     24   13.00  1.08       Robbery/Burglery/Theft   \n205275                      9    0.07  0.01       Motor Vehicle Offenses   \n205278                      0    0.87  0.07  Judicial Process Violations   \n205286                      1   18.00  1.50      Firearms and Explosives   \n\n                           sentence_type  \n0                          Incarceration  \n1                  Probation/Supervision  \n2                          Incarceration  \n3                          Incarceration  \n4                          Incarceration  \n...                                  ...  \n205258  Inpatient Mental Health Services  \n205259             Probation/Supervision  \n205275                     Incarceration  \n205278                     Incarceration  \n205286             Probation/Supervision  \n\n[65992 rows x 5 columns]",
      "text/html": "<div>\n<style scoped>\n    .dataframe tbody tr th:only-of-type {\n        vertical-align: middle;\n    }\n\n    .dataframe tbody tr th {\n        vertical-align: top;\n    }\n\n    .dataframe thead th {\n        text-align: right;\n    }\n</style>\n<table border=\"1\" class=\"dataframe\">\n  <thead>\n    <tr style=\"text-align: right;\">\n      <th></th>\n      <th>length_of_case_in_days</th>\n      <th>month</th>\n      <th>year</th>\n      <th>offense_category</th>\n      <th>sentence_type</th>\n    </tr>\n  </thead>\n  <tbody>\n    <tr>\n      <td>0</td>\n      <td>187</td>\n      <td>96.00</td>\n      <td>8.00</td>\n      <td>Homicide</td>\n      <td>Incarceration</td>\n    </tr>\n    <tr>\n      <td>1</td>\n      <td>2624</td>\n      <td>24.00</td>\n      <td>2.00</td>\n      <td>Firearms and Explosives</td>\n      <td>Probation/Supervision</td>\n    </tr>\n    <tr>\n      <td>2</td>\n      <td>795</td>\n      <td>48.00</td>\n      <td>4.00</td>\n      <td>Sex Offenses</td>\n      <td>Incarceration</td>\n    </tr>\n    <tr>\n      <td>3</td>\n      <td>1201</td>\n      <td>108.00</td>\n      <td>9.00</td>\n      <td>Homicide</td>\n      <td>Incarceration</td>\n    </tr>\n    <tr>\n      <td>4</td>\n      <td>271</td>\n      <td>24.00</td>\n      <td>2.00</td>\n      <td>Judicial Process Violations</td>\n      <td>Incarceration</td>\n    </tr>\n    <tr>\n      <td>...</td>\n      <td>...</td>\n      <td>...</td>\n      <td>...</td>\n      <td>...</td>\n      <td>...</td>\n    </tr>\n    <tr>\n      <td>205258</td>\n      <td>7</td>\n      <td>24.00</td>\n      <td>2.00</td>\n      <td>Battery</td>\n      <td>Inpatient Mental Health Services</td>\n    </tr>\n    <tr>\n      <td>205259</td>\n      <td>24</td>\n      <td>13.00</td>\n      <td>1.08</td>\n      <td>Robbery/Burglery/Theft</td>\n      <td>Probation/Supervision</td>\n    </tr>\n    <tr>\n      <td>205275</td>\n      <td>9</td>\n      <td>0.07</td>\n      <td>0.01</td>\n      <td>Motor Vehicle Offenses</td>\n      <td>Incarceration</td>\n    </tr>\n    <tr>\n      <td>205278</td>\n      <td>0</td>\n      <td>0.87</td>\n      <td>0.07</td>\n      <td>Judicial Process Violations</td>\n      <td>Incarceration</td>\n    </tr>\n    <tr>\n      <td>205286</td>\n      <td>1</td>\n      <td>18.00</td>\n      <td>1.50</td>\n      <td>Firearms and Explosives</td>\n      <td>Probation/Supervision</td>\n    </tr>\n  </tbody>\n</table>\n<p>65992 rows × 5 columns</p>\n</div>"
     },
     "metadata": {},
     "execution_count": 101
    }
   ],
   "source": [
    "data[['length_of_case_in_days','month','year','offense_category','sentence_type']].loc[data.month != 0].drop_duplicates()"
   ]
  },
  {
   "cell_type": "code",
   "execution_count": 102,
   "metadata": {},
   "outputs": [],
   "source": [
    "query3 = 'select \\\n",
    "\tfr.length_of_case_in_days, \\\n",
    "\ts.month, \\\n",
    "\ts.year, \\\n",
    "\tfr.offense_category, \\\n",
    "\ts.sentence_type \\\n",
    "from  \\\n",
    "\t(select \\\n",
    "\t \tr.sentence_id, \\\n",
    "\t \tr.length_of_case_in_days, \\\n",
    "\t \to.offense_category \\\n",
    "\t from results r \\\n",
    "\t left join offenses o \\\n",
    "\t \ton r.offense_id = o.offense_id \\\n",
    "\t group by ( \\\n",
    "\t\tr.sentence_id, \\\n",
    "\t \tr.length_of_case_in_days, \\\n",
    "\t \to.offense_category \\\n",
    "\t )) fr \\\n",
    "left join sentences s \\\n",
    "\ton s.sentence_id = fr.sentence_id \\\n",
    "where s.month !=0 \\\n",
    "and fr.length_of_case_in_days != 0;'"
   ]
  },
  {
   "cell_type": "code",
   "execution_count": 103,
   "metadata": {},
   "outputs": [],
   "source": [
    "scatter_length = pd.read_sql_query(query3, con=engine)\n",
    "scatter_length.to_json('../data/scatter_length.json',orient='records')"
   ]
  },
  {
   "cell_type": "code",
   "execution_count": 104,
   "metadata": {},
   "outputs": [],
   "source": [
    "query4 = 'select \\\n",
    "\tfr.length_of_case_in_days, \\\n",
    "\ts.month, \\\n",
    "\ts.year, \\\n",
    "\tfr.offense_category, \\\n",
    "\ts.sentence_type \\\n",
    "from  \\\n",
    "\t(select \\\n",
    "\t \tr.sentence_id, \\\n",
    "\t \tr.length_of_case_in_days, \\\n",
    "\t \to.offense_category \\\n",
    "\t from results r \\\n",
    "\t left join offenses o \\\n",
    "\t \ton r.offense_id = o.offense_id \\\n",
    "\t group by ( \\\n",
    "\t\tr.sentence_id, \\\n",
    "\t \tr.length_of_case_in_days, \\\n",
    "\t \to.offense_category \\\n",
    "\t )) fr \\\n",
    "left join sentences s \\\n",
    "\ton s.sentence_id = fr.sentence_id \\\n",
    "where s.month !=0  \\\n",
    "and fr.length_of_case_in_days != 0;'"
   ]
  },
  {
   "cell_type": "code",
   "execution_count": 105,
   "metadata": {},
   "outputs": [],
   "source": [
    "boxplot_length = pd.read_sql_query(query4, con=engine)\n",
    "boxplot_length.to_json('../data/boxplot_length.json',orient='records')"
   ]
  },
  {
   "cell_type": "code",
   "execution_count": 106,
   "metadata": {},
   "outputs": [],
   "source": [
    "query5 = 'select \\\n",
    "\tfr.court_name, \\\n",
    "\tcount(s.sentence_type) sentence_type, \\\n",
    "\tfr.offense_category \\\n",
    "from ( \\\n",
    "\tselect \\\n",
    "\t\tco.court_name, \\\n",
    "\t\to.offense_category, \\\n",
    "\t\tr.sentence_id \\\n",
    "\tfrom results r \\\n",
    "\t\t left join offenses o \\\n",
    "\t \ton r.offense_id = o.offense_id \\\n",
    "\t left join courts co \\\n",
    "\t \ton r.court_id = co.court_id \\\n",
    "\t group by ( \\\n",
    "\t\tco.court_name, \\\n",
    "\t\to.offense_category, \\\n",
    "\t\tr.sentence_id \\\n",
    "\t )) fr \\\n",
    "left join sentences s \\\n",
    "\ton s.sentence_id = fr.sentence_id \\\n",
    "group by  \\\n",
    "\tfr.court_name, \\\n",
    "\tfr.offense_category;'"
   ]
  },
  {
   "cell_type": "code",
   "execution_count": 107,
   "metadata": {},
   "outputs": [],
   "source": [
    "barchar_courts = pd.read_sql_query(query5, con=engine)\n",
    "barchar_courts.to_json('../data/barchar_courts.json',orient='records')"
   ]
  },
  {
   "cell_type": "code",
   "execution_count": 108,
   "metadata": {},
   "outputs": [],
   "source": [
    "query6 = 'select \\\n",
    "\tcount(fr.case_participant_id) participants, \\\n",
    "\tfr.age_at_incident, \\\n",
    "\ts.month, \\\n",
    "\ts.year, \\\n",
    "\ts.sentence_type, \\\n",
    "\tfr.court_name \\\n",
    "from ( \\\n",
    "\tselect \\\n",
    "\t\tpa.case_participant_id, \\\n",
    "\t\tco.court_name, \\\n",
    "\t\tr.sentence_id, \\\n",
    "\t\tpa.age_at_incident \\\n",
    "\tfrom results r \\\n",
    "\t\tleft join offenses o \\\n",
    "\t \t\ton r.offense_id = o.offense_id \\\n",
    "\t\tleft join courts co \\\n",
    "\t \t\ton r.court_id = co.court_id \\\n",
    "\t\tleft join participants pa \\\n",
    "\t\t\ton r.case_participant_id = pa.case_participant_id \\\n",
    "\t group by ( \\\n",
    "\t\tpa.case_participant_id, \\\n",
    "\t\tco.court_name, \\\n",
    "\t\tr.sentence_id, \\\n",
    "\t\tpa.age_at_incident \\\n",
    "\t )) fr \\\n",
    "left join sentences s \\\n",
    "\ton s.sentence_id = fr.sentence_id \\\n",
    "group by  \\\n",
    "\tfr.age_at_incident, \\\n",
    "\ts.month, \\\n",
    "\ts.year, \\\n",
    "\ts.sentence_type, \\\n",
    "\tfr.court_name;' "
   ]
  },
  {
   "cell_type": "code",
   "execution_count": 109,
   "metadata": {},
   "outputs": [],
   "source": [
    "scatter_courts = pd.read_sql_query(query6, con=engine)\n",
    "scatter_courts.to_json('../data/scatter_courts.json',orient='records')"
   ]
  },
  {
   "cell_type": "code",
   "execution_count": 110,
   "metadata": {},
   "outputs": [
    {
     "output_type": "execute_result",
     "data": {
      "text/plain": "             case_id             offense_category          sentence_type  \\\n0       114024398027                     Homicide          Incarceration   \n1       123803937179      Firearms and Explosives  Probation/Supervision   \n2       127790349873                 Sex Offenses          Incarceration   \n3       128491120254                     Homicide          Incarceration   \n4       129030951431  Judicial Process Violations          Incarceration   \n...              ...                          ...                    ...   \n205284  256376492742                    Narcotics  Probation/Supervision   \n205285  256381543493                    Narcotics          Incarceration   \n205286  256409108612      Firearms and Explosives  Probation/Supervision   \n205287  256441638876                    Narcotics          Incarceration   \n205288  256462098701       Robbery/Burglery/Theft          Incarceration   \n\n                          court_name  \n0               District 1 - Chicago  \n1               District 1 - Chicago  \n2               District 6 - Markham  \n3               District 1 - Chicago  \n4               District 1 - Chicago  \n...                              ...  \n205284  District 3 - Rolling Meadows  \n205285          District 6 - Markham  \n205286          District 4 - Maywood  \n205287          District 1 - Chicago  \n205288           District 2 - Skokie  \n\n[168460 rows x 4 columns]",
      "text/html": "<div>\n<style scoped>\n    .dataframe tbody tr th:only-of-type {\n        vertical-align: middle;\n    }\n\n    .dataframe tbody tr th {\n        vertical-align: top;\n    }\n\n    .dataframe thead th {\n        text-align: right;\n    }\n</style>\n<table border=\"1\" class=\"dataframe\">\n  <thead>\n    <tr style=\"text-align: right;\">\n      <th></th>\n      <th>case_id</th>\n      <th>offense_category</th>\n      <th>sentence_type</th>\n      <th>court_name</th>\n    </tr>\n  </thead>\n  <tbody>\n    <tr>\n      <td>0</td>\n      <td>114024398027</td>\n      <td>Homicide</td>\n      <td>Incarceration</td>\n      <td>District 1 - Chicago</td>\n    </tr>\n    <tr>\n      <td>1</td>\n      <td>123803937179</td>\n      <td>Firearms and Explosives</td>\n      <td>Probation/Supervision</td>\n      <td>District 1 - Chicago</td>\n    </tr>\n    <tr>\n      <td>2</td>\n      <td>127790349873</td>\n      <td>Sex Offenses</td>\n      <td>Incarceration</td>\n      <td>District 6 - Markham</td>\n    </tr>\n    <tr>\n      <td>3</td>\n      <td>128491120254</td>\n      <td>Homicide</td>\n      <td>Incarceration</td>\n      <td>District 1 - Chicago</td>\n    </tr>\n    <tr>\n      <td>4</td>\n      <td>129030951431</td>\n      <td>Judicial Process Violations</td>\n      <td>Incarceration</td>\n      <td>District 1 - Chicago</td>\n    </tr>\n    <tr>\n      <td>...</td>\n      <td>...</td>\n      <td>...</td>\n      <td>...</td>\n      <td>...</td>\n    </tr>\n    <tr>\n      <td>205284</td>\n      <td>256376492742</td>\n      <td>Narcotics</td>\n      <td>Probation/Supervision</td>\n      <td>District 3 - Rolling Meadows</td>\n    </tr>\n    <tr>\n      <td>205285</td>\n      <td>256381543493</td>\n      <td>Narcotics</td>\n      <td>Incarceration</td>\n      <td>District 6 - Markham</td>\n    </tr>\n    <tr>\n      <td>205286</td>\n      <td>256409108612</td>\n      <td>Firearms and Explosives</td>\n      <td>Probation/Supervision</td>\n      <td>District 4 - Maywood</td>\n    </tr>\n    <tr>\n      <td>205287</td>\n      <td>256441638876</td>\n      <td>Narcotics</td>\n      <td>Incarceration</td>\n      <td>District 1 - Chicago</td>\n    </tr>\n    <tr>\n      <td>205288</td>\n      <td>256462098701</td>\n      <td>Robbery/Burglery/Theft</td>\n      <td>Incarceration</td>\n      <td>District 2 - Skokie</td>\n    </tr>\n  </tbody>\n</table>\n<p>168460 rows × 4 columns</p>\n</div>"
     },
     "metadata": {},
     "execution_count": 110
    }
   ],
   "source": [
    "data[['case_id','offense_category','sentence_type','court_name']].drop_duplicates()"
   ]
  },
  {
   "cell_type": "code",
   "execution_count": 111,
   "metadata": {},
   "outputs": [],
   "source": [
    "query7 = 'select \\\n",
    "\tr.case_id, \\\n",
    "\to.offense_category, \\\n",
    "\ts.sentence_type, \\\n",
    "\tco.court_name \\\n",
    "from results r \\\n",
    "left join offenses o \\\n",
    "\ton r.offense_id = o.offense_id \\\n",
    "left join courts co \\\n",
    "\ton r.court_id = co.court_id \\\n",
    "left join sentences s \\\n",
    "\ton r.sentence_id = s.sentence_id \\\n",
    "group by \\\n",
    "\tr.case_id, \\\n",
    "\to.offense_category, \\\n",
    "\ts.sentence_type, \\\n",
    "\tco.court_name;'"
   ]
  },
  {
   "cell_type": "code",
   "execution_count": 112,
   "metadata": {},
   "outputs": [],
   "source": [
    "pie_offense = pd.read_sql_query(query7, con=engine)\n",
    "pie_offense.to_json('../data/pie_offense.json',orient='records')"
   ]
  }
 ],
 "metadata": {
  "language_info": {
   "codemirror_mode": {
    "name": "ipython",
    "version": 3
   },
   "file_extension": ".py",
   "mimetype": "text/x-python",
   "name": "python",
   "nbconvert_exporter": "python",
   "pygments_lexer": "ipython3",
   "version": "3.7.4-final"
  },
  "orig_nbformat": 2,
  "kernelspec": {
   "name": "python37464bitbaseconda1f272b08825b44268b0b382f97a12fd9",
   "display_name": "Python 3.7.4 64-bit ('base': conda)"
  }
 },
 "nbformat": 4,
 "nbformat_minor": 2
}