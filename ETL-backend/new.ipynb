{
 "cells": [
  {
   "cell_type": "code",
   "execution_count": null,
   "metadata": {},
   "outputs": [],
   "source": [
    "import pandas as pd\n",
    "from sodapy import Socrata\n",
    "import numpy as np\n",
    "import sqlite3"
   ]
  },
  {
   "cell_type": "markdown",
   "metadata": {},
   "source": [
    "# Get information from Cook County Sentencing Data Database"
   ]
  },
  {
   "cell_type": "code",
   "execution_count": null,
   "metadata": {
    "tags": []
   },
   "outputs": [],
   "source": [
    "# Call API\n",
    "client = Socrata(\"datacatalog.cookcountyil.gov\", None)"
   ]
  },
  {
   "cell_type": "code",
   "execution_count": null,
   "metadata": {},
   "outputs": [],
   "source": [
    "# Retrive Data\n",
    "results = client.get(\"tg8v-tm6u\", limit=300000)"
   ]
  },
  {
   "cell_type": "code",
   "execution_count": null,
   "metadata": {},
   "outputs": [],
   "source": [
    "# Generate DataFrame\n",
    "original_data = pd.DataFrame.from_records(results)\n",
    "\n",
    "# Explore data\n",
    "list(original_data.columns.values)"
   ]
  },
  {
   "cell_type": "code",
   "execution_count": null,
   "metadata": {},
   "outputs": [],
   "source": [
    "data = original_data.copy()"
   ]
  },
  {
   "cell_type": "code",
   "execution_count": null,
   "metadata": {},
   "outputs": [],
   "source": [
    "# Explore values in columns\n",
    "data.count()"
   ]
  },
  {
   "cell_type": "code",
   "execution_count": null,
   "metadata": {},
   "outputs": [],
   "source": [
    "# Delete columns that we don't need\n",
    "data = data.drop([\n",
    "    'charge_disposition_reason',\n",
    "    'unit',\n",
    "    'disposition_charged_chapter',\n",
    "    'disposition_charged_act',\n",
    "    'disposition_charged_section',\n",
    "    'incident_end_date',\n",
    "    'law_enforcement_agency',\n",
    "    'disposition_charged_aoic',\n",
    "    'incident_city',\n",
    "    'arraignment_date',\n",
    "    'felony_review_date',\n",
    "    'felony_review_result',\n",
    "    'received_date',\n",
    "    'disposition_date',\n",
    "    'charge_id',\n",
    "    'charge_version_id',\n",
    "    'sentence_judge',\n",
    "    'sentence_phase',\n",
    "    'offense_category',\n",
    "    'commitment_type'\n",
    "],axis=1)"
   ]
  },
  {
   "cell_type": "code",
   "execution_count": null,
   "metadata": {},
   "outputs": [],
   "source": [
    "# Latest offense_category data\n",
    "data = data.rename(columns={'updated_offense_category':'offense_category'})"
   ]
  },
  {
   "cell_type": "code",
   "execution_count": null,
   "metadata": {},
   "outputs": [],
   "source": [
    "data.count()"
   ]
  },
  {
   "cell_type": "markdown",
   "metadata": {},
   "source": [
    "# Cleaning Process"
   ]
  },
  {
   "cell_type": "markdown",
   "metadata": {},
   "source": [
    "## Filter data after 2000 & before 2019"
   ]
  },
  {
   "cell_type": "code",
   "execution_count": null,
   "metadata": {},
   "outputs": [],
   "source": [
    "# Create a copy of the Sentence Date to filter it\n",
    "data['date_year'] = data['sentence_date'].copy()"
   ]
  },
  {
   "cell_type": "code",
   "execution_count": null,
   "metadata": {},
   "outputs": [],
   "source": [
    "# Select only the year\n",
    "data['date_year'] = data['date_year'].replace(regex=['[0-9]*\\/[0-9]*\\/','\\s[0-9]*\\:[0-9]*\\:[0-9]*\\s[A-Z]*'], value='')"
   ]
  },
  {
   "cell_type": "code",
   "execution_count": null,
   "metadata": {},
   "outputs": [],
   "source": [
    "# Change value type\n",
    "data['date_year'] = data['date_year'].astype(int)"
   ]
  },
  {
   "cell_type": "code",
   "execution_count": null,
   "metadata": {},
   "outputs": [],
   "source": [
    "# Confirm value type change\n",
    "data.dtypes"
   ]
  },
  {
   "cell_type": "code",
   "execution_count": null,
   "metadata": {},
   "outputs": [],
   "source": [
    "# Filter year\n",
    "data = data[(data.date_year >= 2010) & (data.date_year <= 2020)]"
   ]
  },
  {
   "cell_type": "code",
   "execution_count": null,
   "metadata": {},
   "outputs": [],
   "source": [
    "# Confirm values\n",
    "data.describe()"
   ]
  },
  {
   "cell_type": "markdown",
   "metadata": {},
   "source": [
    "## Filter only current sentence and primary charge"
   ]
  },
  {
   "cell_type": "code",
   "execution_count": null,
   "metadata": {},
   "outputs": [],
   "source": [
    "# Drop False values for Current Sentence and Primary Charge\n",
    "data = data.loc[data.current_sentence == True]\n",
    "data = data.loc[data.primary_charge == True]"
   ]
  },
  {
   "cell_type": "code",
   "execution_count": null,
   "metadata": {},
   "outputs": [],
   "source": [
    "data.count()"
   ]
  },
  {
   "cell_type": "markdown",
   "metadata": {},
   "source": [
    "## Analize Offense Category and consolidate into related categories"
   ]
  },
  {
   "cell_type": "code",
   "execution_count": null,
   "metadata": {},
   "outputs": [],
   "source": [
    "# Review all the information\n",
    "data.offense_category.value_counts()"
   ]
  },
  {
   "cell_type": "code",
   "execution_count": null,
   "metadata": {
    "tags": []
   },
   "outputs": [],
   "source": [
    "data.offense_category.unique()"
   ]
  },
  {
   "cell_type": "code",
   "execution_count": null,
   "metadata": {},
   "outputs": [],
   "source": [
    "# Consolidate Homicide category\n",
    "data.offense_category = data.offense_category.replace(to_replace=['Attempt Homicide','Reckless Homicide'],value='Homicide')"
   ]
  },
  {
   "cell_type": "code",
   "execution_count": null,
   "metadata": {},
   "outputs": [],
   "source": [
    "# Consolidate Offense Against Police Officers category\n",
    "data.offense_category = data.offense_category.replace(to_replace=['Aggravated Assault Police Officer','Aggravated Assault Police Officer Firearm','Police Shooting','Impersonating Police Officer','Aggravated Battery Police Officer','Aggravated Battery Police Officer Firearm','Disarming Police Officer'],value='Offense Against Police Officers')"
   ]
  },
  {
   "cell_type": "code",
   "execution_count": null,
   "metadata": {},
   "outputs": [],
   "source": [
    "# Consolidate Battery category\n",
    "data.offense_category = data.offense_category.replace(to_replace=['Aggravated Battery','Aggravated Battery With A Firearm','Domestic Battery'],value='Battery')"
   ]
  },
  {
   "cell_type": "code",
   "execution_count": null,
   "metadata": {},
   "outputs": [],
   "source": [
    "# Consolidate Robbery, Burglery and Theft category\n",
    "data.offense_category = data.offense_category.replace(to_replace=['Aggravated Identity Theft','Aggravated Robbery','Aggravated Robbery BB Gun','Armed Robbery','Attempt Armed Robbery','Burglary','Identity Theft','Residential Burglary','Retail Theft','Robbery','Theft','Theft by Deception','Possession Of Burglary Tools'],value='Robbery/Burglary/Theft')"
   ]
  },
  {
   "cell_type": "code",
   "execution_count": null,
   "metadata": {},
   "outputs": [],
   "source": [
    "# Consolidate Arson category\n",
    "data.offense_category = data.offense_category.replace(to_replace=['Arson and Attempt Arson','Attempt Arson'],value='Arson')"
   ]
  },
  {
   "cell_type": "code",
   "execution_count": null,
   "metadata": {},
   "outputs": [],
   "source": [
    "# Consolidate Firearms and Explosives category\n",
    "data.offense_category = data.offense_category.replace(to_replace=['Aggravated Discharge Firearm','Armed Violence','Gun Running','Possession of Explosives','UUW - Unlawful Use of Weapon','Gun - Non UUW','Bomb Threat','Reckless Discharge of Firearm'],value='Firearms and Explosives')"
   ]
  },
  {
   "cell_type": "code",
   "execution_count": null,
   "metadata": {},
   "outputs": [],
   "source": [
    "# Consolidate Motor Vehicles Offenses category\n",
    "data.offense_category = data.offense_category.replace(to_replace=['Aggravated DUI','Attempt Vehicular Hijacking','DUI','Driving With Suspended Or Revoked License','Major Accidents','Possession of Stolen Motor Vehicle','Vehicular Hijacking','Vehicular Invasion'],value='Motor Vehicle Offenses')"
   ]
  },
  {
   "cell_type": "code",
   "execution_count": null,
   "metadata": {},
   "outputs": [],
   "source": [
    "# Consolidate Judicial Process Violations category\n",
    "data.offense_category = data.offense_category.replace(to_replace=['Communicating With Witness','Escape - Failure to Return','Obstructing Justice','Perjury','Tampering','Violate Bail Bond','Violation Order Of Protection'],value='Judicial Process Violations')"
   ]
  },
  {
   "cell_type": "code",
   "execution_count": null,
   "metadata": {},
   "outputs": [],
   "source": [
    "# Consolidate Sex Offenses category\n",
    "data.offense_category = data.offense_category.replace(to_replace=['Attempt Sex Crimes','Child Pornography','Failure to Register as a Sex Offender','Pandering','Prostitution','Sex Crimes','Violation of Sex Offender Registration'],value='Sex Offenses')"
   ]
  },
  {
   "cell_type": "code",
   "execution_count": null,
   "metadata": {},
   "outputs": [],
   "source": [
    "# Consolidate Human Trafficking, Detention and Kidnapping category\n",
    "data.offense_category = data.offense_category.replace(to_replace=['Child Abduction','Human Trafficking','Kidnapping','Unlawful Restraint'],value='Human Trafficking/Detention/Kidnapping')"
   ]
  },
  {
   "cell_type": "code",
   "execution_count": null,
   "metadata": {},
   "outputs": [],
   "source": [
    "# Consolidate Trespassing category\n",
    "data.offense_category = data.offense_category.replace(to_replace=['Home Invasion','Criminal Trespass To Residence'],value='Trespassing')"
   ]
  },
  {
   "cell_type": "code",
   "execution_count": null,
   "metadata": {},
   "outputs": [],
   "source": [
    "# Consolidate Fraud and Deception category\n",
    "data.offense_category = data.offense_category.replace(to_replace=['Credit Card Cases','Deceptive Practice','Forgery','Fraud','Fraudulent ID'],value='Fraud/Deception')"
   ]
  },
  {
   "cell_type": "code",
   "execution_count": null,
   "metadata": {},
   "outputs": [],
   "source": [
    "# Consolidate Corruption category\n",
    "data.offense_category = data.offense_category.replace(to_replace=['Intimidation','Official Misconduct','Bribery'],value='Corruption')"
   ]
  },
  {
   "cell_type": "code",
   "execution_count": null,
   "metadata": {},
   "outputs": [],
   "source": [
    "# Consolidate Inside Penal Institutions category\n",
    "data.offense_category = data.offense_category.replace(to_replace=['Possession of Contraband in Penal Institution','Possession of Shank in Penal Institution'],value='Inside Penal Institutions')"
   ]
  },
  {
   "cell_type": "code",
   "execution_count": null,
   "metadata": {},
   "outputs": [],
   "source": [
    "# Consolidate Other Offense category\n",
    "data.offense_category = data.offense_category.replace(to_replace=['Dog Fighting','Gambling','Failure To Pay Child Support','Compelling Gang Membership'],value='Other Offense')"
   ]
  },
  {
   "cell_type": "code",
   "execution_count": null,
   "metadata": {},
   "outputs": [],
   "source": [
    "data.offense_category.value_counts()"
   ]
  },
  {
   "cell_type": "markdown",
   "metadata": {},
   "source": [
    "## Cleaning Race columns"
   ]
  },
  {
   "cell_type": "code",
   "execution_count": null,
   "metadata": {},
   "outputs": [],
   "source": [
    "# Review data\n",
    "data.race.value_counts()"
   ]
  },
  {
   "cell_type": "code",
   "execution_count": null,
   "metadata": {},
   "outputs": [],
   "source": [
    "# Consolidate Asian race\n",
    "data.race = data.race.replace(to_replace='ASIAN',value='Asian')"
   ]
  },
  {
   "cell_type": "code",
   "execution_count": null,
   "metadata": {},
   "outputs": [],
   "source": [
    "# Consolidate Hispanic/Latino race\n",
    "data.race = data.race.replace(to_replace=['White [Hispanic or Latino]','HISPANIC','White/Black [Hispanic or Latino]'],value='Hispanic/Latino')"
   ]
  },
  {
   "cell_type": "code",
   "execution_count": null,
   "metadata": {},
   "outputs": [],
   "source": [
    "data.race.value_counts()"
   ]
  },
  {
   "cell_type": "markdown",
   "metadata": {},
   "source": [
    "## Cleaning Sentence Type"
   ]
  },
  {
   "cell_type": "code",
   "execution_count": null,
   "metadata": {},
   "outputs": [],
   "source": [
    "# Review data\n",
    "data.sentence_type.value_counts()"
   ]
  },
  {
   "cell_type": "code",
   "execution_count": null,
   "metadata": {},
   "outputs": [],
   "source": [
    "# Consolidate Probation & Supervision sentence\n",
    "data.sentence_type = data.sentence_type.replace(to_replace=['Probation','2nd Chance Probation','Supervision','Probation Terminated Unsatisfactorily','Probation Terminated Instanter','Probation Terminated Satisfactorily'],value='Probation/Supervision')"
   ]
  },
  {
   "cell_type": "code",
   "execution_count": null,
   "metadata": {},
   "outputs": [],
   "source": [
    "# Consolidate Conditional sentence type\n",
    "data.sentence_type = data.sentence_type.replace(to_replace='Conditional Release',value='Conditional Discharge')"
   ]
  },
  {
   "cell_type": "code",
   "execution_count": null,
   "metadata": {},
   "outputs": [],
   "source": [
    "# Consolidate Incarceration sentence\n",
    "data.sentence_type = data.sentence_type.replace(to_replace=['Jail','Prison'],value='Incarceration')"
   ]
  },
  {
   "cell_type": "code",
   "execution_count": null,
   "metadata": {},
   "outputs": [],
   "source": [
    "data.sentence_type.value_counts()"
   ]
  },
  {
   "cell_type": "markdown",
   "metadata": {},
   "source": [
    "## Cleaning Gender"
   ]
  },
  {
   "cell_type": "code",
   "execution_count": null,
   "metadata": {},
   "outputs": [],
   "source": [
    "data.gender.value_counts()"
   ]
  },
  {
   "cell_type": "code",
   "execution_count": null,
   "metadata": {},
   "outputs": [],
   "source": [
    "# Select only Male and Female genders due to size\n",
    "data = data.loc[(data.gender == \"Male\") | (data.gender == \"Female\")]"
   ]
  },
  {
   "cell_type": "code",
   "execution_count": null,
   "metadata": {},
   "outputs": [],
   "source": [
    "data.gender.value_counts()"
   ]
  },
  {
   "cell_type": "markdown",
   "metadata": {},
   "source": [
    "## Cleaning Commitment Unit"
   ]
  },
  {
   "cell_type": "code",
   "execution_count": null,
   "metadata": {},
   "outputs": [],
   "source": [
    "# Data Exploration\n",
    "data.commitment_unit.value_counts()"
   ]
  },
  {
   "cell_type": "code",
   "execution_count": null,
   "metadata": {},
   "outputs": [],
   "source": [
    "# Unify Weight units\n",
    "data.commitment_unit = data.commitment_unit.replace(to_replace=['Pounds','Kilos','Ounces'],value='Weight')"
   ]
  },
  {
   "cell_type": "code",
   "execution_count": null,
   "metadata": {},
   "outputs": [],
   "source": [
    "# Clean all non-numeric characters and transform value type to float\n",
    "data.commitment_term = data.commitment_term.replace(to_replace='two',value=2)\n",
    "data.commitment_term = data.commitment_term.replace(regex=['[a-z]*','\\,','\\`'], value='')\n",
    "data.commitment_term = data.commitment_term.astype('float')"
   ]
  },
  {
   "cell_type": "code",
   "execution_count": null,
   "metadata": {},
   "outputs": [],
   "source": [
    "# Review commitment unit values\n",
    "data.commitment_unit.value_counts()"
   ]
  },
  {
   "cell_type": "code",
   "execution_count": null,
   "metadata": {},
   "outputs": [],
   "source": [
    "# Change all years over 130 to 130 to mark natural life\n",
    "data.loc[(data.commitment_unit == 'Year(s)') & (data.commitment_term > 129),['commitment_term']] = 130"
   ]
  },
  {
   "cell_type": "code",
   "execution_count": null,
   "metadata": {},
   "outputs": [],
   "source": [
    "# Changes in Bootcamp Terms to Months\n",
    "data.loc[(data.sentence_type == 'Cook County Boot Camp') & (data.commitment_unit == 'Term') & (data.commitment_term == 1),['commitment_term']] = 12\n",
    "data.loc[(data.sentence_type == 'Cook County Boot Camp') & (data.commitment_unit == 'Term') & (data.commitment_term == 12),['commitment_unit']] = 'Months'\n",
    "data.loc[(data.sentence_type == 'Cook County Boot Camp') & (data.commitment_unit == 'Term') & (data.commitment_term == 18),['commitment_unit']] = 'Months'"
   ]
  },
  {
   "cell_type": "code",
   "execution_count": null,
   "metadata": {},
   "outputs": [],
   "source": [
    "# Change Death info to 130 years\n",
    "data.loc[(data.sentence_type == 'Death'),['commitment_unit']] = 'Year(s)'\n",
    "data.loc[(data.sentence_type == 'Death'),['commitment_term']] = 130"
   ]
  },
  {
   "cell_type": "code",
   "execution_count": null,
   "metadata": {},
   "outputs": [],
   "source": [
    "# Create column with all values in months\n",
    "def month_convert(row):\n",
    "    if row ['commitment_unit'] == 'Months':\n",
    "        return round(float(row['commitment_term']),2)\n",
    "    if row[\"commitment_unit\"] == \"Year(s)\":\n",
    "        return round(int(row[\"commitment_term\"]) * 12.0, 2)\n",
    "    if row[\"commitment_unit\"] == \"Weeks\":\n",
    "       return round(float(row['commitment_term']) / 4, 2)\n",
    "    if row[\"commitment_unit\"] == \"Days\":\n",
    "        return round(float( row['commitment_term']) / 30, 2)\n",
    "    if row['commitment_unit'] == \"Natural Life\":\n",
    "        return 1560.\n",
    "    else:\n",
    "        return 0.\n",
    "\n",
    "data['month'] = data.apply(lambda row:month_convert(row), axis = 1)"
   ]
  },
  {
   "cell_type": "code",
   "execution_count": null,
   "metadata": {},
   "outputs": [],
   "source": [
    "# Create column with all values in years\n",
    "def year_convert(row):\n",
    "    if row ['commitment_unit'] == 'Year(s)':\n",
    "        return round(float(row['commitment_term']),2)\n",
    "    if row[\"commitment_unit\"] == \"Months\":\n",
    "        return round(int(row[\"commitment_term\"]) / 12.0, 2)\n",
    "    if row[\"commitment_unit\"] == \"Weeks\":\n",
    "       return round(float(row['commitment_term']) / 52, 2)\n",
    "    if row[\"commitment_unit\"] == \"Days\":\n",
    "        return round(float( row['commitment_term'])/365, 2)\n",
    "    if row['commitment_unit'] == \"Natural Life\":\n",
    "        return 130.\n",
    "    else:\n",
    "        return 0.\n",
    "\n",
    "data['year'] = data.apply(lambda row:year_convert(row), axis = 1)"
   ]
  },
  {
   "cell_type": "markdown",
   "metadata": {},
   "source": [
    "## Create bins for age"
   ]
  },
  {
   "cell_type": "code",
   "execution_count": null,
   "metadata": {},
   "outputs": [],
   "source": [
    "# Delete all 'Promis Conversion' data from dataframe\n",
    "data.replace(regex=['PROMIS*'], value=np.nan, inplace=True)\n",
    "data.dropna(inplace=True)"
   ]
  },
  {
   "cell_type": "code",
   "execution_count": null,
   "metadata": {},
   "outputs": [],
   "source": [
    "# Change age dtype from string to integer \n",
    "data.age_at_incident = data.age_at_incident.astype(int)"
   ]
  },
  {
   "cell_type": "code",
   "execution_count": null,
   "metadata": {},
   "outputs": [],
   "source": [
    "# Bins to group age\n",
    "bins_ranges = [0,18,24,29,39,49,59,137]\n",
    "bins_names = [\"<18\", '18-24', '25-29', '30s', '40s', '50s', '60+']\n",
    "\n",
    "data['age_bins'] = pd.cut(data.age_at_incident,bins_ranges,labels=bins_names)"
   ]
  },
  {
   "cell_type": "code",
   "execution_count": null,
   "metadata": {},
   "outputs": [],
   "source": [
    "# Drop duplicates of data with current values\n",
    "data.drop_duplicates(inplace=True)\n",
    "data.reset_index(drop=True,inplace=True)"
   ]
  },
  {
   "cell_type": "code",
   "execution_count": null,
   "metadata": {},
   "outputs": [],
   "source": [
    "data"
   ]
  },
  {
   "cell_type": "markdown",
   "metadata": {},
   "source": [
    "## Cleaning of Charge Disposition"
   ]
  },
  {
   "cell_type": "code",
   "execution_count": null,
   "metadata": {},
   "outputs": [],
   "source": [
    "data.charge_disposition.value_counts()"
   ]
  },
  {
   "cell_type": "code",
   "execution_count": null,
   "metadata": {},
   "outputs": [],
   "source": [
    "# Delete data that isn't the following\n",
    "data = data[\n",
    "    (data.charge_disposition != 'WOWI') & \n",
    "    (data.charge_disposition != 'Superseded by Indictment') & \n",
    "    (data.charge_disposition != 'Death Suggested-Cause Abated') &\n",
    "    (data.charge_disposition != 'Sexually Dangerous Person')\n",
    "]"
   ]
  },
  {
   "cell_type": "code",
   "execution_count": null,
   "metadata": {},
   "outputs": [],
   "source": [
    "# Consolidate No Guilty Findings\n",
    "data.charge_disposition = data.charge_disposition.replace(to_replace=[\n",
    "    'Nolle Prosecution', \n",
    "    'Case Dismissed', \n",
    "    'FNG',\n",
    "    'FNG Reason Insanity',\n",
    "    'FNPC',\n",
    "    'SOLW',\n",
    "    'Charge Vacated'\n",
    "],value='No Guilty Finding')"
   ]
  },
  {
   "cell_type": "code",
   "execution_count": null,
   "metadata": {},
   "outputs": [],
   "source": [
    "# Consolidate Finding Guilty\n",
    "data.charge_disposition = data.charge_disposition.replace(to_replace=[\n",
    "    'Finding Guilty - Lesser Included',\n",
    "    'Finding Guilty But Mentally Ill'\n",
    "], value='Finding Guilty')"
   ]
  },
  {
   "cell_type": "code",
   "execution_count": null,
   "metadata": {},
   "outputs": [],
   "source": [
    "# Consolidate Plea of Guilty\n",
    "data.charge_disposition = data.charge_disposition.replace(to_replace=[\n",
    "    'Plea of Guilty - Amended Charge',\n",
    "    'Plea of Guilty But Mentally Ill',\n",
    "    'Plea of Guilty - Lesser Included'\n",
    "], value='Plea Of Guilty')"
   ]
  },
  {
   "cell_type": "code",
   "execution_count": null,
   "metadata": {},
   "outputs": [],
   "source": [
    "data.charge_disposition.value_counts()"
   ]
  },
  {
   "cell_type": "markdown",
   "metadata": {},
   "source": [
    "# Analize new dataframe to create the database diagram"
   ]
  },
  {
   "cell_type": "code",
   "execution_count": null,
   "metadata": {},
   "outputs": [],
   "source": [
    "data.columns"
   ]
  },
  {
   "cell_type": "markdown",
   "metadata": {},
   "source": [
    "![DBD-from-quickDBD.png](../images/data_model.png)"
   ]
  },
  {
   "cell_type": "markdown",
   "metadata": {},
   "source": [
    "# Create dataframe tables that will populate the database"
   ]
  },
  {
   "cell_type": "code",
   "execution_count": null,
   "metadata": {},
   "outputs": [],
   "source": [
    "# Create participants df table\n",
    "participants = data[['case_participant_id','age_at_incident','gender','race','age_bins']].drop_duplicates()"
   ]
  },
  {
   "cell_type": "code",
   "execution_count": null,
   "metadata": {},
   "outputs": [],
   "source": [
    "courts"
   ]
  },
  {
   "cell_type": "code",
   "execution_count": null,
   "metadata": {},
   "outputs": [],
   "source": [
    "# Create courts df table\n",
    "courts = data[['court_facility', 'court_name']].drop_duplicates().reset_index(drop=True)\n",
    "courts['court_id']=['1-26','6','2','5','4','3','1-4','1-DV','1-1','1-3','1-2','1-5','1-RJCC']\n",
    "courts = courts[['court_id', 'court_facility', 'court_name']]"
   ]
  },
  {
   "cell_type": "code",
   "execution_count": null,
   "metadata": {},
   "outputs": [],
   "source": [
    "# Create offense df table\n",
    "offenses = data[['offense_category']].drop_duplicates().reset_index(drop=True)\n",
    "offenses['offense_id'] = offenses.index + 1\n",
    "offenses = offenses[['offense_id','offense_category']]"
   ]
  },
  {
   "cell_type": "code",
   "execution_count": null,
   "metadata": {},
   "outputs": [],
   "source": [
    "# Create sentences df table\n",
    "sentences = data[['sentence_type','commitment_term','commitment_unit','month', 'year']].drop_duplicates().reset_index(drop=True)\n",
    "sentences['sentence_id'] = sentences.index + 1\n",
    "sentences = sentences[['sentence_id','sentence_type','commitment_term','commitment_unit','month', 'year']]"
   ]
  },
  {
   "cell_type": "code",
   "execution_count": null,
   "metadata": {},
   "outputs": [],
   "source": [
    "# Create results df table\n",
    "results = data.merge(sentences,on=['sentence_type','commitment_term','commitment_unit','month','year'])\n",
    "results = results.merge(offenses,on='offense_category')\n",
    "results = results.merge(courts,on=['court_facility','court_name'])\n",
    "results = results[['case_participant_id','court_id', 'offense_id', 'sentence_id', 'case_id', 'charge_disposition', 'length_of_case_in_days', 'disposition_charged_offense_title', 'charge_count', 'disposition_charged_class', 'sentence_date', 'incident_begin_date', 'arrest_date']]"
   ]
  },
  {
   "cell_type": "markdown",
   "metadata": {},
   "source": [
    "# Create database and create the tables defined before"
   ]
  },
  {
   "cell_type": "code",
   "execution_count": null,
   "metadata": {},
   "outputs": [],
   "source": [
    "# Create connection to database\n",
    "conn = sqlite3.connect(\"sentencing.db\")\n",
    "c = conn.cursor()"
   ]
  },
  {
   "cell_type": "code",
   "execution_count": null,
   "metadata": {},
   "outputs": [],
   "source": [
    "# Clean table if exist\n",
    "pragma_fk = \"\"\"PRAGMA foreign_keys = OFF;\"\"\"\n",
    "drop_results = \"\"\"DROP TABLE IF EXISTS results\"\"\"\n",
    "drop_sentences = \"\"\"DROP TABLE IF EXISTS sentences\"\"\"\n",
    "drop_offenses = \"\"\"DROP TABLE IF EXISTS offenses\"\"\"\n",
    "drop_courts = \"\"\"DROP TABLE IF EXISTS courts\"\"\"\n",
    "drop_participants = \"\"\"DROP TABLE IF EXISTS participants\"\"\"\n",
    "clear_db = [pragma_fk,drop_results,drop_sentences,drop_offenses,drop_courts,drop_participants]\n",
    "for i in clear_db:\n",
    "    c.execute(i)"
   ]
  },
  {
   "cell_type": "code",
   "execution_count": null,
   "metadata": {},
   "outputs": [],
   "source": [
    "table_participants = \"\"\"\n",
    "CREATE TABLE \"participants\" (\n",
    "    \"case_participant_id\" bigint,\n",
    "    \"age_at_incident\" integer,\n",
    "    \"gender\" varchar,\n",
    "    \"race\" varchar,\n",
    "    \"age_bins\" varchar,\n",
    "CONSTRAINT \"pk_participants\" PRIMARY KEY (\"case_participant_id\")\n",
    ");\n",
    "\"\"\"\n",
    "c.execute(table_participants)"
   ]
  },
  {
   "cell_type": "code",
   "execution_count": null,
   "metadata": {},
   "outputs": [],
   "source": [
    "table_courts = \"\"\"\n",
    "CREATE TABLE \"courts\" (\n",
    "    \"court_id\" varchar,\n",
    "    \"court_facility\" varchar,\n",
    "    \"court_name\" varchar,\n",
    "CONSTRAINT \"pk_courts\" PRIMARY KEY (\"court_id\")\n",
    ");\n",
    "\"\"\"\n",
    "c.execute(table_courts)"
   ]
  },
  {
   "cell_type": "code",
   "execution_count": null,
   "metadata": {},
   "outputs": [],
   "source": [
    "table_offenses = \"\"\"\n",
    "CREATE TABLE \"offenses\" (\n",
    " \"offense_id\" integer,\n",
    " \"offense_category\" varchar,\n",
    " CONSTRAINT \"pk_offenses\" PRIMARY KEY (\n",
    " \"offense_id\"\n",
    " )\n",
    ");\n",
    "\"\"\"\n",
    "c.execute(table_offenses)"
   ]
  },
  {
   "cell_type": "code",
   "execution_count": null,
   "metadata": {},
   "outputs": [],
   "source": [
    "table_sentences = \"\"\"\n",
    "CREATE TABLE \"sentences\" (\n",
    "    \"sentence_id\" integer,\n",
    "    \"sentence_type\" varchar,\n",
    "    \"commitment_term\" float,\n",
    "    \"commitment_unit\" varchar,\n",
    "    \"month\" float,\n",
    "    \"year\" float,\n",
    " CONSTRAINT \"pk_sentences\" PRIMARY KEY (\"sentence_id\")\n",
    ");\n",
    "\"\"\"\n",
    "c.execute(table_sentences)"
   ]
  },
  {
   "cell_type": "code",
   "execution_count": null,
   "metadata": {},
   "outputs": [],
   "source": [
    "table_results = \"\"\"\n",
    "CREATE TABLE \"results\" (\n",
    "    \"case_participant_id\" bigint,\n",
    "    \"court_id\" varchar,\n",
    "    \"offense_id\" integer,\n",
    "    \"sentence_id\" integer,\n",
    "    \"case_id\" bigint,\n",
    "    \"charge_disposition\" varchar,\n",
    "    \"length_of_case_in_days\" bigint,\n",
    "    \"disposition_charged_offense_title\" varchar,\n",
    "    \"charge_count\" integer,\n",
    "    \"disposition_charged_class\" varchar,\n",
    "    \"sentence_date\" date,\n",
    "    \"incident_begin_date\" date,\n",
    "    \"arrest_date\" date,\n",
    "    FOREIGN KEY(case_participant_id) REFERENCES participants (case_participant_id),\n",
    "    FOREIGN KEY(court_id) REFERENCES courts (court_id),\n",
    "    FOREIGN KEY(offense_id) REFERENCES offenses (offense_id),\n",
    "    FOREIGN KEY(sentence_id) REFERENCES sentences (sentence_id)\n",
    ");\n",
    "\"\"\"\n",
    "c.execute(table_results)"
   ]
  },
  {
   "cell_type": "markdown",
   "metadata": {},
   "source": [
    "# Add data to database"
   ]
  },
  {
   "cell_type": "code",
   "execution_count": null,
   "metadata": {},
   "outputs": [],
   "source": [
    "participants.to_sql(name='participants',con=conn,if_exists='append',index=False)\n",
    "courts.to_sql(name='courts',con=conn,if_exists='append',index=False)\n",
    "offenses.to_sql(name='offenses',con=conn,if_exists='append',index=False)\n",
    "sentences.to_sql(name='sentences',con=conn,if_exists='append',index=False)\n",
    "results.to_sql(name='results',con=conn,if_exists='append',index=False)"
   ]
  },
  {
   "cell_type": "code",
   "execution_count": null,
   "metadata": {},
   "outputs": [],
   "source": [
    "pd.read_sql_query('Select * from results', con=conn)"
   ]
  },
  {
   "cell_type": "code",
   "execution_count": null,
   "metadata": {},
   "outputs": [],
   "source": [
    "data.to_csv('data.csv', index=False)"
   ]
  }
 ],
 "metadata": {
  "language_info": {
   "codemirror_mode": {
    "name": "ipython",
    "version": 3
   },
   "file_extension": ".py",
   "mimetype": "text/x-python",
   "name": "python",
   "nbconvert_exporter": "python",
   "pygments_lexer": "ipython3",
   "version": "3.8.3-final"
  },
  "orig_nbformat": 2,
  "kernelspec": {
   "name": "python_defaultSpec_1596835242950",
   "display_name": "Python 3.8.3 64-bit ('venv': venv)"
  }
 },
 "nbformat": 4,
 "nbformat_minor": 2
}